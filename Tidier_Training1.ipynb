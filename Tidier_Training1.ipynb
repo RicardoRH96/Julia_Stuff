{
 "cells": [
  {
   "cell_type": "code",
   "execution_count": 1,
   "metadata": {},
   "outputs": [],
   "source": [
    "begin\n",
    "\tusing Tidier\n",
    "\tusing RDatasets\n",
    "end"
   ]
  },
  {
   "cell_type": "code",
   "execution_count": 2,
   "metadata": {},
   "outputs": [
    {
     "data": {
      "text/html": [
       "<div><div style = \"float: left;\"><span>58788×24 DataFrame</span></div><div style = \"float: right;\"><span style = \"font-style: italic;\">58763 rows omitted</span></div><div style = \"clear: both;\"></div></div><div class = \"data-frame\" style = \"overflow-x: scroll;\"><table class = \"data-frame\" style = \"margin-bottom: 6px;\"><thead><tr class = \"header\"><th class = \"rowNumber\" style = \"font-weight: bold; text-align: right;\">Row</th><th style = \"text-align: left;\">Title</th><th style = \"text-align: left;\">Year</th><th style = \"text-align: left;\">Length</th><th style = \"text-align: left;\">Budget</th><th style = \"text-align: left;\">Rating</th><th style = \"text-align: left;\">Votes</th><th style = \"text-align: left;\">R1</th><th style = \"text-align: left;\">R2</th><th style = \"text-align: left;\">R3</th><th style = \"text-align: left;\">R4</th><th style = \"text-align: left;\">R5</th><th style = \"text-align: left;\">R6</th><th style = \"text-align: left;\">R7</th><th style = \"text-align: left;\">R8</th><th style = \"text-align: left;\">R9</th><th style = \"text-align: left;\">R10</th><th style = \"text-align: left;\">MPAA</th><th style = \"text-align: left;\">Action</th><th style = \"text-align: left;\">Animation</th><th style = \"text-align: left;\">Comedy</th><th style = \"text-align: left;\">Drama</th><th style = \"text-align: left;\">Documentary</th><th style = \"text-align: left;\">Romance</th><th style = \"text-align: left;\">Short</th></tr><tr class = \"subheader headerLastRow\"><th class = \"rowNumber\" style = \"font-weight: bold; text-align: right;\"></th><th title = \"String\" style = \"text-align: left;\">String</th><th title = \"Int32\" style = \"text-align: left;\">Int32</th><th title = \"Int32\" style = \"text-align: left;\">Int32</th><th title = \"Union{Missing, Int32}\" style = \"text-align: left;\">Int32?</th><th title = \"Float64\" style = \"text-align: left;\">Float64</th><th title = \"Int32\" style = \"text-align: left;\">Int32</th><th title = \"Float64\" style = \"text-align: left;\">Float64</th><th title = \"Float64\" style = \"text-align: left;\">Float64</th><th title = \"Float64\" style = \"text-align: left;\">Float64</th><th title = \"Float64\" style = \"text-align: left;\">Float64</th><th title = \"Float64\" style = \"text-align: left;\">Float64</th><th title = \"Float64\" style = \"text-align: left;\">Float64</th><th title = \"Float64\" style = \"text-align: left;\">Float64</th><th title = \"Float64\" style = \"text-align: left;\">Float64</th><th title = \"Float64\" style = \"text-align: left;\">Float64</th><th title = \"Float64\" style = \"text-align: left;\">Float64</th><th title = \"CategoricalArrays.CategoricalValue{String, UInt8}\" style = \"text-align: left;\">Cat…</th><th title = \"Int32\" style = \"text-align: left;\">Int32</th><th title = \"Int32\" style = \"text-align: left;\">Int32</th><th title = \"Int32\" style = \"text-align: left;\">Int32</th><th title = \"Int32\" style = \"text-align: left;\">Int32</th><th title = \"Int32\" style = \"text-align: left;\">Int32</th><th title = \"Int32\" style = \"text-align: left;\">Int32</th><th title = \"Int32\" style = \"text-align: left;\">Int32</th></tr></thead><tbody><tr><td class = \"rowNumber\" style = \"font-weight: bold; text-align: right;\">1</td><td style = \"text-align: left;\">$</td><td style = \"text-align: right;\">1971</td><td style = \"text-align: right;\">121</td><td style = \"font-style: italic; text-align: right;\">missing</td><td style = \"text-align: right;\">6.4</td><td style = \"text-align: right;\">348</td><td style = \"text-align: right;\">4.5</td><td style = \"text-align: right;\">4.5</td><td style = \"text-align: right;\">4.5</td><td style = \"text-align: right;\">4.5</td><td style = \"text-align: right;\">14.5</td><td style = \"text-align: right;\">24.5</td><td style = \"text-align: right;\">24.5</td><td style = \"text-align: right;\">14.5</td><td style = \"text-align: right;\">4.5</td><td style = \"text-align: right;\">4.5</td><td style = \"text-align: left;\"></td><td style = \"text-align: right;\">0</td><td style = \"text-align: right;\">0</td><td style = \"text-align: right;\">1</td><td style = \"text-align: right;\">1</td><td style = \"text-align: right;\">0</td><td style = \"text-align: right;\">0</td><td style = \"text-align: right;\">0</td></tr><tr><td class = \"rowNumber\" style = \"font-weight: bold; text-align: right;\">2</td><td style = \"text-align: left;\">$1000 a Touchdown</td><td style = \"text-align: right;\">1939</td><td style = \"text-align: right;\">71</td><td style = \"font-style: italic; text-align: right;\">missing</td><td style = \"text-align: right;\">6.0</td><td style = \"text-align: right;\">20</td><td style = \"text-align: right;\">0.0</td><td style = \"text-align: right;\">14.5</td><td style = \"text-align: right;\">4.5</td><td style = \"text-align: right;\">24.5</td><td style = \"text-align: right;\">14.5</td><td style = \"text-align: right;\">14.5</td><td style = \"text-align: right;\">14.5</td><td style = \"text-align: right;\">4.5</td><td style = \"text-align: right;\">4.5</td><td style = \"text-align: right;\">14.5</td><td style = \"text-align: left;\"></td><td style = \"text-align: right;\">0</td><td style = \"text-align: right;\">0</td><td style = \"text-align: right;\">1</td><td style = \"text-align: right;\">0</td><td style = \"text-align: right;\">0</td><td style = \"text-align: right;\">0</td><td style = \"text-align: right;\">0</td></tr><tr><td class = \"rowNumber\" style = \"font-weight: bold; text-align: right;\">3</td><td style = \"text-align: left;\">$21 a Day Once a Month</td><td style = \"text-align: right;\">1941</td><td style = \"text-align: right;\">7</td><td style = \"font-style: italic; text-align: right;\">missing</td><td style = \"text-align: right;\">8.2</td><td style = \"text-align: right;\">5</td><td style = \"text-align: right;\">0.0</td><td style = \"text-align: right;\">0.0</td><td style = \"text-align: right;\">0.0</td><td style = \"text-align: right;\">0.0</td><td style = \"text-align: right;\">0.0</td><td style = \"text-align: right;\">24.5</td><td style = \"text-align: right;\">0.0</td><td style = \"text-align: right;\">44.5</td><td style = \"text-align: right;\">24.5</td><td style = \"text-align: right;\">24.5</td><td style = \"text-align: left;\"></td><td style = \"text-align: right;\">0</td><td style = \"text-align: right;\">1</td><td style = \"text-align: right;\">0</td><td style = \"text-align: right;\">0</td><td style = \"text-align: right;\">0</td><td style = \"text-align: right;\">0</td><td style = \"text-align: right;\">1</td></tr><tr><td class = \"rowNumber\" style = \"font-weight: bold; text-align: right;\">4</td><td style = \"text-align: left;\">$40,000</td><td style = \"text-align: right;\">1996</td><td style = \"text-align: right;\">70</td><td style = \"font-style: italic; text-align: right;\">missing</td><td style = \"text-align: right;\">8.2</td><td style = \"text-align: right;\">6</td><td style = \"text-align: right;\">14.5</td><td style = \"text-align: right;\">0.0</td><td style = \"text-align: right;\">0.0</td><td style = \"text-align: right;\">0.0</td><td style = \"text-align: right;\">0.0</td><td style = \"text-align: right;\">0.0</td><td style = \"text-align: right;\">0.0</td><td style = \"text-align: right;\">0.0</td><td style = \"text-align: right;\">34.5</td><td style = \"text-align: right;\">45.5</td><td style = \"text-align: left;\"></td><td style = \"text-align: right;\">0</td><td style = \"text-align: right;\">0</td><td style = \"text-align: right;\">1</td><td style = \"text-align: right;\">0</td><td style = \"text-align: right;\">0</td><td style = \"text-align: right;\">0</td><td style = \"text-align: right;\">0</td></tr><tr><td class = \"rowNumber\" style = \"font-weight: bold; text-align: right;\">5</td><td style = \"text-align: left;\">$50,000 Climax Show, The</td><td style = \"text-align: right;\">1975</td><td style = \"text-align: right;\">71</td><td style = \"font-style: italic; text-align: right;\">missing</td><td style = \"text-align: right;\">3.4</td><td style = \"text-align: right;\">17</td><td style = \"text-align: right;\">24.5</td><td style = \"text-align: right;\">4.5</td><td style = \"text-align: right;\">0.0</td><td style = \"text-align: right;\">14.5</td><td style = \"text-align: right;\">14.5</td><td style = \"text-align: right;\">4.5</td><td style = \"text-align: right;\">0.0</td><td style = \"text-align: right;\">0.0</td><td style = \"text-align: right;\">0.0</td><td style = \"text-align: right;\">24.5</td><td style = \"text-align: left;\"></td><td style = \"text-align: right;\">0</td><td style = \"text-align: right;\">0</td><td style = \"text-align: right;\">0</td><td style = \"text-align: right;\">0</td><td style = \"text-align: right;\">0</td><td style = \"text-align: right;\">0</td><td style = \"text-align: right;\">0</td></tr><tr><td class = \"rowNumber\" style = \"font-weight: bold; text-align: right;\">6</td><td style = \"text-align: left;\">$pent</td><td style = \"text-align: right;\">2000</td><td style = \"text-align: right;\">91</td><td style = \"font-style: italic; text-align: right;\">missing</td><td style = \"text-align: right;\">4.3</td><td style = \"text-align: right;\">45</td><td style = \"text-align: right;\">4.5</td><td style = \"text-align: right;\">4.5</td><td style = \"text-align: right;\">4.5</td><td style = \"text-align: right;\">14.5</td><td style = \"text-align: right;\">14.5</td><td style = \"text-align: right;\">14.5</td><td style = \"text-align: right;\">4.5</td><td style = \"text-align: right;\">4.5</td><td style = \"text-align: right;\">14.5</td><td style = \"text-align: right;\">14.5</td><td style = \"text-align: left;\"></td><td style = \"text-align: right;\">0</td><td style = \"text-align: right;\">0</td><td style = \"text-align: right;\">0</td><td style = \"text-align: right;\">1</td><td style = \"text-align: right;\">0</td><td style = \"text-align: right;\">0</td><td style = \"text-align: right;\">0</td></tr><tr><td class = \"rowNumber\" style = \"font-weight: bold; text-align: right;\">7</td><td style = \"text-align: left;\">$windle</td><td style = \"text-align: right;\">2002</td><td style = \"text-align: right;\">93</td><td style = \"font-style: italic; text-align: right;\">missing</td><td style = \"text-align: right;\">5.3</td><td style = \"text-align: right;\">200</td><td style = \"text-align: right;\">4.5</td><td style = \"text-align: right;\">0.0</td><td style = \"text-align: right;\">4.5</td><td style = \"text-align: right;\">4.5</td><td style = \"text-align: right;\">24.5</td><td style = \"text-align: right;\">24.5</td><td style = \"text-align: right;\">14.5</td><td style = \"text-align: right;\">4.5</td><td style = \"text-align: right;\">4.5</td><td style = \"text-align: right;\">14.5</td><td style = \"text-align: left;\">R</td><td style = \"text-align: right;\">1</td><td style = \"text-align: right;\">0</td><td style = \"text-align: right;\">0</td><td style = \"text-align: right;\">1</td><td style = \"text-align: right;\">0</td><td style = \"text-align: right;\">0</td><td style = \"text-align: right;\">0</td></tr><tr><td class = \"rowNumber\" style = \"font-weight: bold; text-align: right;\">8</td><td style = \"text-align: left;\">&apos;15&apos;</td><td style = \"text-align: right;\">2002</td><td style = \"text-align: right;\">25</td><td style = \"font-style: italic; text-align: right;\">missing</td><td style = \"text-align: right;\">6.7</td><td style = \"text-align: right;\">24</td><td style = \"text-align: right;\">4.5</td><td style = \"text-align: right;\">4.5</td><td style = \"text-align: right;\">4.5</td><td style = \"text-align: right;\">4.5</td><td style = \"text-align: right;\">4.5</td><td style = \"text-align: right;\">14.5</td><td style = \"text-align: right;\">14.5</td><td style = \"text-align: right;\">14.5</td><td style = \"text-align: right;\">4.5</td><td style = \"text-align: right;\">14.5</td><td style = \"text-align: left;\"></td><td style = \"text-align: right;\">0</td><td style = \"text-align: right;\">0</td><td style = \"text-align: right;\">0</td><td style = \"text-align: right;\">0</td><td style = \"text-align: right;\">1</td><td style = \"text-align: right;\">0</td><td style = \"text-align: right;\">1</td></tr><tr><td class = \"rowNumber\" style = \"font-weight: bold; text-align: right;\">9</td><td style = \"text-align: left;\">&apos;38</td><td style = \"text-align: right;\">1987</td><td style = \"text-align: right;\">97</td><td style = \"font-style: italic; text-align: right;\">missing</td><td style = \"text-align: right;\">6.6</td><td style = \"text-align: right;\">18</td><td style = \"text-align: right;\">4.5</td><td style = \"text-align: right;\">4.5</td><td style = \"text-align: right;\">4.5</td><td style = \"text-align: right;\">0.0</td><td style = \"text-align: right;\">0.0</td><td style = \"text-align: right;\">0.0</td><td style = \"text-align: right;\">34.5</td><td style = \"text-align: right;\">14.5</td><td style = \"text-align: right;\">4.5</td><td style = \"text-align: right;\">24.5</td><td style = \"text-align: left;\"></td><td style = \"text-align: right;\">0</td><td style = \"text-align: right;\">0</td><td style = \"text-align: right;\">0</td><td style = \"text-align: right;\">1</td><td style = \"text-align: right;\">0</td><td style = \"text-align: right;\">0</td><td style = \"text-align: right;\">0</td></tr><tr><td class = \"rowNumber\" style = \"font-weight: bold; text-align: right;\">10</td><td style = \"text-align: left;\">&apos;49-&apos;17</td><td style = \"text-align: right;\">1917</td><td style = \"text-align: right;\">61</td><td style = \"font-style: italic; text-align: right;\">missing</td><td style = \"text-align: right;\">6.0</td><td style = \"text-align: right;\">51</td><td style = \"text-align: right;\">4.5</td><td style = \"text-align: right;\">0.0</td><td style = \"text-align: right;\">4.5</td><td style = \"text-align: right;\">4.5</td><td style = \"text-align: right;\">4.5</td><td style = \"text-align: right;\">44.5</td><td style = \"text-align: right;\">14.5</td><td style = \"text-align: right;\">4.5</td><td style = \"text-align: right;\">4.5</td><td style = \"text-align: right;\">4.5</td><td style = \"text-align: left;\"></td><td style = \"text-align: right;\">0</td><td style = \"text-align: right;\">0</td><td style = \"text-align: right;\">0</td><td style = \"text-align: right;\">0</td><td style = \"text-align: right;\">0</td><td style = \"text-align: right;\">0</td><td style = \"text-align: right;\">0</td></tr><tr><td class = \"rowNumber\" style = \"font-weight: bold; text-align: right;\">11</td><td style = \"text-align: left;\">&apos;68</td><td style = \"text-align: right;\">1988</td><td style = \"text-align: right;\">99</td><td style = \"font-style: italic; text-align: right;\">missing</td><td style = \"text-align: right;\">5.4</td><td style = \"text-align: right;\">23</td><td style = \"text-align: right;\">4.5</td><td style = \"text-align: right;\">0.0</td><td style = \"text-align: right;\">4.5</td><td style = \"text-align: right;\">14.5</td><td style = \"text-align: right;\">24.5</td><td style = \"text-align: right;\">4.5</td><td style = \"text-align: right;\">24.5</td><td style = \"text-align: right;\">4.5</td><td style = \"text-align: right;\">14.5</td><td style = \"text-align: right;\">4.5</td><td style = \"text-align: left;\"></td><td style = \"text-align: right;\">0</td><td style = \"text-align: right;\">0</td><td style = \"text-align: right;\">0</td><td style = \"text-align: right;\">1</td><td style = \"text-align: right;\">0</td><td style = \"text-align: right;\">0</td><td style = \"text-align: right;\">0</td></tr><tr><td class = \"rowNumber\" style = \"font-weight: bold; text-align: right;\">12</td><td style = \"text-align: left;\">&apos;94 du bi dao zhi qing</td><td style = \"text-align: right;\">1994</td><td style = \"text-align: right;\">96</td><td style = \"font-style: italic; text-align: right;\">missing</td><td style = \"text-align: right;\">5.9</td><td style = \"text-align: right;\">53</td><td style = \"text-align: right;\">4.5</td><td style = \"text-align: right;\">0.0</td><td style = \"text-align: right;\">4.5</td><td style = \"text-align: right;\">4.5</td><td style = \"text-align: right;\">4.5</td><td style = \"text-align: right;\">14.5</td><td style = \"text-align: right;\">24.5</td><td style = \"text-align: right;\">14.5</td><td style = \"text-align: right;\">4.5</td><td style = \"text-align: right;\">24.5</td><td style = \"text-align: left;\"></td><td style = \"text-align: right;\">0</td><td style = \"text-align: right;\">0</td><td style = \"text-align: right;\">0</td><td style = \"text-align: right;\">0</td><td style = \"text-align: right;\">0</td><td style = \"text-align: right;\">0</td><td style = \"text-align: right;\">0</td></tr><tr><td class = \"rowNumber\" style = \"font-weight: bold; text-align: right;\">13</td><td style = \"text-align: left;\">&apos;?&apos; Motorist, The</td><td style = \"text-align: right;\">1906</td><td style = \"text-align: right;\">10</td><td style = \"font-style: italic; text-align: right;\">missing</td><td style = \"text-align: right;\">7.0</td><td style = \"text-align: right;\">44</td><td style = \"text-align: right;\">4.5</td><td style = \"text-align: right;\">0.0</td><td style = \"text-align: right;\">0.0</td><td style = \"text-align: right;\">0.0</td><td style = \"text-align: right;\">4.5</td><td style = \"text-align: right;\">14.5</td><td style = \"text-align: right;\">34.5</td><td style = \"text-align: right;\">14.5</td><td style = \"text-align: right;\">4.5</td><td style = \"text-align: right;\">14.5</td><td style = \"text-align: left;\"></td><td style = \"text-align: right;\">0</td><td style = \"text-align: right;\">0</td><td style = \"text-align: right;\">1</td><td style = \"text-align: right;\">0</td><td style = \"text-align: right;\">0</td><td style = \"text-align: right;\">0</td><td style = \"text-align: right;\">1</td></tr><tr><td style = \"text-align: right;\">&vellip;</td><td style = \"text-align: right;\">&vellip;</td><td style = \"text-align: right;\">&vellip;</td><td style = \"text-align: right;\">&vellip;</td><td style = \"text-align: right;\">&vellip;</td><td style = \"text-align: right;\">&vellip;</td><td style = \"text-align: right;\">&vellip;</td><td style = \"text-align: right;\">&vellip;</td><td style = \"text-align: right;\">&vellip;</td><td style = \"text-align: right;\">&vellip;</td><td style = \"text-align: right;\">&vellip;</td><td style = \"text-align: right;\">&vellip;</td><td style = \"text-align: right;\">&vellip;</td><td style = \"text-align: right;\">&vellip;</td><td style = \"text-align: right;\">&vellip;</td><td style = \"text-align: right;\">&vellip;</td><td style = \"text-align: right;\">&vellip;</td><td style = \"text-align: right;\">&vellip;</td><td style = \"text-align: right;\">&vellip;</td><td style = \"text-align: right;\">&vellip;</td><td style = \"text-align: right;\">&vellip;</td><td style = \"text-align: right;\">&vellip;</td><td style = \"text-align: right;\">&vellip;</td><td style = \"text-align: right;\">&vellip;</td><td style = \"text-align: right;\">&vellip;</td></tr><tr><td class = \"rowNumber\" style = \"font-weight: bold; text-align: right;\">58777</td><td style = \"text-align: left;\">eRATicate</td><td style = \"text-align: right;\">2003</td><td style = \"text-align: right;\">9</td><td style = \"font-style: italic; text-align: right;\">missing</td><td style = \"text-align: right;\">6.0</td><td style = \"text-align: right;\">5</td><td style = \"text-align: right;\">0.0</td><td style = \"text-align: right;\">0.0</td><td style = \"text-align: right;\">0.0</td><td style = \"text-align: right;\">0.0</td><td style = \"text-align: right;\">0.0</td><td style = \"text-align: right;\">44.5</td><td style = \"text-align: right;\">0.0</td><td style = \"text-align: right;\">0.0</td><td style = \"text-align: right;\">24.5</td><td style = \"text-align: right;\">44.5</td><td style = \"text-align: left;\"></td><td style = \"text-align: right;\">0</td><td style = \"text-align: right;\">0</td><td style = \"text-align: right;\">1</td><td style = \"text-align: right;\">0</td><td style = \"text-align: right;\">0</td><td style = \"text-align: right;\">0</td><td style = \"text-align: right;\">1</td></tr><tr><td class = \"rowNumber\" style = \"font-weight: bold; text-align: right;\">58778</td><td style = \"text-align: left;\">eXXXorcismos</td><td style = \"text-align: right;\">2002</td><td style = \"text-align: right;\">78</td><td style = \"font-style: italic; text-align: right;\">missing</td><td style = \"text-align: right;\">4.2</td><td style = \"text-align: right;\">11</td><td style = \"text-align: right;\">34.5</td><td style = \"text-align: right;\">0.0</td><td style = \"text-align: right;\">0.0</td><td style = \"text-align: right;\">0.0</td><td style = \"text-align: right;\">0.0</td><td style = \"text-align: right;\">4.5</td><td style = \"text-align: right;\">0.0</td><td style = \"text-align: right;\">14.5</td><td style = \"text-align: right;\">4.5</td><td style = \"text-align: right;\">24.5</td><td style = \"text-align: left;\"></td><td style = \"text-align: right;\">0</td><td style = \"text-align: right;\">0</td><td style = \"text-align: right;\">0</td><td style = \"text-align: right;\">1</td><td style = \"text-align: right;\">0</td><td style = \"text-align: right;\">0</td><td style = \"text-align: right;\">0</td></tr><tr><td class = \"rowNumber\" style = \"font-weight: bold; text-align: right;\">58779</td><td style = \"text-align: left;\">eXistenZ</td><td style = \"text-align: right;\">1999</td><td style = \"text-align: right;\">97</td><td style = \"font-style: italic; text-align: right;\">missing</td><td style = \"text-align: right;\">6.7</td><td style = \"text-align: right;\">14742</td><td style = \"text-align: right;\">4.5</td><td style = \"text-align: right;\">4.5</td><td style = \"text-align: right;\">4.5</td><td style = \"text-align: right;\">4.5</td><td style = \"text-align: right;\">4.5</td><td style = \"text-align: right;\">14.5</td><td style = \"text-align: right;\">24.5</td><td style = \"text-align: right;\">24.5</td><td style = \"text-align: right;\">14.5</td><td style = \"text-align: right;\">4.5</td><td style = \"text-align: left;\">R</td><td style = \"text-align: right;\">0</td><td style = \"text-align: right;\">0</td><td style = \"text-align: right;\">0</td><td style = \"text-align: right;\">1</td><td style = \"text-align: right;\">0</td><td style = \"text-align: right;\">0</td><td style = \"text-align: right;\">0</td></tr><tr><td class = \"rowNumber\" style = \"font-weight: bold; text-align: right;\">58780</td><td style = \"text-align: left;\">f2point8</td><td style = \"text-align: right;\">2002</td><td style = \"text-align: right;\">20</td><td style = \"font-style: italic; text-align: right;\">missing</td><td style = \"text-align: right;\">5.0</td><td style = \"text-align: right;\">13</td><td style = \"text-align: right;\">4.5</td><td style = \"text-align: right;\">0.0</td><td style = \"text-align: right;\">4.5</td><td style = \"text-align: right;\">4.5</td><td style = \"text-align: right;\">14.5</td><td style = \"text-align: right;\">0.0</td><td style = \"text-align: right;\">14.5</td><td style = \"text-align: right;\">4.5</td><td style = \"text-align: right;\">14.5</td><td style = \"text-align: right;\">24.5</td><td style = \"text-align: left;\"></td><td style = \"text-align: right;\">0</td><td style = \"text-align: right;\">0</td><td style = \"text-align: right;\">0</td><td style = \"text-align: right;\">0</td><td style = \"text-align: right;\">0</td><td style = \"text-align: right;\">0</td><td style = \"text-align: right;\">1</td></tr><tr><td class = \"rowNumber\" style = \"font-weight: bold; text-align: right;\">58781</td><td style = \"text-align: left;\">f8</td><td style = \"text-align: right;\">2001</td><td style = \"text-align: right;\">13</td><td style = \"font-style: italic; text-align: right;\">missing</td><td style = \"text-align: right;\">7.6</td><td style = \"text-align: right;\">7</td><td style = \"text-align: right;\">0.0</td><td style = \"text-align: right;\">0.0</td><td style = \"text-align: right;\">0.0</td><td style = \"text-align: right;\">0.0</td><td style = \"text-align: right;\">0.0</td><td style = \"text-align: right;\">24.5</td><td style = \"text-align: right;\">14.5</td><td style = \"text-align: right;\">24.5</td><td style = \"text-align: right;\">24.5</td><td style = \"text-align: right;\">0.0</td><td style = \"text-align: left;\"></td><td style = \"text-align: right;\">0</td><td style = \"text-align: right;\">1</td><td style = \"text-align: right;\">0</td><td style = \"text-align: right;\">0</td><td style = \"text-align: right;\">0</td><td style = \"text-align: right;\">0</td><td style = \"text-align: right;\">1</td></tr><tr><td class = \"rowNumber\" style = \"font-weight: bold; text-align: right;\">58782</td><td style = \"text-align: left;\">pURe kILLjoy</td><td style = \"text-align: right;\">1998</td><td style = \"text-align: right;\">87</td><td style = \"font-style: italic; text-align: right;\">missing</td><td style = \"text-align: right;\">5.2</td><td style = \"text-align: right;\">6</td><td style = \"text-align: right;\">0.0</td><td style = \"text-align: right;\">14.5</td><td style = \"text-align: right;\">14.5</td><td style = \"text-align: right;\">14.5</td><td style = \"text-align: right;\">0.0</td><td style = \"text-align: right;\">34.5</td><td style = \"text-align: right;\">0.0</td><td style = \"text-align: right;\">0.0</td><td style = \"text-align: right;\">0.0</td><td style = \"text-align: right;\">14.5</td><td style = \"text-align: left;\"></td><td style = \"text-align: right;\">0</td><td style = \"text-align: right;\">0</td><td style = \"text-align: right;\">0</td><td style = \"text-align: right;\">0</td><td style = \"text-align: right;\">0</td><td style = \"text-align: right;\">0</td><td style = \"text-align: right;\">0</td></tr><tr><td class = \"rowNumber\" style = \"font-weight: bold; text-align: right;\">58783</td><td style = \"text-align: left;\">sIDney</td><td style = \"text-align: right;\">2002</td><td style = \"text-align: right;\">15</td><td style = \"font-style: italic; text-align: right;\">missing</td><td style = \"text-align: right;\">7.0</td><td style = \"text-align: right;\">8</td><td style = \"text-align: right;\">14.5</td><td style = \"text-align: right;\">0.0</td><td style = \"text-align: right;\">0.0</td><td style = \"text-align: right;\">14.5</td><td style = \"text-align: right;\">0.0</td><td style = \"text-align: right;\">0.0</td><td style = \"text-align: right;\">24.5</td><td style = \"text-align: right;\">14.5</td><td style = \"text-align: right;\">14.5</td><td style = \"text-align: right;\">24.5</td><td style = \"text-align: left;\"></td><td style = \"text-align: right;\">1</td><td style = \"text-align: right;\">0</td><td style = \"text-align: right;\">0</td><td style = \"text-align: right;\">0</td><td style = \"text-align: right;\">0</td><td style = \"text-align: right;\">0</td><td style = \"text-align: right;\">1</td></tr><tr><td class = \"rowNumber\" style = \"font-weight: bold; text-align: right;\">58784</td><td style = \"text-align: left;\">tom thumb</td><td style = \"text-align: right;\">1958</td><td style = \"text-align: right;\">98</td><td style = \"font-style: italic; text-align: right;\">missing</td><td style = \"text-align: right;\">6.5</td><td style = \"text-align: right;\">274</td><td style = \"text-align: right;\">4.5</td><td style = \"text-align: right;\">4.5</td><td style = \"text-align: right;\">4.5</td><td style = \"text-align: right;\">4.5</td><td style = \"text-align: right;\">14.5</td><td style = \"text-align: right;\">14.5</td><td style = \"text-align: right;\">24.5</td><td style = \"text-align: right;\">14.5</td><td style = \"text-align: right;\">4.5</td><td style = \"text-align: right;\">4.5</td><td style = \"text-align: left;\"></td><td style = \"text-align: right;\">0</td><td style = \"text-align: right;\">1</td><td style = \"text-align: right;\">0</td><td style = \"text-align: right;\">0</td><td style = \"text-align: right;\">0</td><td style = \"text-align: right;\">0</td><td style = \"text-align: right;\">0</td></tr><tr><td class = \"rowNumber\" style = \"font-weight: bold; text-align: right;\">58785</td><td style = \"text-align: left;\">www.XXX.com</td><td style = \"text-align: right;\">2003</td><td style = \"text-align: right;\">105</td><td style = \"text-align: right;\">missing</td><td style = \"text-align: right;\">1.1</td><td style = \"text-align: right;\">12</td><td style = \"text-align: right;\">45.5</td><td style = \"text-align: right;\">0.0</td><td style = \"text-align: right;\">0.0</td><td style = \"text-align: right;\">0.0</td><td style = \"text-align: right;\">0.0</td><td style = \"text-align: right;\">0.0</td><td style = \"text-align: right;\">24.5</td><td style = \"text-align: right;\">0.0</td><td style = \"text-align: right;\">0.0</td><td style = \"text-align: right;\">24.5</td><td style = \"text-align: left;\"></td><td style = \"text-align: right;\">0</td><td style = \"text-align: right;\">0</td><td style = \"text-align: right;\">0</td><td style = \"text-align: right;\">1</td><td style = \"text-align: right;\">0</td><td style = \"text-align: right;\">1</td><td style = \"text-align: right;\">0</td></tr><tr><td class = \"rowNumber\" style = \"font-weight: bold; text-align: right;\">58786</td><td style = \"text-align: left;\">www.hellssoapopera.com</td><td style = \"text-align: right;\">1999</td><td style = \"text-align: right;\">100</td><td style = \"font-style: italic; text-align: right;\">missing</td><td style = \"text-align: right;\">6.6</td><td style = \"text-align: right;\">5</td><td style = \"text-align: right;\">24.5</td><td style = \"text-align: right;\">0.0</td><td style = \"text-align: right;\">24.5</td><td style = \"text-align: right;\">0.0</td><td style = \"text-align: right;\">0.0</td><td style = \"text-align: right;\">0.0</td><td style = \"text-align: right;\">0.0</td><td style = \"text-align: right;\">0.0</td><td style = \"text-align: right;\">24.5</td><td style = \"text-align: right;\">44.5</td><td style = \"text-align: left;\"></td><td style = \"text-align: right;\">0</td><td style = \"text-align: right;\">0</td><td style = \"text-align: right;\">0</td><td style = \"text-align: right;\">0</td><td style = \"text-align: right;\">0</td><td style = \"text-align: right;\">0</td><td style = \"text-align: right;\">0</td></tr><tr><td class = \"rowNumber\" style = \"font-weight: bold; text-align: right;\">58787</td><td style = \"text-align: left;\">xXx</td><td style = \"text-align: right;\">2002</td><td style = \"text-align: right;\">132</td><td style = \"font-style: italic; text-align: right;\">85000000</td><td style = \"text-align: right;\">5.5</td><td style = \"text-align: right;\">18514</td><td style = \"text-align: right;\">4.5</td><td style = \"text-align: right;\">4.5</td><td style = \"text-align: right;\">4.5</td><td style = \"text-align: right;\">4.5</td><td style = \"text-align: right;\">14.5</td><td style = \"text-align: right;\">14.5</td><td style = \"text-align: right;\">14.5</td><td style = \"text-align: right;\">14.5</td><td style = \"text-align: right;\">4.5</td><td style = \"text-align: right;\">4.5</td><td style = \"text-align: left;\">PG-13</td><td style = \"text-align: right;\">1</td><td style = \"text-align: right;\">0</td><td style = \"text-align: right;\">0</td><td style = \"text-align: right;\">0</td><td style = \"text-align: right;\">0</td><td style = \"text-align: right;\">0</td><td style = \"text-align: right;\">0</td></tr><tr><td class = \"rowNumber\" style = \"font-weight: bold; text-align: right;\">58788</td><td style = \"text-align: left;\">xXx: State of the Union</td><td style = \"text-align: right;\">2005</td><td style = \"text-align: right;\">101</td><td style = \"font-style: italic; text-align: right;\">87000000</td><td style = \"text-align: right;\">3.9</td><td style = \"text-align: right;\">1584</td><td style = \"text-align: right;\">24.5</td><td style = \"text-align: right;\">4.5</td><td style = \"text-align: right;\">4.5</td><td style = \"text-align: right;\">4.5</td><td style = \"text-align: right;\">4.5</td><td style = \"text-align: right;\">14.5</td><td style = \"text-align: right;\">4.5</td><td style = \"text-align: right;\">4.5</td><td style = \"text-align: right;\">4.5</td><td style = \"text-align: right;\">14.5</td><td style = \"text-align: left;\">PG-13</td><td style = \"text-align: right;\">1</td><td style = \"text-align: right;\">0</td><td style = \"text-align: right;\">0</td><td style = \"text-align: right;\">0</td><td style = \"text-align: right;\">0</td><td style = \"text-align: right;\">0</td><td style = \"text-align: right;\">0</td></tr></tbody></table></div>"
      ],
      "text/latex": [
       "\\begin{tabular}{r|cccccc}\n",
       "\t& Title & Year & Length & Budget & Rating & \\\\\n",
       "\t\\hline\n",
       "\t& String & Int32 & Int32 & Int32? & Float64 & \\\\\n",
       "\t\\hline\n",
       "\t1 & \\$ & 1971 & 121 & \\emph{missing} & 6.4 & $\\dots$ \\\\\n",
       "\t2 & \\$1000 a Touchdown & 1939 & 71 & \\emph{missing} & 6.0 & $\\dots$ \\\\\n",
       "\t3 & \\$21 a Day Once a Month & 1941 & 7 & \\emph{missing} & 8.2 & $\\dots$ \\\\\n",
       "\t4 & \\$40,000 & 1996 & 70 & \\emph{missing} & 8.2 & $\\dots$ \\\\\n",
       "\t5 & \\$50,000 Climax Show, The & 1975 & 71 & \\emph{missing} & 3.4 & $\\dots$ \\\\\n",
       "\t6 & \\$pent & 2000 & 91 & \\emph{missing} & 4.3 & $\\dots$ \\\\\n",
       "\t7 & \\$windle & 2002 & 93 & \\emph{missing} & 5.3 & $\\dots$ \\\\\n",
       "\t8 & '15' & 2002 & 25 & \\emph{missing} & 6.7 & $\\dots$ \\\\\n",
       "\t9 & '38 & 1987 & 97 & \\emph{missing} & 6.6 & $\\dots$ \\\\\n",
       "\t10 & '49-'17 & 1917 & 61 & \\emph{missing} & 6.0 & $\\dots$ \\\\\n",
       "\t11 & '68 & 1988 & 99 & \\emph{missing} & 5.4 & $\\dots$ \\\\\n",
       "\t12 & '94 du bi dao zhi qing & 1994 & 96 & \\emph{missing} & 5.9 & $\\dots$ \\\\\n",
       "\t13 & '?' Motorist, The & 1906 & 10 & \\emph{missing} & 7.0 & $\\dots$ \\\\\n",
       "\t14 & 'A' & 1965 & 10 & \\emph{missing} & 6.7 & $\\dots$ \\\\\n",
       "\t15 & 'A' gai waak & 1983 & 106 & \\emph{missing} & 7.1 & $\\dots$ \\\\\n",
       "\t16 & 'A' gai waak juk jaap & 1987 & 101 & \\emph{missing} & 7.2 & $\\dots$ \\\\\n",
       "\t17 & 'Breaker' Morant & 1980 & 107 & \\emph{missing} & 7.9 & $\\dots$ \\\\\n",
       "\t18 & 'Bullitt': Steve McQueen's Commitment to Reality & 1968 & 10 & \\emph{missing} & 6.6 & $\\dots$ \\\\\n",
       "\t19 & 'Crocodile' Dundee II & 1988 & 110 & \\emph{missing} & 5.0 & $\\dots$ \\\\\n",
       "\t20 & 'E' & 1981 & 7 & \\emph{missing} & 8.6 & $\\dots$ \\\\\n",
       "\t21 & 'El Chicko' - der Verdacht & 1995 & 90 & \\emph{missing} & 3.9 & $\\dots$ \\\\\n",
       "\t22 & 'G' Men & 1935 & 85 & 450000 & 7.2 & $\\dots$ \\\\\n",
       "\t23 & 'Gator Bait & 1974 & 88 & \\emph{missing} & 3.5 & $\\dots$ \\\\\n",
       "\t24 & 'Gator Bait II: Cajun Justice & 1988 & 95 & \\emph{missing} & 3.1 & $\\dots$ \\\\\n",
       "\t$\\dots$ & $\\dots$ & $\\dots$ & $\\dots$ & $\\dots$ & $\\dots$ &  \\\\\n",
       "\\end{tabular}\n"
      ],
      "text/plain": [
       "\u001b[1m58788×24 DataFrame\u001b[0m\n",
       "\u001b[1m   Row \u001b[0m│\u001b[1m Title                    \u001b[0m\u001b[1m Year  \u001b[0m\u001b[1m Length \u001b[0m\u001b[1m Budget   \u001b[0m\u001b[1m Rating  \u001b[0m\u001b[1m Votes \u001b[0m\u001b[1m R1\u001b[0m ⋯\n",
       "       │\u001b[90m String                   \u001b[0m\u001b[90m Int32 \u001b[0m\u001b[90m Int32  \u001b[0m\u001b[90m Int32?   \u001b[0m\u001b[90m Float64 \u001b[0m\u001b[90m Int32 \u001b[0m\u001b[90m Fl\u001b[0m ⋯\n",
       "───────┼────────────────────────────────────────────────────────────────────────\n",
       "     1 │ $                          1971     121 \u001b[90m  missing \u001b[0m     6.4    348     ⋯\n",
       "     2 │ $1000 a Touchdown          1939      71 \u001b[90m  missing \u001b[0m     6.0     20\n",
       "     3 │ $21 a Day Once a Month     1941       7 \u001b[90m  missing \u001b[0m     8.2      5\n",
       "     4 │ $40,000                    1996      70 \u001b[90m  missing \u001b[0m     8.2      6\n",
       "     5 │ $50,000 Climax Show, The   1975      71 \u001b[90m  missing \u001b[0m     3.4     17     ⋯\n",
       "     6 │ $pent                      2000      91 \u001b[90m  missing \u001b[0m     4.3     45\n",
       "     7 │ $windle                    2002      93 \u001b[90m  missing \u001b[0m     5.3    200\n",
       "     8 │ '15'                       2002      25 \u001b[90m  missing \u001b[0m     6.7     24\n",
       "   ⋮   │            ⋮                ⋮      ⋮        ⋮         ⋮       ⋮       ⋱\n",
       " 58782 │ pURe kILLjoy               1998      87 \u001b[90m  missing \u001b[0m     5.2      6     ⋯\n",
       " 58783 │ sIDney                     2002      15 \u001b[90m  missing \u001b[0m     7.0      8\n",
       " 58784 │ tom thumb                  1958      98 \u001b[90m  missing \u001b[0m     6.5    274\n",
       " 58785 │ www.XXX.com                2003     105 \u001b[90m  missing \u001b[0m     1.1     12\n",
       " 58786 │ www.hellssoapopera.com     1999     100 \u001b[90m  missing \u001b[0m     6.6      5     ⋯\n",
       " 58787 │ xXx                        2002     132  85000000      5.5  18514\n",
       " 58788 │ xXx: State of the Union    2005     101  87000000      3.9   1584\n",
       "\u001b[36m                                               18 columns and 58773 rows omitted\u001b[0m"
      ]
     },
     "metadata": {},
     "output_type": "display_data"
    }
   ],
   "source": [
    "movies = RDatasets.dataset(\"ggplot2\",\"movies\")"
   ]
  },
  {
   "cell_type": "code",
   "execution_count": 3,
   "metadata": {},
   "outputs": [
    {
     "data": {
      "text/html": [
       "<div><div style = \"float: left;\"><span>507×4 DataFrame</span></div><div style = \"float: right;\"><span style = \"font-style: italic;\">482 rows omitted</span></div><div style = \"clear: both;\"></div></div><div class = \"data-frame\" style = \"overflow-x: scroll;\"><table class = \"data-frame\" style = \"margin-bottom: 6px;\"><thead><tr class = \"header\"><th class = \"rowNumber\" style = \"font-weight: bold; text-align: right;\">Row</th><th style = \"text-align: left;\">Title</th><th style = \"text-align: left;\">Year</th><th style = \"text-align: left;\">Budget</th><th style = \"text-align: left;\">Rating</th></tr><tr class = \"subheader headerLastRow\"><th class = \"rowNumber\" style = \"font-weight: bold; text-align: right;\"></th><th title = \"String\" style = \"text-align: left;\">String</th><th title = \"Int32\" style = \"text-align: left;\">Int32</th><th title = \"Union{Missing, Float64}\" style = \"text-align: left;\">Float64?</th><th title = \"Float64\" style = \"text-align: left;\">Float64</th></tr></thead><tbody><tr><td class = \"rowNumber\" style = \"font-weight: bold; text-align: right;\">1</td><td style = \"text-align: left;\">13 Going On 30</td><td style = \"text-align: right;\">2004</td><td style = \"text-align: right;\">37.0</td><td style = \"text-align: right;\">6.4</td></tr><tr><td class = \"rowNumber\" style = \"font-weight: bold; text-align: right;\">2</td><td style = \"text-align: left;\">15 Minutes</td><td style = \"text-align: right;\">2001</td><td style = \"text-align: right;\">42.0</td><td style = \"text-align: right;\">6.1</td></tr><tr><td class = \"rowNumber\" style = \"font-weight: bold; text-align: right;\">3</td><td style = \"text-align: left;\">2 Fast 2 Furious</td><td style = \"text-align: right;\">2003</td><td style = \"text-align: right;\">76.0</td><td style = \"text-align: right;\">5.1</td></tr><tr><td class = \"rowNumber\" style = \"font-weight: bold; text-align: right;\">4</td><td style = \"text-align: left;\">21 Grams</td><td style = \"text-align: right;\">2003</td><td style = \"text-align: right;\">20.0</td><td style = \"text-align: right;\">8.0</td></tr><tr><td class = \"rowNumber\" style = \"font-weight: bold; text-align: right;\">5</td><td style = \"text-align: left;\">25th Hour</td><td style = \"text-align: right;\">2002</td><td style = \"text-align: right;\">15.0</td><td style = \"text-align: right;\">7.8</td></tr><tr><td class = \"rowNumber\" style = \"font-weight: bold; text-align: right;\">6</td><td style = \"text-align: left;\">3000 Miles to Graceland</td><td style = \"text-align: right;\">2001</td><td style = \"text-align: right;\">62.0</td><td style = \"text-align: right;\">5.4</td></tr><tr><td class = \"rowNumber\" style = \"font-weight: bold; text-align: right;\">7</td><td style = \"text-align: left;\">40 Days and 40 Nights</td><td style = \"text-align: right;\">2002</td><td style = \"text-align: right;\">17.0</td><td style = \"text-align: right;\">5.4</td></tr><tr><td class = \"rowNumber\" style = \"font-weight: bold; text-align: right;\">8</td><td style = \"text-align: left;\">50 First Dates</td><td style = \"text-align: right;\">2004</td><td style = \"text-align: right;\">75.0</td><td style = \"text-align: right;\">6.8</td></tr><tr><td class = \"rowNumber\" style = \"font-weight: bold; text-align: right;\">9</td><td style = \"text-align: left;\">51st State, The</td><td style = \"text-align: right;\">2001</td><td style = \"text-align: right;\">28.0</td><td style = \"text-align: right;\">6.1</td></tr><tr><td class = \"rowNumber\" style = \"font-weight: bold; text-align: right;\">10</td><td style = \"text-align: left;\">8 Mile</td><td style = \"text-align: right;\">2002</td><td style = \"text-align: right;\">41.0</td><td style = \"text-align: right;\">6.8</td></tr><tr><td class = \"rowNumber\" style = \"font-weight: bold; text-align: right;\">11</td><td style = \"text-align: left;\">AVP: Alien Vs. Predator</td><td style = \"text-align: right;\">2004</td><td style = \"text-align: right;\">45.0</td><td style = \"text-align: right;\">5.4</td></tr><tr><td class = \"rowNumber\" style = \"font-weight: bold; text-align: right;\">12</td><td style = \"text-align: left;\">Abandon</td><td style = \"text-align: right;\">2002</td><td style = \"text-align: right;\">25.0</td><td style = \"text-align: right;\">4.7</td></tr><tr><td class = \"rowNumber\" style = \"font-weight: bold; text-align: right;\">13</td><td style = \"text-align: left;\">About Schmidt</td><td style = \"text-align: right;\">2002</td><td style = \"text-align: right;\">30.0</td><td style = \"text-align: right;\">7.3</td></tr><tr><td style = \"text-align: right;\">&vellip;</td><td style = \"text-align: right;\">&vellip;</td><td style = \"text-align: right;\">&vellip;</td><td style = \"text-align: right;\">&vellip;</td><td style = \"text-align: right;\">&vellip;</td></tr><tr><td class = \"rowNumber\" style = \"font-weight: bold; text-align: right;\">496</td><td style = \"text-align: left;\">Wicker Park</td><td style = \"text-align: right;\">2004</td><td style = \"text-align: right;\">30.0</td><td style = \"text-align: right;\">6.4</td></tr><tr><td class = \"rowNumber\" style = \"font-weight: bold; text-align: right;\">497</td><td style = \"text-align: left;\">Wild Thornberrys Movie, The</td><td style = \"text-align: right;\">2002</td><td style = \"text-align: right;\">35.0</td><td style = \"text-align: right;\">4.7</td></tr><tr><td class = \"rowNumber\" style = \"font-weight: bold; text-align: right;\">498</td><td style = \"text-align: left;\">Willard</td><td style = \"text-align: right;\">2003</td><td style = \"text-align: right;\">22.0</td><td style = \"text-align: right;\">6.2</td></tr><tr><td class = \"rowNumber\" style = \"font-weight: bold; text-align: right;\">499</td><td style = \"text-align: left;\">Wimbledon</td><td style = \"text-align: right;\">2004</td><td style = \"text-align: right;\">31.0</td><td style = \"text-align: right;\">6.3</td></tr><tr><td class = \"rowNumber\" style = \"font-weight: bold; text-align: right;\">500</td><td style = \"text-align: left;\">Win a Date with Tad Hamilton!</td><td style = \"text-align: right;\">2004</td><td style = \"text-align: right;\">24.0</td><td style = \"text-align: right;\">5.8</td></tr><tr><td class = \"rowNumber\" style = \"font-weight: bold; text-align: right;\">501</td><td style = \"text-align: left;\">Windtalkers</td><td style = \"text-align: right;\">2002</td><td style = \"text-align: right;\">115.0</td><td style = \"text-align: right;\">5.9</td></tr><tr><td class = \"rowNumber\" style = \"font-weight: bold; text-align: right;\">502</td><td style = \"text-align: left;\">Without a Paddle</td><td style = \"text-align: right;\">2004</td><td style = \"text-align: right;\">19.0</td><td style = \"text-align: right;\">5.4</td></tr><tr><td class = \"rowNumber\" style = \"font-weight: bold; text-align: right;\">503</td><td style = \"text-align: left;\">X2</td><td style = \"text-align: right;\">2003</td><td style = \"text-align: right;\">110.0</td><td style = \"text-align: right;\">7.9</td></tr><tr><td class = \"rowNumber\" style = \"font-weight: bold; text-align: right;\">504</td><td style = \"text-align: left;\">Ying xiong</td><td style = \"text-align: right;\">2002</td><td style = \"text-align: right;\">30.0</td><td style = \"text-align: right;\">8.1</td></tr><tr><td class = \"rowNumber\" style = \"font-weight: bold; text-align: right;\">505</td><td style = \"text-align: left;\">Zoolander</td><td style = \"text-align: right;\">2001</td><td style = \"text-align: right;\">28.0</td><td style = \"text-align: right;\">6.1</td></tr><tr><td class = \"rowNumber\" style = \"font-weight: bold; text-align: right;\">506</td><td style = \"text-align: left;\">xXx</td><td style = \"text-align: right;\">2002</td><td style = \"text-align: right;\">85.0</td><td style = \"text-align: right;\">5.5</td></tr><tr><td class = \"rowNumber\" style = \"font-weight: bold; text-align: right;\">507</td><td style = \"text-align: left;\">xXx: State of the Union</td><td style = \"text-align: right;\">2005</td><td style = \"text-align: right;\">87.0</td><td style = \"text-align: right;\">3.9</td></tr></tbody></table></div>"
      ],
      "text/latex": [
       "\\begin{tabular}{r|cccc}\n",
       "\t& Title & Year & Budget & Rating\\\\\n",
       "\t\\hline\n",
       "\t& String & Int32 & Float64? & Float64\\\\\n",
       "\t\\hline\n",
       "\t1 & 13 Going On 30 & 2004 & 37.0 & 6.4 \\\\\n",
       "\t2 & 15 Minutes & 2001 & 42.0 & 6.1 \\\\\n",
       "\t3 & 2 Fast 2 Furious & 2003 & 76.0 & 5.1 \\\\\n",
       "\t4 & 21 Grams & 2003 & 20.0 & 8.0 \\\\\n",
       "\t5 & 25th Hour & 2002 & 15.0 & 7.8 \\\\\n",
       "\t6 & 3000 Miles to Graceland & 2001 & 62.0 & 5.4 \\\\\n",
       "\t7 & 40 Days and 40 Nights & 2002 & 17.0 & 5.4 \\\\\n",
       "\t8 & 50 First Dates & 2004 & 75.0 & 6.8 \\\\\n",
       "\t9 & 51st State, The & 2001 & 28.0 & 6.1 \\\\\n",
       "\t10 & 8 Mile & 2002 & 41.0 & 6.8 \\\\\n",
       "\t11 & AVP: Alien Vs. Predator & 2004 & 45.0 & 5.4 \\\\\n",
       "\t12 & Abandon & 2002 & 25.0 & 4.7 \\\\\n",
       "\t13 & About Schmidt & 2002 & 30.0 & 7.3 \\\\\n",
       "\t14 & About a Boy & 2002 & 27.0 & 7.5 \\\\\n",
       "\t15 & Adaptation. & 2002 & 19.0 & 7.9 \\\\\n",
       "\t16 & Adventures of Pluto Nash, The & 2002 & 100.0 & 3.9 \\\\\n",
       "\t17 & After the Sunset & 2004 & 58.0 & 6.0 \\\\\n",
       "\t18 & Agent Cody Banks & 2003 & 26.0 & 5.5 \\\\\n",
       "\t19 & Agent Cody Banks 2: Destination London & 2004 & 26.0 & 3.8 \\\\\n",
       "\t20 & Alamo, The & 2004 & 95.0 & 5.9 \\\\\n",
       "\t21 & Alexander & 2004 & 150.0 & 5.5 \\\\\n",
       "\t22 & Alfie & 2004 & 60.0 & 6.0 \\\\\n",
       "\t23 & Ali & 2001 & 107.0 & 6.4 \\\\\n",
       "\t24 & All About the Benjamins & 2002 & 14.0 & 5.4 \\\\\n",
       "\t$\\dots$ & $\\dots$ & $\\dots$ & $\\dots$ & $\\dots$ \\\\\n",
       "\\end{tabular}\n"
      ],
      "text/plain": [
       "\u001b[1m507×4 DataFrame\u001b[0m\n",
       "\u001b[1m Row \u001b[0m│\u001b[1m Title                         \u001b[0m\u001b[1m Year  \u001b[0m\u001b[1m Budget   \u001b[0m\u001b[1m Rating  \u001b[0m\n",
       "     │\u001b[90m String                        \u001b[0m\u001b[90m Int32 \u001b[0m\u001b[90m Float64? \u001b[0m\u001b[90m Float64 \u001b[0m\n",
       "─────┼─────────────────────────────────────────────────────────\n",
       "   1 │ 13 Going On 30                  2004      37.0      6.4\n",
       "   2 │ 15 Minutes                      2001      42.0      6.1\n",
       "   3 │ 2 Fast 2 Furious                2003      76.0      5.1\n",
       "   4 │ 21 Grams                        2003      20.0      8.0\n",
       "   5 │ 25th Hour                       2002      15.0      7.8\n",
       "   6 │ 3000 Miles to Graceland         2001      62.0      5.4\n",
       "   7 │ 40 Days and 40 Nights           2002      17.0      5.4\n",
       "   8 │ 50 First Dates                  2004      75.0      6.8\n",
       "  ⋮  │               ⋮                  ⋮       ⋮         ⋮\n",
       " 501 │ Windtalkers                     2002     115.0      5.9\n",
       " 502 │ Without a Paddle                2004      19.0      5.4\n",
       " 503 │ X2                              2003     110.0      7.9\n",
       " 504 │ Ying xiong                      2002      30.0      8.1\n",
       " 505 │ Zoolander                       2001      28.0      6.1\n",
       " 506 │ xXx                             2002      85.0      5.5\n",
       " 507 │ xXx: State of the Union         2005      87.0      3.9\n",
       "\u001b[36m                                               492 rows omitted\u001b[0m"
      ]
     },
     "metadata": {},
     "output_type": "display_data"
    }
   ],
   "source": [
    "high_budget = @chain movies begin\n",
    "\t@mutate(Budget= Budget / 1_000_000)\n",
    "\t@filter(Budget >= mean(skipmissing(Budget)), Year > 2000)\n",
    "\t@select(Title, Year, Budget, Rating)\n",
    "end"
   ]
  },
  {
   "cell_type": "code",
   "execution_count": 4,
   "metadata": {},
   "outputs": [],
   "source": [
    "using DataFrames, Random"
   ]
  },
  {
   "cell_type": "code",
   "execution_count": 5,
   "metadata": {},
   "outputs": [
    {
     "data": {
      "text/html": [
       "<div><div style = \"float: left;\"><span>100×4 DataFrame</span></div><div style = \"float: right;\"><span style = \"font-style: italic;\">75 rows omitted</span></div><div style = \"clear: both;\"></div></div><div class = \"data-frame\" style = \"overflow-x: scroll;\"><table class = \"data-frame\" style = \"margin-bottom: 6px;\"><thead><tr class = \"header\"><th class = \"rowNumber\" style = \"font-weight: bold; text-align: right;\">Row</th><th style = \"text-align: left;\">Title</th><th style = \"text-align: left;\">Year</th><th style = \"text-align: left;\">Budget</th><th style = \"text-align: left;\">Rating</th></tr><tr class = \"subheader headerLastRow\"><th class = \"rowNumber\" style = \"font-weight: bold; text-align: right;\"></th><th title = \"String\" style = \"text-align: left;\">String</th><th title = \"Int32\" style = \"text-align: left;\">Int32</th><th title = \"Union{Missing, Float64}\" style = \"text-align: left;\">Float64?</th><th title = \"Float64\" style = \"text-align: left;\">Float64</th></tr></thead><tbody><tr><td class = \"rowNumber\" style = \"font-weight: bold; text-align: right;\">1</td><td style = \"text-align: left;\">Princess Diaries 2: Royal Engagement, The</td><td style = \"text-align: right;\">2004</td><td style = \"text-align: right;\">40.0</td><td style = \"text-align: right;\">5.3</td></tr><tr><td class = \"rowNumber\" style = \"font-weight: bold; text-align: right;\">2</td><td style = \"text-align: left;\">Boat Trip</td><td style = \"text-align: right;\">2002</td><td style = \"text-align: right;\">20.0</td><td style = \"text-align: right;\">4.5</td></tr><tr><td class = \"rowNumber\" style = \"font-weight: bold; text-align: right;\">3</td><td style = \"text-align: left;\">Finding Nemo</td><td style = \"text-align: right;\">2003</td><td style = \"text-align: right;\">94.0</td><td style = \"text-align: right;\">8.3</td></tr><tr><td class = \"rowNumber\" style = \"font-weight: bold; text-align: right;\">4</td><td style = \"text-align: left;\">To Kill a King</td><td style = \"text-align: right;\">2003</td><td style = \"text-align: right;\">14.3</td><td style = \"text-align: right;\">6.1</td></tr><tr><td class = \"rowNumber\" style = \"font-weight: bold; text-align: right;\">5</td><td style = \"text-align: left;\">Wedding Date, The</td><td style = \"text-align: right;\">2005</td><td style = \"text-align: right;\">15.0</td><td style = \"text-align: right;\">5.0</td></tr><tr><td class = \"rowNumber\" style = \"font-weight: bold; text-align: right;\">6</td><td style = \"text-align: left;\">Big Bounce, The</td><td style = \"text-align: right;\">2004</td><td style = \"text-align: right;\">50.0</td><td style = \"text-align: right;\">4.7</td></tr><tr><td class = \"rowNumber\" style = \"font-weight: bold; text-align: right;\">7</td><td style = \"text-align: left;\">Osmosis Jones</td><td style = \"text-align: right;\">2001</td><td style = \"text-align: right;\">75.0</td><td style = \"text-align: right;\">6.2</td></tr><tr><td class = \"rowNumber\" style = \"font-weight: bold; text-align: right;\">8</td><td style = \"text-align: left;\">Death to Smoochy</td><td style = \"text-align: right;\">2002</td><td style = \"text-align: right;\">55.0</td><td style = \"text-align: right;\">6.3</td></tr><tr><td class = \"rowNumber\" style = \"font-weight: bold; text-align: right;\">9</td><td style = \"text-align: left;\">Agent Cody Banks 2: Destination London</td><td style = \"text-align: right;\">2004</td><td style = \"text-align: right;\">26.0</td><td style = \"text-align: right;\">3.8</td></tr><tr><td class = \"rowNumber\" style = \"font-weight: bold; text-align: right;\">10</td><td style = \"text-align: left;\">Star Wars: Episode II - Attack of the Clones</td><td style = \"text-align: right;\">2002</td><td style = \"text-align: right;\">120.0</td><td style = \"text-align: right;\">7.0</td></tr><tr><td class = \"rowNumber\" style = \"font-weight: bold; text-align: right;\">11</td><td style = \"text-align: left;\">High Crimes</td><td style = \"text-align: right;\">2002</td><td style = \"text-align: right;\">42.0</td><td style = \"text-align: right;\">6.1</td></tr><tr><td class = \"rowNumber\" style = \"font-weight: bold; text-align: right;\">12</td><td style = \"text-align: left;\">Because of Winn-Dixie</td><td style = \"text-align: right;\">2005</td><td style = \"text-align: right;\">14.0</td><td style = \"text-align: right;\">5.9</td></tr><tr><td class = \"rowNumber\" style = \"font-weight: bold; text-align: right;\">13</td><td style = \"text-align: left;\">Tuck Everlasting</td><td style = \"text-align: right;\">2002</td><td style = \"text-align: right;\">15.0</td><td style = \"text-align: right;\">6.5</td></tr><tr><td style = \"text-align: right;\">&vellip;</td><td style = \"text-align: right;\">&vellip;</td><td style = \"text-align: right;\">&vellip;</td><td style = \"text-align: right;\">&vellip;</td><td style = \"text-align: right;\">&vellip;</td></tr><tr><td class = \"rowNumber\" style = \"font-weight: bold; text-align: right;\">89</td><td style = \"text-align: left;\">Hannibal</td><td style = \"text-align: right;\">2001</td><td style = \"text-align: right;\">87.0</td><td style = \"text-align: right;\">6.2</td></tr><tr><td class = \"rowNumber\" style = \"font-weight: bold; text-align: right;\">90</td><td style = \"text-align: left;\">Around the World in 80 Days</td><td style = \"text-align: right;\">2004</td><td style = \"text-align: right;\">110.0</td><td style = \"text-align: right;\">5.7</td></tr><tr><td class = \"rowNumber\" style = \"font-weight: bold; text-align: right;\">91</td><td style = \"text-align: left;\">All the Queen&apos;s Men</td><td style = \"text-align: right;\">2001</td><td style = \"text-align: right;\">25.0</td><td style = \"text-align: right;\">5.0</td></tr><tr><td class = \"rowNumber\" style = \"font-weight: bold; text-align: right;\">92</td><td style = \"text-align: left;\">Life as a House</td><td style = \"text-align: right;\">2001</td><td style = \"text-align: right;\">18.0</td><td style = \"text-align: right;\">7.5</td></tr><tr><td class = \"rowNumber\" style = \"font-weight: bold; text-align: right;\">93</td><td style = \"text-align: left;\">Cursed</td><td style = \"text-align: right;\">2005</td><td style = \"text-align: right;\">35.0</td><td style = \"text-align: right;\">4.7</td></tr><tr><td class = \"rowNumber\" style = \"font-weight: bold; text-align: right;\">94</td><td style = \"text-align: left;\">American Wedding</td><td style = \"text-align: right;\">2003</td><td style = \"text-align: right;\">55.0</td><td style = \"text-align: right;\">6.3</td></tr><tr><td class = \"rowNumber\" style = \"font-weight: bold; text-align: right;\">95</td><td style = \"text-align: left;\">Blade II</td><td style = \"text-align: right;\">2002</td><td style = \"text-align: right;\">55.0</td><td style = \"text-align: right;\">6.6</td></tr><tr><td class = \"rowNumber\" style = \"font-weight: bold; text-align: right;\">96</td><td style = \"text-align: left;\">School of Rock, The</td><td style = \"text-align: right;\">2003</td><td style = \"text-align: right;\">20.0</td><td style = \"text-align: right;\">7.4</td></tr><tr><td class = \"rowNumber\" style = \"font-weight: bold; text-align: right;\">97</td><td style = \"text-align: left;\">What a Girl Wants</td><td style = \"text-align: right;\">2003</td><td style = \"text-align: right;\">20.0</td><td style = \"text-align: right;\">5.7</td></tr><tr><td class = \"rowNumber\" style = \"font-weight: bold; text-align: right;\">98</td><td style = \"text-align: left;\">Chronicles of Riddick, The</td><td style = \"text-align: right;\">2004</td><td style = \"text-align: right;\">110.0</td><td style = \"text-align: right;\">6.2</td></tr><tr><td class = \"rowNumber\" style = \"font-weight: bold; text-align: right;\">99</td><td style = \"text-align: left;\">Jonah: A VeggieTales Movie</td><td style = \"text-align: right;\">2002</td><td style = \"text-align: right;\">15.0</td><td style = \"text-align: right;\">6.2</td></tr><tr><td class = \"rowNumber\" style = \"font-weight: bold; text-align: right;\">100</td><td style = \"text-align: left;\">Pirates of the Caribbean: The Curse of the Black Pearl</td><td style = \"text-align: right;\">2003</td><td style = \"text-align: right;\">125.0</td><td style = \"text-align: right;\">8.0</td></tr></tbody></table></div>"
      ],
      "text/latex": [
       "\\begin{tabular}{r|cccc}\n",
       "\t& Title & Year & Budget & Rating\\\\\n",
       "\t\\hline\n",
       "\t& String & Int32 & Float64? & Float64\\\\\n",
       "\t\\hline\n",
       "\t1 & Princess Diaries 2: Royal Engagement, The & 2004 & 40.0 & 5.3 \\\\\n",
       "\t2 & Boat Trip & 2002 & 20.0 & 4.5 \\\\\n",
       "\t3 & Finding Nemo & 2003 & 94.0 & 8.3 \\\\\n",
       "\t4 & To Kill a King & 2003 & 14.3 & 6.1 \\\\\n",
       "\t5 & Wedding Date, The & 2005 & 15.0 & 5.0 \\\\\n",
       "\t6 & Big Bounce, The & 2004 & 50.0 & 4.7 \\\\\n",
       "\t7 & Osmosis Jones & 2001 & 75.0 & 6.2 \\\\\n",
       "\t8 & Death to Smoochy & 2002 & 55.0 & 6.3 \\\\\n",
       "\t9 & Agent Cody Banks 2: Destination London & 2004 & 26.0 & 3.8 \\\\\n",
       "\t10 & Star Wars: Episode II - Attack of the Clones & 2002 & 120.0 & 7.0 \\\\\n",
       "\t11 & High Crimes & 2002 & 42.0 & 6.1 \\\\\n",
       "\t12 & Because of Winn-Dixie & 2005 & 14.0 & 5.9 \\\\\n",
       "\t13 & Tuck Everlasting & 2002 & 15.0 & 6.5 \\\\\n",
       "\t14 & xXx: State of the Union & 2005 & 87.0 & 3.9 \\\\\n",
       "\t15 & xXx & 2002 & 85.0 & 5.5 \\\\\n",
       "\t16 & Bulletproof Monk & 2003 & 52.0 & 5.2 \\\\\n",
       "\t17 & Along Came a Spider & 2001 & 28.0 & 6.1 \\\\\n",
       "\t18 & Robots & 2005 & 75.0 & 6.4 \\\\\n",
       "\t19 & Coach Carter & 2005 & 30.0 & 6.6 \\\\\n",
       "\t20 & Kiss of the Dragon & 2001 & 25.0 & 6.2 \\\\\n",
       "\t21 & Touch, The & 2002 & 20.0 & 4.5 \\\\\n",
       "\t22 & Day After Tomorrow, The & 2004 & 125.0 & 6.3 \\\\\n",
       "\t23 & Wild Thornberrys Movie, The & 2002 & 35.0 & 4.7 \\\\\n",
       "\t24 & National Treasure & 2004 & 100.0 & 6.6 \\\\\n",
       "\t$\\dots$ & $\\dots$ & $\\dots$ & $\\dots$ & $\\dots$ \\\\\n",
       "\\end{tabular}\n"
      ],
      "text/plain": [
       "\u001b[1m100×4 DataFrame\u001b[0m\n",
       "\u001b[1m Row \u001b[0m│\u001b[1m Title                             \u001b[0m\u001b[1m Year  \u001b[0m\u001b[1m Budget   \u001b[0m\u001b[1m Rating  \u001b[0m\n",
       "     │\u001b[90m String                            \u001b[0m\u001b[90m Int32 \u001b[0m\u001b[90m Float64? \u001b[0m\u001b[90m Float64 \u001b[0m\n",
       "─────┼─────────────────────────────────────────────────────────────\n",
       "   1 │ Princess Diaries 2: Royal Engage…   2004      40.0      5.3\n",
       "   2 │ Boat Trip                           2002      20.0      4.5\n",
       "   3 │ Finding Nemo                        2003      94.0      8.3\n",
       "   4 │ To Kill a King                      2003      14.3      6.1\n",
       "   5 │ Wedding Date, The                   2005      15.0      5.0\n",
       "   6 │ Big Bounce, The                     2004      50.0      4.7\n",
       "   7 │ Osmosis Jones                       2001      75.0      6.2\n",
       "   8 │ Death to Smoochy                    2002      55.0      6.3\n",
       "  ⋮  │                 ⋮                    ⋮       ⋮         ⋮\n",
       "  94 │ American Wedding                    2003      55.0      6.3\n",
       "  95 │ Blade II                            2002      55.0      6.6\n",
       "  96 │ School of Rock, The                 2003      20.0      7.4\n",
       "  97 │ What a Girl Wants                   2003      20.0      5.7\n",
       "  98 │ Chronicles of Riddick, The          2004     110.0      6.2\n",
       "  99 │ Jonah: A VeggieTales Movie          2002      15.0      6.2\n",
       " 100 │ Pirates of the Caribbean: The Cu…   2003     125.0      8.0\n",
       "\u001b[36m                                                    85 rows omitted\u001b[0m"
      ]
     },
     "metadata": {},
     "output_type": "display_data"
    }
   ],
   "source": [
    "sampled_db = high_budget[shuffle(1:nrow(high_budget))[1:100], :]"
   ]
  },
  {
   "cell_type": "code",
   "execution_count": 6,
   "metadata": {},
   "outputs": [
    {
     "data": {
      "text/html": [
       "<div><div style = \"float: left;\"><span>100×4 DataFrame</span></div><div style = \"float: right;\"><span style = \"font-style: italic;\">75 rows omitted</span></div><div style = \"clear: both;\"></div></div><div class = \"data-frame\" style = \"overflow-x: scroll;\"><table class = \"data-frame\" style = \"margin-bottom: 6px;\"><thead><tr class = \"header\"><th class = \"rowNumber\" style = \"font-weight: bold; text-align: right;\">Row</th><th style = \"text-align: left;\">Title</th><th style = \"text-align: left;\">Year</th><th style = \"text-align: left;\">Budget</th><th style = \"text-align: left;\">Rating</th></tr><tr class = \"subheader headerLastRow\"><th class = \"rowNumber\" style = \"font-weight: bold; text-align: right;\"></th><th title = \"String\" style = \"text-align: left;\">String</th><th title = \"Int32\" style = \"text-align: left;\">Int32</th><th title = \"Union{Missing, Float64}\" style = \"text-align: left;\">Float64?</th><th title = \"Float64\" style = \"text-align: left;\">Float64</th></tr></thead><tbody><tr><td class = \"rowNumber\" style = \"font-weight: bold; text-align: right;\">1</td><td style = \"text-align: left;\">Finding Nemo</td><td style = \"text-align: right;\">2003</td><td style = \"text-align: right;\">94.0</td><td style = \"text-align: right;\">8.3</td></tr><tr><td class = \"rowNumber\" style = \"font-weight: bold; text-align: right;\">2</td><td style = \"text-align: left;\">21 Grams</td><td style = \"text-align: right;\">2003</td><td style = \"text-align: right;\">20.0</td><td style = \"text-align: right;\">8.0</td></tr><tr><td class = \"rowNumber\" style = \"font-weight: bold; text-align: right;\">3</td><td style = \"text-align: left;\">Pirates of the Caribbean: The Curse of the Black Pearl</td><td style = \"text-align: right;\">2003</td><td style = \"text-align: right;\">125.0</td><td style = \"text-align: right;\">8.0</td></tr><tr><td class = \"rowNumber\" style = \"font-weight: bold; text-align: right;\">4</td><td style = \"text-align: left;\">Adaptation.</td><td style = \"text-align: right;\">2002</td><td style = \"text-align: right;\">19.0</td><td style = \"text-align: right;\">7.9</td></tr><tr><td class = \"rowNumber\" style = \"font-weight: bold; text-align: right;\">5</td><td style = \"text-align: left;\">Far from Heaven</td><td style = \"text-align: right;\">2002</td><td style = \"text-align: right;\">13.5</td><td style = \"text-align: right;\">7.7</td></tr><tr><td class = \"rowNumber\" style = \"font-weight: bold; text-align: right;\">6</td><td style = \"text-align: left;\">Road to Perdition</td><td style = \"text-align: right;\">2002</td><td style = \"text-align: right;\">80.0</td><td style = \"text-align: right;\">7.7</td></tr><tr><td class = \"rowNumber\" style = \"font-weight: bold; text-align: right;\">7</td><td style = \"text-align: left;\">Ocean&apos;s Eleven</td><td style = \"text-align: right;\">2001</td><td style = \"text-align: right;\">85.0</td><td style = \"text-align: right;\">7.5</td></tr><tr><td class = \"rowNumber\" style = \"font-weight: bold; text-align: right;\">8</td><td style = \"text-align: left;\">Life as a House</td><td style = \"text-align: right;\">2001</td><td style = \"text-align: right;\">18.0</td><td style = \"text-align: right;\">7.5</td></tr><tr><td class = \"rowNumber\" style = \"font-weight: bold; text-align: right;\">9</td><td style = \"text-align: left;\">Quiet American, The</td><td style = \"text-align: right;\">2002</td><td style = \"text-align: right;\">30.0</td><td style = \"text-align: right;\">7.4</td></tr><tr><td class = \"rowNumber\" style = \"font-weight: bold; text-align: right;\">10</td><td style = \"text-align: left;\">School of Rock, The</td><td style = \"text-align: right;\">2003</td><td style = \"text-align: right;\">20.0</td><td style = \"text-align: right;\">7.4</td></tr><tr><td class = \"rowNumber\" style = \"font-weight: bold; text-align: right;\">11</td><td style = \"text-align: left;\">Gosford Park</td><td style = \"text-align: right;\">2001</td><td style = \"text-align: right;\">15.0</td><td style = \"text-align: right;\">7.3</td></tr><tr><td class = \"rowNumber\" style = \"font-weight: bold; text-align: right;\">12</td><td style = \"text-align: left;\">Bourne Supremacy, The</td><td style = \"text-align: right;\">2004</td><td style = \"text-align: right;\">75.0</td><td style = \"text-align: right;\">7.3</td></tr><tr><td class = \"rowNumber\" style = \"font-weight: bold; text-align: right;\">13</td><td style = \"text-align: left;\">Ice Age</td><td style = \"text-align: right;\">2002</td><td style = \"text-align: right;\">60.0</td><td style = \"text-align: right;\">7.3</td></tr><tr><td style = \"text-align: right;\">&vellip;</td><td style = \"text-align: right;\">&vellip;</td><td style = \"text-align: right;\">&vellip;</td><td style = \"text-align: right;\">&vellip;</td><td style = \"text-align: right;\">&vellip;</td></tr><tr><td class = \"rowNumber\" style = \"font-weight: bold; text-align: right;\">89</td><td style = \"text-align: left;\">Touch, The</td><td style = \"text-align: right;\">2002</td><td style = \"text-align: right;\">20.0</td><td style = \"text-align: right;\">4.5</td></tr><tr><td class = \"rowNumber\" style = \"font-weight: bold; text-align: right;\">90</td><td style = \"text-align: left;\">Catch That Kid</td><td style = \"text-align: right;\">2004</td><td style = \"text-align: right;\">18.0</td><td style = \"text-align: right;\">4.5</td></tr><tr><td class = \"rowNumber\" style = \"font-weight: bold; text-align: right;\">91</td><td style = \"text-align: left;\">Town &amp; Country</td><td style = \"text-align: right;\">2001</td><td style = \"text-align: right;\">90.0</td><td style = \"text-align: right;\">4.5</td></tr><tr><td class = \"rowNumber\" style = \"font-weight: bold; text-align: right;\">92</td><td style = \"text-align: left;\">Confessions of a Teenage Drama Queen</td><td style = \"text-align: right;\">2004</td><td style = \"text-align: right;\">15.0</td><td style = \"text-align: right;\">4.4</td></tr><tr><td class = \"rowNumber\" style = \"font-weight: bold; text-align: right;\">93</td><td style = \"text-align: left;\">Musketeer, The</td><td style = \"text-align: right;\">2001</td><td style = \"text-align: right;\">40.0</td><td style = \"text-align: right;\">4.4</td></tr><tr><td class = \"rowNumber\" style = \"font-weight: bold; text-align: right;\">94</td><td style = \"text-align: left;\">Legally Blonde 2: Red, White &amp; Blonde</td><td style = \"text-align: right;\">2003</td><td style = \"text-align: right;\">45.0</td><td style = \"text-align: right;\">4.4</td></tr><tr><td class = \"rowNumber\" style = \"font-weight: bold; text-align: right;\">95</td><td style = \"text-align: left;\">Anacondas: The Hunt for the Blood Orchid</td><td style = \"text-align: right;\">2004</td><td style = \"text-align: right;\">25.0</td><td style = \"text-align: right;\">4.2</td></tr><tr><td class = \"rowNumber\" style = \"font-weight: bold; text-align: right;\">96</td><td style = \"text-align: left;\">xXx: State of the Union</td><td style = \"text-align: right;\">2005</td><td style = \"text-align: right;\">87.0</td><td style = \"text-align: right;\">3.9</td></tr><tr><td class = \"rowNumber\" style = \"font-weight: bold; text-align: right;\">97</td><td style = \"text-align: left;\">Agent Cody Banks 2: Destination London</td><td style = \"text-align: right;\">2004</td><td style = \"text-align: right;\">26.0</td><td style = \"text-align: right;\">3.8</td></tr><tr><td class = \"rowNumber\" style = \"font-weight: bold; text-align: right;\">98</td><td style = \"text-align: left;\">Torque</td><td style = \"text-align: right;\">2004</td><td style = \"text-align: right;\">40.0</td><td style = \"text-align: right;\">3.2</td></tr><tr><td class = \"rowNumber\" style = \"font-weight: bold; text-align: right;\">99</td><td style = \"text-align: left;\">Rollerball</td><td style = \"text-align: right;\">2002</td><td style = \"text-align: right;\">70.0</td><td style = \"text-align: right;\">2.8</td></tr><tr><td class = \"rowNumber\" style = \"font-weight: bold; text-align: right;\">100</td><td style = \"text-align: left;\">Son of the Mask</td><td style = \"text-align: right;\">2005</td><td style = \"text-align: right;\">74.0</td><td style = \"text-align: right;\">1.9</td></tr></tbody></table></div>"
      ],
      "text/latex": [
       "\\begin{tabular}{r|cccc}\n",
       "\t& Title & Year & Budget & Rating\\\\\n",
       "\t\\hline\n",
       "\t& String & Int32 & Float64? & Float64\\\\\n",
       "\t\\hline\n",
       "\t1 & Finding Nemo & 2003 & 94.0 & 8.3 \\\\\n",
       "\t2 & 21 Grams & 2003 & 20.0 & 8.0 \\\\\n",
       "\t3 & Pirates of the Caribbean: The Curse of the Black Pearl & 2003 & 125.0 & 8.0 \\\\\n",
       "\t4 & Adaptation. & 2002 & 19.0 & 7.9 \\\\\n",
       "\t5 & Far from Heaven & 2002 & 13.5 & 7.7 \\\\\n",
       "\t6 & Road to Perdition & 2002 & 80.0 & 7.7 \\\\\n",
       "\t7 & Ocean's Eleven & 2001 & 85.0 & 7.5 \\\\\n",
       "\t8 & Life as a House & 2001 & 18.0 & 7.5 \\\\\n",
       "\t9 & Quiet American, The & 2002 & 30.0 & 7.4 \\\\\n",
       "\t10 & School of Rock, The & 2003 & 20.0 & 7.4 \\\\\n",
       "\t11 & Gosford Park & 2001 & 15.0 & 7.3 \\\\\n",
       "\t12 & Bourne Supremacy, The & 2004 & 75.0 & 7.3 \\\\\n",
       "\t13 & Ice Age & 2002 & 60.0 & 7.3 \\\\\n",
       "\t14 & K-PAX & 2001 & 48.0 & 7.2 \\\\\n",
       "\t15 & I Am Sam & 2001 & 22.0 & 7.2 \\\\\n",
       "\t16 & Peter Pan & 2003 & 100.0 & 7.2 \\\\\n",
       "\t17 & We Were Soldiers & 2002 & 75.0 & 7.1 \\\\\n",
       "\t18 & Blow & 2001 & 30.0 & 7.1 \\\\\n",
       "\t19 & Troy & 2004 & 185.0 & 7.1 \\\\\n",
       "\t20 & Star Wars: Episode II - Attack of the Clones & 2002 & 120.0 & 7.0 \\\\\n",
       "\t21 & Mean Girls & 2004 & 17.0 & 7.0 \\\\\n",
       "\t22 & Jay and Silent Bob Strike Back & 2001 & 22.0 & 6.9 \\\\\n",
       "\t23 & 50 First Dates & 2004 & 75.0 & 6.8 \\\\\n",
       "\t24 & Score, The & 2001 & 68.0 & 6.8 \\\\\n",
       "\t$\\dots$ & $\\dots$ & $\\dots$ & $\\dots$ & $\\dots$ \\\\\n",
       "\\end{tabular}\n"
      ],
      "text/plain": [
       "\u001b[1m100×4 DataFrame\u001b[0m\n",
       "\u001b[1m Row \u001b[0m│\u001b[1m Title                             \u001b[0m\u001b[1m Year  \u001b[0m\u001b[1m Budget   \u001b[0m\u001b[1m Rating  \u001b[0m\n",
       "     │\u001b[90m String                            \u001b[0m\u001b[90m Int32 \u001b[0m\u001b[90m Float64? \u001b[0m\u001b[90m Float64 \u001b[0m\n",
       "─────┼─────────────────────────────────────────────────────────────\n",
       "   1 │ Finding Nemo                        2003      94.0      8.3\n",
       "   2 │ 21 Grams                            2003      20.0      8.0\n",
       "   3 │ Pirates of the Caribbean: The Cu…   2003     125.0      8.0\n",
       "   4 │ Adaptation.                         2002      19.0      7.9\n",
       "   5 │ Far from Heaven                     2002      13.5      7.7\n",
       "   6 │ Road to Perdition                   2002      80.0      7.7\n",
       "   7 │ Ocean's Eleven                      2001      85.0      7.5\n",
       "   8 │ Life as a House                     2001      18.0      7.5\n",
       "  ⋮  │                 ⋮                    ⋮       ⋮         ⋮\n",
       "  94 │ Legally Blonde 2: Red, White & B…   2003      45.0      4.4\n",
       "  95 │ Anacondas: The Hunt for the Bloo…   2004      25.0      4.2\n",
       "  96 │ xXx: State of the Union             2005      87.0      3.9\n",
       "  97 │ Agent Cody Banks 2: Destination …   2004      26.0      3.8\n",
       "  98 │ Torque                              2004      40.0      3.2\n",
       "  99 │ Rollerball                          2002      70.0      2.8\n",
       " 100 │ Son of the Mask                     2005      74.0      1.9\n",
       "\u001b[36m                                                    85 rows omitted\u001b[0m"
      ]
     },
     "metadata": {},
     "output_type": "display_data"
    }
   ],
   "source": [
    "sorted_df=sort(sampled_db, :Rating, rev=true)"
   ]
  },
  {
   "cell_type": "code",
   "execution_count": 17,
   "metadata": {},
   "outputs": [],
   "source": [
    "using PlotlyJS, PlotlyBase"
   ]
  },
  {
   "cell_type": "code",
   "execution_count": 7,
   "metadata": {},
   "outputs": [
    {
     "data": {
      "text/plain": [
       "make_hover_text (generic function with 1 method)"
      ]
     },
     "metadata": {},
     "output_type": "display_data"
    }
   ],
   "source": [
    "function make_hover_text(row)\n",
    "    join([\n",
    "        \"Title: $(row.Title)<br>\",\n",
    "        \"Year: $(row.Year)<br>\",\n",
    "        \"Budget: $(row.Budget)<br>\",\n",
    "        \"Rating: $(row.Rating)<br>\"\n",
    "    ], \" \")\n",
    "end"
   ]
  },
  {
   "cell_type": "code",
   "execution_count": 18,
   "metadata": {},
   "outputs": [
    {
     "data": {
      "application/vnd.plotly.v1+json": {
       "config": {
        "editable": false,
        "responsive": true,
        "scrollZoom": true,
        "showLink": false,
        "staticPlot": false
       },
       "data": [
        {
         "legendgroup": "2001",
         "marker": {
          "color": "#00cc96",
          "size": [
           85,
           18,
           15,
           48,
           22,
           30,
           22,
           68,
           22,
           48,
           107,
           75,
           25,
           80,
           87,
           28,
           57,
           38,
           40,
           62,
           25,
           24,
           90,
           40
          ],
          "sizemode": "area",
          "sizeref": 0.018444444444444447
         },
         "mode": "markers",
         "name": "2001",
         "showlegend": true,
         "text": [
          "Title: Finding Nemo<br> Year: 2003<br> Budget: 94.0<br> Rating: 8.3<br>",
          "Title: 21 Grams<br> Year: 2003<br> Budget: 20.0<br> Rating: 8.0<br>",
          "Title: Pirates of the Caribbean: The Curse of the Black Pearl<br> Year: 2003<br> Budget: 125.0<br> Rating: 8.0<br>",
          "Title: Adaptation.<br> Year: 2002<br> Budget: 19.0<br> Rating: 7.9<br>",
          "Title: Far from Heaven<br> Year: 2002<br> Budget: 13.5<br> Rating: 7.7<br>",
          "Title: Road to Perdition<br> Year: 2002<br> Budget: 80.0<br> Rating: 7.7<br>",
          "Title: Ocean's Eleven<br> Year: 2001<br> Budget: 85.0<br> Rating: 7.5<br>",
          "Title: Life as a House<br> Year: 2001<br> Budget: 18.0<br> Rating: 7.5<br>",
          "Title: Quiet American, The<br> Year: 2002<br> Budget: 30.0<br> Rating: 7.4<br>",
          "Title: School of Rock, The<br> Year: 2003<br> Budget: 20.0<br> Rating: 7.4<br>",
          "Title: Gosford Park<br> Year: 2001<br> Budget: 15.0<br> Rating: 7.3<br>",
          "Title: Bourne Supremacy, The<br> Year: 2004<br> Budget: 75.0<br> Rating: 7.3<br>",
          "Title: Ice Age<br> Year: 2002<br> Budget: 60.0<br> Rating: 7.3<br>",
          "Title: K-PAX<br> Year: 2001<br> Budget: 48.0<br> Rating: 7.2<br>",
          "Title: I Am Sam<br> Year: 2001<br> Budget: 22.0<br> Rating: 7.2<br>",
          "Title: Peter Pan<br> Year: 2003<br> Budget: 100.0<br> Rating: 7.2<br>",
          "Title: We Were Soldiers<br> Year: 2002<br> Budget: 75.0<br> Rating: 7.1<br>",
          "Title: Blow<br> Year: 2001<br> Budget: 30.0<br> Rating: 7.1<br>",
          "Title: Troy<br> Year: 2004<br> Budget: 185.0<br> Rating: 7.1<br>",
          "Title: Star Wars: Episode II - Attack of the Clones<br> Year: 2002<br> Budget: 120.0<br> Rating: 7.0<br>",
          "Title: Mean Girls<br> Year: 2004<br> Budget: 17.0<br> Rating: 7.0<br>",
          "Title: Jay and Silent Bob Strike Back<br> Year: 2001<br> Budget: 22.0<br> Rating: 6.9<br>",
          "Title: 50 First Dates<br> Year: 2004<br> Budget: 75.0<br> Rating: 6.8<br>",
          "Title: Score, The<br> Year: 2001<br> Budget: 68.0<br> Rating: 6.8<br>",
          "Title: Coach Carter<br> Year: 2005<br> Budget: 30.0<br> Rating: 6.6<br>",
          "Title: National Treasure<br> Year: 2004<br> Budget: 100.0<br> Rating: 6.6<br>",
          "Title: Blade II<br> Year: 2002<br> Budget: 55.0<br> Rating: 6.6<br>",
          "Title: Tuck Everlasting<br> Year: 2002<br> Budget: 15.0<br> Rating: 6.5<br>",
          "Title: Unsaid, The<br> Year: 2001<br> Budget: 22.0<br> Rating: 6.5<br>",
          "Title: Rat Race<br> Year: 2001<br> Budget: 48.0<br> Rating: 6.5<br>",
          "Title: SpongeBob SquarePants Movie, The<br> Year: 2004<br> Budget: 30.0<br> Rating: 6.5<br>",
          "Title: Star Trek: Nemesis<br> Year: 2002<br> Budget: 70.0<br> Rating: 6.5<br>",
          "Title: Robots<br> Year: 2005<br> Budget: 75.0<br> Rating: 6.4<br>",
          "Title: Femme Fatale<br> Year: 2002<br> Budget: 35.0<br> Rating: 6.4<br>",
          "Title: Ali<br> Year: 2001<br> Budget: 107.0<br> Rating: 6.4<br>",
          "Title: Death to Smoochy<br> Year: 2002<br> Budget: 55.0<br> Rating: 6.3<br>",
          "Title: Day After Tomorrow, The<br> Year: 2004<br> Budget: 125.0<br> Rating: 6.3<br>",
          "Title: Blood Work<br> Year: 2002<br> Budget: 50.0<br> Rating: 6.3<br>",
          "Title: Assault on Precinct 13<br> Year: 2005<br> Budget: 20.0<br> Rating: 6.3<br>",
          "Title: American Wedding<br> Year: 2003<br> Budget: 55.0<br> Rating: 6.3<br>",
          "Title: Osmosis Jones<br> Year: 2001<br> Budget: 75.0<br> Rating: 6.2<br>",
          "Title: Kiss of the Dragon<br> Year: 2001<br> Budget: 25.0<br> Rating: 6.2<br>",
          "Title: Swordfish<br> Year: 2001<br> Budget: 80.0<br> Rating: 6.2<br>",
          "Title: Hannibal<br> Year: 2001<br> Budget: 87.0<br> Rating: 6.2<br>",
          "Title: Chronicles of Riddick, The<br> Year: 2004<br> Budget: 110.0<br> Rating: 6.2<br>",
          "Title: Jonah: A VeggieTales Movie<br> Year: 2002<br> Budget: 15.0<br> Rating: 6.2<br>",
          "Title: To Kill a King<br> Year: 2003<br> Budget: 14.3<br> Rating: 6.1<br>",
          "Title: High Crimes<br> Year: 2002<br> Budget: 42.0<br> Rating: 6.1<br>",
          "Title: Along Came a Spider<br> Year: 2001<br> Budget: 28.0<br> Rating: 6.1<br>",
          "Title: Mona Lisa Smile<br> Year: 2003<br> Budget: 65.0<br> Rating: 6.1<br>",
          "Title: Shall We Dance<br> Year: 2004<br> Budget: 40.0<br> Rating: 6.0<br>",
          "Title: Because of Winn-Dixie<br> Year: 2005<br> Budget: 14.0<br> Rating: 5.9<br>",
          "Title: Captain Corelli's Mandolin<br> Year: 2001<br> Budget: 57.0<br> Rating: 5.9<br>",
          "Title: Sahara<br> Year: 2005<br> Budget: 130.0<br> Rating: 5.8<br>",
          "Title: Blue Crush<br> Year: 2002<br> Budget: 30.0<br> Rating: 5.7<br>",
          "Title: Daddy Day Care<br> Year: 2003<br> Budget: 60.0<br> Rating: 5.7<br>",
          "Title: Gods and Generals<br> Year: 2003<br> Budget: 56.0<br> Rating: 5.7<br>",
          "Title: Around the World in 80 Days<br> Year: 2004<br> Budget: 110.0<br> Rating: 5.7<br>",
          "Title: What a Girl Wants<br> Year: 2003<br> Budget: 20.0<br> Rating: 5.7<br>",
          "Title: Angel Eyes<br> Year: 2001<br> Budget: 38.0<br> Rating: 5.6<br>",
          "Title: Just Visiting<br> Year: 2001<br> Budget: 40.0<br> Rating: 5.6<br>",
          "Title: xXx<br> Year: 2002<br> Budget: 85.0<br> Rating: 5.5<br>",
          "Title: Divine Secrets of the Ya-Ya Sisterhood<br> Year: 2002<br> Budget: 27.0<br> Rating: 5.5<br>",
          "Title: Be Cool<br> Year: 2005<br> Budget: 53.0<br> Rating: 5.5<br>",
          "Title: George and the Dragon<br> Year: 2004<br> Budget: 32.0<br> Rating: 5.5<br>",
          "Title: 3000 Miles to Graceland<br> Year: 2001<br> Budget: 62.0<br> Rating: 5.4<br>",
          "Title: Core, The<br> Year: 2003<br> Budget: 74.0<br> Rating: 5.4<br>",
          "Title: Man Apart, A<br> Year: 2003<br> Budget: 36.0<br> Rating: 5.4<br>",
          "Title: Princess Diaries 2: Royal Engagement, The<br> Year: 2004<br> Budget: 40.0<br> Rating: 5.3<br>",
          "Title: Drumline<br> Year: 2002<br> Budget: 20.0<br> Rating: 5.3<br>",
          "Title: Scorpion King, The<br> Year: 2002<br> Budget: 60.0<br> Rating: 5.3<br>",
          "Title: Welcome to Mooseport<br> Year: 2004<br> Budget: 26.0<br> Rating: 5.3<br>",
          "Title: Bulletproof Monk<br> Year: 2003<br> Budget: 52.0<br> Rating: 5.2<br>",
          "Title: Dreamcatcher<br> Year: 2003<br> Budget: 68.0<br> Rating: 5.2<br>",
          "Title: Timeline<br> Year: 2003<br> Budget: 80.0<br> Rating: 5.2<br>",
          "Title: 2 Fast 2 Furious<br> Year: 2003<br> Budget: 76.0<br> Rating: 5.1<br>",
          "Title: Wedding Date, The<br> Year: 2005<br> Budget: 15.0<br> Rating: 5.0<br>",
          "Title: Charlie's Angels: Full Throttle<br> Year: 2003<br> Budget: 120.0<br> Rating: 5.0<br>",
          "Title: All the Queen's Men<br> Year: 2001<br> Budget: 25.0<br> Rating: 5.0<br>",
          "Title: Elektra<br> Year: 2005<br> Budget: 43.0<br> Rating: 4.9<br>",
          "Title: Malibu's Most Wanted<br> Year: 2003<br> Budget: 16.0<br> Rating: 4.9<br>",
          "Title: Double Take<br> Year: 2001<br> Budget: 24.0<br> Rating: 4.8<br>",
          "Title: Big Bounce, The<br> Year: 2004<br> Budget: 50.0<br> Rating: 4.7<br>",
          "Title: Wild Thornberrys Movie, The<br> Year: 2002<br> Budget: 35.0<br> Rating: 4.7<br>",
          "Title: Cursed<br> Year: 2005<br> Budget: 35.0<br> Rating: 4.7<br>",
          "Title: House of Wax<br> Year: 2005<br> Budget: 30.0<br> Rating: 4.6<br>",
          "Title: Maid in Manhattan<br> Year: 2002<br> Budget: 55.0<br> Rating: 4.6<br>",
          "Title: Boat Trip<br> Year: 2002<br> Budget: 20.0<br> Rating: 4.5<br>",
          "Title: Touch, The<br> Year: 2002<br> Budget: 20.0<br> Rating: 4.5<br>",
          "Title: Catch That Kid<br> Year: 2004<br> Budget: 18.0<br> Rating: 4.5<br>",
          "Title: Town & Country<br> Year: 2001<br> Budget: 90.0<br> Rating: 4.5<br>",
          "Title: Confessions of a Teenage Drama Queen<br> Year: 2004<br> Budget: 15.0<br> Rating: 4.4<br>",
          "Title: Musketeer, The<br> Year: 2001<br> Budget: 40.0<br> Rating: 4.4<br>",
          "Title: Legally Blonde 2: Red, White & Blonde<br> Year: 2003<br> Budget: 45.0<br> Rating: 4.4<br>",
          "Title: Anacondas: The Hunt for the Blood Orchid<br> Year: 2004<br> Budget: 25.0<br> Rating: 4.2<br>",
          "Title: xXx: State of the Union<br> Year: 2005<br> Budget: 87.0<br> Rating: 3.9<br>",
          "Title: Agent Cody Banks 2: Destination London<br> Year: 2004<br> Budget: 26.0<br> Rating: 3.8<br>",
          "Title: Torque<br> Year: 2004<br> Budget: 40.0<br> Rating: 3.2<br>",
          "Title: Rollerball<br> Year: 2002<br> Budget: 70.0<br> Rating: 2.8<br>",
          "Title: Son of the Mask<br> Year: 2005<br> Budget: 74.0<br> Rating: 1.9<br>"
         ],
         "type": "scatter",
         "x": [
          85,
          18,
          15,
          48,
          22,
          30,
          22,
          68,
          22,
          48,
          107,
          75,
          25,
          80,
          87,
          28,
          57,
          38,
          40,
          62,
          25,
          24,
          90,
          40
         ],
         "xaxis": "x",
         "y": [
          7.5,
          7.5,
          7.3,
          7.2,
          7.2,
          7.1,
          6.9,
          6.8,
          6.5,
          6.5,
          6.4,
          6.2,
          6.2,
          6.2,
          6.2,
          6.1,
          5.9,
          5.6,
          5.6,
          5.4,
          5,
          4.8,
          4.5,
          4.4
         ],
         "yaxis": "y"
        },
        {
         "legendgroup": "2002",
         "marker": {
          "color": "#EF553B",
          "size": [
           19,
           13.5,
           80,
           30,
           60,
           75,
           120,
           55,
           15,
           70,
           35,
           55,
           50,
           15,
           42,
           30,
           85,
           27,
           20,
           60,
           35,
           55,
           20,
           20,
           70
          ],
          "sizemode": "area",
          "sizeref": 0.018444444444444447
         },
         "mode": "markers",
         "name": "2002",
         "showlegend": true,
         "text": [
          "Title: Finding Nemo<br> Year: 2003<br> Budget: 94.0<br> Rating: 8.3<br>",
          "Title: 21 Grams<br> Year: 2003<br> Budget: 20.0<br> Rating: 8.0<br>",
          "Title: Pirates of the Caribbean: The Curse of the Black Pearl<br> Year: 2003<br> Budget: 125.0<br> Rating: 8.0<br>",
          "Title: Adaptation.<br> Year: 2002<br> Budget: 19.0<br> Rating: 7.9<br>",
          "Title: Far from Heaven<br> Year: 2002<br> Budget: 13.5<br> Rating: 7.7<br>",
          "Title: Road to Perdition<br> Year: 2002<br> Budget: 80.0<br> Rating: 7.7<br>",
          "Title: Ocean's Eleven<br> Year: 2001<br> Budget: 85.0<br> Rating: 7.5<br>",
          "Title: Life as a House<br> Year: 2001<br> Budget: 18.0<br> Rating: 7.5<br>",
          "Title: Quiet American, The<br> Year: 2002<br> Budget: 30.0<br> Rating: 7.4<br>",
          "Title: School of Rock, The<br> Year: 2003<br> Budget: 20.0<br> Rating: 7.4<br>",
          "Title: Gosford Park<br> Year: 2001<br> Budget: 15.0<br> Rating: 7.3<br>",
          "Title: Bourne Supremacy, The<br> Year: 2004<br> Budget: 75.0<br> Rating: 7.3<br>",
          "Title: Ice Age<br> Year: 2002<br> Budget: 60.0<br> Rating: 7.3<br>",
          "Title: K-PAX<br> Year: 2001<br> Budget: 48.0<br> Rating: 7.2<br>",
          "Title: I Am Sam<br> Year: 2001<br> Budget: 22.0<br> Rating: 7.2<br>",
          "Title: Peter Pan<br> Year: 2003<br> Budget: 100.0<br> Rating: 7.2<br>",
          "Title: We Were Soldiers<br> Year: 2002<br> Budget: 75.0<br> Rating: 7.1<br>",
          "Title: Blow<br> Year: 2001<br> Budget: 30.0<br> Rating: 7.1<br>",
          "Title: Troy<br> Year: 2004<br> Budget: 185.0<br> Rating: 7.1<br>",
          "Title: Star Wars: Episode II - Attack of the Clones<br> Year: 2002<br> Budget: 120.0<br> Rating: 7.0<br>",
          "Title: Mean Girls<br> Year: 2004<br> Budget: 17.0<br> Rating: 7.0<br>",
          "Title: Jay and Silent Bob Strike Back<br> Year: 2001<br> Budget: 22.0<br> Rating: 6.9<br>",
          "Title: 50 First Dates<br> Year: 2004<br> Budget: 75.0<br> Rating: 6.8<br>",
          "Title: Score, The<br> Year: 2001<br> Budget: 68.0<br> Rating: 6.8<br>",
          "Title: Coach Carter<br> Year: 2005<br> Budget: 30.0<br> Rating: 6.6<br>",
          "Title: National Treasure<br> Year: 2004<br> Budget: 100.0<br> Rating: 6.6<br>",
          "Title: Blade II<br> Year: 2002<br> Budget: 55.0<br> Rating: 6.6<br>",
          "Title: Tuck Everlasting<br> Year: 2002<br> Budget: 15.0<br> Rating: 6.5<br>",
          "Title: Unsaid, The<br> Year: 2001<br> Budget: 22.0<br> Rating: 6.5<br>",
          "Title: Rat Race<br> Year: 2001<br> Budget: 48.0<br> Rating: 6.5<br>",
          "Title: SpongeBob SquarePants Movie, The<br> Year: 2004<br> Budget: 30.0<br> Rating: 6.5<br>",
          "Title: Star Trek: Nemesis<br> Year: 2002<br> Budget: 70.0<br> Rating: 6.5<br>",
          "Title: Robots<br> Year: 2005<br> Budget: 75.0<br> Rating: 6.4<br>",
          "Title: Femme Fatale<br> Year: 2002<br> Budget: 35.0<br> Rating: 6.4<br>",
          "Title: Ali<br> Year: 2001<br> Budget: 107.0<br> Rating: 6.4<br>",
          "Title: Death to Smoochy<br> Year: 2002<br> Budget: 55.0<br> Rating: 6.3<br>",
          "Title: Day After Tomorrow, The<br> Year: 2004<br> Budget: 125.0<br> Rating: 6.3<br>",
          "Title: Blood Work<br> Year: 2002<br> Budget: 50.0<br> Rating: 6.3<br>",
          "Title: Assault on Precinct 13<br> Year: 2005<br> Budget: 20.0<br> Rating: 6.3<br>",
          "Title: American Wedding<br> Year: 2003<br> Budget: 55.0<br> Rating: 6.3<br>",
          "Title: Osmosis Jones<br> Year: 2001<br> Budget: 75.0<br> Rating: 6.2<br>",
          "Title: Kiss of the Dragon<br> Year: 2001<br> Budget: 25.0<br> Rating: 6.2<br>",
          "Title: Swordfish<br> Year: 2001<br> Budget: 80.0<br> Rating: 6.2<br>",
          "Title: Hannibal<br> Year: 2001<br> Budget: 87.0<br> Rating: 6.2<br>",
          "Title: Chronicles of Riddick, The<br> Year: 2004<br> Budget: 110.0<br> Rating: 6.2<br>",
          "Title: Jonah: A VeggieTales Movie<br> Year: 2002<br> Budget: 15.0<br> Rating: 6.2<br>",
          "Title: To Kill a King<br> Year: 2003<br> Budget: 14.3<br> Rating: 6.1<br>",
          "Title: High Crimes<br> Year: 2002<br> Budget: 42.0<br> Rating: 6.1<br>",
          "Title: Along Came a Spider<br> Year: 2001<br> Budget: 28.0<br> Rating: 6.1<br>",
          "Title: Mona Lisa Smile<br> Year: 2003<br> Budget: 65.0<br> Rating: 6.1<br>",
          "Title: Shall We Dance<br> Year: 2004<br> Budget: 40.0<br> Rating: 6.0<br>",
          "Title: Because of Winn-Dixie<br> Year: 2005<br> Budget: 14.0<br> Rating: 5.9<br>",
          "Title: Captain Corelli's Mandolin<br> Year: 2001<br> Budget: 57.0<br> Rating: 5.9<br>",
          "Title: Sahara<br> Year: 2005<br> Budget: 130.0<br> Rating: 5.8<br>",
          "Title: Blue Crush<br> Year: 2002<br> Budget: 30.0<br> Rating: 5.7<br>",
          "Title: Daddy Day Care<br> Year: 2003<br> Budget: 60.0<br> Rating: 5.7<br>",
          "Title: Gods and Generals<br> Year: 2003<br> Budget: 56.0<br> Rating: 5.7<br>",
          "Title: Around the World in 80 Days<br> Year: 2004<br> Budget: 110.0<br> Rating: 5.7<br>",
          "Title: What a Girl Wants<br> Year: 2003<br> Budget: 20.0<br> Rating: 5.7<br>",
          "Title: Angel Eyes<br> Year: 2001<br> Budget: 38.0<br> Rating: 5.6<br>",
          "Title: Just Visiting<br> Year: 2001<br> Budget: 40.0<br> Rating: 5.6<br>",
          "Title: xXx<br> Year: 2002<br> Budget: 85.0<br> Rating: 5.5<br>",
          "Title: Divine Secrets of the Ya-Ya Sisterhood<br> Year: 2002<br> Budget: 27.0<br> Rating: 5.5<br>",
          "Title: Be Cool<br> Year: 2005<br> Budget: 53.0<br> Rating: 5.5<br>",
          "Title: George and the Dragon<br> Year: 2004<br> Budget: 32.0<br> Rating: 5.5<br>",
          "Title: 3000 Miles to Graceland<br> Year: 2001<br> Budget: 62.0<br> Rating: 5.4<br>",
          "Title: Core, The<br> Year: 2003<br> Budget: 74.0<br> Rating: 5.4<br>",
          "Title: Man Apart, A<br> Year: 2003<br> Budget: 36.0<br> Rating: 5.4<br>",
          "Title: Princess Diaries 2: Royal Engagement, The<br> Year: 2004<br> Budget: 40.0<br> Rating: 5.3<br>",
          "Title: Drumline<br> Year: 2002<br> Budget: 20.0<br> Rating: 5.3<br>",
          "Title: Scorpion King, The<br> Year: 2002<br> Budget: 60.0<br> Rating: 5.3<br>",
          "Title: Welcome to Mooseport<br> Year: 2004<br> Budget: 26.0<br> Rating: 5.3<br>",
          "Title: Bulletproof Monk<br> Year: 2003<br> Budget: 52.0<br> Rating: 5.2<br>",
          "Title: Dreamcatcher<br> Year: 2003<br> Budget: 68.0<br> Rating: 5.2<br>",
          "Title: Timeline<br> Year: 2003<br> Budget: 80.0<br> Rating: 5.2<br>",
          "Title: 2 Fast 2 Furious<br> Year: 2003<br> Budget: 76.0<br> Rating: 5.1<br>",
          "Title: Wedding Date, The<br> Year: 2005<br> Budget: 15.0<br> Rating: 5.0<br>",
          "Title: Charlie's Angels: Full Throttle<br> Year: 2003<br> Budget: 120.0<br> Rating: 5.0<br>",
          "Title: All the Queen's Men<br> Year: 2001<br> Budget: 25.0<br> Rating: 5.0<br>",
          "Title: Elektra<br> Year: 2005<br> Budget: 43.0<br> Rating: 4.9<br>",
          "Title: Malibu's Most Wanted<br> Year: 2003<br> Budget: 16.0<br> Rating: 4.9<br>",
          "Title: Double Take<br> Year: 2001<br> Budget: 24.0<br> Rating: 4.8<br>",
          "Title: Big Bounce, The<br> Year: 2004<br> Budget: 50.0<br> Rating: 4.7<br>",
          "Title: Wild Thornberrys Movie, The<br> Year: 2002<br> Budget: 35.0<br> Rating: 4.7<br>",
          "Title: Cursed<br> Year: 2005<br> Budget: 35.0<br> Rating: 4.7<br>",
          "Title: House of Wax<br> Year: 2005<br> Budget: 30.0<br> Rating: 4.6<br>",
          "Title: Maid in Manhattan<br> Year: 2002<br> Budget: 55.0<br> Rating: 4.6<br>",
          "Title: Boat Trip<br> Year: 2002<br> Budget: 20.0<br> Rating: 4.5<br>",
          "Title: Touch, The<br> Year: 2002<br> Budget: 20.0<br> Rating: 4.5<br>",
          "Title: Catch That Kid<br> Year: 2004<br> Budget: 18.0<br> Rating: 4.5<br>",
          "Title: Town & Country<br> Year: 2001<br> Budget: 90.0<br> Rating: 4.5<br>",
          "Title: Confessions of a Teenage Drama Queen<br> Year: 2004<br> Budget: 15.0<br> Rating: 4.4<br>",
          "Title: Musketeer, The<br> Year: 2001<br> Budget: 40.0<br> Rating: 4.4<br>",
          "Title: Legally Blonde 2: Red, White & Blonde<br> Year: 2003<br> Budget: 45.0<br> Rating: 4.4<br>",
          "Title: Anacondas: The Hunt for the Blood Orchid<br> Year: 2004<br> Budget: 25.0<br> Rating: 4.2<br>",
          "Title: xXx: State of the Union<br> Year: 2005<br> Budget: 87.0<br> Rating: 3.9<br>",
          "Title: Agent Cody Banks 2: Destination London<br> Year: 2004<br> Budget: 26.0<br> Rating: 3.8<br>",
          "Title: Torque<br> Year: 2004<br> Budget: 40.0<br> Rating: 3.2<br>",
          "Title: Rollerball<br> Year: 2002<br> Budget: 70.0<br> Rating: 2.8<br>",
          "Title: Son of the Mask<br> Year: 2005<br> Budget: 74.0<br> Rating: 1.9<br>"
         ],
         "type": "scatter",
         "x": [
          19,
          13.5,
          80,
          30,
          60,
          75,
          120,
          55,
          15,
          70,
          35,
          55,
          50,
          15,
          42,
          30,
          85,
          27,
          20,
          60,
          35,
          55,
          20,
          20,
          70
         ],
         "xaxis": "x",
         "y": [
          7.9,
          7.7,
          7.7,
          7.4,
          7.3,
          7.1,
          7,
          6.6,
          6.5,
          6.5,
          6.4,
          6.3,
          6.3,
          6.2,
          6.1,
          5.7,
          5.5,
          5.5,
          5.3,
          5.3,
          4.7,
          4.6,
          4.5,
          4.5,
          2.8
         ],
         "yaxis": "y"
        },
        {
         "legendgroup": "2003",
         "marker": {
          "color": "#636efa",
          "size": [
           94,
           20,
           125,
           20,
           100,
           55,
           14.3,
           65,
           60,
           56,
           20,
           74,
           36,
           52,
           68,
           80,
           76,
           120,
           16,
           45
          ],
          "sizemode": "area",
          "sizeref": 0.018444444444444447
         },
         "mode": "markers",
         "name": "2003",
         "showlegend": true,
         "text": [
          "Title: Finding Nemo<br> Year: 2003<br> Budget: 94.0<br> Rating: 8.3<br>",
          "Title: 21 Grams<br> Year: 2003<br> Budget: 20.0<br> Rating: 8.0<br>",
          "Title: Pirates of the Caribbean: The Curse of the Black Pearl<br> Year: 2003<br> Budget: 125.0<br> Rating: 8.0<br>",
          "Title: Adaptation.<br> Year: 2002<br> Budget: 19.0<br> Rating: 7.9<br>",
          "Title: Far from Heaven<br> Year: 2002<br> Budget: 13.5<br> Rating: 7.7<br>",
          "Title: Road to Perdition<br> Year: 2002<br> Budget: 80.0<br> Rating: 7.7<br>",
          "Title: Ocean's Eleven<br> Year: 2001<br> Budget: 85.0<br> Rating: 7.5<br>",
          "Title: Life as a House<br> Year: 2001<br> Budget: 18.0<br> Rating: 7.5<br>",
          "Title: Quiet American, The<br> Year: 2002<br> Budget: 30.0<br> Rating: 7.4<br>",
          "Title: School of Rock, The<br> Year: 2003<br> Budget: 20.0<br> Rating: 7.4<br>",
          "Title: Gosford Park<br> Year: 2001<br> Budget: 15.0<br> Rating: 7.3<br>",
          "Title: Bourne Supremacy, The<br> Year: 2004<br> Budget: 75.0<br> Rating: 7.3<br>",
          "Title: Ice Age<br> Year: 2002<br> Budget: 60.0<br> Rating: 7.3<br>",
          "Title: K-PAX<br> Year: 2001<br> Budget: 48.0<br> Rating: 7.2<br>",
          "Title: I Am Sam<br> Year: 2001<br> Budget: 22.0<br> Rating: 7.2<br>",
          "Title: Peter Pan<br> Year: 2003<br> Budget: 100.0<br> Rating: 7.2<br>",
          "Title: We Were Soldiers<br> Year: 2002<br> Budget: 75.0<br> Rating: 7.1<br>",
          "Title: Blow<br> Year: 2001<br> Budget: 30.0<br> Rating: 7.1<br>",
          "Title: Troy<br> Year: 2004<br> Budget: 185.0<br> Rating: 7.1<br>",
          "Title: Star Wars: Episode II - Attack of the Clones<br> Year: 2002<br> Budget: 120.0<br> Rating: 7.0<br>",
          "Title: Mean Girls<br> Year: 2004<br> Budget: 17.0<br> Rating: 7.0<br>",
          "Title: Jay and Silent Bob Strike Back<br> Year: 2001<br> Budget: 22.0<br> Rating: 6.9<br>",
          "Title: 50 First Dates<br> Year: 2004<br> Budget: 75.0<br> Rating: 6.8<br>",
          "Title: Score, The<br> Year: 2001<br> Budget: 68.0<br> Rating: 6.8<br>",
          "Title: Coach Carter<br> Year: 2005<br> Budget: 30.0<br> Rating: 6.6<br>",
          "Title: National Treasure<br> Year: 2004<br> Budget: 100.0<br> Rating: 6.6<br>",
          "Title: Blade II<br> Year: 2002<br> Budget: 55.0<br> Rating: 6.6<br>",
          "Title: Tuck Everlasting<br> Year: 2002<br> Budget: 15.0<br> Rating: 6.5<br>",
          "Title: Unsaid, The<br> Year: 2001<br> Budget: 22.0<br> Rating: 6.5<br>",
          "Title: Rat Race<br> Year: 2001<br> Budget: 48.0<br> Rating: 6.5<br>",
          "Title: SpongeBob SquarePants Movie, The<br> Year: 2004<br> Budget: 30.0<br> Rating: 6.5<br>",
          "Title: Star Trek: Nemesis<br> Year: 2002<br> Budget: 70.0<br> Rating: 6.5<br>",
          "Title: Robots<br> Year: 2005<br> Budget: 75.0<br> Rating: 6.4<br>",
          "Title: Femme Fatale<br> Year: 2002<br> Budget: 35.0<br> Rating: 6.4<br>",
          "Title: Ali<br> Year: 2001<br> Budget: 107.0<br> Rating: 6.4<br>",
          "Title: Death to Smoochy<br> Year: 2002<br> Budget: 55.0<br> Rating: 6.3<br>",
          "Title: Day After Tomorrow, The<br> Year: 2004<br> Budget: 125.0<br> Rating: 6.3<br>",
          "Title: Blood Work<br> Year: 2002<br> Budget: 50.0<br> Rating: 6.3<br>",
          "Title: Assault on Precinct 13<br> Year: 2005<br> Budget: 20.0<br> Rating: 6.3<br>",
          "Title: American Wedding<br> Year: 2003<br> Budget: 55.0<br> Rating: 6.3<br>",
          "Title: Osmosis Jones<br> Year: 2001<br> Budget: 75.0<br> Rating: 6.2<br>",
          "Title: Kiss of the Dragon<br> Year: 2001<br> Budget: 25.0<br> Rating: 6.2<br>",
          "Title: Swordfish<br> Year: 2001<br> Budget: 80.0<br> Rating: 6.2<br>",
          "Title: Hannibal<br> Year: 2001<br> Budget: 87.0<br> Rating: 6.2<br>",
          "Title: Chronicles of Riddick, The<br> Year: 2004<br> Budget: 110.0<br> Rating: 6.2<br>",
          "Title: Jonah: A VeggieTales Movie<br> Year: 2002<br> Budget: 15.0<br> Rating: 6.2<br>",
          "Title: To Kill a King<br> Year: 2003<br> Budget: 14.3<br> Rating: 6.1<br>",
          "Title: High Crimes<br> Year: 2002<br> Budget: 42.0<br> Rating: 6.1<br>",
          "Title: Along Came a Spider<br> Year: 2001<br> Budget: 28.0<br> Rating: 6.1<br>",
          "Title: Mona Lisa Smile<br> Year: 2003<br> Budget: 65.0<br> Rating: 6.1<br>",
          "Title: Shall We Dance<br> Year: 2004<br> Budget: 40.0<br> Rating: 6.0<br>",
          "Title: Because of Winn-Dixie<br> Year: 2005<br> Budget: 14.0<br> Rating: 5.9<br>",
          "Title: Captain Corelli's Mandolin<br> Year: 2001<br> Budget: 57.0<br> Rating: 5.9<br>",
          "Title: Sahara<br> Year: 2005<br> Budget: 130.0<br> Rating: 5.8<br>",
          "Title: Blue Crush<br> Year: 2002<br> Budget: 30.0<br> Rating: 5.7<br>",
          "Title: Daddy Day Care<br> Year: 2003<br> Budget: 60.0<br> Rating: 5.7<br>",
          "Title: Gods and Generals<br> Year: 2003<br> Budget: 56.0<br> Rating: 5.7<br>",
          "Title: Around the World in 80 Days<br> Year: 2004<br> Budget: 110.0<br> Rating: 5.7<br>",
          "Title: What a Girl Wants<br> Year: 2003<br> Budget: 20.0<br> Rating: 5.7<br>",
          "Title: Angel Eyes<br> Year: 2001<br> Budget: 38.0<br> Rating: 5.6<br>",
          "Title: Just Visiting<br> Year: 2001<br> Budget: 40.0<br> Rating: 5.6<br>",
          "Title: xXx<br> Year: 2002<br> Budget: 85.0<br> Rating: 5.5<br>",
          "Title: Divine Secrets of the Ya-Ya Sisterhood<br> Year: 2002<br> Budget: 27.0<br> Rating: 5.5<br>",
          "Title: Be Cool<br> Year: 2005<br> Budget: 53.0<br> Rating: 5.5<br>",
          "Title: George and the Dragon<br> Year: 2004<br> Budget: 32.0<br> Rating: 5.5<br>",
          "Title: 3000 Miles to Graceland<br> Year: 2001<br> Budget: 62.0<br> Rating: 5.4<br>",
          "Title: Core, The<br> Year: 2003<br> Budget: 74.0<br> Rating: 5.4<br>",
          "Title: Man Apart, A<br> Year: 2003<br> Budget: 36.0<br> Rating: 5.4<br>",
          "Title: Princess Diaries 2: Royal Engagement, The<br> Year: 2004<br> Budget: 40.0<br> Rating: 5.3<br>",
          "Title: Drumline<br> Year: 2002<br> Budget: 20.0<br> Rating: 5.3<br>",
          "Title: Scorpion King, The<br> Year: 2002<br> Budget: 60.0<br> Rating: 5.3<br>",
          "Title: Welcome to Mooseport<br> Year: 2004<br> Budget: 26.0<br> Rating: 5.3<br>",
          "Title: Bulletproof Monk<br> Year: 2003<br> Budget: 52.0<br> Rating: 5.2<br>",
          "Title: Dreamcatcher<br> Year: 2003<br> Budget: 68.0<br> Rating: 5.2<br>",
          "Title: Timeline<br> Year: 2003<br> Budget: 80.0<br> Rating: 5.2<br>",
          "Title: 2 Fast 2 Furious<br> Year: 2003<br> Budget: 76.0<br> Rating: 5.1<br>",
          "Title: Wedding Date, The<br> Year: 2005<br> Budget: 15.0<br> Rating: 5.0<br>",
          "Title: Charlie's Angels: Full Throttle<br> Year: 2003<br> Budget: 120.0<br> Rating: 5.0<br>",
          "Title: All the Queen's Men<br> Year: 2001<br> Budget: 25.0<br> Rating: 5.0<br>",
          "Title: Elektra<br> Year: 2005<br> Budget: 43.0<br> Rating: 4.9<br>",
          "Title: Malibu's Most Wanted<br> Year: 2003<br> Budget: 16.0<br> Rating: 4.9<br>",
          "Title: Double Take<br> Year: 2001<br> Budget: 24.0<br> Rating: 4.8<br>",
          "Title: Big Bounce, The<br> Year: 2004<br> Budget: 50.0<br> Rating: 4.7<br>",
          "Title: Wild Thornberrys Movie, The<br> Year: 2002<br> Budget: 35.0<br> Rating: 4.7<br>",
          "Title: Cursed<br> Year: 2005<br> Budget: 35.0<br> Rating: 4.7<br>",
          "Title: House of Wax<br> Year: 2005<br> Budget: 30.0<br> Rating: 4.6<br>",
          "Title: Maid in Manhattan<br> Year: 2002<br> Budget: 55.0<br> Rating: 4.6<br>",
          "Title: Boat Trip<br> Year: 2002<br> Budget: 20.0<br> Rating: 4.5<br>",
          "Title: Touch, The<br> Year: 2002<br> Budget: 20.0<br> Rating: 4.5<br>",
          "Title: Catch That Kid<br> Year: 2004<br> Budget: 18.0<br> Rating: 4.5<br>",
          "Title: Town & Country<br> Year: 2001<br> Budget: 90.0<br> Rating: 4.5<br>",
          "Title: Confessions of a Teenage Drama Queen<br> Year: 2004<br> Budget: 15.0<br> Rating: 4.4<br>",
          "Title: Musketeer, The<br> Year: 2001<br> Budget: 40.0<br> Rating: 4.4<br>",
          "Title: Legally Blonde 2: Red, White & Blonde<br> Year: 2003<br> Budget: 45.0<br> Rating: 4.4<br>",
          "Title: Anacondas: The Hunt for the Blood Orchid<br> Year: 2004<br> Budget: 25.0<br> Rating: 4.2<br>",
          "Title: xXx: State of the Union<br> Year: 2005<br> Budget: 87.0<br> Rating: 3.9<br>",
          "Title: Agent Cody Banks 2: Destination London<br> Year: 2004<br> Budget: 26.0<br> Rating: 3.8<br>",
          "Title: Torque<br> Year: 2004<br> Budget: 40.0<br> Rating: 3.2<br>",
          "Title: Rollerball<br> Year: 2002<br> Budget: 70.0<br> Rating: 2.8<br>",
          "Title: Son of the Mask<br> Year: 2005<br> Budget: 74.0<br> Rating: 1.9<br>"
         ],
         "type": "scatter",
         "x": [
          94,
          20,
          125,
          20,
          100,
          55,
          14.3,
          65,
          60,
          56,
          20,
          74,
          36,
          52,
          68,
          80,
          76,
          120,
          16,
          45
         ],
         "xaxis": "x",
         "y": [
          8.3,
          8,
          8,
          7.4,
          7.2,
          6.3,
          6.1,
          6.1,
          5.7,
          5.7,
          5.7,
          5.4,
          5.4,
          5.2,
          5.2,
          5.2,
          5.1,
          5,
          4.9,
          4.4
         ],
         "yaxis": "y"
        },
        {
         "legendgroup": "2004",
         "marker": {
          "color": "#ab63fa",
          "size": [
           75,
           185,
           17,
           75,
           100,
           30,
           125,
           110,
           40,
           110,
           32,
           40,
           26,
           50,
           18,
           15,
           25,
           26,
           40
          ],
          "sizemode": "area",
          "sizeref": 0.018444444444444447
         },
         "mode": "markers",
         "name": "2004",
         "showlegend": true,
         "text": [
          "Title: Finding Nemo<br> Year: 2003<br> Budget: 94.0<br> Rating: 8.3<br>",
          "Title: 21 Grams<br> Year: 2003<br> Budget: 20.0<br> Rating: 8.0<br>",
          "Title: Pirates of the Caribbean: The Curse of the Black Pearl<br> Year: 2003<br> Budget: 125.0<br> Rating: 8.0<br>",
          "Title: Adaptation.<br> Year: 2002<br> Budget: 19.0<br> Rating: 7.9<br>",
          "Title: Far from Heaven<br> Year: 2002<br> Budget: 13.5<br> Rating: 7.7<br>",
          "Title: Road to Perdition<br> Year: 2002<br> Budget: 80.0<br> Rating: 7.7<br>",
          "Title: Ocean's Eleven<br> Year: 2001<br> Budget: 85.0<br> Rating: 7.5<br>",
          "Title: Life as a House<br> Year: 2001<br> Budget: 18.0<br> Rating: 7.5<br>",
          "Title: Quiet American, The<br> Year: 2002<br> Budget: 30.0<br> Rating: 7.4<br>",
          "Title: School of Rock, The<br> Year: 2003<br> Budget: 20.0<br> Rating: 7.4<br>",
          "Title: Gosford Park<br> Year: 2001<br> Budget: 15.0<br> Rating: 7.3<br>",
          "Title: Bourne Supremacy, The<br> Year: 2004<br> Budget: 75.0<br> Rating: 7.3<br>",
          "Title: Ice Age<br> Year: 2002<br> Budget: 60.0<br> Rating: 7.3<br>",
          "Title: K-PAX<br> Year: 2001<br> Budget: 48.0<br> Rating: 7.2<br>",
          "Title: I Am Sam<br> Year: 2001<br> Budget: 22.0<br> Rating: 7.2<br>",
          "Title: Peter Pan<br> Year: 2003<br> Budget: 100.0<br> Rating: 7.2<br>",
          "Title: We Were Soldiers<br> Year: 2002<br> Budget: 75.0<br> Rating: 7.1<br>",
          "Title: Blow<br> Year: 2001<br> Budget: 30.0<br> Rating: 7.1<br>",
          "Title: Troy<br> Year: 2004<br> Budget: 185.0<br> Rating: 7.1<br>",
          "Title: Star Wars: Episode II - Attack of the Clones<br> Year: 2002<br> Budget: 120.0<br> Rating: 7.0<br>",
          "Title: Mean Girls<br> Year: 2004<br> Budget: 17.0<br> Rating: 7.0<br>",
          "Title: Jay and Silent Bob Strike Back<br> Year: 2001<br> Budget: 22.0<br> Rating: 6.9<br>",
          "Title: 50 First Dates<br> Year: 2004<br> Budget: 75.0<br> Rating: 6.8<br>",
          "Title: Score, The<br> Year: 2001<br> Budget: 68.0<br> Rating: 6.8<br>",
          "Title: Coach Carter<br> Year: 2005<br> Budget: 30.0<br> Rating: 6.6<br>",
          "Title: National Treasure<br> Year: 2004<br> Budget: 100.0<br> Rating: 6.6<br>",
          "Title: Blade II<br> Year: 2002<br> Budget: 55.0<br> Rating: 6.6<br>",
          "Title: Tuck Everlasting<br> Year: 2002<br> Budget: 15.0<br> Rating: 6.5<br>",
          "Title: Unsaid, The<br> Year: 2001<br> Budget: 22.0<br> Rating: 6.5<br>",
          "Title: Rat Race<br> Year: 2001<br> Budget: 48.0<br> Rating: 6.5<br>",
          "Title: SpongeBob SquarePants Movie, The<br> Year: 2004<br> Budget: 30.0<br> Rating: 6.5<br>",
          "Title: Star Trek: Nemesis<br> Year: 2002<br> Budget: 70.0<br> Rating: 6.5<br>",
          "Title: Robots<br> Year: 2005<br> Budget: 75.0<br> Rating: 6.4<br>",
          "Title: Femme Fatale<br> Year: 2002<br> Budget: 35.0<br> Rating: 6.4<br>",
          "Title: Ali<br> Year: 2001<br> Budget: 107.0<br> Rating: 6.4<br>",
          "Title: Death to Smoochy<br> Year: 2002<br> Budget: 55.0<br> Rating: 6.3<br>",
          "Title: Day After Tomorrow, The<br> Year: 2004<br> Budget: 125.0<br> Rating: 6.3<br>",
          "Title: Blood Work<br> Year: 2002<br> Budget: 50.0<br> Rating: 6.3<br>",
          "Title: Assault on Precinct 13<br> Year: 2005<br> Budget: 20.0<br> Rating: 6.3<br>",
          "Title: American Wedding<br> Year: 2003<br> Budget: 55.0<br> Rating: 6.3<br>",
          "Title: Osmosis Jones<br> Year: 2001<br> Budget: 75.0<br> Rating: 6.2<br>",
          "Title: Kiss of the Dragon<br> Year: 2001<br> Budget: 25.0<br> Rating: 6.2<br>",
          "Title: Swordfish<br> Year: 2001<br> Budget: 80.0<br> Rating: 6.2<br>",
          "Title: Hannibal<br> Year: 2001<br> Budget: 87.0<br> Rating: 6.2<br>",
          "Title: Chronicles of Riddick, The<br> Year: 2004<br> Budget: 110.0<br> Rating: 6.2<br>",
          "Title: Jonah: A VeggieTales Movie<br> Year: 2002<br> Budget: 15.0<br> Rating: 6.2<br>",
          "Title: To Kill a King<br> Year: 2003<br> Budget: 14.3<br> Rating: 6.1<br>",
          "Title: High Crimes<br> Year: 2002<br> Budget: 42.0<br> Rating: 6.1<br>",
          "Title: Along Came a Spider<br> Year: 2001<br> Budget: 28.0<br> Rating: 6.1<br>",
          "Title: Mona Lisa Smile<br> Year: 2003<br> Budget: 65.0<br> Rating: 6.1<br>",
          "Title: Shall We Dance<br> Year: 2004<br> Budget: 40.0<br> Rating: 6.0<br>",
          "Title: Because of Winn-Dixie<br> Year: 2005<br> Budget: 14.0<br> Rating: 5.9<br>",
          "Title: Captain Corelli's Mandolin<br> Year: 2001<br> Budget: 57.0<br> Rating: 5.9<br>",
          "Title: Sahara<br> Year: 2005<br> Budget: 130.0<br> Rating: 5.8<br>",
          "Title: Blue Crush<br> Year: 2002<br> Budget: 30.0<br> Rating: 5.7<br>",
          "Title: Daddy Day Care<br> Year: 2003<br> Budget: 60.0<br> Rating: 5.7<br>",
          "Title: Gods and Generals<br> Year: 2003<br> Budget: 56.0<br> Rating: 5.7<br>",
          "Title: Around the World in 80 Days<br> Year: 2004<br> Budget: 110.0<br> Rating: 5.7<br>",
          "Title: What a Girl Wants<br> Year: 2003<br> Budget: 20.0<br> Rating: 5.7<br>",
          "Title: Angel Eyes<br> Year: 2001<br> Budget: 38.0<br> Rating: 5.6<br>",
          "Title: Just Visiting<br> Year: 2001<br> Budget: 40.0<br> Rating: 5.6<br>",
          "Title: xXx<br> Year: 2002<br> Budget: 85.0<br> Rating: 5.5<br>",
          "Title: Divine Secrets of the Ya-Ya Sisterhood<br> Year: 2002<br> Budget: 27.0<br> Rating: 5.5<br>",
          "Title: Be Cool<br> Year: 2005<br> Budget: 53.0<br> Rating: 5.5<br>",
          "Title: George and the Dragon<br> Year: 2004<br> Budget: 32.0<br> Rating: 5.5<br>",
          "Title: 3000 Miles to Graceland<br> Year: 2001<br> Budget: 62.0<br> Rating: 5.4<br>",
          "Title: Core, The<br> Year: 2003<br> Budget: 74.0<br> Rating: 5.4<br>",
          "Title: Man Apart, A<br> Year: 2003<br> Budget: 36.0<br> Rating: 5.4<br>",
          "Title: Princess Diaries 2: Royal Engagement, The<br> Year: 2004<br> Budget: 40.0<br> Rating: 5.3<br>",
          "Title: Drumline<br> Year: 2002<br> Budget: 20.0<br> Rating: 5.3<br>",
          "Title: Scorpion King, The<br> Year: 2002<br> Budget: 60.0<br> Rating: 5.3<br>",
          "Title: Welcome to Mooseport<br> Year: 2004<br> Budget: 26.0<br> Rating: 5.3<br>",
          "Title: Bulletproof Monk<br> Year: 2003<br> Budget: 52.0<br> Rating: 5.2<br>",
          "Title: Dreamcatcher<br> Year: 2003<br> Budget: 68.0<br> Rating: 5.2<br>",
          "Title: Timeline<br> Year: 2003<br> Budget: 80.0<br> Rating: 5.2<br>",
          "Title: 2 Fast 2 Furious<br> Year: 2003<br> Budget: 76.0<br> Rating: 5.1<br>",
          "Title: Wedding Date, The<br> Year: 2005<br> Budget: 15.0<br> Rating: 5.0<br>",
          "Title: Charlie's Angels: Full Throttle<br> Year: 2003<br> Budget: 120.0<br> Rating: 5.0<br>",
          "Title: All the Queen's Men<br> Year: 2001<br> Budget: 25.0<br> Rating: 5.0<br>",
          "Title: Elektra<br> Year: 2005<br> Budget: 43.0<br> Rating: 4.9<br>",
          "Title: Malibu's Most Wanted<br> Year: 2003<br> Budget: 16.0<br> Rating: 4.9<br>",
          "Title: Double Take<br> Year: 2001<br> Budget: 24.0<br> Rating: 4.8<br>",
          "Title: Big Bounce, The<br> Year: 2004<br> Budget: 50.0<br> Rating: 4.7<br>",
          "Title: Wild Thornberrys Movie, The<br> Year: 2002<br> Budget: 35.0<br> Rating: 4.7<br>",
          "Title: Cursed<br> Year: 2005<br> Budget: 35.0<br> Rating: 4.7<br>",
          "Title: House of Wax<br> Year: 2005<br> Budget: 30.0<br> Rating: 4.6<br>",
          "Title: Maid in Manhattan<br> Year: 2002<br> Budget: 55.0<br> Rating: 4.6<br>",
          "Title: Boat Trip<br> Year: 2002<br> Budget: 20.0<br> Rating: 4.5<br>",
          "Title: Touch, The<br> Year: 2002<br> Budget: 20.0<br> Rating: 4.5<br>",
          "Title: Catch That Kid<br> Year: 2004<br> Budget: 18.0<br> Rating: 4.5<br>",
          "Title: Town & Country<br> Year: 2001<br> Budget: 90.0<br> Rating: 4.5<br>",
          "Title: Confessions of a Teenage Drama Queen<br> Year: 2004<br> Budget: 15.0<br> Rating: 4.4<br>",
          "Title: Musketeer, The<br> Year: 2001<br> Budget: 40.0<br> Rating: 4.4<br>",
          "Title: Legally Blonde 2: Red, White & Blonde<br> Year: 2003<br> Budget: 45.0<br> Rating: 4.4<br>",
          "Title: Anacondas: The Hunt for the Blood Orchid<br> Year: 2004<br> Budget: 25.0<br> Rating: 4.2<br>",
          "Title: xXx: State of the Union<br> Year: 2005<br> Budget: 87.0<br> Rating: 3.9<br>",
          "Title: Agent Cody Banks 2: Destination London<br> Year: 2004<br> Budget: 26.0<br> Rating: 3.8<br>",
          "Title: Torque<br> Year: 2004<br> Budget: 40.0<br> Rating: 3.2<br>",
          "Title: Rollerball<br> Year: 2002<br> Budget: 70.0<br> Rating: 2.8<br>",
          "Title: Son of the Mask<br> Year: 2005<br> Budget: 74.0<br> Rating: 1.9<br>"
         ],
         "type": "scatter",
         "x": [
          75,
          185,
          17,
          75,
          100,
          30,
          125,
          110,
          40,
          110,
          32,
          40,
          26,
          50,
          18,
          15,
          25,
          26,
          40
         ],
         "xaxis": "x",
         "y": [
          7.3,
          7.1,
          7,
          6.8,
          6.6,
          6.5,
          6.3,
          6.2,
          6,
          5.7,
          5.5,
          5.3,
          5.3,
          4.7,
          4.5,
          4.4,
          4.2,
          3.8,
          3.2
         ],
         "yaxis": "y"
        },
        {
         "legendgroup": "2005",
         "marker": {
          "color": "#FFA15A",
          "size": [
           30,
           75,
           20,
           14,
           130,
           53,
           15,
           43,
           35,
           30,
           87,
           74
          ],
          "sizemode": "area",
          "sizeref": 0.018444444444444447
         },
         "mode": "markers",
         "name": "2005",
         "showlegend": true,
         "text": [
          "Title: Finding Nemo<br> Year: 2003<br> Budget: 94.0<br> Rating: 8.3<br>",
          "Title: 21 Grams<br> Year: 2003<br> Budget: 20.0<br> Rating: 8.0<br>",
          "Title: Pirates of the Caribbean: The Curse of the Black Pearl<br> Year: 2003<br> Budget: 125.0<br> Rating: 8.0<br>",
          "Title: Adaptation.<br> Year: 2002<br> Budget: 19.0<br> Rating: 7.9<br>",
          "Title: Far from Heaven<br> Year: 2002<br> Budget: 13.5<br> Rating: 7.7<br>",
          "Title: Road to Perdition<br> Year: 2002<br> Budget: 80.0<br> Rating: 7.7<br>",
          "Title: Ocean's Eleven<br> Year: 2001<br> Budget: 85.0<br> Rating: 7.5<br>",
          "Title: Life as a House<br> Year: 2001<br> Budget: 18.0<br> Rating: 7.5<br>",
          "Title: Quiet American, The<br> Year: 2002<br> Budget: 30.0<br> Rating: 7.4<br>",
          "Title: School of Rock, The<br> Year: 2003<br> Budget: 20.0<br> Rating: 7.4<br>",
          "Title: Gosford Park<br> Year: 2001<br> Budget: 15.0<br> Rating: 7.3<br>",
          "Title: Bourne Supremacy, The<br> Year: 2004<br> Budget: 75.0<br> Rating: 7.3<br>",
          "Title: Ice Age<br> Year: 2002<br> Budget: 60.0<br> Rating: 7.3<br>",
          "Title: K-PAX<br> Year: 2001<br> Budget: 48.0<br> Rating: 7.2<br>",
          "Title: I Am Sam<br> Year: 2001<br> Budget: 22.0<br> Rating: 7.2<br>",
          "Title: Peter Pan<br> Year: 2003<br> Budget: 100.0<br> Rating: 7.2<br>",
          "Title: We Were Soldiers<br> Year: 2002<br> Budget: 75.0<br> Rating: 7.1<br>",
          "Title: Blow<br> Year: 2001<br> Budget: 30.0<br> Rating: 7.1<br>",
          "Title: Troy<br> Year: 2004<br> Budget: 185.0<br> Rating: 7.1<br>",
          "Title: Star Wars: Episode II - Attack of the Clones<br> Year: 2002<br> Budget: 120.0<br> Rating: 7.0<br>",
          "Title: Mean Girls<br> Year: 2004<br> Budget: 17.0<br> Rating: 7.0<br>",
          "Title: Jay and Silent Bob Strike Back<br> Year: 2001<br> Budget: 22.0<br> Rating: 6.9<br>",
          "Title: 50 First Dates<br> Year: 2004<br> Budget: 75.0<br> Rating: 6.8<br>",
          "Title: Score, The<br> Year: 2001<br> Budget: 68.0<br> Rating: 6.8<br>",
          "Title: Coach Carter<br> Year: 2005<br> Budget: 30.0<br> Rating: 6.6<br>",
          "Title: National Treasure<br> Year: 2004<br> Budget: 100.0<br> Rating: 6.6<br>",
          "Title: Blade II<br> Year: 2002<br> Budget: 55.0<br> Rating: 6.6<br>",
          "Title: Tuck Everlasting<br> Year: 2002<br> Budget: 15.0<br> Rating: 6.5<br>",
          "Title: Unsaid, The<br> Year: 2001<br> Budget: 22.0<br> Rating: 6.5<br>",
          "Title: Rat Race<br> Year: 2001<br> Budget: 48.0<br> Rating: 6.5<br>",
          "Title: SpongeBob SquarePants Movie, The<br> Year: 2004<br> Budget: 30.0<br> Rating: 6.5<br>",
          "Title: Star Trek: Nemesis<br> Year: 2002<br> Budget: 70.0<br> Rating: 6.5<br>",
          "Title: Robots<br> Year: 2005<br> Budget: 75.0<br> Rating: 6.4<br>",
          "Title: Femme Fatale<br> Year: 2002<br> Budget: 35.0<br> Rating: 6.4<br>",
          "Title: Ali<br> Year: 2001<br> Budget: 107.0<br> Rating: 6.4<br>",
          "Title: Death to Smoochy<br> Year: 2002<br> Budget: 55.0<br> Rating: 6.3<br>",
          "Title: Day After Tomorrow, The<br> Year: 2004<br> Budget: 125.0<br> Rating: 6.3<br>",
          "Title: Blood Work<br> Year: 2002<br> Budget: 50.0<br> Rating: 6.3<br>",
          "Title: Assault on Precinct 13<br> Year: 2005<br> Budget: 20.0<br> Rating: 6.3<br>",
          "Title: American Wedding<br> Year: 2003<br> Budget: 55.0<br> Rating: 6.3<br>",
          "Title: Osmosis Jones<br> Year: 2001<br> Budget: 75.0<br> Rating: 6.2<br>",
          "Title: Kiss of the Dragon<br> Year: 2001<br> Budget: 25.0<br> Rating: 6.2<br>",
          "Title: Swordfish<br> Year: 2001<br> Budget: 80.0<br> Rating: 6.2<br>",
          "Title: Hannibal<br> Year: 2001<br> Budget: 87.0<br> Rating: 6.2<br>",
          "Title: Chronicles of Riddick, The<br> Year: 2004<br> Budget: 110.0<br> Rating: 6.2<br>",
          "Title: Jonah: A VeggieTales Movie<br> Year: 2002<br> Budget: 15.0<br> Rating: 6.2<br>",
          "Title: To Kill a King<br> Year: 2003<br> Budget: 14.3<br> Rating: 6.1<br>",
          "Title: High Crimes<br> Year: 2002<br> Budget: 42.0<br> Rating: 6.1<br>",
          "Title: Along Came a Spider<br> Year: 2001<br> Budget: 28.0<br> Rating: 6.1<br>",
          "Title: Mona Lisa Smile<br> Year: 2003<br> Budget: 65.0<br> Rating: 6.1<br>",
          "Title: Shall We Dance<br> Year: 2004<br> Budget: 40.0<br> Rating: 6.0<br>",
          "Title: Because of Winn-Dixie<br> Year: 2005<br> Budget: 14.0<br> Rating: 5.9<br>",
          "Title: Captain Corelli's Mandolin<br> Year: 2001<br> Budget: 57.0<br> Rating: 5.9<br>",
          "Title: Sahara<br> Year: 2005<br> Budget: 130.0<br> Rating: 5.8<br>",
          "Title: Blue Crush<br> Year: 2002<br> Budget: 30.0<br> Rating: 5.7<br>",
          "Title: Daddy Day Care<br> Year: 2003<br> Budget: 60.0<br> Rating: 5.7<br>",
          "Title: Gods and Generals<br> Year: 2003<br> Budget: 56.0<br> Rating: 5.7<br>",
          "Title: Around the World in 80 Days<br> Year: 2004<br> Budget: 110.0<br> Rating: 5.7<br>",
          "Title: What a Girl Wants<br> Year: 2003<br> Budget: 20.0<br> Rating: 5.7<br>",
          "Title: Angel Eyes<br> Year: 2001<br> Budget: 38.0<br> Rating: 5.6<br>",
          "Title: Just Visiting<br> Year: 2001<br> Budget: 40.0<br> Rating: 5.6<br>",
          "Title: xXx<br> Year: 2002<br> Budget: 85.0<br> Rating: 5.5<br>",
          "Title: Divine Secrets of the Ya-Ya Sisterhood<br> Year: 2002<br> Budget: 27.0<br> Rating: 5.5<br>",
          "Title: Be Cool<br> Year: 2005<br> Budget: 53.0<br> Rating: 5.5<br>",
          "Title: George and the Dragon<br> Year: 2004<br> Budget: 32.0<br> Rating: 5.5<br>",
          "Title: 3000 Miles to Graceland<br> Year: 2001<br> Budget: 62.0<br> Rating: 5.4<br>",
          "Title: Core, The<br> Year: 2003<br> Budget: 74.0<br> Rating: 5.4<br>",
          "Title: Man Apart, A<br> Year: 2003<br> Budget: 36.0<br> Rating: 5.4<br>",
          "Title: Princess Diaries 2: Royal Engagement, The<br> Year: 2004<br> Budget: 40.0<br> Rating: 5.3<br>",
          "Title: Drumline<br> Year: 2002<br> Budget: 20.0<br> Rating: 5.3<br>",
          "Title: Scorpion King, The<br> Year: 2002<br> Budget: 60.0<br> Rating: 5.3<br>",
          "Title: Welcome to Mooseport<br> Year: 2004<br> Budget: 26.0<br> Rating: 5.3<br>",
          "Title: Bulletproof Monk<br> Year: 2003<br> Budget: 52.0<br> Rating: 5.2<br>",
          "Title: Dreamcatcher<br> Year: 2003<br> Budget: 68.0<br> Rating: 5.2<br>",
          "Title: Timeline<br> Year: 2003<br> Budget: 80.0<br> Rating: 5.2<br>",
          "Title: 2 Fast 2 Furious<br> Year: 2003<br> Budget: 76.0<br> Rating: 5.1<br>",
          "Title: Wedding Date, The<br> Year: 2005<br> Budget: 15.0<br> Rating: 5.0<br>",
          "Title: Charlie's Angels: Full Throttle<br> Year: 2003<br> Budget: 120.0<br> Rating: 5.0<br>",
          "Title: All the Queen's Men<br> Year: 2001<br> Budget: 25.0<br> Rating: 5.0<br>",
          "Title: Elektra<br> Year: 2005<br> Budget: 43.0<br> Rating: 4.9<br>",
          "Title: Malibu's Most Wanted<br> Year: 2003<br> Budget: 16.0<br> Rating: 4.9<br>",
          "Title: Double Take<br> Year: 2001<br> Budget: 24.0<br> Rating: 4.8<br>",
          "Title: Big Bounce, The<br> Year: 2004<br> Budget: 50.0<br> Rating: 4.7<br>",
          "Title: Wild Thornberrys Movie, The<br> Year: 2002<br> Budget: 35.0<br> Rating: 4.7<br>",
          "Title: Cursed<br> Year: 2005<br> Budget: 35.0<br> Rating: 4.7<br>",
          "Title: House of Wax<br> Year: 2005<br> Budget: 30.0<br> Rating: 4.6<br>",
          "Title: Maid in Manhattan<br> Year: 2002<br> Budget: 55.0<br> Rating: 4.6<br>",
          "Title: Boat Trip<br> Year: 2002<br> Budget: 20.0<br> Rating: 4.5<br>",
          "Title: Touch, The<br> Year: 2002<br> Budget: 20.0<br> Rating: 4.5<br>",
          "Title: Catch That Kid<br> Year: 2004<br> Budget: 18.0<br> Rating: 4.5<br>",
          "Title: Town & Country<br> Year: 2001<br> Budget: 90.0<br> Rating: 4.5<br>",
          "Title: Confessions of a Teenage Drama Queen<br> Year: 2004<br> Budget: 15.0<br> Rating: 4.4<br>",
          "Title: Musketeer, The<br> Year: 2001<br> Budget: 40.0<br> Rating: 4.4<br>",
          "Title: Legally Blonde 2: Red, White & Blonde<br> Year: 2003<br> Budget: 45.0<br> Rating: 4.4<br>",
          "Title: Anacondas: The Hunt for the Blood Orchid<br> Year: 2004<br> Budget: 25.0<br> Rating: 4.2<br>",
          "Title: xXx: State of the Union<br> Year: 2005<br> Budget: 87.0<br> Rating: 3.9<br>",
          "Title: Agent Cody Banks 2: Destination London<br> Year: 2004<br> Budget: 26.0<br> Rating: 3.8<br>",
          "Title: Torque<br> Year: 2004<br> Budget: 40.0<br> Rating: 3.2<br>",
          "Title: Rollerball<br> Year: 2002<br> Budget: 70.0<br> Rating: 2.8<br>",
          "Title: Son of the Mask<br> Year: 2005<br> Budget: 74.0<br> Rating: 1.9<br>"
         ],
         "type": "scatter",
         "x": [
          30,
          75,
          20,
          14,
          130,
          53,
          15,
          43,
          35,
          30,
          87,
          74
         ],
         "xaxis": "x",
         "y": [
          6.6,
          6.4,
          6.3,
          5.9,
          5.8,
          5.5,
          5,
          4.9,
          4.7,
          4.6,
          3.9,
          1.9
         ],
         "yaxis": "y"
        }
       ],
       "frames": [],
       "layout": {
        "axis": {
         "gridcolor": "white",
         "title": {
          "text": "Rating"
         }
        },
        "legend": {
         "title": {
          "text": "Year"
         },
         "tracegroupgap": 0
        },
        "margin": {
         "b": 50,
         "l": 50,
         "r": 50,
         "t": 60
        },
        "paper_bgcolor": "rgb(243, 243, 243)",
        "plot_bgcolor": "rgb(243, 243, 243)",
        "template": {
         "data": {
          "bar": [
           {
            "error_x": {
             "color": "#2a3f5f"
            },
            "error_y": {
             "color": "#2a3f5f"
            },
            "marker": {
             "line": {
              "color": "#E5ECF6",
              "width": 0.5
             }
            },
            "type": "bar"
           }
          ],
          "barpolar": [
           {
            "marker": {
             "line": {
              "color": "#E5ECF6",
              "width": 0.5
             }
            },
            "type": "barpolar"
           }
          ],
          "carpet": [
           {
            "aaxis": {
             "endlinecolor": "#2a3f5f",
             "gridcolor": "white",
             "linecolor": "white",
             "minorgridcolor": "white",
             "startlinecolor": "#2a3f5f"
            },
            "baxis": {
             "endlinecolor": "#2a3f5f",
             "gridcolor": "white",
             "linecolor": "white",
             "minorgridcolor": "white",
             "startlinecolor": "#2a3f5f"
            },
            "type": "carpet"
           }
          ],
          "choropleth": [
           {
            "colorbar": {
             "outlinewidth": 0,
             "ticks": ""
            },
            "type": "choropleth"
           }
          ],
          "contour": [
           {
            "colorbar": {
             "outlinewidth": 0,
             "ticks": ""
            },
            "colorscale": [
             [
              0,
              "#0d0887"
             ],
             [
              0.1111111111111111,
              "#46039f"
             ],
             [
              0.2222222222222222,
              "#7201a8"
             ],
             [
              0.3333333333333333,
              "#9c179e"
             ],
             [
              0.4444444444444444,
              "#bd3786"
             ],
             [
              0.5555555555555556,
              "#d8576b"
             ],
             [
              0.6666666666666666,
              "#ed7953"
             ],
             [
              0.7777777777777778,
              "#fb9f3a"
             ],
             [
              0.8888888888888888,
              "#fdca26"
             ],
             [
              1,
              "#f0f921"
             ]
            ],
            "type": "contour"
           }
          ],
          "contourcarpet": [
           {
            "colorbar": {
             "outlinewidth": 0,
             "ticks": ""
            },
            "type": "contourcarpet"
           }
          ],
          "heatmap": [
           {
            "colorbar": {
             "outlinewidth": 0,
             "ticks": ""
            },
            "colorscale": [
             [
              0,
              "#0d0887"
             ],
             [
              0.1111111111111111,
              "#46039f"
             ],
             [
              0.2222222222222222,
              "#7201a8"
             ],
             [
              0.3333333333333333,
              "#9c179e"
             ],
             [
              0.4444444444444444,
              "#bd3786"
             ],
             [
              0.5555555555555556,
              "#d8576b"
             ],
             [
              0.6666666666666666,
              "#ed7953"
             ],
             [
              0.7777777777777778,
              "#fb9f3a"
             ],
             [
              0.8888888888888888,
              "#fdca26"
             ],
             [
              1,
              "#f0f921"
             ]
            ],
            "type": "heatmap"
           }
          ],
          "heatmapgl": [
           {
            "colorbar": {
             "outlinewidth": 0,
             "ticks": ""
            },
            "colorscale": [
             [
              0,
              "#0d0887"
             ],
             [
              0.1111111111111111,
              "#46039f"
             ],
             [
              0.2222222222222222,
              "#7201a8"
             ],
             [
              0.3333333333333333,
              "#9c179e"
             ],
             [
              0.4444444444444444,
              "#bd3786"
             ],
             [
              0.5555555555555556,
              "#d8576b"
             ],
             [
              0.6666666666666666,
              "#ed7953"
             ],
             [
              0.7777777777777778,
              "#fb9f3a"
             ],
             [
              0.8888888888888888,
              "#fdca26"
             ],
             [
              1,
              "#f0f921"
             ]
            ],
            "type": "heatmapgl"
           }
          ],
          "histogram": [
           {
            "marker": {
             "colorbar": {
              "outlinewidth": 0,
              "ticks": ""
             }
            },
            "type": "histogram"
           }
          ],
          "histogram2d": [
           {
            "colorbar": {
             "outlinewidth": 0,
             "ticks": ""
            },
            "colorscale": [
             [
              0,
              "#0d0887"
             ],
             [
              0.1111111111111111,
              "#46039f"
             ],
             [
              0.2222222222222222,
              "#7201a8"
             ],
             [
              0.3333333333333333,
              "#9c179e"
             ],
             [
              0.4444444444444444,
              "#bd3786"
             ],
             [
              0.5555555555555556,
              "#d8576b"
             ],
             [
              0.6666666666666666,
              "#ed7953"
             ],
             [
              0.7777777777777778,
              "#fb9f3a"
             ],
             [
              0.8888888888888888,
              "#fdca26"
             ],
             [
              1,
              "#f0f921"
             ]
            ],
            "type": "histogram2d"
           }
          ],
          "histogram2dcontour": [
           {
            "colorbar": {
             "outlinewidth": 0,
             "ticks": ""
            },
            "colorscale": [
             [
              0,
              "#0d0887"
             ],
             [
              0.1111111111111111,
              "#46039f"
             ],
             [
              0.2222222222222222,
              "#7201a8"
             ],
             [
              0.3333333333333333,
              "#9c179e"
             ],
             [
              0.4444444444444444,
              "#bd3786"
             ],
             [
              0.5555555555555556,
              "#d8576b"
             ],
             [
              0.6666666666666666,
              "#ed7953"
             ],
             [
              0.7777777777777778,
              "#fb9f3a"
             ],
             [
              0.8888888888888888,
              "#fdca26"
             ],
             [
              1,
              "#f0f921"
             ]
            ],
            "type": "histogram2dcontour"
           }
          ],
          "mesh3d": [
           {
            "colorbar": {
             "outlinewidth": 0,
             "ticks": ""
            },
            "type": "mesh3d"
           }
          ],
          "parcoords": [
           {
            "line": {
             "colorbar": {
              "outlinewidth": 0,
              "ticks": ""
             }
            },
            "type": "parcoords"
           }
          ],
          "pie": [
           {
            "automargin": true,
            "type": "pie"
           }
          ],
          "scatter": [
           {
            "marker": {
             "colorbar": {
              "outlinewidth": 0,
              "ticks": ""
             }
            },
            "type": "scatter"
           }
          ],
          "scatter3d": [
           {
            "line": {
             "colorbar": {
              "outlinewidth": 0,
              "ticks": ""
             }
            },
            "marker": {
             "colorbar": {
              "outlinewidth": 0,
              "ticks": ""
             }
            },
            "type": "scatter3d"
           }
          ],
          "scattercarpet": [
           {
            "marker": {
             "colorbar": {
              "outlinewidth": 0,
              "ticks": ""
             }
            },
            "type": "scattercarpet"
           }
          ],
          "scattergeo": [
           {
            "marker": {
             "colorbar": {
              "outlinewidth": 0,
              "ticks": ""
             }
            },
            "type": "scattergeo"
           }
          ],
          "scattergl": [
           {
            "marker": {
             "colorbar": {
              "outlinewidth": 0,
              "ticks": ""
             }
            },
            "type": "scattergl"
           }
          ],
          "scattermapbox": [
           {
            "marker": {
             "colorbar": {
              "outlinewidth": 0,
              "ticks": ""
             }
            },
            "type": "scattermapbox"
           }
          ],
          "scatterpolar": [
           {
            "marker": {
             "colorbar": {
              "outlinewidth": 0,
              "ticks": ""
             }
            },
            "type": "scatterpolar"
           }
          ],
          "scatterpolargl": [
           {
            "marker": {
             "colorbar": {
              "outlinewidth": 0,
              "ticks": ""
             }
            },
            "type": "scatterpolargl"
           }
          ],
          "scatterternary": [
           {
            "marker": {
             "colorbar": {
              "outlinewidth": 0,
              "ticks": ""
             }
            },
            "type": "scatterternary"
           }
          ],
          "surface": [
           {
            "colorbar": {
             "outlinewidth": 0,
             "ticks": ""
            },
            "colorscale": [
             [
              0,
              "#0d0887"
             ],
             [
              0.1111111111111111,
              "#46039f"
             ],
             [
              0.2222222222222222,
              "#7201a8"
             ],
             [
              0.3333333333333333,
              "#9c179e"
             ],
             [
              0.4444444444444444,
              "#bd3786"
             ],
             [
              0.5555555555555556,
              "#d8576b"
             ],
             [
              0.6666666666666666,
              "#ed7953"
             ],
             [
              0.7777777777777778,
              "#fb9f3a"
             ],
             [
              0.8888888888888888,
              "#fdca26"
             ],
             [
              1,
              "#f0f921"
             ]
            ],
            "type": "surface"
           }
          ],
          "table": [
           {
            "cells": {
             "fill": {
              "color": "#EBF0F8"
             },
             "line": {
              "color": "white"
             }
            },
            "header": {
             "fill": {
              "color": "#C8D4E3"
             },
             "line": {
              "color": "white"
             }
            },
            "type": "table"
           }
          ]
         },
         "layout": {
          "annotationdefaults": {
           "arrowcolor": "#2a3f5f",
           "arrowhead": 0,
           "arrowwidth": 1
          },
          "autotypenumbers": "strict",
          "coloraxis": {
           "colorbar": {
            "outlinewidth": 0,
            "ticks": ""
           }
          },
          "colorscale": {
           "diverging": [
            [
             0,
             "#8e0152"
            ],
            [
             0.1,
             "#c51b7d"
            ],
            [
             0.2,
             "#de77ae"
            ],
            [
             0.3,
             "#f1b6da"
            ],
            [
             0.4,
             "#fde0ef"
            ],
            [
             0.5,
             "#f7f7f7"
            ],
            [
             0.6,
             "#e6f5d0"
            ],
            [
             0.7,
             "#b8e186"
            ],
            [
             0.8,
             "#7fbc41"
            ],
            [
             0.9,
             "#4d9221"
            ],
            [
             1,
             "#276419"
            ]
           ],
           "sequential": [
            [
             0,
             "#0d0887"
            ],
            [
             0.1111111111111111,
             "#46039f"
            ],
            [
             0.2222222222222222,
             "#7201a8"
            ],
            [
             0.3333333333333333,
             "#9c179e"
            ],
            [
             0.4444444444444444,
             "#bd3786"
            ],
            [
             0.5555555555555556,
             "#d8576b"
            ],
            [
             0.6666666666666666,
             "#ed7953"
            ],
            [
             0.7777777777777778,
             "#fb9f3a"
            ],
            [
             0.8888888888888888,
             "#fdca26"
            ],
            [
             1,
             "#f0f921"
            ]
           ],
           "sequentialminus": [
            [
             0,
             "#0d0887"
            ],
            [
             0.1111111111111111,
             "#46039f"
            ],
            [
             0.2222222222222222,
             "#7201a8"
            ],
            [
             0.3333333333333333,
             "#9c179e"
            ],
            [
             0.4444444444444444,
             "#bd3786"
            ],
            [
             0.5555555555555556,
             "#d8576b"
            ],
            [
             0.6666666666666666,
             "#ed7953"
            ],
            [
             0.7777777777777778,
             "#fb9f3a"
            ],
            [
             0.8888888888888888,
             "#fdca26"
            ],
            [
             1,
             "#f0f921"
            ]
           ]
          },
          "colorway": [
           "#636efa",
           "#EF553B",
           "#00cc96",
           "#ab63fa",
           "#FFA15A",
           "#19d3f3",
           "#FF6692",
           "#B6E880",
           "#FF97FF",
           "#FECB52"
          ],
          "font": {
           "color": "#2a3f5f"
          },
          "geo": {
           "bgcolor": "white",
           "lakecolor": "white",
           "landcolor": "#E5ECF6",
           "showlakes": true,
           "showland": true,
           "subunitcolor": "white"
          },
          "hoverlabel": {
           "align": "left"
          },
          "hovermode": "closest",
          "mapbox": {
           "style": "light"
          },
          "paper_bgcolor": "white",
          "plot_bgcolor": "#E5ECF6",
          "polar": {
           "angularaxis": {
            "gridcolor": "white",
            "linecolor": "white",
            "ticks": ""
           },
           "bgcolor": "#E5ECF6",
           "radialaxis": {
            "gridcolor": "white",
            "linecolor": "white",
            "ticks": ""
           }
          },
          "scene": {
           "xaxis": {
            "backgroundcolor": "#E5ECF6",
            "gridcolor": "white",
            "gridwidth": 2,
            "linecolor": "white",
            "showbackground": true,
            "ticks": "",
            "zerolinecolor": "white"
           },
           "yaxis": {
            "backgroundcolor": "#E5ECF6",
            "gridcolor": "white",
            "gridwidth": 2,
            "linecolor": "white",
            "showbackground": true,
            "ticks": "",
            "zerolinecolor": "white"
           },
           "zaxis": {
            "backgroundcolor": "#E5ECF6",
            "gridcolor": "white",
            "gridwidth": 2,
            "linecolor": "white",
            "showbackground": true,
            "ticks": "",
            "zerolinecolor": "white"
           }
          },
          "shapedefaults": {
           "line": {
            "color": "#2a3f5f"
           }
          },
          "ternary": {
           "aaxis": {
            "gridcolor": "white",
            "linecolor": "white",
            "ticks": ""
           },
           "baxis": {
            "gridcolor": "white",
            "linecolor": "white",
            "ticks": ""
           },
           "bgcolor": "#E5ECF6",
           "caxis": {
            "gridcolor": "white",
            "linecolor": "white",
            "ticks": ""
           }
          },
          "title": {
           "x": 0.05
          },
          "xaxis": {
           "automargin": true,
           "gridcolor": "white",
           "linecolor": "white",
           "ticks": "",
           "title": {
            "standoff": 15
           },
           "zerolinecolor": "white",
           "zerolinewidth": 2
          },
          "yaxis": {
           "automargin": true,
           "gridcolor": "white",
           "linecolor": "white",
           "ticks": "",
           "title": {
            "standoff": 15
           },
           "zerolinecolor": "white",
           "zerolinewidth": 2
          }
         }
        },
        "title": "Movies Budget vs Rating",
        "xaxis": {
         "gridcolor": "white",
         "title": {
          "text": "Movie Budget (in Million Dollars)"
         }
        },
        "yaxis": {
         "title": {
          "text": "Rating"
         }
        }
       }
      },
      "image/png": "[encoded data removed]",
      "image/svg+xml": "<svg class=\"main-svg\" xmlns=\"http://www.w3.org/2000/svg\" xmlns:xlink=\"http://www.w3.org/1999/xlink\" width=\"700\" height=\"500\" style=\"\" viewBox=\"0 0 700 500\"><rect x=\"0\" y=\"0\" width=\"700\" height=\"500\" style=\"fill: rgb(243, 243, 243); fill-opacity: 1;\"/><defs id=\"defs-97ba4c\"><g class=\"clips\"><clipPath id=\"clip97ba4cxyplot\" class=\"plotclip\"><rect width=\"548\" height=\"388\"/></clipPath><clipPath class=\"axesclip\" id=\"clip97ba4cx\"><rect x=\"53\" y=\"0\" width=\"548\" height=\"500\"/></clipPath><clipPath class=\"axesclip\" id=\"clip97ba4cy\"><rect x=\"0\" y=\"60\" width=\"700\" height=\"388\"/></clipPath><clipPath class=\"axesclip\" id=\"clip97ba4cxy\"><rect x=\"53\" y=\"60\" width=\"548\" height=\"388\"/></clipPath></g><g class=\"gradients\"/></defs><g class=\"bglayer\"/><g class=\"layer-below\"><g class=\"imagelayer\"/><g class=\"shapelayer\"/></g><g class=\"cartesianlayer\"><g class=\"subplot xy\"><g class=\"layer-subplot\"><g class=\"shapelayer\"/><g class=\"imagelayer\"/></g><g class=\"gridlayer\"><g class=\"x\"><path class=\"xgrid crisp\" transform=\"translate(185.35,0)\" d=\"M0,60v388\" style=\"stroke: rgb(255, 255, 255); stroke-opacity: 1; stroke-width: 1px;\"/><path class=\"xgrid crisp\" transform=\"translate(299.82,0)\" d=\"M0,60v388\" style=\"stroke: rgb(255, 255, 255); stroke-opacity: 1; stroke-width: 1px;\"/><path class=\"xgrid crisp\" transform=\"translate(414.29,0)\" d=\"M0,60v388\" style=\"stroke: rgb(255, 255, 255); stroke-opacity: 1; stroke-width: 1px;\"/><path class=\"xgrid crisp\" transform=\"translate(528.77,0)\" d=\"M0,60v388\" style=\"stroke: rgb(255, 255, 255); stroke-opacity: 1; stroke-width: 1px;\"/></g><g class=\"y\"><path class=\"ygrid crisp\" transform=\"translate(0,374.73)\" d=\"M53,0h548\" style=\"stroke: rgb(255, 255, 255); stroke-opacity: 1; stroke-width: 1px;\"/><path class=\"ygrid crisp\" transform=\"translate(0,298.89)\" d=\"M53,0h548\" style=\"stroke: rgb(255, 255, 255); stroke-opacity: 1; stroke-width: 1px;\"/><path class=\"ygrid crisp\" transform=\"translate(0,223.05)\" d=\"M53,0h548\" style=\"stroke: rgb(255, 255, 255); stroke-opacity: 1; stroke-width: 1px;\"/><path class=\"ygrid crisp\" transform=\"translate(0,147.20999999999998)\" d=\"M53,0h548\" style=\"stroke: rgb(255, 255, 255); stroke-opacity: 1; stroke-width: 1px;\"/><path class=\"ygrid crisp\" transform=\"translate(0,71.37)\" d=\"M53,0h548\" style=\"stroke: rgb(255, 255, 255); stroke-opacity: 1; stroke-width: 1px;\"/></g></g><g class=\"zerolinelayer\"><path class=\"xzl zl crisp\" transform=\"translate(70.88,0)\" d=\"M0,60v388\" style=\"stroke: rgb(255, 255, 255); stroke-opacity: 1; stroke-width: 2px;\"/></g><path class=\"xlines-below\"/><path class=\"ylines-below\"/><g class=\"overlines-below\"/><g class=\"xaxislayer-below\"/><g class=\"yaxislayer-below\"/><g class=\"overaxes-below\"/><g class=\"plot\" transform=\"translate(53,60)\" clip-path=\"url('#clip97ba4cxyplot')\"><g class=\"scatterlayer mlayer\"><g class=\"trace scatter trace971afe\" style=\"stroke-miterlimit: 2; opacity: 1;\"><g class=\"fills\"/><g class=\"errorbars\"/><g class=\"lines\"/><g class=\"points\"><path class=\"point\" transform=\"translate(212.48,106.17)\" d=\"M48,0A48,48 0 1,1 0,-48A48,48 0 0,1 48,0Z\" style=\"opacity: 0.7; stroke-width: 1px; fill: rgb(0, 204, 150); fill-opacity: 1; stroke: rgb(255, 255, 255); stroke-opacity: 1;\"/><path class=\"point\" transform=\"translate(59.09,106.17)\" d=\"M22.09,0A22.09,22.09 0 1,1 0,-22.09A22.09,22.09 0 0,1 22.09,0Z\" style=\"opacity: 0.7; stroke-width: 1px; fill: rgb(0, 204, 150); fill-opacity: 1; stroke: rgb(255, 255, 255); stroke-opacity: 1;\"/><path class=\"point\" transform=\"translate(52.22,113.76)\" d=\"M20.16,0A20.16,20.16 0 1,1 0,-20.16A20.16,20.16 0 0,1 20.16,0Z\" style=\"opacity: 0.7; stroke-width: 1px; fill: rgb(0, 204, 150); fill-opacity: 1; stroke: rgb(255, 255, 255); stroke-opacity: 1;\"/><path class=\"point\" transform=\"translate(127.77,117.55)\" d=\"M36.07,0A36.07,36.07 0 1,1 0,-36.07A36.07,36.07 0 0,1 36.07,0Z\" style=\"opacity: 0.7; stroke-width: 1px; fill: rgb(0, 204, 150); fill-opacity: 1; stroke: rgb(255, 255, 255); stroke-opacity: 1;\"/><path class=\"point\" transform=\"translate(68.25,117.55)\" d=\"M24.42,0A24.42,24.42 0 1,1 0,-24.42A24.42,24.42 0 0,1 24.42,0Z\" style=\"opacity: 0.7; stroke-width: 1px; fill: rgb(0, 204, 150); fill-opacity: 1; stroke: rgb(255, 255, 255); stroke-opacity: 1;\"/><path class=\"point\" transform=\"translate(86.56,121.34)\" d=\"M28.52,0A28.52,28.52 0 1,1 0,-28.52A28.52,28.52 0 0,1 28.52,0Z\" style=\"opacity: 0.7; stroke-width: 1px; fill: rgb(0, 204, 150); fill-opacity: 1; stroke: rgb(255, 255, 255); stroke-opacity: 1;\"/><path class=\"point\" transform=\"translate(68.25,128.93)\" d=\"M24.42,0A24.42,24.42 0 1,1 0,-24.42A24.42,24.42 0 0,1 24.42,0Z\" style=\"opacity: 0.7; stroke-width: 1px; fill: rgb(0, 204, 150); fill-opacity: 1; stroke: rgb(255, 255, 255); stroke-opacity: 1;\"/><path class=\"point\" transform=\"translate(173.56,132.72)\" d=\"M42.93,0A42.93,42.93 0 1,1 0,-42.93A42.93,42.93 0 0,1 42.93,0Z\" style=\"opacity: 0.7; stroke-width: 1px; fill: rgb(0, 204, 150); fill-opacity: 1; stroke: rgb(255, 255, 255); stroke-opacity: 1;\"/><path class=\"point\" transform=\"translate(68.25,144.09)\" d=\"M24.42,0A24.42,24.42 0 1,1 0,-24.42A24.42,24.42 0 0,1 24.42,0Z\" style=\"opacity: 0.7; stroke-width: 1px; fill: rgb(0, 204, 150); fill-opacity: 1; stroke: rgb(255, 255, 255); stroke-opacity: 1;\"/><path class=\"point\" transform=\"translate(127.77,144.09)\" d=\"M36.07,0A36.07,36.07 0 1,1 0,-36.07A36.07,36.07 0 0,1 36.07,0Z\" style=\"opacity: 0.7; stroke-width: 1px; fill: rgb(0, 204, 150); fill-opacity: 1; stroke: rgb(255, 255, 255); stroke-opacity: 1;\"/><path class=\"point\" transform=\"translate(262.85,147.89)\" d=\"M53.86,0A53.86,53.86 0 1,1 0,-53.86A53.86,53.86 0 0,1 53.86,0Z\" style=\"opacity: 0.7; stroke-width: 1px; fill: rgb(0, 204, 150); fill-opacity: 1; stroke: rgb(255, 255, 255); stroke-opacity: 1;\"/><path class=\"point\" transform=\"translate(189.59,155.47)\" d=\"M45.09,0A45.09,45.09 0 1,1 0,-45.09A45.09,45.09 0 0,1 45.09,0Z\" style=\"opacity: 0.7; stroke-width: 1px; fill: rgb(0, 204, 150); fill-opacity: 1; stroke: rgb(255, 255, 255); stroke-opacity: 1;\"/><path class=\"point\" transform=\"translate(75.12,155.47)\" d=\"M26.03,0A26.03,26.03 0 1,1 0,-26.03A26.03,26.03 0 0,1 26.03,0Z\" style=\"opacity: 0.7; stroke-width: 1px; fill: rgb(0, 204, 150); fill-opacity: 1; stroke: rgb(255, 255, 255); stroke-opacity: 1;\"/><path class=\"point\" transform=\"translate(201.03,155.47)\" d=\"M46.57,0A46.57,46.57 0 1,1 0,-46.57A46.57,46.57 0 0,1 46.57,0Z\" style=\"opacity: 0.7; stroke-width: 1px; fill: rgb(0, 204, 150); fill-opacity: 1; stroke: rgb(255, 255, 255); stroke-opacity: 1;\"/><path class=\"point\" transform=\"translate(217.06,155.47)\" d=\"M48.56,0A48.56,48.56 0 1,1 0,-48.56A48.56,48.56 0 0,1 48.56,0Z\" style=\"opacity: 0.7; stroke-width: 1px; fill: rgb(0, 204, 150); fill-opacity: 1; stroke: rgb(255, 255, 255); stroke-opacity: 1;\"/><path class=\"point\" transform=\"translate(81.98,159.26)\" d=\"M27.55,0A27.55,27.55 0 1,1 0,-27.55A27.55,27.55 0 0,1 27.55,0Z\" style=\"opacity: 0.7; stroke-width: 1px; fill: rgb(0, 204, 150); fill-opacity: 1; stroke: rgb(255, 255, 255); stroke-opacity: 1;\"/><path class=\"point\" transform=\"translate(148.38,166.85)\" d=\"M39.31,0A39.31,39.31 0 1,1 0,-39.31A39.31,39.31 0 0,1 39.31,0Z\" style=\"opacity: 0.7; stroke-width: 1px; fill: rgb(0, 204, 150); fill-opacity: 1; stroke: rgb(255, 255, 255); stroke-opacity: 1;\"/><path class=\"point\" transform=\"translate(104.88,178.22)\" d=\"M32.1,0A32.1,32.1 0 1,1 0,-32.1A32.1,32.1 0 0,1 32.1,0Z\" style=\"opacity: 0.7; stroke-width: 1px; fill: rgb(0, 204, 150); fill-opacity: 1; stroke: rgb(255, 255, 255); stroke-opacity: 1;\"/><path class=\"point\" transform=\"translate(109.46,178.22)\" d=\"M32.93,0A32.93,32.93 0 1,1 0,-32.93A32.93,32.93 0 0,1 32.93,0Z\" style=\"opacity: 0.7; stroke-width: 1px; fill: rgb(0, 204, 150); fill-opacity: 1; stroke: rgb(255, 255, 255); stroke-opacity: 1;\"/><path class=\"point\" transform=\"translate(159.83,185.81)\" d=\"M41,0A41,41 0 1,1 0,-41A41,41 0 0,1 41,0Z\" style=\"opacity: 0.7; stroke-width: 1px; fill: rgb(0, 204, 150); fill-opacity: 1; stroke: rgb(255, 255, 255); stroke-opacity: 1;\"/><path class=\"point\" transform=\"translate(75.12,200.97)\" d=\"M26.03,0A26.03,26.03 0 1,1 0,-26.03A26.03,26.03 0 0,1 26.03,0Z\" style=\"opacity: 0.7; stroke-width: 1px; fill: rgb(0, 204, 150); fill-opacity: 1; stroke: rgb(255, 255, 255); stroke-opacity: 1;\"/><path class=\"point\" transform=\"translate(72.83,208.56)\" d=\"M25.51,0A25.51,25.51 0 1,1 0,-25.51A25.51,25.51 0 0,1 25.51,0Z\" style=\"opacity: 0.7; stroke-width: 1px; fill: rgb(0, 204, 150); fill-opacity: 1; stroke: rgb(255, 255, 255); stroke-opacity: 1;\"/><path class=\"point\" transform=\"translate(223.93,219.93)\" d=\"M49.39,0A49.39,49.39 0 1,1 0,-49.39A49.39,49.39 0 0,1 49.39,0Z\" style=\"opacity: 0.7; stroke-width: 1px; fill: rgb(0, 204, 150); fill-opacity: 1; stroke: rgb(255, 255, 255); stroke-opacity: 1;\"/><path class=\"point\" transform=\"translate(109.46,223.73)\" d=\"M32.93,0A32.93,32.93 0 1,1 0,-32.93A32.93,32.93 0 0,1 32.93,0Z\" style=\"opacity: 0.7; stroke-width: 1px; fill: rgb(0, 204, 150); fill-opacity: 1; stroke: rgb(255, 255, 255); stroke-opacity: 1;\"/></g><g class=\"text\"/></g><g class=\"trace scatter trace4689a9\" style=\"stroke-miterlimit: 2; opacity: 1;\"><g class=\"fills\"/><g class=\"errorbars\"/><g class=\"lines\"/><g class=\"points\"><path class=\"point\" transform=\"translate(61.38,91.01)\" d=\"M22.69,0A22.69,22.69 0 1,1 0,-22.69A22.69,22.69 0 0,1 22.69,0Z\" style=\"opacity: 0.7; stroke-width: 1px; fill: rgb(239, 85, 59); fill-opacity: 1; stroke: rgb(255, 255, 255); stroke-opacity: 1;\"/><path class=\"point\" transform=\"translate(48.79,98.59)\" d=\"M19.13,0A19.13,19.13 0 1,1 0,-19.13A19.13,19.13 0 0,1 19.13,0Z\" style=\"opacity: 0.7; stroke-width: 1px; fill: rgb(239, 85, 59); fill-opacity: 1; stroke: rgb(255, 255, 255); stroke-opacity: 1;\"/><path class=\"point\" transform=\"translate(201.03,98.59)\" d=\"M46.57,0A46.57,46.57 0 1,1 0,-46.57A46.57,46.57 0 0,1 46.57,0Z\" style=\"opacity: 0.7; stroke-width: 1px; fill: rgb(239, 85, 59); fill-opacity: 1; stroke: rgb(255, 255, 255); stroke-opacity: 1;\"/><path class=\"point\" transform=\"translate(86.56,109.97)\" d=\"M28.52,0A28.52,28.52 0 1,1 0,-28.52A28.52,28.52 0 0,1 28.52,0Z\" style=\"opacity: 0.7; stroke-width: 1px; fill: rgb(239, 85, 59); fill-opacity: 1; stroke: rgb(255, 255, 255); stroke-opacity: 1;\"/><path class=\"point\" transform=\"translate(155.25,113.76)\" d=\"M40.33,0A40.33,40.33 0 1,1 0,-40.33A40.33,40.33 0 0,1 40.33,0Z\" style=\"opacity: 0.7; stroke-width: 1px; fill: rgb(239, 85, 59); fill-opacity: 1; stroke: rgb(255, 255, 255); stroke-opacity: 1;\"/><path class=\"point\" transform=\"translate(189.59,121.34)\" d=\"M45.09,0A45.09,45.09 0 1,1 0,-45.09A45.09,45.09 0 0,1 45.09,0Z\" style=\"opacity: 0.7; stroke-width: 1px; fill: rgb(239, 85, 59); fill-opacity: 1; stroke: rgb(255, 255, 255); stroke-opacity: 1;\"/><path class=\"point\" transform=\"translate(292.61,125.13)\" d=\"M57.04,0A57.04,57.04 0 1,1 0,-57.04A57.04,57.04 0 0,1 57.04,0Z\" style=\"opacity: 0.7; stroke-width: 1px; fill: rgb(239, 85, 59); fill-opacity: 1; stroke: rgb(255, 255, 255); stroke-opacity: 1;\"/><path class=\"point\" transform=\"translate(143.8,140.3)\" d=\"M38.61,0A38.61,38.61 0 1,1 0,-38.61A38.61,38.61 0 0,1 38.61,0Z\" style=\"opacity: 0.7; stroke-width: 1px; fill: rgb(239, 85, 59); fill-opacity: 1; stroke: rgb(255, 255, 255); stroke-opacity: 1;\"/><path class=\"point\" transform=\"translate(52.22,144.09)\" d=\"M20.16,0A20.16,20.16 0 1,1 0,-20.16A20.16,20.16 0 0,1 20.16,0Z\" style=\"opacity: 0.7; stroke-width: 1px; fill: rgb(239, 85, 59); fill-opacity: 1; stroke: rgb(255, 255, 255); stroke-opacity: 1;\"/><path class=\"point\" transform=\"translate(178.14,144.09)\" d=\"M43.56,0A43.56,43.56 0 1,1 0,-43.56A43.56,43.56 0 0,1 43.56,0Z\" style=\"opacity: 0.7; stroke-width: 1px; fill: rgb(239, 85, 59); fill-opacity: 1; stroke: rgb(255, 255, 255); stroke-opacity: 1;\"/><path class=\"point\" transform=\"translate(98.01,147.89)\" d=\"M30.8,0A30.8,30.8 0 1,1 0,-30.8A30.8,30.8 0 0,1 30.8,0Z\" style=\"opacity: 0.7; stroke-width: 1px; fill: rgb(239, 85, 59); fill-opacity: 1; stroke: rgb(255, 255, 255); stroke-opacity: 1;\"/><path class=\"point\" transform=\"translate(143.8,151.68)\" d=\"M38.61,0A38.61,38.61 0 1,1 0,-38.61A38.61,38.61 0 0,1 38.61,0Z\" style=\"opacity: 0.7; stroke-width: 1px; fill: rgb(239, 85, 59); fill-opacity: 1; stroke: rgb(255, 255, 255); stroke-opacity: 1;\"/><path class=\"point\" transform=\"translate(132.35,151.68)\" d=\"M36.82,0A36.82,36.82 0 1,1 0,-36.82A36.82,36.82 0 0,1 36.82,0Z\" style=\"opacity: 0.7; stroke-width: 1px; fill: rgb(239, 85, 59); fill-opacity: 1; stroke: rgb(255, 255, 255); stroke-opacity: 1;\"/><path class=\"point\" transform=\"translate(52.22,155.47)\" d=\"M20.16,0A20.16,20.16 0 1,1 0,-20.16A20.16,20.16 0 0,1 20.16,0Z\" style=\"opacity: 0.7; stroke-width: 1px; fill: rgb(239, 85, 59); fill-opacity: 1; stroke: rgb(255, 255, 255); stroke-opacity: 1;\"/><path class=\"point\" transform=\"translate(114.04,159.26)\" d=\"M33.74,0A33.74,33.74 0 1,1 0,-33.74A33.74,33.74 0 0,1 33.74,0Z\" style=\"opacity: 0.7; stroke-width: 1px; fill: rgb(239, 85, 59); fill-opacity: 1; stroke: rgb(255, 255, 255); stroke-opacity: 1;\"/><path class=\"point\" transform=\"translate(86.56,174.43)\" d=\"M28.52,0A28.52,28.52 0 1,1 0,-28.52A28.52,28.52 0 0,1 28.52,0Z\" style=\"opacity: 0.7; stroke-width: 1px; fill: rgb(239, 85, 59); fill-opacity: 1; stroke: rgb(255, 255, 255); stroke-opacity: 1;\"/><path class=\"point\" transform=\"translate(212.48,182.01)\" d=\"M48,0A48,48 0 1,1 0,-48A48,48 0 0,1 48,0Z\" style=\"opacity: 0.7; stroke-width: 1px; fill: rgb(239, 85, 59); fill-opacity: 1; stroke: rgb(255, 255, 255); stroke-opacity: 1;\"/><path class=\"point\" transform=\"translate(79.7,182.01)\" d=\"M27.05,0A27.05,27.05 0 1,1 0,-27.05A27.05,27.05 0 0,1 27.05,0Z\" style=\"opacity: 0.7; stroke-width: 1px; fill: rgb(239, 85, 59); fill-opacity: 1; stroke: rgb(255, 255, 255); stroke-opacity: 1;\"/><path class=\"point\" transform=\"translate(63.67,189.6)\" d=\"M23.28,0A23.28,23.28 0 1,1 0,-23.28A23.28,23.28 0 0,1 23.28,0Z\" style=\"opacity: 0.7; stroke-width: 1px; fill: rgb(239, 85, 59); fill-opacity: 1; stroke: rgb(255, 255, 255); stroke-opacity: 1;\"/><path class=\"point\" transform=\"translate(155.25,189.6)\" d=\"M40.33,0A40.33,40.33 0 1,1 0,-40.33A40.33,40.33 0 0,1 40.33,0Z\" style=\"opacity: 0.7; stroke-width: 1px; fill: rgb(239, 85, 59); fill-opacity: 1; stroke: rgb(255, 255, 255); stroke-opacity: 1;\"/><path class=\"point\" transform=\"translate(98.01,212.35)\" d=\"M30.8,0A30.8,30.8 0 1,1 0,-30.8A30.8,30.8 0 0,1 30.8,0Z\" style=\"opacity: 0.7; stroke-width: 1px; fill: rgb(239, 85, 59); fill-opacity: 1; stroke: rgb(255, 255, 255); stroke-opacity: 1;\"/><path class=\"point\" transform=\"translate(143.8,216.14)\" d=\"M38.61,0A38.61,38.61 0 1,1 0,-38.61A38.61,38.61 0 0,1 38.61,0Z\" style=\"opacity: 0.7; stroke-width: 1px; fill: rgb(239, 85, 59); fill-opacity: 1; stroke: rgb(255, 255, 255); stroke-opacity: 1;\"/><path class=\"point\" transform=\"translate(63.67,219.93)\" d=\"M23.28,0A23.28,23.28 0 1,1 0,-23.28A23.28,23.28 0 0,1 23.28,0Z\" style=\"opacity: 0.7; stroke-width: 1px; fill: rgb(239, 85, 59); fill-opacity: 1; stroke: rgb(255, 255, 255); stroke-opacity: 1;\"/><path class=\"point\" transform=\"translate(63.67,219.93)\" d=\"M23.28,0A23.28,23.28 0 1,1 0,-23.28A23.28,23.28 0 0,1 23.28,0Z\" style=\"opacity: 0.7; stroke-width: 1px; fill: rgb(239, 85, 59); fill-opacity: 1; stroke: rgb(255, 255, 255); stroke-opacity: 1;\"/><path class=\"point\" transform=\"translate(178.14,284.4)\" d=\"M43.56,0A43.56,43.56 0 1,1 0,-43.56A43.56,43.56 0 0,1 43.56,0Z\" style=\"opacity: 0.7; stroke-width: 1px; fill: rgb(239, 85, 59); fill-opacity: 1; stroke: rgb(255, 255, 255); stroke-opacity: 1;\"/></g><g class=\"text\"/></g><g class=\"trace scatter traceb6a69b\" style=\"stroke-miterlimit: 2; opacity: 1;\"><g class=\"fills\"/><g class=\"errorbars\"/><g class=\"lines\"/><g class=\"points\"><path class=\"point\" transform=\"translate(233.09,75.84)\" d=\"M50.48,0A50.48,50.48 0 1,1 0,-50.48A50.48,50.48 0 0,1 50.48,0Z\" style=\"opacity: 0.7; stroke-width: 1px; fill: rgb(99, 110, 250); fill-opacity: 1; stroke: rgb(255, 255, 255); stroke-opacity: 1;\"/><path class=\"point\" transform=\"translate(63.67,87.21)\" d=\"M23.28,0A23.28,23.28 0 1,1 0,-23.28A23.28,23.28 0 0,1 23.28,0Z\" style=\"opacity: 0.7; stroke-width: 1px; fill: rgb(99, 110, 250); fill-opacity: 1; stroke: rgb(255, 255, 255); stroke-opacity: 1;\"/><path class=\"point\" transform=\"translate(304.06,87.21)\" d=\"M58.21,0A58.21,58.21 0 1,1 0,-58.21A58.21,58.21 0 0,1 58.21,0Z\" style=\"opacity: 0.7; stroke-width: 1px; fill: rgb(99, 110, 250); fill-opacity: 1; stroke: rgb(255, 255, 255); stroke-opacity: 1;\"/><path class=\"point\" transform=\"translate(63.67,109.97)\" d=\"M23.28,0A23.28,23.28 0 1,1 0,-23.28A23.28,23.28 0 0,1 23.28,0Z\" style=\"opacity: 0.7; stroke-width: 1px; fill: rgb(99, 110, 250); fill-opacity: 1; stroke: rgb(255, 255, 255); stroke-opacity: 1;\"/><path class=\"point\" transform=\"translate(246.82,117.55)\" d=\"M52.07,0A52.07,52.07 0 1,1 0,-52.07A52.07,52.07 0 0,1 52.07,0Z\" style=\"opacity: 0.7; stroke-width: 1px; fill: rgb(99, 110, 250); fill-opacity: 1; stroke: rgb(255, 255, 255); stroke-opacity: 1;\"/><path class=\"point\" transform=\"translate(143.8,151.68)\" d=\"M38.61,0A38.61,38.61 0 1,1 0,-38.61A38.61,38.61 0 0,1 38.61,0Z\" style=\"opacity: 0.7; stroke-width: 1px; fill: rgb(99, 110, 250); fill-opacity: 1; stroke: rgb(255, 255, 255); stroke-opacity: 1;\"/><path class=\"point\" transform=\"translate(50.62,159.26)\" d=\"M19.69,0A19.69,19.69 0 1,1 0,-19.69A19.69,19.69 0 0,1 19.69,0Z\" style=\"opacity: 0.7; stroke-width: 1px; fill: rgb(99, 110, 250); fill-opacity: 1; stroke: rgb(255, 255, 255); stroke-opacity: 1;\"/><path class=\"point\" transform=\"translate(166.69,159.26)\" d=\"M41.98,0A41.98,41.98 0 1,1 0,-41.98A41.98,41.98 0 0,1 41.98,0Z\" style=\"opacity: 0.7; stroke-width: 1px; fill: rgb(99, 110, 250); fill-opacity: 1; stroke: rgb(255, 255, 255); stroke-opacity: 1;\"/><path class=\"point\" transform=\"translate(155.25,174.43)\" d=\"M40.33,0A40.33,40.33 0 1,1 0,-40.33A40.33,40.33 0 0,1 40.33,0Z\" style=\"opacity: 0.7; stroke-width: 1px; fill: rgb(99, 110, 250); fill-opacity: 1; stroke: rgb(255, 255, 255); stroke-opacity: 1;\"/><path class=\"point\" transform=\"translate(146.09,174.43)\" d=\"M38.96,0A38.96,38.96 0 1,1 0,-38.96A38.96,38.96 0 0,1 38.96,0Z\" style=\"opacity: 0.7; stroke-width: 1px; fill: rgb(99, 110, 250); fill-opacity: 1; stroke: rgb(255, 255, 255); stroke-opacity: 1;\"/><path class=\"point\" transform=\"translate(63.67,174.43)\" d=\"M23.28,0A23.28,23.28 0 1,1 0,-23.28A23.28,23.28 0 0,1 23.28,0Z\" style=\"opacity: 0.7; stroke-width: 1px; fill: rgb(99, 110, 250); fill-opacity: 1; stroke: rgb(255, 255, 255); stroke-opacity: 1;\"/><path class=\"point\" transform=\"translate(187.3,185.81)\" d=\"M44.79,0A44.79,44.79 0 1,1 0,-44.79A44.79,44.79 0 0,1 44.79,0Z\" style=\"opacity: 0.7; stroke-width: 1px; fill: rgb(99, 110, 250); fill-opacity: 1; stroke: rgb(255, 255, 255); stroke-opacity: 1;\"/><path class=\"point\" transform=\"translate(100.3,185.81)\" d=\"M31.24,0A31.24,31.24 0 1,1 0,-31.24A31.24,31.24 0 0,1 31.24,0Z\" style=\"opacity: 0.7; stroke-width: 1px; fill: rgb(99, 110, 250); fill-opacity: 1; stroke: rgb(255, 255, 255); stroke-opacity: 1;\"/><path class=\"point\" transform=\"translate(136.93,193.39)\" d=\"M37.55,0A37.55,37.55 0 1,1 0,-37.55A37.55,37.55 0 0,1 37.55,0Z\" style=\"opacity: 0.7; stroke-width: 1px; fill: rgb(99, 110, 250); fill-opacity: 1; stroke: rgb(255, 255, 255); stroke-opacity: 1;\"/><path class=\"point\" transform=\"translate(173.56,193.39)\" d=\"M42.93,0A42.93,42.93 0 1,1 0,-42.93A42.93,42.93 0 0,1 42.93,0Z\" style=\"opacity: 0.7; stroke-width: 1px; fill: rgb(99, 110, 250); fill-opacity: 1; stroke: rgb(255, 255, 255); stroke-opacity: 1;\"/><path class=\"point\" transform=\"translate(201.03,193.39)\" d=\"M46.57,0A46.57,46.57 0 1,1 0,-46.57A46.57,46.57 0 0,1 46.57,0Z\" style=\"opacity: 0.7; stroke-width: 1px; fill: rgb(99, 110, 250); fill-opacity: 1; stroke: rgb(255, 255, 255); stroke-opacity: 1;\"/><path class=\"point\" transform=\"translate(191.88,197.18)\" d=\"M45.39,0A45.39,45.39 0 1,1 0,-45.39A45.39,45.39 0 0,1 45.39,0Z\" style=\"opacity: 0.7; stroke-width: 1px; fill: rgb(99, 110, 250); fill-opacity: 1; stroke: rgb(255, 255, 255); stroke-opacity: 1;\"/><path class=\"point\" transform=\"translate(292.61,200.97)\" d=\"M57.04,0A57.04,57.04 0 1,1 0,-57.04A57.04,57.04 0 0,1 57.04,0Z\" style=\"opacity: 0.7; stroke-width: 1px; fill: rgb(99, 110, 250); fill-opacity: 1; stroke: rgb(255, 255, 255); stroke-opacity: 1;\"/><path class=\"point\" transform=\"translate(54.51,204.77)\" d=\"M20.83,0A20.83,20.83 0 1,1 0,-20.83A20.83,20.83 0 0,1 20.83,0Z\" style=\"opacity: 0.7; stroke-width: 1px; fill: rgb(99, 110, 250); fill-opacity: 1; stroke: rgb(255, 255, 255); stroke-opacity: 1;\"/><path class=\"point\" transform=\"translate(120.9,223.73)\" d=\"M34.93,0A34.93,34.93 0 1,1 0,-34.93A34.93,34.93 0 0,1 34.93,0Z\" style=\"opacity: 0.7; stroke-width: 1px; fill: rgb(99, 110, 250); fill-opacity: 1; stroke: rgb(255, 255, 255); stroke-opacity: 1;\"/></g><g class=\"text\"/></g><g class=\"trace scatter tracefea153\" style=\"stroke-miterlimit: 2; opacity: 1;\"><g class=\"fills\"/><g class=\"errorbars\"/><g class=\"lines\"/><g class=\"points\"><path class=\"point\" transform=\"translate(189.59,113.76)\" d=\"M45.09,0A45.09,45.09 0 1,1 0,-45.09A45.09,45.09 0 0,1 45.09,0Z\" style=\"opacity: 0.7; stroke-width: 1px; fill: rgb(171, 99, 250); fill-opacity: 1; stroke: rgb(255, 255, 255); stroke-opacity: 1;\"/><path class=\"point\" transform=\"translate(441.42,121.34)\" d=\"M70.82,0A70.82,70.82 0 1,1 0,-70.82A70.82,70.82 0 0,1 70.82,0Z\" style=\"opacity: 0.7; stroke-width: 1px; fill: rgb(171, 99, 250); fill-opacity: 1; stroke: rgb(255, 255, 255); stroke-opacity: 1;\"/><path class=\"point\" transform=\"translate(56.8,125.13)\" d=\"M21.47,0A21.47,21.47 0 1,1 0,-21.47A21.47,21.47 0 0,1 21.47,0Z\" style=\"opacity: 0.7; stroke-width: 1px; fill: rgb(171, 99, 250); fill-opacity: 1; stroke: rgb(255, 255, 255); stroke-opacity: 1;\"/><path class=\"point\" transform=\"translate(189.59,132.72)\" d=\"M45.09,0A45.09,45.09 0 1,1 0,-45.09A45.09,45.09 0 0,1 45.09,0Z\" style=\"opacity: 0.7; stroke-width: 1px; fill: rgb(171, 99, 250); fill-opacity: 1; stroke: rgb(255, 255, 255); stroke-opacity: 1;\"/><path class=\"point\" transform=\"translate(246.82,140.3)\" d=\"M52.07,0A52.07,52.07 0 1,1 0,-52.07A52.07,52.07 0 0,1 52.07,0Z\" style=\"opacity: 0.7; stroke-width: 1px; fill: rgb(171, 99, 250); fill-opacity: 1; stroke: rgb(255, 255, 255); stroke-opacity: 1;\"/><path class=\"point\" transform=\"translate(86.56,144.09)\" d=\"M28.52,0A28.52,28.52 0 1,1 0,-28.52A28.52,28.52 0 0,1 28.52,0Z\" style=\"opacity: 0.7; stroke-width: 1px; fill: rgb(171, 99, 250); fill-opacity: 1; stroke: rgb(255, 255, 255); stroke-opacity: 1;\"/><path class=\"point\" transform=\"translate(304.06,151.68)\" d=\"M58.21,0A58.21,58.21 0 1,1 0,-58.21A58.21,58.21 0 0,1 58.21,0Z\" style=\"opacity: 0.7; stroke-width: 1px; fill: rgb(171, 99, 250); fill-opacity: 1; stroke: rgb(255, 255, 255); stroke-opacity: 1;\"/><path class=\"point\" transform=\"translate(269.72,155.47)\" d=\"M54.61,0A54.61,54.61 0 1,1 0,-54.61A54.61,54.61 0 0,1 54.61,0Z\" style=\"opacity: 0.7; stroke-width: 1px; fill: rgb(171, 99, 250); fill-opacity: 1; stroke: rgb(255, 255, 255); stroke-opacity: 1;\"/><path class=\"point\" transform=\"translate(109.46,163.05)\" d=\"M32.93,0A32.93,32.93 0 1,1 0,-32.93A32.93,32.93 0 0,1 32.93,0Z\" style=\"opacity: 0.7; stroke-width: 1px; fill: rgb(171, 99, 250); fill-opacity: 1; stroke: rgb(255, 255, 255); stroke-opacity: 1;\"/><path class=\"point\" transform=\"translate(269.72,174.43)\" d=\"M54.61,0A54.61,54.61 0 1,1 0,-54.61A54.61,54.61 0 0,1 54.61,0Z\" style=\"opacity: 0.7; stroke-width: 1px; fill: rgb(171, 99, 250); fill-opacity: 1; stroke: rgb(255, 255, 255); stroke-opacity: 1;\"/><path class=\"point\" transform=\"translate(91.14,182.01)\" d=\"M29.45,0A29.45,29.45 0 1,1 0,-29.45A29.45,29.45 0 0,1 29.45,0Z\" style=\"opacity: 0.7; stroke-width: 1px; fill: rgb(171, 99, 250); fill-opacity: 1; stroke: rgb(255, 255, 255); stroke-opacity: 1;\"/><path class=\"point\" transform=\"translate(109.46,189.6)\" d=\"M32.93,0A32.93,32.93 0 1,1 0,-32.93A32.93,32.93 0 0,1 32.93,0Z\" style=\"opacity: 0.7; stroke-width: 1px; fill: rgb(171, 99, 250); fill-opacity: 1; stroke: rgb(255, 255, 255); stroke-opacity: 1;\"/><path class=\"point\" transform=\"translate(77.41,189.6)\" d=\"M26.55,0A26.55,26.55 0 1,1 0,-26.55A26.55,26.55 0 0,1 26.55,0Z\" style=\"opacity: 0.7; stroke-width: 1px; fill: rgb(171, 99, 250); fill-opacity: 1; stroke: rgb(255, 255, 255); stroke-opacity: 1;\"/><path class=\"point\" transform=\"translate(132.35,212.35)\" d=\"M36.82,0A36.82,36.82 0 1,1 0,-36.82A36.82,36.82 0 0,1 36.82,0Z\" style=\"opacity: 0.7; stroke-width: 1px; fill: rgb(171, 99, 250); fill-opacity: 1; stroke: rgb(255, 255, 255); stroke-opacity: 1;\"/><path class=\"point\" transform=\"translate(59.09,219.93)\" d=\"M22.09,0A22.09,22.09 0 1,1 0,-22.09A22.09,22.09 0 0,1 22.09,0Z\" style=\"opacity: 0.7; stroke-width: 1px; fill: rgb(171, 99, 250); fill-opacity: 1; stroke: rgb(255, 255, 255); stroke-opacity: 1;\"/><path class=\"point\" transform=\"translate(52.22,223.73)\" d=\"M20.16,0A20.16,20.16 0 1,1 0,-20.16A20.16,20.16 0 0,1 20.16,0Z\" style=\"opacity: 0.7; stroke-width: 1px; fill: rgb(171, 99, 250); fill-opacity: 1; stroke: rgb(255, 255, 255); stroke-opacity: 1;\"/><path class=\"point\" transform=\"translate(75.12,231.31)\" d=\"M26.03,0A26.03,26.03 0 1,1 0,-26.03A26.03,26.03 0 0,1 26.03,0Z\" style=\"opacity: 0.7; stroke-width: 1px; fill: rgb(171, 99, 250); fill-opacity: 1; stroke: rgb(255, 255, 255); stroke-opacity: 1;\"/><path class=\"point\" transform=\"translate(77.41,246.48)\" d=\"M26.55,0A26.55,26.55 0 1,1 0,-26.55A26.55,26.55 0 0,1 26.55,0Z\" style=\"opacity: 0.7; stroke-width: 1px; fill: rgb(171, 99, 250); fill-opacity: 1; stroke: rgb(255, 255, 255); stroke-opacity: 1;\"/><path class=\"point\" transform=\"translate(109.46,269.23)\" d=\"M32.93,0A32.93,32.93 0 1,1 0,-32.93A32.93,32.93 0 0,1 32.93,0Z\" style=\"opacity: 0.7; stroke-width: 1px; fill: rgb(171, 99, 250); fill-opacity: 1; stroke: rgb(255, 255, 255); stroke-opacity: 1;\"/></g><g class=\"text\"/></g><g class=\"trace scatter trace5659ff\" style=\"stroke-miterlimit: 2; opacity: 1;\"><g class=\"fills\"/><g class=\"errorbars\"/><g class=\"lines\"/><g class=\"points\"><path class=\"point\" transform=\"translate(86.56,140.3)\" d=\"M28.52,0A28.52,28.52 0 1,1 0,-28.52A28.52,28.52 0 0,1 28.52,0Z\" style=\"opacity: 0.7; stroke-width: 1px; fill: rgb(255, 161, 90); fill-opacity: 1; stroke: rgb(255, 255, 255); stroke-opacity: 1;\"/><path class=\"point\" transform=\"translate(189.59,147.89)\" d=\"M45.09,0A45.09,45.09 0 1,1 0,-45.09A45.09,45.09 0 0,1 45.09,0Z\" style=\"opacity: 0.7; stroke-width: 1px; fill: rgb(255, 161, 90); fill-opacity: 1; stroke: rgb(255, 255, 255); stroke-opacity: 1;\"/><path class=\"point\" transform=\"translate(63.67,151.68)\" d=\"M23.28,0A23.28,23.28 0 1,1 0,-23.28A23.28,23.28 0 0,1 23.28,0Z\" style=\"opacity: 0.7; stroke-width: 1px; fill: rgb(255, 161, 90); fill-opacity: 1; stroke: rgb(255, 255, 255); stroke-opacity: 1;\"/><path class=\"point\" transform=\"translate(49.93,166.85)\" d=\"M19.48,0A19.48,19.48 0 1,1 0,-19.48A19.48,19.48 0 0,1 19.48,0Z\" style=\"opacity: 0.7; stroke-width: 1px; fill: rgb(255, 161, 90); fill-opacity: 1; stroke: rgb(255, 255, 255); stroke-opacity: 1;\"/><path class=\"point\" transform=\"translate(315.51,170.64)\" d=\"M59.36,0A59.36,59.36 0 1,1 0,-59.36A59.36,59.36 0 0,1 59.36,0Z\" style=\"opacity: 0.7; stroke-width: 1px; fill: rgb(255, 161, 90); fill-opacity: 1; stroke: rgb(255, 255, 255); stroke-opacity: 1;\"/><path class=\"point\" transform=\"translate(139.22,182.01)\" d=\"M37.9,0A37.9,37.9 0 1,1 0,-37.9A37.9,37.9 0 0,1 37.9,0Z\" style=\"opacity: 0.7; stroke-width: 1px; fill: rgb(255, 161, 90); fill-opacity: 1; stroke: rgb(255, 255, 255); stroke-opacity: 1;\"/><path class=\"point\" transform=\"translate(52.22,200.97)\" d=\"M20.16,0A20.16,20.16 0 1,1 0,-20.16A20.16,20.16 0 0,1 20.16,0Z\" style=\"opacity: 0.7; stroke-width: 1px; fill: rgb(255, 161, 90); fill-opacity: 1; stroke: rgb(255, 255, 255); stroke-opacity: 1;\"/><path class=\"point\" transform=\"translate(116.33,204.77)\" d=\"M34.14,0A34.14,34.14 0 1,1 0,-34.14A34.14,34.14 0 0,1 34.14,0Z\" style=\"opacity: 0.7; stroke-width: 1px; fill: rgb(255, 161, 90); fill-opacity: 1; stroke: rgb(255, 255, 255); stroke-opacity: 1;\"/><path class=\"point\" transform=\"translate(98.01,212.35)\" d=\"M30.8,0A30.8,30.8 0 1,1 0,-30.8A30.8,30.8 0 0,1 30.8,0Z\" style=\"opacity: 0.7; stroke-width: 1px; fill: rgb(255, 161, 90); fill-opacity: 1; stroke: rgb(255, 255, 255); stroke-opacity: 1;\"/><path class=\"point\" transform=\"translate(86.56,216.14)\" d=\"M28.52,0A28.52,28.52 0 1,1 0,-28.52A28.52,28.52 0 0,1 28.52,0Z\" style=\"opacity: 0.7; stroke-width: 1px; fill: rgb(255, 161, 90); fill-opacity: 1; stroke: rgb(255, 255, 255); stroke-opacity: 1;\"/><path class=\"point\" transform=\"translate(217.06,242.69)\" d=\"M48.56,0A48.56,48.56 0 1,1 0,-48.56A48.56,48.56 0 0,1 48.56,0Z\" style=\"opacity: 0.7; stroke-width: 1px; fill: rgb(255, 161, 90); fill-opacity: 1; stroke: rgb(255, 255, 255); stroke-opacity: 1;\"/><path class=\"point\" transform=\"translate(187.3,318.52)\" d=\"M44.79,0A44.79,44.79 0 1,1 0,-44.79A44.79,44.79 0 0,1 44.79,0Z\" style=\"opacity: 0.7; stroke-width: 1px; fill: rgb(255, 161, 90); fill-opacity: 1; stroke: rgb(255, 255, 255); stroke-opacity: 1;\"/></g><g class=\"text\"/></g></g></g><g class=\"overplot\"/><path class=\"xlines-above crisp\" d=\"M0,0\" style=\"fill: none;\"/><path class=\"ylines-above crisp\" d=\"M0,0\" style=\"fill: none;\"/><g class=\"overlines-above\"/><g class=\"xaxislayer-above\"><g class=\"xtick\"><text text-anchor=\"middle\" x=\"0\" y=\"461\" transform=\"translate(70.88,0)\" style=\"font-family: 'Open Sans', verdana, arial, sans-serif; font-size: 12px; fill: rgb(42, 63, 95); fill-opacity: 1; white-space: pre;\">0</text></g><g class=\"xtick\"><text text-anchor=\"middle\" x=\"0\" y=\"461\" transform=\"translate(185.35,0)\" style=\"font-family: 'Open Sans', verdana, arial, sans-serif; font-size: 12px; fill: rgb(42, 63, 95); fill-opacity: 1; white-space: pre;\">50</text></g><g class=\"xtick\"><text text-anchor=\"middle\" x=\"0\" y=\"461\" transform=\"translate(299.82,0)\" style=\"font-family: 'Open Sans', verdana, arial, sans-serif; font-size: 12px; fill: rgb(42, 63, 95); fill-opacity: 1; white-space: pre;\">100</text></g><g class=\"xtick\"><text text-anchor=\"middle\" x=\"0\" y=\"461\" transform=\"translate(414.29,0)\" style=\"font-family: 'Open Sans', verdana, arial, sans-serif; font-size: 12px; fill: rgb(42, 63, 95); fill-opacity: 1; white-space: pre;\">150</text></g><g class=\"xtick\"><text text-anchor=\"middle\" x=\"0\" y=\"461\" transform=\"translate(528.77,0)\" style=\"font-family: 'Open Sans', verdana, arial, sans-serif; font-size: 12px; fill: rgb(42, 63, 95); fill-opacity: 1; white-space: pre;\">200</text></g></g><g class=\"yaxislayer-above\"><g class=\"ytick\"><text text-anchor=\"end\" x=\"52\" y=\"4.199999999999999\" transform=\"translate(0,374.73)\" style=\"font-family: 'Open Sans', verdana, arial, sans-serif; font-size: 12px; fill: rgb(42, 63, 95); fill-opacity: 1; white-space: pre;\">2</text></g><g class=\"ytick\"><text text-anchor=\"end\" x=\"52\" y=\"4.199999999999999\" transform=\"translate(0,298.89)\" style=\"font-family: 'Open Sans', verdana, arial, sans-serif; font-size: 12px; fill: rgb(42, 63, 95); fill-opacity: 1; white-space: pre;\">4</text></g><g class=\"ytick\"><text text-anchor=\"end\" x=\"52\" y=\"4.199999999999999\" transform=\"translate(0,223.05)\" style=\"font-family: 'Open Sans', verdana, arial, sans-serif; font-size: 12px; fill: rgb(42, 63, 95); fill-opacity: 1; white-space: pre;\">6</text></g><g class=\"ytick\"><text text-anchor=\"end\" x=\"52\" y=\"4.199999999999999\" transform=\"translate(0,147.20999999999998)\" style=\"font-family: 'Open Sans', verdana, arial, sans-serif; font-size: 12px; fill: rgb(42, 63, 95); fill-opacity: 1; white-space: pre;\">8</text></g><g class=\"ytick\"><text text-anchor=\"end\" x=\"52\" y=\"4.199999999999999\" transform=\"translate(0,71.37)\" style=\"font-family: 'Open Sans', verdana, arial, sans-serif; font-size: 12px; fill: rgb(42, 63, 95); fill-opacity: 1; white-space: pre;\">10</text></g></g><g class=\"overaxes-above\"/></g></g><g class=\"polarlayer\"/><g class=\"ternarylayer\"/><g class=\"geolayer\"/><g class=\"funnelarealayer\"/><g class=\"pielayer\"/><g class=\"treemaplayer\"/><g class=\"sunburstlayer\"/><g class=\"glimages\"/><defs id=\"topdefs-97ba4c\"><g class=\"clips\"/><clipPath id=\"legend97ba4c\"><rect width=\"76\" height=\"121\" x=\"0\" y=\"0\"/></clipPath></defs><g class=\"layer-above\"><g class=\"imagelayer\"/><g class=\"shapelayer\"/></g><g class=\"infolayer\"><g class=\"legend\" pointer-events=\"all\" transform=\"translate(611.96,60)\"><rect class=\"bg\" shape-rendering=\"crispEdges\" style=\"stroke: rgb(68, 68, 68); stroke-opacity: 1; fill: rgb(243, 243, 243); fill-opacity: 1; stroke-width: 0px;\" width=\"76\" height=\"121\" x=\"0\" y=\"0\"/><g class=\"scrollbox\" transform=\"\" clip-path=\"url('#legend97ba4c')\"><text class=\"legendtitletext\" text-anchor=\"start\" x=\"2\" y=\"15.600000000000001\" style=\"font-family: 'Open Sans', verdana, arial, sans-serif; font-size: 12px; fill: rgb(42, 63, 95); fill-opacity: 1; white-space: pre;\">Year</text><g class=\"groups\" transform=\"\"><g class=\"traces\" transform=\"translate(0,30.1)\" style=\"opacity: 1;\"><text class=\"legendtext\" text-anchor=\"start\" x=\"40\" y=\"4.680000000000001\" style=\"font-family: 'Open Sans', verdana, arial, sans-serif; font-size: 12px; fill: rgb(42, 63, 95); fill-opacity: 1; white-space: pre;\">2001</text><g class=\"layers\" style=\"opacity: 1;\"><g class=\"legendfill\"/><g class=\"legendlines\"/><g class=\"legendsymbols\"><g class=\"legendpoints\"><path class=\"scatterpts\" transform=\"translate(20,0)\" d=\"M8,0A8,8 0 1,1 0,-8A8,8 0 0,1 8,0Z\" style=\"opacity: 0.7; stroke-width: 1px; fill: rgb(0, 204, 150); fill-opacity: 1; stroke: rgb(255, 255, 255); stroke-opacity: 1;\"/></g></g></g><rect class=\"legendtoggle\" x=\"0\" y=\"-9.5\" width=\"70.515625\" height=\"19\" style=\"fill: rgb(0, 0, 0); fill-opacity: 0;\"/></g></g><g class=\"groups\" transform=\"\"><g class=\"traces\" transform=\"translate(0,49.1)\" style=\"opacity: 1;\"><text class=\"legendtext\" text-anchor=\"start\" x=\"40\" y=\"4.680000000000001\" style=\"font-family: 'Open Sans', verdana, arial, sans-serif; font-size: 12px; fill: rgb(42, 63, 95); fill-opacity: 1; white-space: pre;\">2002</text><g class=\"layers\" style=\"opacity: 1;\"><g class=\"legendfill\"/><g class=\"legendlines\"/><g class=\"legendsymbols\"><g class=\"legendpoints\"><path class=\"scatterpts\" transform=\"translate(20,0)\" d=\"M8,0A8,8 0 1,1 0,-8A8,8 0 0,1 8,0Z\" style=\"opacity: 0.7; stroke-width: 1px; fill: rgb(239, 85, 59); fill-opacity: 1; stroke: rgb(255, 255, 255); stroke-opacity: 1;\"/></g></g></g><rect class=\"legendtoggle\" x=\"0\" y=\"-9.5\" width=\"70.515625\" height=\"19\" style=\"fill: rgb(0, 0, 0); fill-opacity: 0;\"/></g></g><g class=\"groups\" transform=\"\"><g class=\"traces\" transform=\"translate(0,68.1)\" style=\"opacity: 1;\"><text class=\"legendtext\" text-anchor=\"start\" x=\"40\" y=\"4.680000000000001\" style=\"font-family: 'Open Sans', verdana, arial, sans-serif; font-size: 12px; fill: rgb(42, 63, 95); fill-opacity: 1; white-space: pre;\">2003</text><g class=\"layers\" style=\"opacity: 1;\"><g class=\"legendfill\"/><g class=\"legendlines\"/><g class=\"legendsymbols\"><g class=\"legendpoints\"><path class=\"scatterpts\" transform=\"translate(20,0)\" d=\"M8,0A8,8 0 1,1 0,-8A8,8 0 0,1 8,0Z\" style=\"opacity: 0.7; stroke-width: 1px; fill: rgb(99, 110, 250); fill-opacity: 1; stroke: rgb(255, 255, 255); stroke-opacity: 1;\"/></g></g></g><rect class=\"legendtoggle\" x=\"0\" y=\"-9.5\" width=\"70.515625\" height=\"19\" style=\"fill: rgb(0, 0, 0); fill-opacity: 0;\"/></g></g><g class=\"groups\" transform=\"\"><g class=\"traces\" transform=\"translate(0,87.1)\" style=\"opacity: 1;\"><text class=\"legendtext\" text-anchor=\"start\" x=\"40\" y=\"4.680000000000001\" style=\"font-family: 'Open Sans', verdana, arial, sans-serif; font-size: 12px; fill: rgb(42, 63, 95); fill-opacity: 1; white-space: pre;\">2004</text><g class=\"layers\" style=\"opacity: 1;\"><g class=\"legendfill\"/><g class=\"legendlines\"/><g class=\"legendsymbols\"><g class=\"legendpoints\"><path class=\"scatterpts\" transform=\"translate(20,0)\" d=\"M8,0A8,8 0 1,1 0,-8A8,8 0 0,1 8,0Z\" style=\"opacity: 0.7; stroke-width: 1px; fill: rgb(171, 99, 250); fill-opacity: 1; stroke: rgb(255, 255, 255); stroke-opacity: 1;\"/></g></g></g><rect class=\"legendtoggle\" x=\"0\" y=\"-9.5\" width=\"70.515625\" height=\"19\" style=\"fill: rgb(0, 0, 0); fill-opacity: 0;\"/></g></g><g class=\"groups\" transform=\"\"><g class=\"traces\" transform=\"translate(0,106.1)\" style=\"opacity: 1;\"><text class=\"legendtext\" text-anchor=\"start\" x=\"40\" y=\"4.680000000000001\" style=\"font-family: 'Open Sans', verdana, arial, sans-serif; font-size: 12px; fill: rgb(42, 63, 95); fill-opacity: 1; white-space: pre;\">2005</text><g class=\"layers\" style=\"opacity: 1;\"><g class=\"legendfill\"/><g class=\"legendlines\"/><g class=\"legendsymbols\"><g class=\"legendpoints\"><path class=\"scatterpts\" transform=\"translate(20,0)\" d=\"M8,0A8,8 0 1,1 0,-8A8,8 0 0,1 8,0Z\" style=\"opacity: 0.7; stroke-width: 1px; fill: rgb(255, 161, 90); fill-opacity: 1; stroke: rgb(255, 255, 255); stroke-opacity: 1;\"/></g></g></g><rect class=\"legendtoggle\" x=\"0\" y=\"-9.5\" width=\"70.515625\" height=\"19\" style=\"fill: rgb(0, 0, 0); fill-opacity: 0;\"/></g></g></g><rect class=\"scrollbar\" rx=\"20\" ry=\"3\" width=\"0\" height=\"0\" style=\"fill: rgb(128, 139, 164); fill-opacity: 1;\" x=\"0\" y=\"0\"/></g><g class=\"g-gtitle\"><text class=\"gtitle\" x=\"35\" y=\"30\" text-anchor=\"start\" dy=\"0em\" style=\"font-family: 'Open Sans', verdana, arial, sans-serif; font-size: 17px; fill: rgb(42, 63, 95); opacity: 1; font-weight: normal; white-space: pre;\">Movies Budget vs Rating</text></g><g class=\"g-xtitle\"><text class=\"xtitle\" x=\"327\" y=\"488.3\" text-anchor=\"middle\" style=\"font-family: 'Open Sans', verdana, arial, sans-serif; font-size: 14px; fill: rgb(42, 63, 95); opacity: 1; font-weight: normal; white-space: pre;\">Movie Budget (in Million Dollars)</text></g><g class=\"g-ytitle\" transform=\"translate(2.0654296875,0)\"><text class=\"ytitle\" transform=\"rotate(-90,11.934375000000003,254)\" x=\"11.934375000000003\" y=\"254\" text-anchor=\"middle\" style=\"font-family: 'Open Sans', verdana, arial, sans-serif; font-size: 14px; fill: rgb(42, 63, 95); opacity: 1; font-weight: normal; white-space: pre;\">Rating</text></g></g></svg>",
      "text/html": [
       "<div\n",
       "    class=\"webio-mountpoint\"\n",
       "    data-webio-mountpoint=\"8975219479417272110\"\n",
       ">\n",
       "    <script>\n",
       "    (function(){\n",
       "    // Some integrations (namely, IJulia/Jupyter) use an alternate render pathway than\n",
       "    // just putting the html on the page. If WebIO isn't defined, then it's pretty likely\n",
       "    // that we're in one of those situations and the integration just isn't installed\n",
       "    // correctly.\n",
       "    if (typeof window.WebIO === \"undefined\") {\n",
       "        document\n",
       "            .querySelector('[data-webio-mountpoint=\"8975219479417272110\"]')\n",
       "            .innerHTML = (\n",
       "                '<div style=\"padding: 1em; background-color: #f8d6da; border: 1px solid #f5c6cb; font-weight: bold;\">' +\n",
       "                '<p><strong>WebIO not detected.</strong></p>' +\n",
       "                '<p>Please read ' +\n",
       "                '<a href=\"https://juliagizmos.github.io/WebIO.jl/latest/troubleshooting/not-detected/\" target=\"_blank\">the troubleshooting guide</a> ' +\n",
       "                'for more information on how to resolve this issue.</p>' +\n",
       "                '<p><a href=\"https://juliagizmos.github.io/WebIO.jl/latest/troubleshooting/not-detected/\" target=\"_blank\">https://juliagizmos.github.io/WebIO.jl/latest/troubleshooting/not-detected/</a></p>' +\n",
       "                '</div>'\n",
       "            );\n",
       "        return;\n",
       "    }\n",
       "    WebIO.mount(\n",
       "        document.querySelector('[data-webio-mountpoint=\"8975219479417272110\"]'),\n",
       "        {\"props\":{},\"nodeType\":\"Scope\",\"type\":\"node\",\"instanceArgs\":{\"imports\":{\"data\":[{\"name\":\"Plotly\",\"type\":\"js\",\"url\":\"\\/assetserver\\/409e9b326e803947d9820a15181c464d371bd1b4-plotly.min.js\"},{\"name\":null,\"type\":\"js\",\"url\":\"\\/assetserver\\/7df8768277b513869b526ee8426daf800fd976e7-plotly_webio.bundle.js\"}],\"type\":\"async_block\"},\"id\":\"6714522208248133037\",\"handlers\":{\"_toImage\":[\"(function (options){return this.Plotly.toImage(this.plotElem,options).then((function (data){return WebIO.setval({\\\"name\\\":\\\"image\\\",\\\"scope\\\":\\\"6714522208248133037\\\",\\\"id\\\":\\\"15699777633040299827\\\",\\\"type\\\":\\\"observable\\\"},data)}))})\"],\"__get_gd_contents\":[\"(function (prop){prop==\\\"data\\\" ? (WebIO.setval({\\\"name\\\":\\\"__gd_contents\\\",\\\"scope\\\":\\\"6714522208248133037\\\",\\\"id\\\":\\\"1767604500192295046\\\",\\\"type\\\":\\\"observable\\\"},this.plotElem.data)) : undefined; return prop==\\\"layout\\\" ? (WebIO.setval({\\\"name\\\":\\\"__gd_contents\\\",\\\"scope\\\":\\\"6714522208248133037\\\",\\\"id\\\":\\\"1767604500192295046\\\",\\\"type\\\":\\\"observable\\\"},this.plotElem.layout)) : undefined})\"],\"_downloadImage\":[\"(function (options){return this.Plotly.downloadImage(this.plotElem,options)})\"],\"_commands\":[\"(function (args){var fn=args.shift(); var elem=this.plotElem; var Plotly=this.Plotly; args.unshift(elem); return Plotly[fn].apply(this,args)})\"]},\"systemjs_options\":null,\"mount_callbacks\":[\"function () {\\n    var handler = ((function (Plotly,PlotlyWebIO){PlotlyWebIO.init(WebIO); var gd=this.dom.querySelector(\\\"#plot-a07ad37b-2264-4764-a362-74c02883ce10\\\"); this.plotElem=gd; this.Plotly=Plotly; (window.Blink!==undefined) ? (gd.style.width=\\\"100%\\\", gd.style.height=\\\"100vh\\\", gd.style.marginLeft=\\\"0%\\\", gd.style.marginTop=\\\"0vh\\\") : undefined; window.onresize=(function (){return Plotly.Plots.resize(gd)}); Plotly.newPlot(gd,[{\\\"showlegend\\\":true,\\\"mode\\\":\\\"markers\\\",\\\"xaxis\\\":\\\"x\\\",\\\"name\\\":\\\"2001\\\",\\\"text\\\":[\\\"Title: Finding Nemo<br> Year: 2003<br> Budget: 94.0<br> Rating: 8.3<br>\\\",\\\"Title: 21 Grams<br> Year: 2003<br> Budget: 20.0<br> Rating: 8.0<br>\\\",\\\"Title: Pirates of the Caribbean: The Curse of the Black Pearl<br> Year: 2003<br> Budget: 125.0<br> Rating: 8.0<br>\\\",\\\"Title: Adaptation.<br> Year: 2002<br> Budget: 19.0<br> Rating: 7.9<br>\\\",\\\"Title: Far from Heaven<br> Year: 2002<br> Budget: 13.5<br> Rating: 7.7<br>\\\",\\\"Title: Road to Perdition<br> Year: 2002<br> Budget: 80.0<br> Rating: 7.7<br>\\\",\\\"Title: Ocean's Eleven<br> Year: 2001<br> Budget: 85.0<br> Rating: 7.5<br>\\\",\\\"Title: Life as a House<br> Year: 2001<br> Budget: 18.0<br> Rating: 7.5<br>\\\",\\\"Title: Quiet American, The<br> Year: 2002<br> Budget: 30.0<br> Rating: 7.4<br>\\\",\\\"Title: School of Rock, The<br> Year: 2003<br> Budget: 20.0<br> Rating: 7.4<br>\\\",\\\"Title: Gosford Park<br> Year: 2001<br> Budget: 15.0<br> Rating: 7.3<br>\\\",\\\"Title: Bourne Supremacy, The<br> Year: 2004<br> Budget: 75.0<br> Rating: 7.3<br>\\\",\\\"Title: Ice Age<br> Year: 2002<br> Budget: 60.0<br> Rating: 7.3<br>\\\",\\\"Title: K-PAX<br> Year: 2001<br> Budget: 48.0<br> Rating: 7.2<br>\\\",\\\"Title: I Am Sam<br> Year: 2001<br> Budget: 22.0<br> Rating: 7.2<br>\\\",\\\"Title: Peter Pan<br> Year: 2003<br> Budget: 100.0<br> Rating: 7.2<br>\\\",\\\"Title: We Were Soldiers<br> Year: 2002<br> Budget: 75.0<br> Rating: 7.1<br>\\\",\\\"Title: Blow<br> Year: 2001<br> Budget: 30.0<br> Rating: 7.1<br>\\\",\\\"Title: Troy<br> Year: 2004<br> Budget: 185.0<br> Rating: 7.1<br>\\\",\\\"Title: Star Wars: Episode II - Attack of the Clones<br> Year: 2002<br> Budget: 120.0<br> Rating: 7.0<br>\\\",\\\"Title: Mean Girls<br> Year: 2004<br> Budget: 17.0<br> Rating: 7.0<br>\\\",\\\"Title: Jay and Silent Bob Strike Back<br> Year: 2001<br> Budget: 22.0<br> Rating: 6.9<br>\\\",\\\"Title: 50 First Dates<br> Year: 2004<br> Budget: 75.0<br> Rating: 6.8<br>\\\",\\\"Title: Score, The<br> Year: 2001<br> Budget: 68.0<br> Rating: 6.8<br>\\\",\\\"Title: Coach Carter<br> Year: 2005<br> Budget: 30.0<br> Rating: 6.6<br>\\\",\\\"Title: National Treasure<br> Year: 2004<br> Budget: 100.0<br> Rating: 6.6<br>\\\",\\\"Title: Blade II<br> Year: 2002<br> Budget: 55.0<br> Rating: 6.6<br>\\\",\\\"Title: Tuck Everlasting<br> Year: 2002<br> Budget: 15.0<br> Rating: 6.5<br>\\\",\\\"Title: Unsaid, The<br> Year: 2001<br> Budget: 22.0<br> Rating: 6.5<br>\\\",\\\"Title: Rat Race<br> Year: 2001<br> Budget: 48.0<br> Rating: 6.5<br>\\\",\\\"Title: SpongeBob SquarePants Movie, The<br> Year: 2004<br> Budget: 30.0<br> Rating: 6.5<br>\\\",\\\"Title: Star Trek: Nemesis<br> Year: 2002<br> Budget: 70.0<br> Rating: 6.5<br>\\\",\\\"Title: Robots<br> Year: 2005<br> Budget: 75.0<br> Rating: 6.4<br>\\\",\\\"Title: Femme Fatale<br> Year: 2002<br> Budget: 35.0<br> Rating: 6.4<br>\\\",\\\"Title: Ali<br> Year: 2001<br> Budget: 107.0<br> Rating: 6.4<br>\\\",\\\"Title: Death to Smoochy<br> Year: 2002<br> Budget: 55.0<br> Rating: 6.3<br>\\\",\\\"Title: Day After Tomorrow, The<br> Year: 2004<br> Budget: 125.0<br> Rating: 6.3<br>\\\",\\\"Title: Blood Work<br> Year: 2002<br> Budget: 50.0<br> Rating: 6.3<br>\\\",\\\"Title: Assault on Precinct 13<br> Year: 2005<br> Budget: 20.0<br> Rating: 6.3<br>\\\",\\\"Title: American Wedding<br> Year: 2003<br> Budget: 55.0<br> Rating: 6.3<br>\\\",\\\"Title: Osmosis Jones<br> Year: 2001<br> Budget: 75.0<br> Rating: 6.2<br>\\\",\\\"Title: Kiss of the Dragon<br> Year: 2001<br> Budget: 25.0<br> Rating: 6.2<br>\\\",\\\"Title: Swordfish<br> Year: 2001<br> Budget: 80.0<br> Rating: 6.2<br>\\\",\\\"Title: Hannibal<br> Year: 2001<br> Budget: 87.0<br> Rating: 6.2<br>\\\",\\\"Title: Chronicles of Riddick, The<br> Year: 2004<br> Budget: 110.0<br> Rating: 6.2<br>\\\",\\\"Title: Jonah: A VeggieTales Movie<br> Year: 2002<br> Budget: 15.0<br> Rating: 6.2<br>\\\",\\\"Title: To Kill a King<br> Year: 2003<br> Budget: 14.3<br> Rating: 6.1<br>\\\",\\\"Title: High Crimes<br> Year: 2002<br> Budget: 42.0<br> Rating: 6.1<br>\\\",\\\"Title: Along Came a Spider<br> Year: 2001<br> Budget: 28.0<br> Rating: 6.1<br>\\\",\\\"Title: Mona Lisa Smile<br> Year: 2003<br> Budget: 65.0<br> Rating: 6.1<br>\\\",\\\"Title: Shall We Dance<br> Year: 2004<br> Budget: 40.0<br> Rating: 6.0<br>\\\",\\\"Title: Because of Winn-Dixie<br> Year: 2005<br> Budget: 14.0<br> Rating: 5.9<br>\\\",\\\"Title: Captain Corelli's Mandolin<br> Year: 2001<br> Budget: 57.0<br> Rating: 5.9<br>\\\",\\\"Title: Sahara<br> Year: 2005<br> Budget: 130.0<br> Rating: 5.8<br>\\\",\\\"Title: Blue Crush<br> Year: 2002<br> Budget: 30.0<br> Rating: 5.7<br>\\\",\\\"Title: Daddy Day Care<br> Year: 2003<br> Budget: 60.0<br> Rating: 5.7<br>\\\",\\\"Title: Gods and Generals<br> Year: 2003<br> Budget: 56.0<br> Rating: 5.7<br>\\\",\\\"Title: Around the World in 80 Days<br> Year: 2004<br> Budget: 110.0<br> Rating: 5.7<br>\\\",\\\"Title: What a Girl Wants<br> Year: 2003<br> Budget: 20.0<br> Rating: 5.7<br>\\\",\\\"Title: Angel Eyes<br> Year: 2001<br> Budget: 38.0<br> Rating: 5.6<br>\\\",\\\"Title: Just Visiting<br> Year: 2001<br> Budget: 40.0<br> Rating: 5.6<br>\\\",\\\"Title: xXx<br> Year: 2002<br> Budget: 85.0<br> Rating: 5.5<br>\\\",\\\"Title: Divine Secrets of the Ya-Ya Sisterhood<br> Year: 2002<br> Budget: 27.0<br> Rating: 5.5<br>\\\",\\\"Title: Be Cool<br> Year: 2005<br> Budget: 53.0<br> Rating: 5.5<br>\\\",\\\"Title: George and the Dragon<br> Year: 2004<br> Budget: 32.0<br> Rating: 5.5<br>\\\",\\\"Title: 3000 Miles to Graceland<br> Year: 2001<br> Budget: 62.0<br> Rating: 5.4<br>\\\",\\\"Title: Core, The<br> Year: 2003<br> Budget: 74.0<br> Rating: 5.4<br>\\\",\\\"Title: Man Apart, A<br> Year: 2003<br> Budget: 36.0<br> Rating: 5.4<br>\\\",\\\"Title: Princess Diaries 2: Royal Engagement, The<br> Year: 2004<br> Budget: 40.0<br> Rating: 5.3<br>\\\",\\\"Title: Drumline<br> Year: 2002<br> Budget: 20.0<br> Rating: 5.3<br>\\\",\\\"Title: Scorpion King, The<br> Year: 2002<br> Budget: 60.0<br> Rating: 5.3<br>\\\",\\\"Title: Welcome to Mooseport<br> Year: 2004<br> Budget: 26.0<br> Rating: 5.3<br>\\\",\\\"Title: Bulletproof Monk<br> Year: 2003<br> Budget: 52.0<br> Rating: 5.2<br>\\\",\\\"Title: Dreamcatcher<br> Year: 2003<br> Budget: 68.0<br> Rating: 5.2<br>\\\",\\\"Title: Timeline<br> Year: 2003<br> Budget: 80.0<br> Rating: 5.2<br>\\\",\\\"Title: 2 Fast 2 Furious<br> Year: 2003<br> Budget: 76.0<br> Rating: 5.1<br>\\\",\\\"Title: Wedding Date, The<br> Year: 2005<br> Budget: 15.0<br> Rating: 5.0<br>\\\",\\\"Title: Charlie's Angels: Full Throttle<br> Year: 2003<br> Budget: 120.0<br> Rating: 5.0<br>\\\",\\\"Title: All the Queen's Men<br> Year: 2001<br> Budget: 25.0<br> Rating: 5.0<br>\\\",\\\"Title: Elektra<br> Year: 2005<br> Budget: 43.0<br> Rating: 4.9<br>\\\",\\\"Title: Malibu's Most Wanted<br> Year: 2003<br> Budget: 16.0<br> Rating: 4.9<br>\\\",\\\"Title: Double Take<br> Year: 2001<br> Budget: 24.0<br> Rating: 4.8<br>\\\",\\\"Title: Big Bounce, The<br> Year: 2004<br> Budget: 50.0<br> Rating: 4.7<br>\\\",\\\"Title: Wild Thornberrys Movie, The<br> Year: 2002<br> Budget: 35.0<br> Rating: 4.7<br>\\\",\\\"Title: Cursed<br> Year: 2005<br> Budget: 35.0<br> Rating: 4.7<br>\\\",\\\"Title: House of Wax<br> Year: 2005<br> Budget: 30.0<br> Rating: 4.6<br>\\\",\\\"Title: Maid in Manhattan<br> Year: 2002<br> Budget: 55.0<br> Rating: 4.6<br>\\\",\\\"Title: Boat Trip<br> Year: 2002<br> Budget: 20.0<br> Rating: 4.5<br>\\\",\\\"Title: Touch, The<br> Year: 2002<br> Budget: 20.0<br> Rating: 4.5<br>\\\",\\\"Title: Catch That Kid<br> Year: 2004<br> Budget: 18.0<br> Rating: 4.5<br>\\\",\\\"Title: Town & Country<br> Year: 2001<br> Budget: 90.0<br> Rating: 4.5<br>\\\",\\\"Title: Confessions of a Teenage Drama Queen<br> Year: 2004<br> Budget: 15.0<br> Rating: 4.4<br>\\\",\\\"Title: Musketeer, The<br> Year: 2001<br> Budget: 40.0<br> Rating: 4.4<br>\\\",\\\"Title: Legally Blonde 2: Red, White & Blonde<br> Year: 2003<br> Budget: 45.0<br> Rating: 4.4<br>\\\",\\\"Title: Anacondas: The Hunt for the Blood Orchid<br> Year: 2004<br> Budget: 25.0<br> Rating: 4.2<br>\\\",\\\"Title: xXx: State of the Union<br> Year: 2005<br> Budget: 87.0<br> Rating: 3.9<br>\\\",\\\"Title: Agent Cody Banks 2: Destination London<br> Year: 2004<br> Budget: 26.0<br> Rating: 3.8<br>\\\",\\\"Title: Torque<br> Year: 2004<br> Budget: 40.0<br> Rating: 3.2<br>\\\",\\\"Title: Rollerball<br> Year: 2002<br> Budget: 70.0<br> Rating: 2.8<br>\\\",\\\"Title: Son of the Mask<br> Year: 2005<br> Budget: 74.0<br> Rating: 1.9<br>\\\"],\\\"yaxis\\\":\\\"y\\\",\\\"legendgroup\\\":\\\"2001\\\",\\\"marker\\\":{\\\"color\\\":\\\"#00cc96\\\",\\\"sizeref\\\":0.018444444444444447,\\\"size\\\":[85.0,18.0,15.0,48.0,22.0,30.0,22.0,68.0,22.0,48.0,107.0,75.0,25.0,80.0,87.0,28.0,57.0,38.0,40.0,62.0,25.0,24.0,90.0,40.0],\\\"sizemode\\\":\\\"area\\\"},\\\"y\\\":[7.5,7.5,7.3,7.2,7.2,7.1,6.9,6.8,6.5,6.5,6.4,6.2,6.2,6.2,6.2,6.1,5.9,5.6,5.6,5.4,5.0,4.8,4.5,4.4],\\\"type\\\":\\\"scatter\\\",\\\"x\\\":[85.0,18.0,15.0,48.0,22.0,30.0,22.0,68.0,22.0,48.0,107.0,75.0,25.0,80.0,87.0,28.0,57.0,38.0,40.0,62.0,25.0,24.0,90.0,40.0]},{\\\"showlegend\\\":true,\\\"mode\\\":\\\"markers\\\",\\\"xaxis\\\":\\\"x\\\",\\\"name\\\":\\\"2002\\\",\\\"text\\\":[\\\"Title: Finding Nemo<br> Year: 2003<br> Budget: 94.0<br> Rating: 8.3<br>\\\",\\\"Title: 21 Grams<br> Year: 2003<br> Budget: 20.0<br> Rating: 8.0<br>\\\",\\\"Title: Pirates of the Caribbean: The Curse of the Black Pearl<br> Year: 2003<br> Budget: 125.0<br> Rating: 8.0<br>\\\",\\\"Title: Adaptation.<br> Year: 2002<br> Budget: 19.0<br> Rating: 7.9<br>\\\",\\\"Title: Far from Heaven<br> Year: 2002<br> Budget: 13.5<br> Rating: 7.7<br>\\\",\\\"Title: Road to Perdition<br> Year: 2002<br> Budget: 80.0<br> Rating: 7.7<br>\\\",\\\"Title: Ocean's Eleven<br> Year: 2001<br> Budget: 85.0<br> Rating: 7.5<br>\\\",\\\"Title: Life as a House<br> Year: 2001<br> Budget: 18.0<br> Rating: 7.5<br>\\\",\\\"Title: Quiet American, The<br> Year: 2002<br> Budget: 30.0<br> Rating: 7.4<br>\\\",\\\"Title: School of Rock, The<br> Year: 2003<br> Budget: 20.0<br> Rating: 7.4<br>\\\",\\\"Title: Gosford Park<br> Year: 2001<br> Budget: 15.0<br> Rating: 7.3<br>\\\",\\\"Title: Bourne Supremacy, The<br> Year: 2004<br> Budget: 75.0<br> Rating: 7.3<br>\\\",\\\"Title: Ice Age<br> Year: 2002<br> Budget: 60.0<br> Rating: 7.3<br>\\\",\\\"Title: K-PAX<br> Year: 2001<br> Budget: 48.0<br> Rating: 7.2<br>\\\",\\\"Title: I Am Sam<br> Year: 2001<br> Budget: 22.0<br> Rating: 7.2<br>\\\",\\\"Title: Peter Pan<br> Year: 2003<br> Budget: 100.0<br> Rating: 7.2<br>\\\",\\\"Title: We Were Soldiers<br> Year: 2002<br> Budget: 75.0<br> Rating: 7.1<br>\\\",\\\"Title: Blow<br> Year: 2001<br> Budget: 30.0<br> Rating: 7.1<br>\\\",\\\"Title: Troy<br> Year: 2004<br> Budget: 185.0<br> Rating: 7.1<br>\\\",\\\"Title: Star Wars: Episode II - Attack of the Clones<br> Year: 2002<br> Budget: 120.0<br> Rating: 7.0<br>\\\",\\\"Title: Mean Girls<br> Year: 2004<br> Budget: 17.0<br> Rating: 7.0<br>\\\",\\\"Title: Jay and Silent Bob Strike Back<br> Year: 2001<br> Budget: 22.0<br> Rating: 6.9<br>\\\",\\\"Title: 50 First Dates<br> Year: 2004<br> Budget: 75.0<br> Rating: 6.8<br>\\\",\\\"Title: Score, The<br> Year: 2001<br> Budget: 68.0<br> Rating: 6.8<br>\\\",\\\"Title: Coach Carter<br> Year: 2005<br> Budget: 30.0<br> Rating: 6.6<br>\\\",\\\"Title: National Treasure<br> Year: 2004<br> Budget: 100.0<br> Rating: 6.6<br>\\\",\\\"Title: Blade II<br> Year: 2002<br> Budget: 55.0<br> Rating: 6.6<br>\\\",\\\"Title: Tuck Everlasting<br> Year: 2002<br> Budget: 15.0<br> Rating: 6.5<br>\\\",\\\"Title: Unsaid, The<br> Year: 2001<br> Budget: 22.0<br> Rating: 6.5<br>\\\",\\\"Title: Rat Race<br> Year: 2001<br> Budget: 48.0<br> Rating: 6.5<br>\\\",\\\"Title: SpongeBob SquarePants Movie, The<br> Year: 2004<br> Budget: 30.0<br> Rating: 6.5<br>\\\",\\\"Title: Star Trek: Nemesis<br> Year: 2002<br> Budget: 70.0<br> Rating: 6.5<br>\\\",\\\"Title: Robots<br> Year: 2005<br> Budget: 75.0<br> Rating: 6.4<br>\\\",\\\"Title: Femme Fatale<br> Year: 2002<br> Budget: 35.0<br> Rating: 6.4<br>\\\",\\\"Title: Ali<br> Year: 2001<br> Budget: 107.0<br> Rating: 6.4<br>\\\",\\\"Title: Death to Smoochy<br> Year: 2002<br> Budget: 55.0<br> Rating: 6.3<br>\\\",\\\"Title: Day After Tomorrow, The<br> Year: 2004<br> Budget: 125.0<br> Rating: 6.3<br>\\\",\\\"Title: Blood Work<br> Year: 2002<br> Budget: 50.0<br> Rating: 6.3<br>\\\",\\\"Title: Assault on Precinct 13<br> Year: 2005<br> Budget: 20.0<br> Rating: 6.3<br>\\\",\\\"Title: American Wedding<br> Year: 2003<br> Budget: 55.0<br> Rating: 6.3<br>\\\",\\\"Title: Osmosis Jones<br> Year: 2001<br> Budget: 75.0<br> Rating: 6.2<br>\\\",\\\"Title: Kiss of the Dragon<br> Year: 2001<br> Budget: 25.0<br> Rating: 6.2<br>\\\",\\\"Title: Swordfish<br> Year: 2001<br> Budget: 80.0<br> Rating: 6.2<br>\\\",\\\"Title: Hannibal<br> Year: 2001<br> Budget: 87.0<br> Rating: 6.2<br>\\\",\\\"Title: Chronicles of Riddick, The<br> Year: 2004<br> Budget: 110.0<br> Rating: 6.2<br>\\\",\\\"Title: Jonah: A VeggieTales Movie<br> Year: 2002<br> Budget: 15.0<br> Rating: 6.2<br>\\\",\\\"Title: To Kill a King<br> Year: 2003<br> Budget: 14.3<br> Rating: 6.1<br>\\\",\\\"Title: High Crimes<br> Year: 2002<br> Budget: 42.0<br> Rating: 6.1<br>\\\",\\\"Title: Along Came a Spider<br> Year: 2001<br> Budget: 28.0<br> Rating: 6.1<br>\\\",\\\"Title: Mona Lisa Smile<br> Year: 2003<br> Budget: 65.0<br> Rating: 6.1<br>\\\",\\\"Title: Shall We Dance<br> Year: 2004<br> Budget: 40.0<br> Rating: 6.0<br>\\\",\\\"Title: Because of Winn-Dixie<br> Year: 2005<br> Budget: 14.0<br> Rating: 5.9<br>\\\",\\\"Title: Captain Corelli's Mandolin<br> Year: 2001<br> Budget: 57.0<br> Rating: 5.9<br>\\\",\\\"Title: Sahara<br> Year: 2005<br> Budget: 130.0<br> Rating: 5.8<br>\\\",\\\"Title: Blue Crush<br> Year: 2002<br> Budget: 30.0<br> Rating: 5.7<br>\\\",\\\"Title: Daddy Day Care<br> Year: 2003<br> Budget: 60.0<br> Rating: 5.7<br>\\\",\\\"Title: Gods and Generals<br> Year: 2003<br> Budget: 56.0<br> Rating: 5.7<br>\\\",\\\"Title: Around the World in 80 Days<br> Year: 2004<br> Budget: 110.0<br> Rating: 5.7<br>\\\",\\\"Title: What a Girl Wants<br> Year: 2003<br> Budget: 20.0<br> Rating: 5.7<br>\\\",\\\"Title: Angel Eyes<br> Year: 2001<br> Budget: 38.0<br> Rating: 5.6<br>\\\",\\\"Title: Just Visiting<br> Year: 2001<br> Budget: 40.0<br> Rating: 5.6<br>\\\",\\\"Title: xXx<br> Year: 2002<br> Budget: 85.0<br> Rating: 5.5<br>\\\",\\\"Title: Divine Secrets of the Ya-Ya Sisterhood<br> Year: 2002<br> Budget: 27.0<br> Rating: 5.5<br>\\\",\\\"Title: Be Cool<br> Year: 2005<br> Budget: 53.0<br> Rating: 5.5<br>\\\",\\\"Title: George and the Dragon<br> Year: 2004<br> Budget: 32.0<br> Rating: 5.5<br>\\\",\\\"Title: 3000 Miles to Graceland<br> Year: 2001<br> Budget: 62.0<br> Rating: 5.4<br>\\\",\\\"Title: Core, The<br> Year: 2003<br> Budget: 74.0<br> Rating: 5.4<br>\\\",\\\"Title: Man Apart, A<br> Year: 2003<br> Budget: 36.0<br> Rating: 5.4<br>\\\",\\\"Title: Princess Diaries 2: Royal Engagement, The<br> Year: 2004<br> Budget: 40.0<br> Rating: 5.3<br>\\\",\\\"Title: Drumline<br> Year: 2002<br> Budget: 20.0<br> Rating: 5.3<br>\\\",\\\"Title: Scorpion King, The<br> Year: 2002<br> Budget: 60.0<br> Rating: 5.3<br>\\\",\\\"Title: Welcome to Mooseport<br> Year: 2004<br> Budget: 26.0<br> Rating: 5.3<br>\\\",\\\"Title: Bulletproof Monk<br> Year: 2003<br> Budget: 52.0<br> Rating: 5.2<br>\\\",\\\"Title: Dreamcatcher<br> Year: 2003<br> Budget: 68.0<br> Rating: 5.2<br>\\\",\\\"Title: Timeline<br> Year: 2003<br> Budget: 80.0<br> Rating: 5.2<br>\\\",\\\"Title: 2 Fast 2 Furious<br> Year: 2003<br> Budget: 76.0<br> Rating: 5.1<br>\\\",\\\"Title: Wedding Date, The<br> Year: 2005<br> Budget: 15.0<br> Rating: 5.0<br>\\\",\\\"Title: Charlie's Angels: Full Throttle<br> Year: 2003<br> Budget: 120.0<br> Rating: 5.0<br>\\\",\\\"Title: All the Queen's Men<br> Year: 2001<br> Budget: 25.0<br> Rating: 5.0<br>\\\",\\\"Title: Elektra<br> Year: 2005<br> Budget: 43.0<br> Rating: 4.9<br>\\\",\\\"Title: Malibu's Most Wanted<br> Year: 2003<br> Budget: 16.0<br> Rating: 4.9<br>\\\",\\\"Title: Double Take<br> Year: 2001<br> Budget: 24.0<br> Rating: 4.8<br>\\\",\\\"Title: Big Bounce, The<br> Year: 2004<br> Budget: 50.0<br> Rating: 4.7<br>\\\",\\\"Title: Wild Thornberrys Movie, The<br> Year: 2002<br> Budget: 35.0<br> Rating: 4.7<br>\\\",\\\"Title: Cursed<br> Year: 2005<br> Budget: 35.0<br> Rating: 4.7<br>\\\",\\\"Title: House of Wax<br> Year: 2005<br> Budget: 30.0<br> Rating: 4.6<br>\\\",\\\"Title: Maid in Manhattan<br> Year: 2002<br> Budget: 55.0<br> Rating: 4.6<br>\\\",\\\"Title: Boat Trip<br> Year: 2002<br> Budget: 20.0<br> Rating: 4.5<br>\\\",\\\"Title: Touch, The<br> Year: 2002<br> Budget: 20.0<br> Rating: 4.5<br>\\\",\\\"Title: Catch That Kid<br> Year: 2004<br> Budget: 18.0<br> Rating: 4.5<br>\\\",\\\"Title: Town & Country<br> Year: 2001<br> Budget: 90.0<br> Rating: 4.5<br>\\\",\\\"Title: Confessions of a Teenage Drama Queen<br> Year: 2004<br> Budget: 15.0<br> Rating: 4.4<br>\\\",\\\"Title: Musketeer, The<br> Year: 2001<br> Budget: 40.0<br> Rating: 4.4<br>\\\",\\\"Title: Legally Blonde 2: Red, White & Blonde<br> Year: 2003<br> Budget: 45.0<br> Rating: 4.4<br>\\\",\\\"Title: Anacondas: The Hunt for the Blood Orchid<br> Year: 2004<br> Budget: 25.0<br> Rating: 4.2<br>\\\",\\\"Title: xXx: State of the Union<br> Year: 2005<br> Budget: 87.0<br> Rating: 3.9<br>\\\",\\\"Title: Agent Cody Banks 2: Destination London<br> Year: 2004<br> Budget: 26.0<br> Rating: 3.8<br>\\\",\\\"Title: Torque<br> Year: 2004<br> Budget: 40.0<br> Rating: 3.2<br>\\\",\\\"Title: Rollerball<br> Year: 2002<br> Budget: 70.0<br> Rating: 2.8<br>\\\",\\\"Title: Son of the Mask<br> Year: 2005<br> Budget: 74.0<br> Rating: 1.9<br>\\\"],\\\"yaxis\\\":\\\"y\\\",\\\"legendgroup\\\":\\\"2002\\\",\\\"marker\\\":{\\\"color\\\":\\\"#EF553B\\\",\\\"sizeref\\\":0.018444444444444447,\\\"size\\\":[19.0,13.5,80.0,30.0,60.0,75.0,120.0,55.0,15.0,70.0,35.0,55.0,50.0,15.0,42.0,30.0,85.0,27.0,20.0,60.0,35.0,55.0,20.0,20.0,70.0],\\\"sizemode\\\":\\\"area\\\"},\\\"y\\\":[7.9,7.7,7.7,7.4,7.3,7.1,7.0,6.6,6.5,6.5,6.4,6.3,6.3,6.2,6.1,5.7,5.5,5.5,5.3,5.3,4.7,4.6,4.5,4.5,2.8],\\\"type\\\":\\\"scatter\\\",\\\"x\\\":[19.0,13.5,80.0,30.0,60.0,75.0,120.0,55.0,15.0,70.0,35.0,55.0,50.0,15.0,42.0,30.0,85.0,27.0,20.0,60.0,35.0,55.0,20.0,20.0,70.0]},{\\\"showlegend\\\":true,\\\"mode\\\":\\\"markers\\\",\\\"xaxis\\\":\\\"x\\\",\\\"name\\\":\\\"2003\\\",\\\"text\\\":[\\\"Title: Finding Nemo<br> Year: 2003<br> Budget: 94.0<br> Rating: 8.3<br>\\\",\\\"Title: 21 Grams<br> Year: 2003<br> Budget: 20.0<br> Rating: 8.0<br>\\\",\\\"Title: Pirates of the Caribbean: The Curse of the Black Pearl<br> Year: 2003<br> Budget: 125.0<br> Rating: 8.0<br>\\\",\\\"Title: Adaptation.<br> Year: 2002<br> Budget: 19.0<br> Rating: 7.9<br>\\\",\\\"Title: Far from Heaven<br> Year: 2002<br> Budget: 13.5<br> Rating: 7.7<br>\\\",\\\"Title: Road to Perdition<br> Year: 2002<br> Budget: 80.0<br> Rating: 7.7<br>\\\",\\\"Title: Ocean's Eleven<br> Year: 2001<br> Budget: 85.0<br> Rating: 7.5<br>\\\",\\\"Title: Life as a House<br> Year: 2001<br> Budget: 18.0<br> Rating: 7.5<br>\\\",\\\"Title: Quiet American, The<br> Year: 2002<br> Budget: 30.0<br> Rating: 7.4<br>\\\",\\\"Title: School of Rock, The<br> Year: 2003<br> Budget: 20.0<br> Rating: 7.4<br>\\\",\\\"Title: Gosford Park<br> Year: 2001<br> Budget: 15.0<br> Rating: 7.3<br>\\\",\\\"Title: Bourne Supremacy, The<br> Year: 2004<br> Budget: 75.0<br> Rating: 7.3<br>\\\",\\\"Title: Ice Age<br> Year: 2002<br> Budget: 60.0<br> Rating: 7.3<br>\\\",\\\"Title: K-PAX<br> Year: 2001<br> Budget: 48.0<br> Rating: 7.2<br>\\\",\\\"Title: I Am Sam<br> Year: 2001<br> Budget: 22.0<br> Rating: 7.2<br>\\\",\\\"Title: Peter Pan<br> Year: 2003<br> Budget: 100.0<br> Rating: 7.2<br>\\\",\\\"Title: We Were Soldiers<br> Year: 2002<br> Budget: 75.0<br> Rating: 7.1<br>\\\",\\\"Title: Blow<br> Year: 2001<br> Budget: 30.0<br> Rating: 7.1<br>\\\",\\\"Title: Troy<br> Year: 2004<br> Budget: 185.0<br> Rating: 7.1<br>\\\",\\\"Title: Star Wars: Episode II - Attack of the Clones<br> Year: 2002<br> Budget: 120.0<br> Rating: 7.0<br>\\\",\\\"Title: Mean Girls<br> Year: 2004<br> Budget: 17.0<br> Rating: 7.0<br>\\\",\\\"Title: Jay and Silent Bob Strike Back<br> Year: 2001<br> Budget: 22.0<br> Rating: 6.9<br>\\\",\\\"Title: 50 First Dates<br> Year: 2004<br> Budget: 75.0<br> Rating: 6.8<br>\\\",\\\"Title: Score, The<br> Year: 2001<br> Budget: 68.0<br> Rating: 6.8<br>\\\",\\\"Title: Coach Carter<br> Year: 2005<br> Budget: 30.0<br> Rating: 6.6<br>\\\",\\\"Title: National Treasure<br> Year: 2004<br> Budget: 100.0<br> Rating: 6.6<br>\\\",\\\"Title: Blade II<br> Year: 2002<br> Budget: 55.0<br> Rating: 6.6<br>\\\",\\\"Title: Tuck Everlasting<br> Year: 2002<br> Budget: 15.0<br> Rating: 6.5<br>\\\",\\\"Title: Unsaid, The<br> Year: 2001<br> Budget: 22.0<br> Rating: 6.5<br>\\\",\\\"Title: Rat Race<br> Year: 2001<br> Budget: 48.0<br> Rating: 6.5<br>\\\",\\\"Title: SpongeBob SquarePants Movie, The<br> Year: 2004<br> Budget: 30.0<br> Rating: 6.5<br>\\\",\\\"Title: Star Trek: Nemesis<br> Year: 2002<br> Budget: 70.0<br> Rating: 6.5<br>\\\",\\\"Title: Robots<br> Year: 2005<br> Budget: 75.0<br> Rating: 6.4<br>\\\",\\\"Title: Femme Fatale<br> Year: 2002<br> Budget: 35.0<br> Rating: 6.4<br>\\\",\\\"Title: Ali<br> Year: 2001<br> Budget: 107.0<br> Rating: 6.4<br>\\\",\\\"Title: Death to Smoochy<br> Year: 2002<br> Budget: 55.0<br> Rating: 6.3<br>\\\",\\\"Title: Day After Tomorrow, The<br> Year: 2004<br> Budget: 125.0<br> Rating: 6.3<br>\\\",\\\"Title: Blood Work<br> Year: 2002<br> Budget: 50.0<br> Rating: 6.3<br>\\\",\\\"Title: Assault on Precinct 13<br> Year: 2005<br> Budget: 20.0<br> Rating: 6.3<br>\\\",\\\"Title: American Wedding<br> Year: 2003<br> Budget: 55.0<br> Rating: 6.3<br>\\\",\\\"Title: Osmosis Jones<br> Year: 2001<br> Budget: 75.0<br> Rating: 6.2<br>\\\",\\\"Title: Kiss of the Dragon<br> Year: 2001<br> Budget: 25.0<br> Rating: 6.2<br>\\\",\\\"Title: Swordfish<br> Year: 2001<br> Budget: 80.0<br> Rating: 6.2<br>\\\",\\\"Title: Hannibal<br> Year: 2001<br> Budget: 87.0<br> Rating: 6.2<br>\\\",\\\"Title: Chronicles of Riddick, The<br> Year: 2004<br> Budget: 110.0<br> Rating: 6.2<br>\\\",\\\"Title: Jonah: A VeggieTales Movie<br> Year: 2002<br> Budget: 15.0<br> Rating: 6.2<br>\\\",\\\"Title: To Kill a King<br> Year: 2003<br> Budget: 14.3<br> Rating: 6.1<br>\\\",\\\"Title: High Crimes<br> Year: 2002<br> Budget: 42.0<br> Rating: 6.1<br>\\\",\\\"Title: Along Came a Spider<br> Year: 2001<br> Budget: 28.0<br> Rating: 6.1<br>\\\",\\\"Title: Mona Lisa Smile<br> Year: 2003<br> Budget: 65.0<br> Rating: 6.1<br>\\\",\\\"Title: Shall We Dance<br> Year: 2004<br> Budget: 40.0<br> Rating: 6.0<br>\\\",\\\"Title: Because of Winn-Dixie<br> Year: 2005<br> Budget: 14.0<br> Rating: 5.9<br>\\\",\\\"Title: Captain Corelli's Mandolin<br> Year: 2001<br> Budget: 57.0<br> Rating: 5.9<br>\\\",\\\"Title: Sahara<br> Year: 2005<br> Budget: 130.0<br> Rating: 5.8<br>\\\",\\\"Title: Blue Crush<br> Year: 2002<br> Budget: 30.0<br> Rating: 5.7<br>\\\",\\\"Title: Daddy Day Care<br> Year: 2003<br> Budget: 60.0<br> Rating: 5.7<br>\\\",\\\"Title: Gods and Generals<br> Year: 2003<br> Budget: 56.0<br> Rating: 5.7<br>\\\",\\\"Title: Around the World in 80 Days<br> Year: 2004<br> Budget: 110.0<br> Rating: 5.7<br>\\\",\\\"Title: What a Girl Wants<br> Year: 2003<br> Budget: 20.0<br> Rating: 5.7<br>\\\",\\\"Title: Angel Eyes<br> Year: 2001<br> Budget: 38.0<br> Rating: 5.6<br>\\\",\\\"Title: Just Visiting<br> Year: 2001<br> Budget: 40.0<br> Rating: 5.6<br>\\\",\\\"Title: xXx<br> Year: 2002<br> Budget: 85.0<br> Rating: 5.5<br>\\\",\\\"Title: Divine Secrets of the Ya-Ya Sisterhood<br> Year: 2002<br> Budget: 27.0<br> Rating: 5.5<br>\\\",\\\"Title: Be Cool<br> Year: 2005<br> Budget: 53.0<br> Rating: 5.5<br>\\\",\\\"Title: George and the Dragon<br> Year: 2004<br> Budget: 32.0<br> Rating: 5.5<br>\\\",\\\"Title: 3000 Miles to Graceland<br> Year: 2001<br> Budget: 62.0<br> Rating: 5.4<br>\\\",\\\"Title: Core, The<br> Year: 2003<br> Budget: 74.0<br> Rating: 5.4<br>\\\",\\\"Title: Man Apart, A<br> Year: 2003<br> Budget: 36.0<br> Rating: 5.4<br>\\\",\\\"Title: Princess Diaries 2: Royal Engagement, The<br> Year: 2004<br> Budget: 40.0<br> Rating: 5.3<br>\\\",\\\"Title: Drumline<br> Year: 2002<br> Budget: 20.0<br> Rating: 5.3<br>\\\",\\\"Title: Scorpion King, The<br> Year: 2002<br> Budget: 60.0<br> Rating: 5.3<br>\\\",\\\"Title: Welcome to Mooseport<br> Year: 2004<br> Budget: 26.0<br> Rating: 5.3<br>\\\",\\\"Title: Bulletproof Monk<br> Year: 2003<br> Budget: 52.0<br> Rating: 5.2<br>\\\",\\\"Title: Dreamcatcher<br> Year: 2003<br> Budget: 68.0<br> Rating: 5.2<br>\\\",\\\"Title: Timeline<br> Year: 2003<br> Budget: 80.0<br> Rating: 5.2<br>\\\",\\\"Title: 2 Fast 2 Furious<br> Year: 2003<br> Budget: 76.0<br> Rating: 5.1<br>\\\",\\\"Title: Wedding Date, The<br> Year: 2005<br> Budget: 15.0<br> Rating: 5.0<br>\\\",\\\"Title: Charlie's Angels: Full Throttle<br> Year: 2003<br> Budget: 120.0<br> Rating: 5.0<br>\\\",\\\"Title: All the Queen's Men<br> Year: 2001<br> Budget: 25.0<br> Rating: 5.0<br>\\\",\\\"Title: Elektra<br> Year: 2005<br> Budget: 43.0<br> Rating: 4.9<br>\\\",\\\"Title: Malibu's Most Wanted<br> Year: 2003<br> Budget: 16.0<br> Rating: 4.9<br>\\\",\\\"Title: Double Take<br> Year: 2001<br> Budget: 24.0<br> Rating: 4.8<br>\\\",\\\"Title: Big Bounce, The<br> Year: 2004<br> Budget: 50.0<br> Rating: 4.7<br>\\\",\\\"Title: Wild Thornberrys Movie, The<br> Year: 2002<br> Budget: 35.0<br> Rating: 4.7<br>\\\",\\\"Title: Cursed<br> Year: 2005<br> Budget: 35.0<br> Rating: 4.7<br>\\\",\\\"Title: House of Wax<br> Year: 2005<br> Budget: 30.0<br> Rating: 4.6<br>\\\",\\\"Title: Maid in Manhattan<br> Year: 2002<br> Budget: 55.0<br> Rating: 4.6<br>\\\",\\\"Title: Boat Trip<br> Year: 2002<br> Budget: 20.0<br> Rating: 4.5<br>\\\",\\\"Title: Touch, The<br> Year: 2002<br> Budget: 20.0<br> Rating: 4.5<br>\\\",\\\"Title: Catch That Kid<br> Year: 2004<br> Budget: 18.0<br> Rating: 4.5<br>\\\",\\\"Title: Town & Country<br> Year: 2001<br> Budget: 90.0<br> Rating: 4.5<br>\\\",\\\"Title: Confessions of a Teenage Drama Queen<br> Year: 2004<br> Budget: 15.0<br> Rating: 4.4<br>\\\",\\\"Title: Musketeer, The<br> Year: 2001<br> Budget: 40.0<br> Rating: 4.4<br>\\\",\\\"Title: Legally Blonde 2: Red, White & Blonde<br> Year: 2003<br> Budget: 45.0<br> Rating: 4.4<br>\\\",\\\"Title: Anacondas: The Hunt for the Blood Orchid<br> Year: 2004<br> Budget: 25.0<br> Rating: 4.2<br>\\\",\\\"Title: xXx: State of the Union<br> Year: 2005<br> Budget: 87.0<br> Rating: 3.9<br>\\\",\\\"Title: Agent Cody Banks 2: Destination London<br> Year: 2004<br> Budget: 26.0<br> Rating: 3.8<br>\\\",\\\"Title: Torque<br> Year: 2004<br> Budget: 40.0<br> Rating: 3.2<br>\\\",\\\"Title: Rollerball<br> Year: 2002<br> Budget: 70.0<br> Rating: 2.8<br>\\\",\\\"Title: Son of the Mask<br> Year: 2005<br> Budget: 74.0<br> Rating: 1.9<br>\\\"],\\\"yaxis\\\":\\\"y\\\",\\\"legendgroup\\\":\\\"2003\\\",\\\"marker\\\":{\\\"color\\\":\\\"#636efa\\\",\\\"sizeref\\\":0.018444444444444447,\\\"size\\\":[94.0,20.0,125.0,20.0,100.0,55.0,14.3,65.0,60.0,56.0,20.0,74.0,36.0,52.0,68.0,80.0,76.0,120.0,16.0,45.0],\\\"sizemode\\\":\\\"area\\\"},\\\"y\\\":[8.3,8.0,8.0,7.4,7.2,6.3,6.1,6.1,5.7,5.7,5.7,5.4,5.4,5.2,5.2,5.2,5.1,5.0,4.9,4.4],\\\"type\\\":\\\"scatter\\\",\\\"x\\\":[94.0,20.0,125.0,20.0,100.0,55.0,14.3,65.0,60.0,56.0,20.0,74.0,36.0,52.0,68.0,80.0,76.0,120.0,16.0,45.0]},{\\\"showlegend\\\":true,\\\"mode\\\":\\\"markers\\\",\\\"xaxis\\\":\\\"x\\\",\\\"name\\\":\\\"2004\\\",\\\"text\\\":[\\\"Title: Finding Nemo<br> Year: 2003<br> Budget: 94.0<br> Rating: 8.3<br>\\\",\\\"Title: 21 Grams<br> Year: 2003<br> Budget: 20.0<br> Rating: 8.0<br>\\\",\\\"Title: Pirates of the Caribbean: The Curse of the Black Pearl<br> Year: 2003<br> Budget: 125.0<br> Rating: 8.0<br>\\\",\\\"Title: Adaptation.<br> Year: 2002<br> Budget: 19.0<br> Rating: 7.9<br>\\\",\\\"Title: Far from Heaven<br> Year: 2002<br> Budget: 13.5<br> Rating: 7.7<br>\\\",\\\"Title: Road to Perdition<br> Year: 2002<br> Budget: 80.0<br> Rating: 7.7<br>\\\",\\\"Title: Ocean's Eleven<br> Year: 2001<br> Budget: 85.0<br> Rating: 7.5<br>\\\",\\\"Title: Life as a House<br> Year: 2001<br> Budget: 18.0<br> Rating: 7.5<br>\\\",\\\"Title: Quiet American, The<br> Year: 2002<br> Budget: 30.0<br> Rating: 7.4<br>\\\",\\\"Title: School of Rock, The<br> Year: 2003<br> Budget: 20.0<br> Rating: 7.4<br>\\\",\\\"Title: Gosford Park<br> Year: 2001<br> Budget: 15.0<br> Rating: 7.3<br>\\\",\\\"Title: Bourne Supremacy, The<br> Year: 2004<br> Budget: 75.0<br> Rating: 7.3<br>\\\",\\\"Title: Ice Age<br> Year: 2002<br> Budget: 60.0<br> Rating: 7.3<br>\\\",\\\"Title: K-PAX<br> Year: 2001<br> Budget: 48.0<br> Rating: 7.2<br>\\\",\\\"Title: I Am Sam<br> Year: 2001<br> Budget: 22.0<br> Rating: 7.2<br>\\\",\\\"Title: Peter Pan<br> Year: 2003<br> Budget: 100.0<br> Rating: 7.2<br>\\\",\\\"Title: We Were Soldiers<br> Year: 2002<br> Budget: 75.0<br> Rating: 7.1<br>\\\",\\\"Title: Blow<br> Year: 2001<br> Budget: 30.0<br> Rating: 7.1<br>\\\",\\\"Title: Troy<br> Year: 2004<br> Budget: 185.0<br> Rating: 7.1<br>\\\",\\\"Title: Star Wars: Episode II - Attack of the Clones<br> Year: 2002<br> Budget: 120.0<br> Rating: 7.0<br>\\\",\\\"Title: Mean Girls<br> Year: 2004<br> Budget: 17.0<br> Rating: 7.0<br>\\\",\\\"Title: Jay and Silent Bob Strike Back<br> Year: 2001<br> Budget: 22.0<br> Rating: 6.9<br>\\\",\\\"Title: 50 First Dates<br> Year: 2004<br> Budget: 75.0<br> Rating: 6.8<br>\\\",\\\"Title: Score, The<br> Year: 2001<br> Budget: 68.0<br> Rating: 6.8<br>\\\",\\\"Title: Coach Carter<br> Year: 2005<br> Budget: 30.0<br> Rating: 6.6<br>\\\",\\\"Title: National Treasure<br> Year: 2004<br> Budget: 100.0<br> Rating: 6.6<br>\\\",\\\"Title: Blade II<br> Year: 2002<br> Budget: 55.0<br> Rating: 6.6<br>\\\",\\\"Title: Tuck Everlasting<br> Year: 2002<br> Budget: 15.0<br> Rating: 6.5<br>\\\",\\\"Title: Unsaid, The<br> Year: 2001<br> Budget: 22.0<br> Rating: 6.5<br>\\\",\\\"Title: Rat Race<br> Year: 2001<br> Budget: 48.0<br> Rating: 6.5<br>\\\",\\\"Title: SpongeBob SquarePants Movie, The<br> Year: 2004<br> Budget: 30.0<br> Rating: 6.5<br>\\\",\\\"Title: Star Trek: Nemesis<br> Year: 2002<br> Budget: 70.0<br> Rating: 6.5<br>\\\",\\\"Title: Robots<br> Year: 2005<br> Budget: 75.0<br> Rating: 6.4<br>\\\",\\\"Title: Femme Fatale<br> Year: 2002<br> Budget: 35.0<br> Rating: 6.4<br>\\\",\\\"Title: Ali<br> Year: 2001<br> Budget: 107.0<br> Rating: 6.4<br>\\\",\\\"Title: Death to Smoochy<br> Year: 2002<br> Budget: 55.0<br> Rating: 6.3<br>\\\",\\\"Title: Day After Tomorrow, The<br> Year: 2004<br> Budget: 125.0<br> Rating: 6.3<br>\\\",\\\"Title: Blood Work<br> Year: 2002<br> Budget: 50.0<br> Rating: 6.3<br>\\\",\\\"Title: Assault on Precinct 13<br> Year: 2005<br> Budget: 20.0<br> Rating: 6.3<br>\\\",\\\"Title: American Wedding<br> Year: 2003<br> Budget: 55.0<br> Rating: 6.3<br>\\\",\\\"Title: Osmosis Jones<br> Year: 2001<br> Budget: 75.0<br> Rating: 6.2<br>\\\",\\\"Title: Kiss of the Dragon<br> Year: 2001<br> Budget: 25.0<br> Rating: 6.2<br>\\\",\\\"Title: Swordfish<br> Year: 2001<br> Budget: 80.0<br> Rating: 6.2<br>\\\",\\\"Title: Hannibal<br> Year: 2001<br> Budget: 87.0<br> Rating: 6.2<br>\\\",\\\"Title: Chronicles of Riddick, The<br> Year: 2004<br> Budget: 110.0<br> Rating: 6.2<br>\\\",\\\"Title: Jonah: A VeggieTales Movie<br> Year: 2002<br> Budget: 15.0<br> Rating: 6.2<br>\\\",\\\"Title: To Kill a King<br> Year: 2003<br> Budget: 14.3<br> Rating: 6.1<br>\\\",\\\"Title: High Crimes<br> Year: 2002<br> Budget: 42.0<br> Rating: 6.1<br>\\\",\\\"Title: Along Came a Spider<br> Year: 2001<br> Budget: 28.0<br> Rating: 6.1<br>\\\",\\\"Title: Mona Lisa Smile<br> Year: 2003<br> Budget: 65.0<br> Rating: 6.1<br>\\\",\\\"Title: Shall We Dance<br> Year: 2004<br> Budget: 40.0<br> Rating: 6.0<br>\\\",\\\"Title: Because of Winn-Dixie<br> Year: 2005<br> Budget: 14.0<br> Rating: 5.9<br>\\\",\\\"Title: Captain Corelli's Mandolin<br> Year: 2001<br> Budget: 57.0<br> Rating: 5.9<br>\\\",\\\"Title: Sahara<br> Year: 2005<br> Budget: 130.0<br> Rating: 5.8<br>\\\",\\\"Title: Blue Crush<br> Year: 2002<br> Budget: 30.0<br> Rating: 5.7<br>\\\",\\\"Title: Daddy Day Care<br> Year: 2003<br> Budget: 60.0<br> Rating: 5.7<br>\\\",\\\"Title: Gods and Generals<br> Year: 2003<br> Budget: 56.0<br> Rating: 5.7<br>\\\",\\\"Title: Around the World in 80 Days<br> Year: 2004<br> Budget: 110.0<br> Rating: 5.7<br>\\\",\\\"Title: What a Girl Wants<br> Year: 2003<br> Budget: 20.0<br> Rating: 5.7<br>\\\",\\\"Title: Angel Eyes<br> Year: 2001<br> Budget: 38.0<br> Rating: 5.6<br>\\\",\\\"Title: Just Visiting<br> Year: 2001<br> Budget: 40.0<br> Rating: 5.6<br>\\\",\\\"Title: xXx<br> Year: 2002<br> Budget: 85.0<br> Rating: 5.5<br>\\\",\\\"Title: Divine Secrets of the Ya-Ya Sisterhood<br> Year: 2002<br> Budget: 27.0<br> Rating: 5.5<br>\\\",\\\"Title: Be Cool<br> Year: 2005<br> Budget: 53.0<br> Rating: 5.5<br>\\\",\\\"Title: George and the Dragon<br> Year: 2004<br> Budget: 32.0<br> Rating: 5.5<br>\\\",\\\"Title: 3000 Miles to Graceland<br> Year: 2001<br> Budget: 62.0<br> Rating: 5.4<br>\\\",\\\"Title: Core, The<br> Year: 2003<br> Budget: 74.0<br> Rating: 5.4<br>\\\",\\\"Title: Man Apart, A<br> Year: 2003<br> Budget: 36.0<br> Rating: 5.4<br>\\\",\\\"Title: Princess Diaries 2: Royal Engagement, The<br> Year: 2004<br> Budget: 40.0<br> Rating: 5.3<br>\\\",\\\"Title: Drumline<br> Year: 2002<br> Budget: 20.0<br> Rating: 5.3<br>\\\",\\\"Title: Scorpion King, The<br> Year: 2002<br> Budget: 60.0<br> Rating: 5.3<br>\\\",\\\"Title: Welcome to Mooseport<br> Year: 2004<br> Budget: 26.0<br> Rating: 5.3<br>\\\",\\\"Title: Bulletproof Monk<br> Year: 2003<br> Budget: 52.0<br> Rating: 5.2<br>\\\",\\\"Title: Dreamcatcher<br> Year: 2003<br> Budget: 68.0<br> Rating: 5.2<br>\\\",\\\"Title: Timeline<br> Year: 2003<br> Budget: 80.0<br> Rating: 5.2<br>\\\",\\\"Title: 2 Fast 2 Furious<br> Year: 2003<br> Budget: 76.0<br> Rating: 5.1<br>\\\",\\\"Title: Wedding Date, The<br> Year: 2005<br> Budget: 15.0<br> Rating: 5.0<br>\\\",\\\"Title: Charlie's Angels: Full Throttle<br> Year: 2003<br> Budget: 120.0<br> Rating: 5.0<br>\\\",\\\"Title: All the Queen's Men<br> Year: 2001<br> Budget: 25.0<br> Rating: 5.0<br>\\\",\\\"Title: Elektra<br> Year: 2005<br> Budget: 43.0<br> Rating: 4.9<br>\\\",\\\"Title: Malibu's Most Wanted<br> Year: 2003<br> Budget: 16.0<br> Rating: 4.9<br>\\\",\\\"Title: Double Take<br> Year: 2001<br> Budget: 24.0<br> Rating: 4.8<br>\\\",\\\"Title: Big Bounce, The<br> Year: 2004<br> Budget: 50.0<br> Rating: 4.7<br>\\\",\\\"Title: Wild Thornberrys Movie, The<br> Year: 2002<br> Budget: 35.0<br> Rating: 4.7<br>\\\",\\\"Title: Cursed<br> Year: 2005<br> Budget: 35.0<br> Rating: 4.7<br>\\\",\\\"Title: House of Wax<br> Year: 2005<br> Budget: 30.0<br> Rating: 4.6<br>\\\",\\\"Title: Maid in Manhattan<br> Year: 2002<br> Budget: 55.0<br> Rating: 4.6<br>\\\",\\\"Title: Boat Trip<br> Year: 2002<br> Budget: 20.0<br> Rating: 4.5<br>\\\",\\\"Title: Touch, The<br> Year: 2002<br> Budget: 20.0<br> Rating: 4.5<br>\\\",\\\"Title: Catch That Kid<br> Year: 2004<br> Budget: 18.0<br> Rating: 4.5<br>\\\",\\\"Title: Town & Country<br> Year: 2001<br> Budget: 90.0<br> Rating: 4.5<br>\\\",\\\"Title: Confessions of a Teenage Drama Queen<br> Year: 2004<br> Budget: 15.0<br> Rating: 4.4<br>\\\",\\\"Title: Musketeer, The<br> Year: 2001<br> Budget: 40.0<br> Rating: 4.4<br>\\\",\\\"Title: Legally Blonde 2: Red, White & Blonde<br> Year: 2003<br> Budget: 45.0<br> Rating: 4.4<br>\\\",\\\"Title: Anacondas: The Hunt for the Blood Orchid<br> Year: 2004<br> Budget: 25.0<br> Rating: 4.2<br>\\\",\\\"Title: xXx: State of the Union<br> Year: 2005<br> Budget: 87.0<br> Rating: 3.9<br>\\\",\\\"Title: Agent Cody Banks 2: Destination London<br> Year: 2004<br> Budget: 26.0<br> Rating: 3.8<br>\\\",\\\"Title: Torque<br> Year: 2004<br> Budget: 40.0<br> Rating: 3.2<br>\\\",\\\"Title: Rollerball<br> Year: 2002<br> Budget: 70.0<br> Rating: 2.8<br>\\\",\\\"Title: Son of the Mask<br> Year: 2005<br> Budget: 74.0<br> Rating: 1.9<br>\\\"],\\\"yaxis\\\":\\\"y\\\",\\\"legendgroup\\\":\\\"2004\\\",\\\"marker\\\":{\\\"color\\\":\\\"#ab63fa\\\",\\\"sizeref\\\":0.018444444444444447,\\\"size\\\":[75.0,185.0,17.0,75.0,100.0,30.0,125.0,110.0,40.0,110.0,32.0,40.0,26.0,50.0,18.0,15.0,25.0,26.0,40.0],\\\"sizemode\\\":\\\"area\\\"},\\\"y\\\":[7.3,7.1,7.0,6.8,6.6,6.5,6.3,6.2,6.0,5.7,5.5,5.3,5.3,4.7,4.5,4.4,4.2,3.8,3.2],\\\"type\\\":\\\"scatter\\\",\\\"x\\\":[75.0,185.0,17.0,75.0,100.0,30.0,125.0,110.0,40.0,110.0,32.0,40.0,26.0,50.0,18.0,15.0,25.0,26.0,40.0]},{\\\"showlegend\\\":true,\\\"mode\\\":\\\"markers\\\",\\\"xaxis\\\":\\\"x\\\",\\\"name\\\":\\\"2005\\\",\\\"text\\\":[\\\"Title: Finding Nemo<br> Year: 2003<br> Budget: 94.0<br> Rating: 8.3<br>\\\",\\\"Title: 21 Grams<br> Year: 2003<br> Budget: 20.0<br> Rating: 8.0<br>\\\",\\\"Title: Pirates of the Caribbean: The Curse of the Black Pearl<br> Year: 2003<br> Budget: 125.0<br> Rating: 8.0<br>\\\",\\\"Title: Adaptation.<br> Year: 2002<br> Budget: 19.0<br> Rating: 7.9<br>\\\",\\\"Title: Far from Heaven<br> Year: 2002<br> Budget: 13.5<br> Rating: 7.7<br>\\\",\\\"Title: Road to Perdition<br> Year: 2002<br> Budget: 80.0<br> Rating: 7.7<br>\\\",\\\"Title: Ocean's Eleven<br> Year: 2001<br> Budget: 85.0<br> Rating: 7.5<br>\\\",\\\"Title: Life as a House<br> Year: 2001<br> Budget: 18.0<br> Rating: 7.5<br>\\\",\\\"Title: Quiet American, The<br> Year: 2002<br> Budget: 30.0<br> Rating: 7.4<br>\\\",\\\"Title: School of Rock, The<br> Year: 2003<br> Budget: 20.0<br> Rating: 7.4<br>\\\",\\\"Title: Gosford Park<br> Year: 2001<br> Budget: 15.0<br> Rating: 7.3<br>\\\",\\\"Title: Bourne Supremacy, The<br> Year: 2004<br> Budget: 75.0<br> Rating: 7.3<br>\\\",\\\"Title: Ice Age<br> Year: 2002<br> Budget: 60.0<br> Rating: 7.3<br>\\\",\\\"Title: K-PAX<br> Year: 2001<br> Budget: 48.0<br> Rating: 7.2<br>\\\",\\\"Title: I Am Sam<br> Year: 2001<br> Budget: 22.0<br> Rating: 7.2<br>\\\",\\\"Title: Peter Pan<br> Year: 2003<br> Budget: 100.0<br> Rating: 7.2<br>\\\",\\\"Title: We Were Soldiers<br> Year: 2002<br> Budget: 75.0<br> Rating: 7.1<br>\\\",\\\"Title: Blow<br> Year: 2001<br> Budget: 30.0<br> Rating: 7.1<br>\\\",\\\"Title: Troy<br> Year: 2004<br> Budget: 185.0<br> Rating: 7.1<br>\\\",\\\"Title: Star Wars: Episode II - Attack of the Clones<br> Year: 2002<br> Budget: 120.0<br> Rating: 7.0<br>\\\",\\\"Title: Mean Girls<br> Year: 2004<br> Budget: 17.0<br> Rating: 7.0<br>\\\",\\\"Title: Jay and Silent Bob Strike Back<br> Year: 2001<br> Budget: 22.0<br> Rating: 6.9<br>\\\",\\\"Title: 50 First Dates<br> Year: 2004<br> Budget: 75.0<br> Rating: 6.8<br>\\\",\\\"Title: Score, The<br> Year: 2001<br> Budget: 68.0<br> Rating: 6.8<br>\\\",\\\"Title: Coach Carter<br> Year: 2005<br> Budget: 30.0<br> Rating: 6.6<br>\\\",\\\"Title: National Treasure<br> Year: 2004<br> Budget: 100.0<br> Rating: 6.6<br>\\\",\\\"Title: Blade II<br> Year: 2002<br> Budget: 55.0<br> Rating: 6.6<br>\\\",\\\"Title: Tuck Everlasting<br> Year: 2002<br> Budget: 15.0<br> Rating: 6.5<br>\\\",\\\"Title: Unsaid, The<br> Year: 2001<br> Budget: 22.0<br> Rating: 6.5<br>\\\",\\\"Title: Rat Race<br> Year: 2001<br> Budget: 48.0<br> Rating: 6.5<br>\\\",\\\"Title: SpongeBob SquarePants Movie, The<br> Year: 2004<br> Budget: 30.0<br> Rating: 6.5<br>\\\",\\\"Title: Star Trek: Nemesis<br> Year: 2002<br> Budget: 70.0<br> Rating: 6.5<br>\\\",\\\"Title: Robots<br> Year: 2005<br> Budget: 75.0<br> Rating: 6.4<br>\\\",\\\"Title: Femme Fatale<br> Year: 2002<br> Budget: 35.0<br> Rating: 6.4<br>\\\",\\\"Title: Ali<br> Year: 2001<br> Budget: 107.0<br> Rating: 6.4<br>\\\",\\\"Title: Death to Smoochy<br> Year: 2002<br> Budget: 55.0<br> Rating: 6.3<br>\\\",\\\"Title: Day After Tomorrow, The<br> Year: 2004<br> Budget: 125.0<br> Rating: 6.3<br>\\\",\\\"Title: Blood Work<br> Year: 2002<br> Budget: 50.0<br> Rating: 6.3<br>\\\",\\\"Title: Assault on Precinct 13<br> Year: 2005<br> Budget: 20.0<br> Rating: 6.3<br>\\\",\\\"Title: American Wedding<br> Year: 2003<br> Budget: 55.0<br> Rating: 6.3<br>\\\",\\\"Title: Osmosis Jones<br> Year: 2001<br> Budget: 75.0<br> Rating: 6.2<br>\\\",\\\"Title: Kiss of the Dragon<br> Year: 2001<br> Budget: 25.0<br> Rating: 6.2<br>\\\",\\\"Title: Swordfish<br> Year: 2001<br> Budget: 80.0<br> Rating: 6.2<br>\\\",\\\"Title: Hannibal<br> Year: 2001<br> Budget: 87.0<br> Rating: 6.2<br>\\\",\\\"Title: Chronicles of Riddick, The<br> Year: 2004<br> Budget: 110.0<br> Rating: 6.2<br>\\\",\\\"Title: Jonah: A VeggieTales Movie<br> Year: 2002<br> Budget: 15.0<br> Rating: 6.2<br>\\\",\\\"Title: To Kill a King<br> Year: 2003<br> Budget: 14.3<br> Rating: 6.1<br>\\\",\\\"Title: High Crimes<br> Year: 2002<br> Budget: 42.0<br> Rating: 6.1<br>\\\",\\\"Title: Along Came a Spider<br> Year: 2001<br> Budget: 28.0<br> Rating: 6.1<br>\\\",\\\"Title: Mona Lisa Smile<br> Year: 2003<br> Budget: 65.0<br> Rating: 6.1<br>\\\",\\\"Title: Shall We Dance<br> Year: 2004<br> Budget: 40.0<br> Rating: 6.0<br>\\\",\\\"Title: Because of Winn-Dixie<br> Year: 2005<br> Budget: 14.0<br> Rating: 5.9<br>\\\",\\\"Title: Captain Corelli's Mandolin<br> Year: 2001<br> Budget: 57.0<br> Rating: 5.9<br>\\\",\\\"Title: Sahara<br> Year: 2005<br> Budget: 130.0<br> Rating: 5.8<br>\\\",\\\"Title: Blue Crush<br> Year: 2002<br> Budget: 30.0<br> Rating: 5.7<br>\\\",\\\"Title: Daddy Day Care<br> Year: 2003<br> Budget: 60.0<br> Rating: 5.7<br>\\\",\\\"Title: Gods and Generals<br> Year: 2003<br> Budget: 56.0<br> Rating: 5.7<br>\\\",\\\"Title: Around the World in 80 Days<br> Year: 2004<br> Budget: 110.0<br> Rating: 5.7<br>\\\",\\\"Title: What a Girl Wants<br> Year: 2003<br> Budget: 20.0<br> Rating: 5.7<br>\\\",\\\"Title: Angel Eyes<br> Year: 2001<br> Budget: 38.0<br> Rating: 5.6<br>\\\",\\\"Title: Just Visiting<br> Year: 2001<br> Budget: 40.0<br> Rating: 5.6<br>\\\",\\\"Title: xXx<br> Year: 2002<br> Budget: 85.0<br> Rating: 5.5<br>\\\",\\\"Title: Divine Secrets of the Ya-Ya Sisterhood<br> Year: 2002<br> Budget: 27.0<br> Rating: 5.5<br>\\\",\\\"Title: Be Cool<br> Year: 2005<br> Budget: 53.0<br> Rating: 5.5<br>\\\",\\\"Title: George and the Dragon<br> Year: 2004<br> Budget: 32.0<br> Rating: 5.5<br>\\\",\\\"Title: 3000 Miles to Graceland<br> Year: 2001<br> Budget: 62.0<br> Rating: 5.4<br>\\\",\\\"Title: Core, The<br> Year: 2003<br> Budget: 74.0<br> Rating: 5.4<br>\\\",\\\"Title: Man Apart, A<br> Year: 2003<br> Budget: 36.0<br> Rating: 5.4<br>\\\",\\\"Title: Princess Diaries 2: Royal Engagement, The<br> Year: 2004<br> Budget: 40.0<br> Rating: 5.3<br>\\\",\\\"Title: Drumline<br> Year: 2002<br> Budget: 20.0<br> Rating: 5.3<br>\\\",\\\"Title: Scorpion King, The<br> Year: 2002<br> Budget: 60.0<br> Rating: 5.3<br>\\\",\\\"Title: Welcome to Mooseport<br> Year: 2004<br> Budget: 26.0<br> Rating: 5.3<br>\\\",\\\"Title: Bulletproof Monk<br> Year: 2003<br> Budget: 52.0<br> Rating: 5.2<br>\\\",\\\"Title: Dreamcatcher<br> Year: 2003<br> Budget: 68.0<br> Rating: 5.2<br>\\\",\\\"Title: Timeline<br> Year: 2003<br> Budget: 80.0<br> Rating: 5.2<br>\\\",\\\"Title: 2 Fast 2 Furious<br> Year: 2003<br> Budget: 76.0<br> Rating: 5.1<br>\\\",\\\"Title: Wedding Date, The<br> Year: 2005<br> Budget: 15.0<br> Rating: 5.0<br>\\\",\\\"Title: Charlie's Angels: Full Throttle<br> Year: 2003<br> Budget: 120.0<br> Rating: 5.0<br>\\\",\\\"Title: All the Queen's Men<br> Year: 2001<br> Budget: 25.0<br> Rating: 5.0<br>\\\",\\\"Title: Elektra<br> Year: 2005<br> Budget: 43.0<br> Rating: 4.9<br>\\\",\\\"Title: Malibu's Most Wanted<br> Year: 2003<br> Budget: 16.0<br> Rating: 4.9<br>\\\",\\\"Title: Double Take<br> Year: 2001<br> Budget: 24.0<br> Rating: 4.8<br>\\\",\\\"Title: Big Bounce, The<br> Year: 2004<br> Budget: 50.0<br> Rating: 4.7<br>\\\",\\\"Title: Wild Thornberrys Movie, The<br> Year: 2002<br> Budget: 35.0<br> Rating: 4.7<br>\\\",\\\"Title: Cursed<br> Year: 2005<br> Budget: 35.0<br> Rating: 4.7<br>\\\",\\\"Title: House of Wax<br> Year: 2005<br> Budget: 30.0<br> Rating: 4.6<br>\\\",\\\"Title: Maid in Manhattan<br> Year: 2002<br> Budget: 55.0<br> Rating: 4.6<br>\\\",\\\"Title: Boat Trip<br> Year: 2002<br> Budget: 20.0<br> Rating: 4.5<br>\\\",\\\"Title: Touch, The<br> Year: 2002<br> Budget: 20.0<br> Rating: 4.5<br>\\\",\\\"Title: Catch That Kid<br> Year: 2004<br> Budget: 18.0<br> Rating: 4.5<br>\\\",\\\"Title: Town & Country<br> Year: 2001<br> Budget: 90.0<br> Rating: 4.5<br>\\\",\\\"Title: Confessions of a Teenage Drama Queen<br> Year: 2004<br> Budget: 15.0<br> Rating: 4.4<br>\\\",\\\"Title: Musketeer, The<br> Year: 2001<br> Budget: 40.0<br> Rating: 4.4<br>\\\",\\\"Title: Legally Blonde 2: Red, White & Blonde<br> Year: 2003<br> Budget: 45.0<br> Rating: 4.4<br>\\\",\\\"Title: Anacondas: The Hunt for the Blood Orchid<br> Year: 2004<br> Budget: 25.0<br> Rating: 4.2<br>\\\",\\\"Title: xXx: State of the Union<br> Year: 2005<br> Budget: 87.0<br> Rating: 3.9<br>\\\",\\\"Title: Agent Cody Banks 2: Destination London<br> Year: 2004<br> Budget: 26.0<br> Rating: 3.8<br>\\\",\\\"Title: Torque<br> Year: 2004<br> Budget: 40.0<br> Rating: 3.2<br>\\\",\\\"Title: Rollerball<br> Year: 2002<br> Budget: 70.0<br> Rating: 2.8<br>\\\",\\\"Title: Son of the Mask<br> Year: 2005<br> Budget: 74.0<br> Rating: 1.9<br>\\\"],\\\"yaxis\\\":\\\"y\\\",\\\"legendgroup\\\":\\\"2005\\\",\\\"marker\\\":{\\\"color\\\":\\\"#FFA15A\\\",\\\"sizeref\\\":0.018444444444444447,\\\"size\\\":[30.0,75.0,20.0,14.0,130.0,53.0,15.0,43.0,35.0,30.0,87.0,74.0],\\\"sizemode\\\":\\\"area\\\"},\\\"y\\\":[6.6,6.4,6.3,5.9,5.8,5.5,5.0,4.9,4.7,4.6,3.9,1.9],\\\"type\\\":\\\"scatter\\\",\\\"x\\\":[30.0,75.0,20.0,14.0,130.0,53.0,15.0,43.0,35.0,30.0,87.0,74.0]}],{\\\"xaxis\\\":{\\\"gridcolor\\\":\\\"white\\\",\\\"title\\\":{\\\"text\\\":\\\"Movie Budget (in Million Dollars)\\\"}},\\\"paper_bgcolor\\\":\\\"rgb(243, 243, 243)\\\",\\\"template\\\":{\\\"layout\\\":{\\\"coloraxis\\\":{\\\"colorbar\\\":{\\\"ticks\\\":\\\"\\\",\\\"outlinewidth\\\":0}},\\\"xaxis\\\":{\\\"gridcolor\\\":\\\"white\\\",\\\"zerolinewidth\\\":2,\\\"title\\\":{\\\"standoff\\\":15},\\\"ticks\\\":\\\"\\\",\\\"zerolinecolor\\\":\\\"white\\\",\\\"automargin\\\":true,\\\"linecolor\\\":\\\"white\\\"},\\\"hovermode\\\":\\\"closest\\\",\\\"paper_bgcolor\\\":\\\"white\\\",\\\"geo\\\":{\\\"showlakes\\\":true,\\\"showland\\\":true,\\\"landcolor\\\":\\\"#E5ECF6\\\",\\\"bgcolor\\\":\\\"white\\\",\\\"subunitcolor\\\":\\\"white\\\",\\\"lakecolor\\\":\\\"white\\\"},\\\"colorscale\\\":{\\\"sequential\\\":[[0.0,\\\"#0d0887\\\"],[0.1111111111111111,\\\"#46039f\\\"],[0.2222222222222222,\\\"#7201a8\\\"],[0.3333333333333333,\\\"#9c179e\\\"],[0.4444444444444444,\\\"#bd3786\\\"],[0.5555555555555556,\\\"#d8576b\\\"],[0.6666666666666666,\\\"#ed7953\\\"],[0.7777777777777778,\\\"#fb9f3a\\\"],[0.8888888888888888,\\\"#fdca26\\\"],[1.0,\\\"#f0f921\\\"]],\\\"diverging\\\":[[0,\\\"#8e0152\\\"],[0.1,\\\"#c51b7d\\\"],[0.2,\\\"#de77ae\\\"],[0.3,\\\"#f1b6da\\\"],[0.4,\\\"#fde0ef\\\"],[0.5,\\\"#f7f7f7\\\"],[0.6,\\\"#e6f5d0\\\"],[0.7,\\\"#b8e186\\\"],[0.8,\\\"#7fbc41\\\"],[0.9,\\\"#4d9221\\\"],[1,\\\"#276419\\\"]],\\\"sequentialminus\\\":[[0.0,\\\"#0d0887\\\"],[0.1111111111111111,\\\"#46039f\\\"],[0.2222222222222222,\\\"#7201a8\\\"],[0.3333333333333333,\\\"#9c179e\\\"],[0.4444444444444444,\\\"#bd3786\\\"],[0.5555555555555556,\\\"#d8576b\\\"],[0.6666666666666666,\\\"#ed7953\\\"],[0.7777777777777778,\\\"#fb9f3a\\\"],[0.8888888888888888,\\\"#fdca26\\\"],[1.0,\\\"#f0f921\\\"]]},\\\"yaxis\\\":{\\\"gridcolor\\\":\\\"white\\\",\\\"zerolinewidth\\\":2,\\\"title\\\":{\\\"standoff\\\":15},\\\"ticks\\\":\\\"\\\",\\\"zerolinecolor\\\":\\\"white\\\",\\\"automargin\\\":true,\\\"linecolor\\\":\\\"white\\\"},\\\"shapedefaults\\\":{\\\"line\\\":{\\\"color\\\":\\\"#2a3f5f\\\"}},\\\"hoverlabel\\\":{\\\"align\\\":\\\"left\\\"},\\\"mapbox\\\":{\\\"style\\\":\\\"light\\\"},\\\"polar\\\":{\\\"angularaxis\\\":{\\\"gridcolor\\\":\\\"white\\\",\\\"ticks\\\":\\\"\\\",\\\"linecolor\\\":\\\"white\\\"},\\\"bgcolor\\\":\\\"#E5ECF6\\\",\\\"radialaxis\\\":{\\\"gridcolor\\\":\\\"white\\\",\\\"ticks\\\":\\\"\\\",\\\"linecolor\\\":\\\"white\\\"}},\\\"autotypenumbers\\\":\\\"strict\\\",\\\"font\\\":{\\\"color\\\":\\\"#2a3f5f\\\"},\\\"ternary\\\":{\\\"baxis\\\":{\\\"gridcolor\\\":\\\"white\\\",\\\"ticks\\\":\\\"\\\",\\\"linecolor\\\":\\\"white\\\"},\\\"bgcolor\\\":\\\"#E5ECF6\\\",\\\"caxis\\\":{\\\"gridcolor\\\":\\\"white\\\",\\\"ticks\\\":\\\"\\\",\\\"linecolor\\\":\\\"white\\\"},\\\"aaxis\\\":{\\\"gridcolor\\\":\\\"white\\\",\\\"ticks\\\":\\\"\\\",\\\"linecolor\\\":\\\"white\\\"}},\\\"annotationdefaults\\\":{\\\"arrowhead\\\":0,\\\"arrowwidth\\\":1,\\\"arrowcolor\\\":\\\"#2a3f5f\\\"},\\\"plot_bgcolor\\\":\\\"#E5ECF6\\\",\\\"title\\\":{\\\"x\\\":0.05},\\\"scene\\\":{\\\"xaxis\\\":{\\\"gridcolor\\\":\\\"white\\\",\\\"gridwidth\\\":2,\\\"backgroundcolor\\\":\\\"#E5ECF6\\\",\\\"ticks\\\":\\\"\\\",\\\"showbackground\\\":true,\\\"zerolinecolor\\\":\\\"white\\\",\\\"linecolor\\\":\\\"white\\\"},\\\"zaxis\\\":{\\\"gridcolor\\\":\\\"white\\\",\\\"gridwidth\\\":2,\\\"backgroundcolor\\\":\\\"#E5ECF6\\\",\\\"ticks\\\":\\\"\\\",\\\"showbackground\\\":true,\\\"zerolinecolor\\\":\\\"white\\\",\\\"linecolor\\\":\\\"white\\\"},\\\"yaxis\\\":{\\\"gridcolor\\\":\\\"white\\\",\\\"gridwidth\\\":2,\\\"backgroundcolor\\\":\\\"#E5ECF6\\\",\\\"ticks\\\":\\\"\\\",\\\"showbackground\\\":true,\\\"zerolinecolor\\\":\\\"white\\\",\\\"linecolor\\\":\\\"white\\\"}},\\\"colorway\\\":[\\\"#636efa\\\",\\\"#EF553B\\\",\\\"#00cc96\\\",\\\"#ab63fa\\\",\\\"#FFA15A\\\",\\\"#19d3f3\\\",\\\"#FF6692\\\",\\\"#B6E880\\\",\\\"#FF97FF\\\",\\\"#FECB52\\\"]},\\\"data\\\":{\\\"barpolar\\\":[{\\\"type\\\":\\\"barpolar\\\",\\\"marker\\\":{\\\"line\\\":{\\\"color\\\":\\\"#E5ECF6\\\",\\\"width\\\":0.5}}}],\\\"carpet\\\":[{\\\"aaxis\\\":{\\\"gridcolor\\\":\\\"white\\\",\\\"endlinecolor\\\":\\\"#2a3f5f\\\",\\\"minorgridcolor\\\":\\\"white\\\",\\\"startlinecolor\\\":\\\"#2a3f5f\\\",\\\"linecolor\\\":\\\"white\\\"},\\\"type\\\":\\\"carpet\\\",\\\"baxis\\\":{\\\"gridcolor\\\":\\\"white\\\",\\\"endlinecolor\\\":\\\"#2a3f5f\\\",\\\"minorgridcolor\\\":\\\"white\\\",\\\"startlinecolor\\\":\\\"#2a3f5f\\\",\\\"linecolor\\\":\\\"white\\\"}}],\\\"scatterpolar\\\":[{\\\"type\\\":\\\"scatterpolar\\\",\\\"marker\\\":{\\\"colorbar\\\":{\\\"ticks\\\":\\\"\\\",\\\"outlinewidth\\\":0}}}],\\\"parcoords\\\":[{\\\"line\\\":{\\\"colorbar\\\":{\\\"ticks\\\":\\\"\\\",\\\"outlinewidth\\\":0}},\\\"type\\\":\\\"parcoords\\\"}],\\\"scatter\\\":[{\\\"type\\\":\\\"scatter\\\",\\\"marker\\\":{\\\"colorbar\\\":{\\\"ticks\\\":\\\"\\\",\\\"outlinewidth\\\":0}}}],\\\"histogram2dcontour\\\":[{\\\"colorbar\\\":{\\\"ticks\\\":\\\"\\\",\\\"outlinewidth\\\":0},\\\"type\\\":\\\"histogram2dcontour\\\",\\\"colorscale\\\":[[0.0,\\\"#0d0887\\\"],[0.1111111111111111,\\\"#46039f\\\"],[0.2222222222222222,\\\"#7201a8\\\"],[0.3333333333333333,\\\"#9c179e\\\"],[0.4444444444444444,\\\"#bd3786\\\"],[0.5555555555555556,\\\"#d8576b\\\"],[0.6666666666666666,\\\"#ed7953\\\"],[0.7777777777777778,\\\"#fb9f3a\\\"],[0.8888888888888888,\\\"#fdca26\\\"],[1.0,\\\"#f0f921\\\"]]}],\\\"contour\\\":[{\\\"colorbar\\\":{\\\"ticks\\\":\\\"\\\",\\\"outlinewidth\\\":0},\\\"type\\\":\\\"contour\\\",\\\"colorscale\\\":[[0.0,\\\"#0d0887\\\"],[0.1111111111111111,\\\"#46039f\\\"],[0.2222222222222222,\\\"#7201a8\\\"],[0.3333333333333333,\\\"#9c179e\\\"],[0.4444444444444444,\\\"#bd3786\\\"],[0.5555555555555556,\\\"#d8576b\\\"],[0.6666666666666666,\\\"#ed7953\\\"],[0.7777777777777778,\\\"#fb9f3a\\\"],[0.8888888888888888,\\\"#fdca26\\\"],[1.0,\\\"#f0f921\\\"]]}],\\\"scattercarpet\\\":[{\\\"type\\\":\\\"scattercarpet\\\",\\\"marker\\\":{\\\"colorbar\\\":{\\\"ticks\\\":\\\"\\\",\\\"outlinewidth\\\":0}}}],\\\"mesh3d\\\":[{\\\"colorbar\\\":{\\\"ticks\\\":\\\"\\\",\\\"outlinewidth\\\":0},\\\"type\\\":\\\"mesh3d\\\"}],\\\"surface\\\":[{\\\"colorbar\\\":{\\\"ticks\\\":\\\"\\\",\\\"outlinewidth\\\":0},\\\"type\\\":\\\"surface\\\",\\\"colorscale\\\":[[0.0,\\\"#0d0887\\\"],[0.1111111111111111,\\\"#46039f\\\"],[0.2222222222222222,\\\"#7201a8\\\"],[0.3333333333333333,\\\"#9c179e\\\"],[0.4444444444444444,\\\"#bd3786\\\"],[0.5555555555555556,\\\"#d8576b\\\"],[0.6666666666666666,\\\"#ed7953\\\"],[0.7777777777777778,\\\"#fb9f3a\\\"],[0.8888888888888888,\\\"#fdca26\\\"],[1.0,\\\"#f0f921\\\"]]}],\\\"scattermapbox\\\":[{\\\"type\\\":\\\"scattermapbox\\\",\\\"marker\\\":{\\\"colorbar\\\":{\\\"ticks\\\":\\\"\\\",\\\"outlinewidth\\\":0}}}],\\\"scattergeo\\\":[{\\\"type\\\":\\\"scattergeo\\\",\\\"marker\\\":{\\\"colorbar\\\":{\\\"ticks\\\":\\\"\\\",\\\"outlinewidth\\\":0}}}],\\\"histogram\\\":[{\\\"type\\\":\\\"histogram\\\",\\\"marker\\\":{\\\"colorbar\\\":{\\\"ticks\\\":\\\"\\\",\\\"outlinewidth\\\":0}}}],\\\"pie\\\":[{\\\"type\\\":\\\"pie\\\",\\\"automargin\\\":true}],\\\"choropleth\\\":[{\\\"colorbar\\\":{\\\"ticks\\\":\\\"\\\",\\\"outlinewidth\\\":0},\\\"type\\\":\\\"choropleth\\\"}],\\\"heatmapgl\\\":[{\\\"colorbar\\\":{\\\"ticks\\\":\\\"\\\",\\\"outlinewidth\\\":0},\\\"type\\\":\\\"heatmapgl\\\",\\\"colorscale\\\":[[0.0,\\\"#0d0887\\\"],[0.1111111111111111,\\\"#46039f\\\"],[0.2222222222222222,\\\"#7201a8\\\"],[0.3333333333333333,\\\"#9c179e\\\"],[0.4444444444444444,\\\"#bd3786\\\"],[0.5555555555555556,\\\"#d8576b\\\"],[0.6666666666666666,\\\"#ed7953\\\"],[0.7777777777777778,\\\"#fb9f3a\\\"],[0.8888888888888888,\\\"#fdca26\\\"],[1.0,\\\"#f0f921\\\"]]}],\\\"bar\\\":[{\\\"type\\\":\\\"bar\\\",\\\"error_y\\\":{\\\"color\\\":\\\"#2a3f5f\\\"},\\\"error_x\\\":{\\\"color\\\":\\\"#2a3f5f\\\"},\\\"marker\\\":{\\\"line\\\":{\\\"color\\\":\\\"#E5ECF6\\\",\\\"width\\\":0.5}}}],\\\"heatmap\\\":[{\\\"colorbar\\\":{\\\"ticks\\\":\\\"\\\",\\\"outlinewidth\\\":0},\\\"type\\\":\\\"heatmap\\\",\\\"colorscale\\\":[[0.0,\\\"#0d0887\\\"],[0.1111111111111111,\\\"#46039f\\\"],[0.2222222222222222,\\\"#7201a8\\\"],[0.3333333333333333,\\\"#9c179e\\\"],[0.4444444444444444,\\\"#bd3786\\\"],[0.5555555555555556,\\\"#d8576b\\\"],[0.6666666666666666,\\\"#ed7953\\\"],[0.7777777777777778,\\\"#fb9f3a\\\"],[0.8888888888888888,\\\"#fdca26\\\"],[1.0,\\\"#f0f921\\\"]]}],\\\"contourcarpet\\\":[{\\\"colorbar\\\":{\\\"ticks\\\":\\\"\\\",\\\"outlinewidth\\\":0},\\\"type\\\":\\\"contourcarpet\\\"}],\\\"table\\\":[{\\\"type\\\":\\\"table\\\",\\\"header\\\":{\\\"line\\\":{\\\"color\\\":\\\"white\\\"},\\\"fill\\\":{\\\"color\\\":\\\"#C8D4E3\\\"}},\\\"cells\\\":{\\\"line\\\":{\\\"color\\\":\\\"white\\\"},\\\"fill\\\":{\\\"color\\\":\\\"#EBF0F8\\\"}}}],\\\"scatter3d\\\":[{\\\"line\\\":{\\\"colorbar\\\":{\\\"ticks\\\":\\\"\\\",\\\"outlinewidth\\\":0}},\\\"type\\\":\\\"scatter3d\\\",\\\"marker\\\":{\\\"colorbar\\\":{\\\"ticks\\\":\\\"\\\",\\\"outlinewidth\\\":0}}}],\\\"scattergl\\\":[{\\\"type\\\":\\\"scattergl\\\",\\\"marker\\\":{\\\"colorbar\\\":{\\\"ticks\\\":\\\"\\\",\\\"outlinewidth\\\":0}}}],\\\"histogram2d\\\":[{\\\"colorbar\\\":{\\\"ticks\\\":\\\"\\\",\\\"outlinewidth\\\":0},\\\"type\\\":\\\"histogram2d\\\",\\\"colorscale\\\":[[0.0,\\\"#0d0887\\\"],[0.1111111111111111,\\\"#46039f\\\"],[0.2222222222222222,\\\"#7201a8\\\"],[0.3333333333333333,\\\"#9c179e\\\"],[0.4444444444444444,\\\"#bd3786\\\"],[0.5555555555555556,\\\"#d8576b\\\"],[0.6666666666666666,\\\"#ed7953\\\"],[0.7777777777777778,\\\"#fb9f3a\\\"],[0.8888888888888888,\\\"#fdca26\\\"],[1.0,\\\"#f0f921\\\"]]}],\\\"scatterternary\\\":[{\\\"type\\\":\\\"scatterternary\\\",\\\"marker\\\":{\\\"colorbar\\\":{\\\"ticks\\\":\\\"\\\",\\\"outlinewidth\\\":0}}}],\\\"scatterpolargl\\\":[{\\\"type\\\":\\\"scatterpolargl\\\",\\\"marker\\\":{\\\"colorbar\\\":{\\\"ticks\\\":\\\"\\\",\\\"outlinewidth\\\":0}}}]}},\\\"legend\\\":{\\\"tracegroupgap\\\":0,\\\"title\\\":{\\\"text\\\":\\\"Year\\\"}},\\\"margin\\\":{\\\"l\\\":50,\\\"b\\\":50,\\\"r\\\":50,\\\"t\\\":60},\\\"title\\\":\\\"Movies Budget vs Rating\\\",\\\"axis\\\":{\\\"gridcolor\\\":\\\"white\\\",\\\"title\\\":{\\\"text\\\":\\\"Rating\\\"}},\\\"plot_bgcolor\\\":\\\"rgb(243, 243, 243)\\\",\\\"yaxis\\\":{\\\"title\\\":{\\\"text\\\":\\\"Rating\\\"}}},{\\\"showLink\\\":false,\\\"editable\\\":false,\\\"responsive\\\":true,\\\"staticPlot\\\":false,\\\"scrollZoom\\\":true}); gd.on(\\\"plotly_hover\\\",(function (data){var filtered_data=WebIO.PlotlyCommands.filterEventData(gd,data,\\\"hover\\\"); return !(filtered_data.isnil) ? (WebIO.setval({\\\"name\\\":\\\"hover\\\",\\\"scope\\\":\\\"6714522208248133037\\\",\\\"id\\\":\\\"11626524355237860255\\\",\\\"type\\\":\\\"observable\\\"},filtered_data.out)) : undefined})); gd.on(\\\"plotly_unhover\\\",(function (){return WebIO.setval({\\\"name\\\":\\\"hover\\\",\\\"scope\\\":\\\"6714522208248133037\\\",\\\"id\\\":\\\"11626524355237860255\\\",\\\"type\\\":\\\"observable\\\"},{})})); gd.on(\\\"plotly_selected\\\",(function (data){var filtered_data=WebIO.PlotlyCommands.filterEventData(gd,data,\\\"selected\\\"); return !(filtered_data.isnil) ? (WebIO.setval({\\\"name\\\":\\\"selected\\\",\\\"scope\\\":\\\"6714522208248133037\\\",\\\"id\\\":\\\"2378191445902850841\\\",\\\"type\\\":\\\"observable\\\"},filtered_data.out)) : undefined})); gd.on(\\\"plotly_deselect\\\",(function (){return WebIO.setval({\\\"name\\\":\\\"selected\\\",\\\"scope\\\":\\\"6714522208248133037\\\",\\\"id\\\":\\\"2378191445902850841\\\",\\\"type\\\":\\\"observable\\\"},{})})); gd.on(\\\"plotly_relayout\\\",(function (data){var filtered_data=WebIO.PlotlyCommands.filterEventData(gd,data,\\\"relayout\\\"); return !(filtered_data.isnil) ? (WebIO.setval({\\\"name\\\":\\\"relayout\\\",\\\"scope\\\":\\\"6714522208248133037\\\",\\\"id\\\":\\\"9060970857180272643\\\",\\\"type\\\":\\\"observable\\\"},filtered_data.out)) : undefined})); return gd.on(\\\"plotly_click\\\",(function (data){var filtered_data=WebIO.PlotlyCommands.filterEventData(gd,data,\\\"click\\\"); return !(filtered_data.isnil) ? (WebIO.setval({\\\"name\\\":\\\"click\\\",\\\"scope\\\":\\\"6714522208248133037\\\",\\\"id\\\":\\\"3795730784686551614\\\",\\\"type\\\":\\\"observable\\\"},filtered_data.out)) : undefined}))}));\\n    (WebIO.importBlock({\\\"data\\\":[{\\\"name\\\":\\\"Plotly\\\",\\\"type\\\":\\\"js\\\",\\\"url\\\":\\\"\\/assetserver\\/409e9b326e803947d9820a15181c464d371bd1b4-plotly.min.js\\\"},{\\\"name\\\":null,\\\"type\\\":\\\"js\\\",\\\"url\\\":\\\"\\/assetserver\\/7df8768277b513869b526ee8426daf800fd976e7-plotly_webio.bundle.js\\\"}],\\\"type\\\":\\\"async_block\\\"})).then((imports) => handler.apply(this, imports));\\n}\\n\"],\"observables\":{\"_toImage\":{\"sync\":false,\"id\":\"1666965118520154422\",\"value\":{}},\"hover\":{\"sync\":false,\"id\":\"11626524355237860255\",\"value\":{}},\"selected\":{\"sync\":false,\"id\":\"2378191445902850841\",\"value\":{}},\"__gd_contents\":{\"sync\":false,\"id\":\"1767604500192295046\",\"value\":{}},\"click\":{\"sync\":false,\"id\":\"3795730784686551614\",\"value\":{}},\"image\":{\"sync\":true,\"id\":\"15699777633040299827\",\"value\":\"\"},\"__get_gd_contents\":{\"sync\":false,\"id\":\"12660790905460785096\",\"value\":\"\"},\"_downloadImage\":{\"sync\":false,\"id\":\"12306532974700498820\",\"value\":{}},\"relayout\":{\"sync\":false,\"id\":\"9060970857180272643\",\"value\":{}},\"_commands\":{\"sync\":false,\"id\":\"11742331265683111270\",\"value\":[]}}},\"children\":[{\"props\":{\"id\":\"plot-a07ad37b-2264-4764-a362-74c02883ce10\"},\"nodeType\":\"DOM\",\"type\":\"node\",\"instanceArgs\":{\"namespace\":\"html\",\"tag\":\"div\"},\"children\":[]}]},\n",
       "        window,\n",
       "    );\n",
       "    })()\n",
       "    </script>\n",
       "</div>\n"
      ],
      "text/plain": [
       "data: [\n",
       "  \"scatter with fields legendgroup, marker, mode, name, showlegend, text, type, x, xaxis, y, and yaxis\",\n",
       "  \"scatter with fields legendgroup, marker, mode, name, showlegend, text, type, x, xaxis, y, and yaxis\",\n",
       "  \"scatter with fields legendgroup, marker, mode, name, showlegend, text, type, x, xaxis, y, and yaxis\",\n",
       "  \"scatter with fields legendgroup, marker, mode, name, showlegend, text, type, x, xaxis, y, and yaxis\",\n",
       "  \"scatter with fields legendgroup, marker, mode, name, showlegend, text, type, x, xaxis, y, and yaxis\"\n",
       "]\n",
       "\n",
       "layout: \"layout with fields axis, legend, margin, paper_bgcolor, plot_bgcolor, template, title, xaxis, and yaxis\"\n",
       "\n"
      ]
     },
     "metadata": {},
     "output_type": "display_data"
    }
   ],
   "source": [
    "p = PlotlyJS.plot(sorted_df, x=:Budget, y=:Rating, color=:Year , mode=\"markers\",\n",
    "    text=sub_df -> make_hover_text.(DataFrames.eachrow(sorted_df)),\n",
    "    marker=attr(size=:Budget, sizeref=2*maximum(sorted_df.Rating) / (30^2), sizemode=\"area\"),\n",
    "    Layout(title=\"Movies Budget vs Rating\", xaxis=attr(title_text=\"Movie Budget (in Million Dollars)\",\n",
    "            gridcolor=\"white\"), axis=attr(title_text=\"Rating\", gridcolor=\"white\"),\n",
    "        paper_bgcolor=\"rgb(243, 243, 243)\", plot_bgcolor=\"rgb(243, 243, 243)\",\n",
    "    ))"
   ]
  },
  {
   "cell_type": "code",
   "execution_count": 19,
   "metadata": {},
   "outputs": [],
   "source": [
    "open(\"./example.html\", \"w\") do io\n",
    "    PlotlyBase.to_html(io, p.plot)\n",
    "end"
   ]
  },
  {
   "cell_type": "code",
   "execution_count": 20,
   "metadata": {},
   "outputs": [
    {
     "data": {
      "text/plain": [
       "\"bubble.png\""
      ]
     },
     "metadata": {},
     "output_type": "display_data"
    }
   ],
   "source": [
    "PlotlyJS.savefig(p.plot, \"bubble.png\", width=1800, height=900)"
   ]
  }
 ],
 "metadata": {
  "kernelspec": {
   "display_name": "Julia 1.8.4",
   "language": "julia",
   "name": "julia-1.8"
  },
  "language_info": {
   "file_extension": ".jl",
   "mimetype": "application/julia",
   "name": "julia",
   "version": "1.8.4"
  },
  "orig_nbformat": 4
 },
 "nbformat": 4,
 "nbformat_minor": 2
}
