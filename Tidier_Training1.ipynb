{
 "cells": [
  {
   "cell_type": "code",
   "execution_count": 1,
   "metadata": {},
   "outputs": [],
   "source": [
    "begin\n",
    "\tusing Tidier\n",
    "\tusing RDatasets\n",
    "end"
   ]
  },
  {
   "cell_type": "code",
   "execution_count": 2,
   "metadata": {},
   "outputs": [
    {
     "data": {
      "text/html": [
       "<div><div style = \"float: left;\"><span>58788×24 DataFrame</span></div><div style = \"float: right;\"><span style = \"font-style: italic;\">58763 rows omitted</span></div><div style = \"clear: both;\"></div></div><div class = \"data-frame\" style = \"overflow-x: scroll;\"><table class = \"data-frame\" style = \"margin-bottom: 6px;\"><thead><tr class = \"header\"><th class = \"rowNumber\" style = \"font-weight: bold; text-align: right;\">Row</th><th style = \"text-align: left;\">Title</th><th style = \"text-align: left;\">Year</th><th style = \"text-align: left;\">Length</th><th style = \"text-align: left;\">Budget</th><th style = \"text-align: left;\">Rating</th><th style = \"text-align: left;\">Votes</th><th style = \"text-align: left;\">R1</th><th style = \"text-align: left;\">R2</th><th style = \"text-align: left;\">R3</th><th style = \"text-align: left;\">R4</th><th style = \"text-align: left;\">R5</th><th style = \"text-align: left;\">R6</th><th style = \"text-align: left;\">R7</th><th style = \"text-align: left;\">R8</th><th style = \"text-align: left;\">R9</th><th style = \"text-align: left;\">R10</th><th style = \"text-align: left;\">MPAA</th><th style = \"text-align: left;\">Action</th><th style = \"text-align: left;\">Animation</th><th style = \"text-align: left;\">Comedy</th><th style = \"text-align: left;\">Drama</th><th style = \"text-align: left;\">Documentary</th><th style = \"text-align: left;\">Romance</th><th style = \"text-align: left;\">Short</th></tr><tr class = \"subheader headerLastRow\"><th class = \"rowNumber\" style = \"font-weight: bold; text-align: right;\"></th><th title = \"String\" style = \"text-align: left;\">String</th><th title = \"Int32\" style = \"text-align: left;\">Int32</th><th title = \"Int32\" style = \"text-align: left;\">Int32</th><th title = \"Union{Missing, Int32}\" style = \"text-align: left;\">Int32?</th><th title = \"Float64\" style = \"text-align: left;\">Float64</th><th title = \"Int32\" style = \"text-align: left;\">Int32</th><th title = \"Float64\" style = \"text-align: left;\">Float64</th><th title = \"Float64\" style = \"text-align: left;\">Float64</th><th title = \"Float64\" style = \"text-align: left;\">Float64</th><th title = \"Float64\" style = \"text-align: left;\">Float64</th><th title = \"Float64\" style = \"text-align: left;\">Float64</th><th title = \"Float64\" style = \"text-align: left;\">Float64</th><th title = \"Float64\" style = \"text-align: left;\">Float64</th><th title = \"Float64\" style = \"text-align: left;\">Float64</th><th title = \"Float64\" style = \"text-align: left;\">Float64</th><th title = \"Float64\" style = \"text-align: left;\">Float64</th><th title = \"CategoricalArrays.CategoricalValue{String, UInt8}\" style = \"text-align: left;\">Cat…</th><th title = \"Int32\" style = \"text-align: left;\">Int32</th><th title = \"Int32\" style = \"text-align: left;\">Int32</th><th title = \"Int32\" style = \"text-align: left;\">Int32</th><th title = \"Int32\" style = \"text-align: left;\">Int32</th><th title = \"Int32\" style = \"text-align: left;\">Int32</th><th title = \"Int32\" style = \"text-align: left;\">Int32</th><th title = \"Int32\" style = \"text-align: left;\">Int32</th></tr></thead><tbody><tr><td class = \"rowNumber\" style = \"font-weight: bold; text-align: right;\">1</td><td style = \"text-align: left;\">$</td><td style = \"text-align: right;\">1971</td><td style = \"text-align: right;\">121</td><td style = \"font-style: italic; text-align: right;\">missing</td><td style = \"text-align: right;\">6.4</td><td style = \"text-align: right;\">348</td><td style = \"text-align: right;\">4.5</td><td style = \"text-align: right;\">4.5</td><td style = \"text-align: right;\">4.5</td><td style = \"text-align: right;\">4.5</td><td style = \"text-align: right;\">14.5</td><td style = \"text-align: right;\">24.5</td><td style = \"text-align: right;\">24.5</td><td style = \"text-align: right;\">14.5</td><td style = \"text-align: right;\">4.5</td><td style = \"text-align: right;\">4.5</td><td style = \"text-align: left;\"></td><td style = \"text-align: right;\">0</td><td style = \"text-align: right;\">0</td><td style = \"text-align: right;\">1</td><td style = \"text-align: right;\">1</td><td style = \"text-align: right;\">0</td><td style = \"text-align: right;\">0</td><td style = \"text-align: right;\">0</td></tr><tr><td class = \"rowNumber\" style = \"font-weight: bold; text-align: right;\">2</td><td style = \"text-align: left;\">$1000 a Touchdown</td><td style = \"text-align: right;\">1939</td><td style = \"text-align: right;\">71</td><td style = \"font-style: italic; text-align: right;\">missing</td><td style = \"text-align: right;\">6.0</td><td style = \"text-align: right;\">20</td><td style = \"text-align: right;\">0.0</td><td style = \"text-align: right;\">14.5</td><td style = \"text-align: right;\">4.5</td><td style = \"text-align: right;\">24.5</td><td style = \"text-align: right;\">14.5</td><td style = \"text-align: right;\">14.5</td><td style = \"text-align: right;\">14.5</td><td style = \"text-align: right;\">4.5</td><td style = \"text-align: right;\">4.5</td><td style = \"text-align: right;\">14.5</td><td style = \"text-align: left;\"></td><td style = \"text-align: right;\">0</td><td style = \"text-align: right;\">0</td><td style = \"text-align: right;\">1</td><td style = \"text-align: right;\">0</td><td style = \"text-align: right;\">0</td><td style = \"text-align: right;\">0</td><td style = \"text-align: right;\">0</td></tr><tr><td class = \"rowNumber\" style = \"font-weight: bold; text-align: right;\">3</td><td style = \"text-align: left;\">$21 a Day Once a Month</td><td style = \"text-align: right;\">1941</td><td style = \"text-align: right;\">7</td><td style = \"font-style: italic; text-align: right;\">missing</td><td style = \"text-align: right;\">8.2</td><td style = \"text-align: right;\">5</td><td style = \"text-align: right;\">0.0</td><td style = \"text-align: right;\">0.0</td><td style = \"text-align: right;\">0.0</td><td style = \"text-align: right;\">0.0</td><td style = \"text-align: right;\">0.0</td><td style = \"text-align: right;\">24.5</td><td style = \"text-align: right;\">0.0</td><td style = \"text-align: right;\">44.5</td><td style = \"text-align: right;\">24.5</td><td style = \"text-align: right;\">24.5</td><td style = \"text-align: left;\"></td><td style = \"text-align: right;\">0</td><td style = \"text-align: right;\">1</td><td style = \"text-align: right;\">0</td><td style = \"text-align: right;\">0</td><td style = \"text-align: right;\">0</td><td style = \"text-align: right;\">0</td><td style = \"text-align: right;\">1</td></tr><tr><td class = \"rowNumber\" style = \"font-weight: bold; text-align: right;\">4</td><td style = \"text-align: left;\">$40,000</td><td style = \"text-align: right;\">1996</td><td style = \"text-align: right;\">70</td><td style = \"font-style: italic; text-align: right;\">missing</td><td style = \"text-align: right;\">8.2</td><td style = \"text-align: right;\">6</td><td style = \"text-align: right;\">14.5</td><td style = \"text-align: right;\">0.0</td><td style = \"text-align: right;\">0.0</td><td style = \"text-align: right;\">0.0</td><td style = \"text-align: right;\">0.0</td><td style = \"text-align: right;\">0.0</td><td style = \"text-align: right;\">0.0</td><td style = \"text-align: right;\">0.0</td><td style = \"text-align: right;\">34.5</td><td style = \"text-align: right;\">45.5</td><td style = \"text-align: left;\"></td><td style = \"text-align: right;\">0</td><td style = \"text-align: right;\">0</td><td style = \"text-align: right;\">1</td><td style = \"text-align: right;\">0</td><td style = \"text-align: right;\">0</td><td style = \"text-align: right;\">0</td><td style = \"text-align: right;\">0</td></tr><tr><td class = \"rowNumber\" style = \"font-weight: bold; text-align: right;\">5</td><td style = \"text-align: left;\">$50,000 Climax Show, The</td><td style = \"text-align: right;\">1975</td><td style = \"text-align: right;\">71</td><td style = \"font-style: italic; text-align: right;\">missing</td><td style = \"text-align: right;\">3.4</td><td style = \"text-align: right;\">17</td><td style = \"text-align: right;\">24.5</td><td style = \"text-align: right;\">4.5</td><td style = \"text-align: right;\">0.0</td><td style = \"text-align: right;\">14.5</td><td style = \"text-align: right;\">14.5</td><td style = \"text-align: right;\">4.5</td><td style = \"text-align: right;\">0.0</td><td style = \"text-align: right;\">0.0</td><td style = \"text-align: right;\">0.0</td><td style = \"text-align: right;\">24.5</td><td style = \"text-align: left;\"></td><td style = \"text-align: right;\">0</td><td style = \"text-align: right;\">0</td><td style = \"text-align: right;\">0</td><td style = \"text-align: right;\">0</td><td style = \"text-align: right;\">0</td><td style = \"text-align: right;\">0</td><td style = \"text-align: right;\">0</td></tr><tr><td class = \"rowNumber\" style = \"font-weight: bold; text-align: right;\">6</td><td style = \"text-align: left;\">$pent</td><td style = \"text-align: right;\">2000</td><td style = \"text-align: right;\">91</td><td style = \"font-style: italic; text-align: right;\">missing</td><td style = \"text-align: right;\">4.3</td><td style = \"text-align: right;\">45</td><td style = \"text-align: right;\">4.5</td><td style = \"text-align: right;\">4.5</td><td style = \"text-align: right;\">4.5</td><td style = \"text-align: right;\">14.5</td><td style = \"text-align: right;\">14.5</td><td style = \"text-align: right;\">14.5</td><td style = \"text-align: right;\">4.5</td><td style = \"text-align: right;\">4.5</td><td style = \"text-align: right;\">14.5</td><td style = \"text-align: right;\">14.5</td><td style = \"text-align: left;\"></td><td style = \"text-align: right;\">0</td><td style = \"text-align: right;\">0</td><td style = \"text-align: right;\">0</td><td style = \"text-align: right;\">1</td><td style = \"text-align: right;\">0</td><td style = \"text-align: right;\">0</td><td style = \"text-align: right;\">0</td></tr><tr><td class = \"rowNumber\" style = \"font-weight: bold; text-align: right;\">7</td><td style = \"text-align: left;\">$windle</td><td style = \"text-align: right;\">2002</td><td style = \"text-align: right;\">93</td><td style = \"font-style: italic; text-align: right;\">missing</td><td style = \"text-align: right;\">5.3</td><td style = \"text-align: right;\">200</td><td style = \"text-align: right;\">4.5</td><td style = \"text-align: right;\">0.0</td><td style = \"text-align: right;\">4.5</td><td style = \"text-align: right;\">4.5</td><td style = \"text-align: right;\">24.5</td><td style = \"text-align: right;\">24.5</td><td style = \"text-align: right;\">14.5</td><td style = \"text-align: right;\">4.5</td><td style = \"text-align: right;\">4.5</td><td style = \"text-align: right;\">14.5</td><td style = \"text-align: left;\">R</td><td style = \"text-align: right;\">1</td><td style = \"text-align: right;\">0</td><td style = \"text-align: right;\">0</td><td style = \"text-align: right;\">1</td><td style = \"text-align: right;\">0</td><td style = \"text-align: right;\">0</td><td style = \"text-align: right;\">0</td></tr><tr><td class = \"rowNumber\" style = \"font-weight: bold; text-align: right;\">8</td><td style = \"text-align: left;\">&apos;15&apos;</td><td style = \"text-align: right;\">2002</td><td style = \"text-align: right;\">25</td><td style = \"font-style: italic; text-align: right;\">missing</td><td style = \"text-align: right;\">6.7</td><td style = \"text-align: right;\">24</td><td style = \"text-align: right;\">4.5</td><td style = \"text-align: right;\">4.5</td><td style = \"text-align: right;\">4.5</td><td style = \"text-align: right;\">4.5</td><td style = \"text-align: right;\">4.5</td><td style = \"text-align: right;\">14.5</td><td style = \"text-align: right;\">14.5</td><td style = \"text-align: right;\">14.5</td><td style = \"text-align: right;\">4.5</td><td style = \"text-align: right;\">14.5</td><td style = \"text-align: left;\"></td><td style = \"text-align: right;\">0</td><td style = \"text-align: right;\">0</td><td style = \"text-align: right;\">0</td><td style = \"text-align: right;\">0</td><td style = \"text-align: right;\">1</td><td style = \"text-align: right;\">0</td><td style = \"text-align: right;\">1</td></tr><tr><td class = \"rowNumber\" style = \"font-weight: bold; text-align: right;\">9</td><td style = \"text-align: left;\">&apos;38</td><td style = \"text-align: right;\">1987</td><td style = \"text-align: right;\">97</td><td style = \"font-style: italic; text-align: right;\">missing</td><td style = \"text-align: right;\">6.6</td><td style = \"text-align: right;\">18</td><td style = \"text-align: right;\">4.5</td><td style = \"text-align: right;\">4.5</td><td style = \"text-align: right;\">4.5</td><td style = \"text-align: right;\">0.0</td><td style = \"text-align: right;\">0.0</td><td style = \"text-align: right;\">0.0</td><td style = \"text-align: right;\">34.5</td><td style = \"text-align: right;\">14.5</td><td style = \"text-align: right;\">4.5</td><td style = \"text-align: right;\">24.5</td><td style = \"text-align: left;\"></td><td style = \"text-align: right;\">0</td><td style = \"text-align: right;\">0</td><td style = \"text-align: right;\">0</td><td style = \"text-align: right;\">1</td><td style = \"text-align: right;\">0</td><td style = \"text-align: right;\">0</td><td style = \"text-align: right;\">0</td></tr><tr><td class = \"rowNumber\" style = \"font-weight: bold; text-align: right;\">10</td><td style = \"text-align: left;\">&apos;49-&apos;17</td><td style = \"text-align: right;\">1917</td><td style = \"text-align: right;\">61</td><td style = \"font-style: italic; text-align: right;\">missing</td><td style = \"text-align: right;\">6.0</td><td style = \"text-align: right;\">51</td><td style = \"text-align: right;\">4.5</td><td style = \"text-align: right;\">0.0</td><td style = \"text-align: right;\">4.5</td><td style = \"text-align: right;\">4.5</td><td style = \"text-align: right;\">4.5</td><td style = \"text-align: right;\">44.5</td><td style = \"text-align: right;\">14.5</td><td style = \"text-align: right;\">4.5</td><td style = \"text-align: right;\">4.5</td><td style = \"text-align: right;\">4.5</td><td style = \"text-align: left;\"></td><td style = \"text-align: right;\">0</td><td style = \"text-align: right;\">0</td><td style = \"text-align: right;\">0</td><td style = \"text-align: right;\">0</td><td style = \"text-align: right;\">0</td><td style = \"text-align: right;\">0</td><td style = \"text-align: right;\">0</td></tr><tr><td class = \"rowNumber\" style = \"font-weight: bold; text-align: right;\">11</td><td style = \"text-align: left;\">&apos;68</td><td style = \"text-align: right;\">1988</td><td style = \"text-align: right;\">99</td><td style = \"font-style: italic; text-align: right;\">missing</td><td style = \"text-align: right;\">5.4</td><td style = \"text-align: right;\">23</td><td style = \"text-align: right;\">4.5</td><td style = \"text-align: right;\">0.0</td><td style = \"text-align: right;\">4.5</td><td style = \"text-align: right;\">14.5</td><td style = \"text-align: right;\">24.5</td><td style = \"text-align: right;\">4.5</td><td style = \"text-align: right;\">24.5</td><td style = \"text-align: right;\">4.5</td><td style = \"text-align: right;\">14.5</td><td style = \"text-align: right;\">4.5</td><td style = \"text-align: left;\"></td><td style = \"text-align: right;\">0</td><td style = \"text-align: right;\">0</td><td style = \"text-align: right;\">0</td><td style = \"text-align: right;\">1</td><td style = \"text-align: right;\">0</td><td style = \"text-align: right;\">0</td><td style = \"text-align: right;\">0</td></tr><tr><td class = \"rowNumber\" style = \"font-weight: bold; text-align: right;\">12</td><td style = \"text-align: left;\">&apos;94 du bi dao zhi qing</td><td style = \"text-align: right;\">1994</td><td style = \"text-align: right;\">96</td><td style = \"font-style: italic; text-align: right;\">missing</td><td style = \"text-align: right;\">5.9</td><td style = \"text-align: right;\">53</td><td style = \"text-align: right;\">4.5</td><td style = \"text-align: right;\">0.0</td><td style = \"text-align: right;\">4.5</td><td style = \"text-align: right;\">4.5</td><td style = \"text-align: right;\">4.5</td><td style = \"text-align: right;\">14.5</td><td style = \"text-align: right;\">24.5</td><td style = \"text-align: right;\">14.5</td><td style = \"text-align: right;\">4.5</td><td style = \"text-align: right;\">24.5</td><td style = \"text-align: left;\"></td><td style = \"text-align: right;\">0</td><td style = \"text-align: right;\">0</td><td style = \"text-align: right;\">0</td><td style = \"text-align: right;\">0</td><td style = \"text-align: right;\">0</td><td style = \"text-align: right;\">0</td><td style = \"text-align: right;\">0</td></tr><tr><td class = \"rowNumber\" style = \"font-weight: bold; text-align: right;\">13</td><td style = \"text-align: left;\">&apos;?&apos; Motorist, The</td><td style = \"text-align: right;\">1906</td><td style = \"text-align: right;\">10</td><td style = \"font-style: italic; text-align: right;\">missing</td><td style = \"text-align: right;\">7.0</td><td style = \"text-align: right;\">44</td><td style = \"text-align: right;\">4.5</td><td style = \"text-align: right;\">0.0</td><td style = \"text-align: right;\">0.0</td><td style = \"text-align: right;\">0.0</td><td style = \"text-align: right;\">4.5</td><td style = \"text-align: right;\">14.5</td><td style = \"text-align: right;\">34.5</td><td style = \"text-align: right;\">14.5</td><td style = \"text-align: right;\">4.5</td><td style = \"text-align: right;\">14.5</td><td style = \"text-align: left;\"></td><td style = \"text-align: right;\">0</td><td style = \"text-align: right;\">0</td><td style = \"text-align: right;\">1</td><td style = \"text-align: right;\">0</td><td style = \"text-align: right;\">0</td><td style = \"text-align: right;\">0</td><td style = \"text-align: right;\">1</td></tr><tr><td style = \"text-align: right;\">&vellip;</td><td style = \"text-align: right;\">&vellip;</td><td style = \"text-align: right;\">&vellip;</td><td style = \"text-align: right;\">&vellip;</td><td style = \"text-align: right;\">&vellip;</td><td style = \"text-align: right;\">&vellip;</td><td style = \"text-align: right;\">&vellip;</td><td style = \"text-align: right;\">&vellip;</td><td style = \"text-align: right;\">&vellip;</td><td style = \"text-align: right;\">&vellip;</td><td style = \"text-align: right;\">&vellip;</td><td style = \"text-align: right;\">&vellip;</td><td style = \"text-align: right;\">&vellip;</td><td style = \"text-align: right;\">&vellip;</td><td style = \"text-align: right;\">&vellip;</td><td style = \"text-align: right;\">&vellip;</td><td style = \"text-align: right;\">&vellip;</td><td style = \"text-align: right;\">&vellip;</td><td style = \"text-align: right;\">&vellip;</td><td style = \"text-align: right;\">&vellip;</td><td style = \"text-align: right;\">&vellip;</td><td style = \"text-align: right;\">&vellip;</td><td style = \"text-align: right;\">&vellip;</td><td style = \"text-align: right;\">&vellip;</td><td style = \"text-align: right;\">&vellip;</td></tr><tr><td class = \"rowNumber\" style = \"font-weight: bold; text-align: right;\">58777</td><td style = \"text-align: left;\">eRATicate</td><td style = \"text-align: right;\">2003</td><td style = \"text-align: right;\">9</td><td style = \"font-style: italic; text-align: right;\">missing</td><td style = \"text-align: right;\">6.0</td><td style = \"text-align: right;\">5</td><td style = \"text-align: right;\">0.0</td><td style = \"text-align: right;\">0.0</td><td style = \"text-align: right;\">0.0</td><td style = \"text-align: right;\">0.0</td><td style = \"text-align: right;\">0.0</td><td style = \"text-align: right;\">44.5</td><td style = \"text-align: right;\">0.0</td><td style = \"text-align: right;\">0.0</td><td style = \"text-align: right;\">24.5</td><td style = \"text-align: right;\">44.5</td><td style = \"text-align: left;\"></td><td style = \"text-align: right;\">0</td><td style = \"text-align: right;\">0</td><td style = \"text-align: right;\">1</td><td style = \"text-align: right;\">0</td><td style = \"text-align: right;\">0</td><td style = \"text-align: right;\">0</td><td style = \"text-align: right;\">1</td></tr><tr><td class = \"rowNumber\" style = \"font-weight: bold; text-align: right;\">58778</td><td style = \"text-align: left;\">eXXXorcismos</td><td style = \"text-align: right;\">2002</td><td style = \"text-align: right;\">78</td><td style = \"font-style: italic; text-align: right;\">missing</td><td style = \"text-align: right;\">4.2</td><td style = \"text-align: right;\">11</td><td style = \"text-align: right;\">34.5</td><td style = \"text-align: right;\">0.0</td><td style = \"text-align: right;\">0.0</td><td style = \"text-align: right;\">0.0</td><td style = \"text-align: right;\">0.0</td><td style = \"text-align: right;\">4.5</td><td style = \"text-align: right;\">0.0</td><td style = \"text-align: right;\">14.5</td><td style = \"text-align: right;\">4.5</td><td style = \"text-align: right;\">24.5</td><td style = \"text-align: left;\"></td><td style = \"text-align: right;\">0</td><td style = \"text-align: right;\">0</td><td style = \"text-align: right;\">0</td><td style = \"text-align: right;\">1</td><td style = \"text-align: right;\">0</td><td style = \"text-align: right;\">0</td><td style = \"text-align: right;\">0</td></tr><tr><td class = \"rowNumber\" style = \"font-weight: bold; text-align: right;\">58779</td><td style = \"text-align: left;\">eXistenZ</td><td style = \"text-align: right;\">1999</td><td style = \"text-align: right;\">97</td><td style = \"font-style: italic; text-align: right;\">missing</td><td style = \"text-align: right;\">6.7</td><td style = \"text-align: right;\">14742</td><td style = \"text-align: right;\">4.5</td><td style = \"text-align: right;\">4.5</td><td style = \"text-align: right;\">4.5</td><td style = \"text-align: right;\">4.5</td><td style = \"text-align: right;\">4.5</td><td style = \"text-align: right;\">14.5</td><td style = \"text-align: right;\">24.5</td><td style = \"text-align: right;\">24.5</td><td style = \"text-align: right;\">14.5</td><td style = \"text-align: right;\">4.5</td><td style = \"text-align: left;\">R</td><td style = \"text-align: right;\">0</td><td style = \"text-align: right;\">0</td><td style = \"text-align: right;\">0</td><td style = \"text-align: right;\">1</td><td style = \"text-align: right;\">0</td><td style = \"text-align: right;\">0</td><td style = \"text-align: right;\">0</td></tr><tr><td class = \"rowNumber\" style = \"font-weight: bold; text-align: right;\">58780</td><td style = \"text-align: left;\">f2point8</td><td style = \"text-align: right;\">2002</td><td style = \"text-align: right;\">20</td><td style = \"font-style: italic; text-align: right;\">missing</td><td style = \"text-align: right;\">5.0</td><td style = \"text-align: right;\">13</td><td style = \"text-align: right;\">4.5</td><td style = \"text-align: right;\">0.0</td><td style = \"text-align: right;\">4.5</td><td style = \"text-align: right;\">4.5</td><td style = \"text-align: right;\">14.5</td><td style = \"text-align: right;\">0.0</td><td style = \"text-align: right;\">14.5</td><td style = \"text-align: right;\">4.5</td><td style = \"text-align: right;\">14.5</td><td style = \"text-align: right;\">24.5</td><td style = \"text-align: left;\"></td><td style = \"text-align: right;\">0</td><td style = \"text-align: right;\">0</td><td style = \"text-align: right;\">0</td><td style = \"text-align: right;\">0</td><td style = \"text-align: right;\">0</td><td style = \"text-align: right;\">0</td><td style = \"text-align: right;\">1</td></tr><tr><td class = \"rowNumber\" style = \"font-weight: bold; text-align: right;\">58781</td><td style = \"text-align: left;\">f8</td><td style = \"text-align: right;\">2001</td><td style = \"text-align: right;\">13</td><td style = \"font-style: italic; text-align: right;\">missing</td><td style = \"text-align: right;\">7.6</td><td style = \"text-align: right;\">7</td><td style = \"text-align: right;\">0.0</td><td style = \"text-align: right;\">0.0</td><td style = \"text-align: right;\">0.0</td><td style = \"text-align: right;\">0.0</td><td style = \"text-align: right;\">0.0</td><td style = \"text-align: right;\">24.5</td><td style = \"text-align: right;\">14.5</td><td style = \"text-align: right;\">24.5</td><td style = \"text-align: right;\">24.5</td><td style = \"text-align: right;\">0.0</td><td style = \"text-align: left;\"></td><td style = \"text-align: right;\">0</td><td style = \"text-align: right;\">1</td><td style = \"text-align: right;\">0</td><td style = \"text-align: right;\">0</td><td style = \"text-align: right;\">0</td><td style = \"text-align: right;\">0</td><td style = \"text-align: right;\">1</td></tr><tr><td class = \"rowNumber\" style = \"font-weight: bold; text-align: right;\">58782</td><td style = \"text-align: left;\">pURe kILLjoy</td><td style = \"text-align: right;\">1998</td><td style = \"text-align: right;\">87</td><td style = \"font-style: italic; text-align: right;\">missing</td><td style = \"text-align: right;\">5.2</td><td style = \"text-align: right;\">6</td><td style = \"text-align: right;\">0.0</td><td style = \"text-align: right;\">14.5</td><td style = \"text-align: right;\">14.5</td><td style = \"text-align: right;\">14.5</td><td style = \"text-align: right;\">0.0</td><td style = \"text-align: right;\">34.5</td><td style = \"text-align: right;\">0.0</td><td style = \"text-align: right;\">0.0</td><td style = \"text-align: right;\">0.0</td><td style = \"text-align: right;\">14.5</td><td style = \"text-align: left;\"></td><td style = \"text-align: right;\">0</td><td style = \"text-align: right;\">0</td><td style = \"text-align: right;\">0</td><td style = \"text-align: right;\">0</td><td style = \"text-align: right;\">0</td><td style = \"text-align: right;\">0</td><td style = \"text-align: right;\">0</td></tr><tr><td class = \"rowNumber\" style = \"font-weight: bold; text-align: right;\">58783</td><td style = \"text-align: left;\">sIDney</td><td style = \"text-align: right;\">2002</td><td style = \"text-align: right;\">15</td><td style = \"font-style: italic; text-align: right;\">missing</td><td style = \"text-align: right;\">7.0</td><td style = \"text-align: right;\">8</td><td style = \"text-align: right;\">14.5</td><td style = \"text-align: right;\">0.0</td><td style = \"text-align: right;\">0.0</td><td style = \"text-align: right;\">14.5</td><td style = \"text-align: right;\">0.0</td><td style = \"text-align: right;\">0.0</td><td style = \"text-align: right;\">24.5</td><td style = \"text-align: right;\">14.5</td><td style = \"text-align: right;\">14.5</td><td style = \"text-align: right;\">24.5</td><td style = \"text-align: left;\"></td><td style = \"text-align: right;\">1</td><td style = \"text-align: right;\">0</td><td style = \"text-align: right;\">0</td><td style = \"text-align: right;\">0</td><td style = \"text-align: right;\">0</td><td style = \"text-align: right;\">0</td><td style = \"text-align: right;\">1</td></tr><tr><td class = \"rowNumber\" style = \"font-weight: bold; text-align: right;\">58784</td><td style = \"text-align: left;\">tom thumb</td><td style = \"text-align: right;\">1958</td><td style = \"text-align: right;\">98</td><td style = \"font-style: italic; text-align: right;\">missing</td><td style = \"text-align: right;\">6.5</td><td style = \"text-align: right;\">274</td><td style = \"text-align: right;\">4.5</td><td style = \"text-align: right;\">4.5</td><td style = \"text-align: right;\">4.5</td><td style = \"text-align: right;\">4.5</td><td style = \"text-align: right;\">14.5</td><td style = \"text-align: right;\">14.5</td><td style = \"text-align: right;\">24.5</td><td style = \"text-align: right;\">14.5</td><td style = \"text-align: right;\">4.5</td><td style = \"text-align: right;\">4.5</td><td style = \"text-align: left;\"></td><td style = \"text-align: right;\">0</td><td style = \"text-align: right;\">1</td><td style = \"text-align: right;\">0</td><td style = \"text-align: right;\">0</td><td style = \"text-align: right;\">0</td><td style = \"text-align: right;\">0</td><td style = \"text-align: right;\">0</td></tr><tr><td class = \"rowNumber\" style = \"font-weight: bold; text-align: right;\">58785</td><td style = \"text-align: left;\">www.XXX.com</td><td style = \"text-align: right;\">2003</td><td style = \"text-align: right;\">105</td><td style = \"text-align: right;\">missing</td><td style = \"text-align: right;\">1.1</td><td style = \"text-align: right;\">12</td><td style = \"text-align: right;\">45.5</td><td style = \"text-align: right;\">0.0</td><td style = \"text-align: right;\">0.0</td><td style = \"text-align: right;\">0.0</td><td style = \"text-align: right;\">0.0</td><td style = \"text-align: right;\">0.0</td><td style = \"text-align: right;\">24.5</td><td style = \"text-align: right;\">0.0</td><td style = \"text-align: right;\">0.0</td><td style = \"text-align: right;\">24.5</td><td style = \"text-align: left;\"></td><td style = \"text-align: right;\">0</td><td style = \"text-align: right;\">0</td><td style = \"text-align: right;\">0</td><td style = \"text-align: right;\">1</td><td style = \"text-align: right;\">0</td><td style = \"text-align: right;\">1</td><td style = \"text-align: right;\">0</td></tr><tr><td class = \"rowNumber\" style = \"font-weight: bold; text-align: right;\">58786</td><td style = \"text-align: left;\">www.hellssoapopera.com</td><td style = \"text-align: right;\">1999</td><td style = \"text-align: right;\">100</td><td style = \"font-style: italic; text-align: right;\">missing</td><td style = \"text-align: right;\">6.6</td><td style = \"text-align: right;\">5</td><td style = \"text-align: right;\">24.5</td><td style = \"text-align: right;\">0.0</td><td style = \"text-align: right;\">24.5</td><td style = \"text-align: right;\">0.0</td><td style = \"text-align: right;\">0.0</td><td style = \"text-align: right;\">0.0</td><td style = \"text-align: right;\">0.0</td><td style = \"text-align: right;\">0.0</td><td style = \"text-align: right;\">24.5</td><td style = \"text-align: right;\">44.5</td><td style = \"text-align: left;\"></td><td style = \"text-align: right;\">0</td><td style = \"text-align: right;\">0</td><td style = \"text-align: right;\">0</td><td style = \"text-align: right;\">0</td><td style = \"text-align: right;\">0</td><td style = \"text-align: right;\">0</td><td style = \"text-align: right;\">0</td></tr><tr><td class = \"rowNumber\" style = \"font-weight: bold; text-align: right;\">58787</td><td style = \"text-align: left;\">xXx</td><td style = \"text-align: right;\">2002</td><td style = \"text-align: right;\">132</td><td style = \"font-style: italic; text-align: right;\">85000000</td><td style = \"text-align: right;\">5.5</td><td style = \"text-align: right;\">18514</td><td style = \"text-align: right;\">4.5</td><td style = \"text-align: right;\">4.5</td><td style = \"text-align: right;\">4.5</td><td style = \"text-align: right;\">4.5</td><td style = \"text-align: right;\">14.5</td><td style = \"text-align: right;\">14.5</td><td style = \"text-align: right;\">14.5</td><td style = \"text-align: right;\">14.5</td><td style = \"text-align: right;\">4.5</td><td style = \"text-align: right;\">4.5</td><td style = \"text-align: left;\">PG-13</td><td style = \"text-align: right;\">1</td><td style = \"text-align: right;\">0</td><td style = \"text-align: right;\">0</td><td style = \"text-align: right;\">0</td><td style = \"text-align: right;\">0</td><td style = \"text-align: right;\">0</td><td style = \"text-align: right;\">0</td></tr><tr><td class = \"rowNumber\" style = \"font-weight: bold; text-align: right;\">58788</td><td style = \"text-align: left;\">xXx: State of the Union</td><td style = \"text-align: right;\">2005</td><td style = \"text-align: right;\">101</td><td style = \"font-style: italic; text-align: right;\">87000000</td><td style = \"text-align: right;\">3.9</td><td style = \"text-align: right;\">1584</td><td style = \"text-align: right;\">24.5</td><td style = \"text-align: right;\">4.5</td><td style = \"text-align: right;\">4.5</td><td style = \"text-align: right;\">4.5</td><td style = \"text-align: right;\">4.5</td><td style = \"text-align: right;\">14.5</td><td style = \"text-align: right;\">4.5</td><td style = \"text-align: right;\">4.5</td><td style = \"text-align: right;\">4.5</td><td style = \"text-align: right;\">14.5</td><td style = \"text-align: left;\">PG-13</td><td style = \"text-align: right;\">1</td><td style = \"text-align: right;\">0</td><td style = \"text-align: right;\">0</td><td style = \"text-align: right;\">0</td><td style = \"text-align: right;\">0</td><td style = \"text-align: right;\">0</td><td style = \"text-align: right;\">0</td></tr></tbody></table></div>"
      ],
      "text/latex": [
       "\\begin{tabular}{r|cccccc}\n",
       "\t& Title & Year & Length & Budget & Rating & \\\\\n",
       "\t\\hline\n",
       "\t& String & Int32 & Int32 & Int32? & Float64 & \\\\\n",
       "\t\\hline\n",
       "\t1 & \\$ & 1971 & 121 & \\emph{missing} & 6.4 & $\\dots$ \\\\\n",
       "\t2 & \\$1000 a Touchdown & 1939 & 71 & \\emph{missing} & 6.0 & $\\dots$ \\\\\n",
       "\t3 & \\$21 a Day Once a Month & 1941 & 7 & \\emph{missing} & 8.2 & $\\dots$ \\\\\n",
       "\t4 & \\$40,000 & 1996 & 70 & \\emph{missing} & 8.2 & $\\dots$ \\\\\n",
       "\t5 & \\$50,000 Climax Show, The & 1975 & 71 & \\emph{missing} & 3.4 & $\\dots$ \\\\\n",
       "\t6 & \\$pent & 2000 & 91 & \\emph{missing} & 4.3 & $\\dots$ \\\\\n",
       "\t7 & \\$windle & 2002 & 93 & \\emph{missing} & 5.3 & $\\dots$ \\\\\n",
       "\t8 & '15' & 2002 & 25 & \\emph{missing} & 6.7 & $\\dots$ \\\\\n",
       "\t9 & '38 & 1987 & 97 & \\emph{missing} & 6.6 & $\\dots$ \\\\\n",
       "\t10 & '49-'17 & 1917 & 61 & \\emph{missing} & 6.0 & $\\dots$ \\\\\n",
       "\t11 & '68 & 1988 & 99 & \\emph{missing} & 5.4 & $\\dots$ \\\\\n",
       "\t12 & '94 du bi dao zhi qing & 1994 & 96 & \\emph{missing} & 5.9 & $\\dots$ \\\\\n",
       "\t13 & '?' Motorist, The & 1906 & 10 & \\emph{missing} & 7.0 & $\\dots$ \\\\\n",
       "\t14 & 'A' & 1965 & 10 & \\emph{missing} & 6.7 & $\\dots$ \\\\\n",
       "\t15 & 'A' gai waak & 1983 & 106 & \\emph{missing} & 7.1 & $\\dots$ \\\\\n",
       "\t16 & 'A' gai waak juk jaap & 1987 & 101 & \\emph{missing} & 7.2 & $\\dots$ \\\\\n",
       "\t17 & 'Breaker' Morant & 1980 & 107 & \\emph{missing} & 7.9 & $\\dots$ \\\\\n",
       "\t18 & 'Bullitt': Steve McQueen's Commitment to Reality & 1968 & 10 & \\emph{missing} & 6.6 & $\\dots$ \\\\\n",
       "\t19 & 'Crocodile' Dundee II & 1988 & 110 & \\emph{missing} & 5.0 & $\\dots$ \\\\\n",
       "\t20 & 'E' & 1981 & 7 & \\emph{missing} & 8.6 & $\\dots$ \\\\\n",
       "\t21 & 'El Chicko' - der Verdacht & 1995 & 90 & \\emph{missing} & 3.9 & $\\dots$ \\\\\n",
       "\t22 & 'G' Men & 1935 & 85 & 450000 & 7.2 & $\\dots$ \\\\\n",
       "\t23 & 'Gator Bait & 1974 & 88 & \\emph{missing} & 3.5 & $\\dots$ \\\\\n",
       "\t24 & 'Gator Bait II: Cajun Justice & 1988 & 95 & \\emph{missing} & 3.1 & $\\dots$ \\\\\n",
       "\t$\\dots$ & $\\dots$ & $\\dots$ & $\\dots$ & $\\dots$ & $\\dots$ &  \\\\\n",
       "\\end{tabular}\n"
      ],
      "text/plain": [
       "\u001b[1m58788×24 DataFrame\u001b[0m\n",
       "\u001b[1m   Row \u001b[0m│\u001b[1m Title                    \u001b[0m\u001b[1m Year  \u001b[0m\u001b[1m Length \u001b[0m\u001b[1m Budget   \u001b[0m\u001b[1m Rating  \u001b[0m\u001b[1m Votes \u001b[0m\u001b[1m R1\u001b[0m ⋯\n",
       "       │\u001b[90m String                   \u001b[0m\u001b[90m Int32 \u001b[0m\u001b[90m Int32  \u001b[0m\u001b[90m Int32?   \u001b[0m\u001b[90m Float64 \u001b[0m\u001b[90m Int32 \u001b[0m\u001b[90m Fl\u001b[0m ⋯\n",
       "───────┼────────────────────────────────────────────────────────────────────────\n",
       "     1 │ $                          1971     121 \u001b[90m  missing \u001b[0m     6.4    348     ⋯\n",
       "     2 │ $1000 a Touchdown          1939      71 \u001b[90m  missing \u001b[0m     6.0     20\n",
       "     3 │ $21 a Day Once a Month     1941       7 \u001b[90m  missing \u001b[0m     8.2      5\n",
       "     4 │ $40,000                    1996      70 \u001b[90m  missing \u001b[0m     8.2      6\n",
       "     5 │ $50,000 Climax Show, The   1975      71 \u001b[90m  missing \u001b[0m     3.4     17     ⋯\n",
       "     6 │ $pent                      2000      91 \u001b[90m  missing \u001b[0m     4.3     45\n",
       "     7 │ $windle                    2002      93 \u001b[90m  missing \u001b[0m     5.3    200\n",
       "     8 │ '15'                       2002      25 \u001b[90m  missing \u001b[0m     6.7     24\n",
       "   ⋮   │            ⋮                ⋮      ⋮        ⋮         ⋮       ⋮       ⋱\n",
       " 58782 │ pURe kILLjoy               1998      87 \u001b[90m  missing \u001b[0m     5.2      6     ⋯\n",
       " 58783 │ sIDney                     2002      15 \u001b[90m  missing \u001b[0m     7.0      8\n",
       " 58784 │ tom thumb                  1958      98 \u001b[90m  missing \u001b[0m     6.5    274\n",
       " 58785 │ www.XXX.com                2003     105 \u001b[90m  missing \u001b[0m     1.1     12\n",
       " 58786 │ www.hellssoapopera.com     1999     100 \u001b[90m  missing \u001b[0m     6.6      5     ⋯\n",
       " 58787 │ xXx                        2002     132  85000000      5.5  18514\n",
       " 58788 │ xXx: State of the Union    2005     101  87000000      3.9   1584\n",
       "\u001b[36m                                               18 columns and 58773 rows omitted\u001b[0m"
      ]
     },
     "metadata": {},
     "output_type": "display_data"
    }
   ],
   "source": [
    "movies = RDatasets.dataset(\"ggplot2\",\"movies\")"
   ]
  },
  {
   "cell_type": "code",
   "execution_count": 3,
   "metadata": {},
   "outputs": [
    {
     "data": {
      "text/html": [
       "<div><div style = \"float: left;\"><span>100×4 DataFrame</span></div><div style = \"float: right;\"><span style = \"font-style: italic;\">75 rows omitted</span></div><div style = \"clear: both;\"></div></div><div class = \"data-frame\" style = \"overflow-x: scroll;\"><table class = \"data-frame\" style = \"margin-bottom: 6px;\"><thead><tr class = \"header\"><th class = \"rowNumber\" style = \"font-weight: bold; text-align: right;\">Row</th><th style = \"text-align: left;\">Title</th><th style = \"text-align: left;\">Year</th><th style = \"text-align: left;\">Budget</th><th style = \"text-align: left;\">Rating</th></tr><tr class = \"subheader headerLastRow\"><th class = \"rowNumber\" style = \"font-weight: bold; text-align: right;\"></th><th title = \"String\" style = \"text-align: left;\">String</th><th title = \"Int32\" style = \"text-align: left;\">Int32</th><th title = \"Union{Missing, Float64}\" style = \"text-align: left;\">Float64?</th><th title = \"Float64\" style = \"text-align: left;\">Float64</th></tr></thead><tbody><tr><td class = \"rowNumber\" style = \"font-weight: bold; text-align: right;\">1</td><td style = \"text-align: left;\">13 Going On 30</td><td style = \"text-align: right;\">2004</td><td style = \"text-align: right;\">37.0</td><td style = \"text-align: right;\">6.4</td></tr><tr><td class = \"rowNumber\" style = \"font-weight: bold; text-align: right;\">2</td><td style = \"text-align: left;\">15 Minutes</td><td style = \"text-align: right;\">2001</td><td style = \"text-align: right;\">42.0</td><td style = \"text-align: right;\">6.1</td></tr><tr><td class = \"rowNumber\" style = \"font-weight: bold; text-align: right;\">3</td><td style = \"text-align: left;\">2 Fast 2 Furious</td><td style = \"text-align: right;\">2003</td><td style = \"text-align: right;\">76.0</td><td style = \"text-align: right;\">5.1</td></tr><tr><td class = \"rowNumber\" style = \"font-weight: bold; text-align: right;\">4</td><td style = \"text-align: left;\">21 Grams</td><td style = \"text-align: right;\">2003</td><td style = \"text-align: right;\">20.0</td><td style = \"text-align: right;\">8.0</td></tr><tr><td class = \"rowNumber\" style = \"font-weight: bold; text-align: right;\">5</td><td style = \"text-align: left;\">25th Hour</td><td style = \"text-align: right;\">2002</td><td style = \"text-align: right;\">15.0</td><td style = \"text-align: right;\">7.8</td></tr><tr><td class = \"rowNumber\" style = \"font-weight: bold; text-align: right;\">6</td><td style = \"text-align: left;\">3000 Miles to Graceland</td><td style = \"text-align: right;\">2001</td><td style = \"text-align: right;\">62.0</td><td style = \"text-align: right;\">5.4</td></tr><tr><td class = \"rowNumber\" style = \"font-weight: bold; text-align: right;\">7</td><td style = \"text-align: left;\">40 Days and 40 Nights</td><td style = \"text-align: right;\">2002</td><td style = \"text-align: right;\">17.0</td><td style = \"text-align: right;\">5.4</td></tr><tr><td class = \"rowNumber\" style = \"font-weight: bold; text-align: right;\">8</td><td style = \"text-align: left;\">50 First Dates</td><td style = \"text-align: right;\">2004</td><td style = \"text-align: right;\">75.0</td><td style = \"text-align: right;\">6.8</td></tr><tr><td class = \"rowNumber\" style = \"font-weight: bold; text-align: right;\">9</td><td style = \"text-align: left;\">51st State, The</td><td style = \"text-align: right;\">2001</td><td style = \"text-align: right;\">28.0</td><td style = \"text-align: right;\">6.1</td></tr><tr><td class = \"rowNumber\" style = \"font-weight: bold; text-align: right;\">10</td><td style = \"text-align: left;\">8 Mile</td><td style = \"text-align: right;\">2002</td><td style = \"text-align: right;\">41.0</td><td style = \"text-align: right;\">6.8</td></tr><tr><td class = \"rowNumber\" style = \"font-weight: bold; text-align: right;\">11</td><td style = \"text-align: left;\">AVP: Alien Vs. Predator</td><td style = \"text-align: right;\">2004</td><td style = \"text-align: right;\">45.0</td><td style = \"text-align: right;\">5.4</td></tr><tr><td class = \"rowNumber\" style = \"font-weight: bold; text-align: right;\">12</td><td style = \"text-align: left;\">Abandon</td><td style = \"text-align: right;\">2002</td><td style = \"text-align: right;\">25.0</td><td style = \"text-align: right;\">4.7</td></tr><tr><td class = \"rowNumber\" style = \"font-weight: bold; text-align: right;\">13</td><td style = \"text-align: left;\">About Schmidt</td><td style = \"text-align: right;\">2002</td><td style = \"text-align: right;\">30.0</td><td style = \"text-align: right;\">7.3</td></tr><tr><td style = \"text-align: right;\">&vellip;</td><td style = \"text-align: right;\">&vellip;</td><td style = \"text-align: right;\">&vellip;</td><td style = \"text-align: right;\">&vellip;</td><td style = \"text-align: right;\">&vellip;</td></tr><tr><td class = \"rowNumber\" style = \"font-weight: bold; text-align: right;\">89</td><td style = \"text-align: left;\">Cat in the Hat, The</td><td style = \"text-align: right;\">2003</td><td style = \"text-align: right;\">109.0</td><td style = \"text-align: right;\">3.2</td></tr><tr><td class = \"rowNumber\" style = \"font-weight: bold; text-align: right;\">90</td><td style = \"text-align: left;\">Catch Me If You Can</td><td style = \"text-align: right;\">2002</td><td style = \"text-align: right;\">52.0</td><td style = \"text-align: right;\">7.6</td></tr><tr><td class = \"rowNumber\" style = \"font-weight: bold; text-align: right;\">91</td><td style = \"text-align: left;\">Catch That Kid</td><td style = \"text-align: right;\">2004</td><td style = \"text-align: right;\">18.0</td><td style = \"text-align: right;\">4.5</td></tr><tr><td class = \"rowNumber\" style = \"font-weight: bold; text-align: right;\">92</td><td style = \"text-align: left;\">Cats &amp; Dogs</td><td style = \"text-align: right;\">2001</td><td style = \"text-align: right;\">60.0</td><td style = \"text-align: right;\">5.4</td></tr><tr><td class = \"rowNumber\" style = \"font-weight: bold; text-align: right;\">93</td><td style = \"text-align: left;\">Catwoman</td><td style = \"text-align: right;\">2004</td><td style = \"text-align: right;\">85.0</td><td style = \"text-align: right;\">3.4</td></tr><tr><td class = \"rowNumber\" style = \"font-weight: bold; text-align: right;\">94</td><td style = \"text-align: left;\">Cellular</td><td style = \"text-align: right;\">2004</td><td style = \"text-align: right;\">25.0</td><td style = \"text-align: right;\">6.4</td></tr><tr><td class = \"rowNumber\" style = \"font-weight: bold; text-align: right;\">95</td><td style = \"text-align: left;\">Changing Lanes</td><td style = \"text-align: right;\">2002</td><td style = \"text-align: right;\">45.0</td><td style = \"text-align: right;\">6.6</td></tr><tr><td class = \"rowNumber\" style = \"font-weight: bold; text-align: right;\">96</td><td style = \"text-align: left;\">Charlie&apos;s Angels: Full Throttle</td><td style = \"text-align: right;\">2003</td><td style = \"text-align: right;\">120.0</td><td style = \"text-align: right;\">5.0</td></tr><tr><td class = \"rowNumber\" style = \"font-weight: bold; text-align: right;\">97</td><td style = \"text-align: left;\">Chasing Liberty</td><td style = \"text-align: right;\">2004</td><td style = \"text-align: right;\">23.0</td><td style = \"text-align: right;\">5.7</td></tr><tr><td class = \"rowNumber\" style = \"font-weight: bold; text-align: right;\">98</td><td style = \"text-align: left;\">Cheaper by the Dozen</td><td style = \"text-align: right;\">2003</td><td style = \"text-align: right;\">40.0</td><td style = \"text-align: right;\">5.8</td></tr><tr><td class = \"rowNumber\" style = \"font-weight: bold; text-align: right;\">99</td><td style = \"text-align: left;\">Chicago</td><td style = \"text-align: right;\">2002</td><td style = \"text-align: right;\">45.0</td><td style = \"text-align: right;\">7.5</td></tr><tr><td class = \"rowNumber\" style = \"font-weight: bold; text-align: right;\">100</td><td style = \"text-align: left;\">Christmas with the Kranks</td><td style = \"text-align: right;\">2004</td><td style = \"text-align: right;\">60.0</td><td style = \"text-align: right;\">4.5</td></tr></tbody></table></div>"
      ],
      "text/latex": [
       "\\begin{tabular}{r|cccc}\n",
       "\t& Title & Year & Budget & Rating\\\\\n",
       "\t\\hline\n",
       "\t& String & Int32 & Float64? & Float64\\\\\n",
       "\t\\hline\n",
       "\t1 & 13 Going On 30 & 2004 & 37.0 & 6.4 \\\\\n",
       "\t2 & 15 Minutes & 2001 & 42.0 & 6.1 \\\\\n",
       "\t3 & 2 Fast 2 Furious & 2003 & 76.0 & 5.1 \\\\\n",
       "\t4 & 21 Grams & 2003 & 20.0 & 8.0 \\\\\n",
       "\t5 & 25th Hour & 2002 & 15.0 & 7.8 \\\\\n",
       "\t6 & 3000 Miles to Graceland & 2001 & 62.0 & 5.4 \\\\\n",
       "\t7 & 40 Days and 40 Nights & 2002 & 17.0 & 5.4 \\\\\n",
       "\t8 & 50 First Dates & 2004 & 75.0 & 6.8 \\\\\n",
       "\t9 & 51st State, The & 2001 & 28.0 & 6.1 \\\\\n",
       "\t10 & 8 Mile & 2002 & 41.0 & 6.8 \\\\\n",
       "\t11 & AVP: Alien Vs. Predator & 2004 & 45.0 & 5.4 \\\\\n",
       "\t12 & Abandon & 2002 & 25.0 & 4.7 \\\\\n",
       "\t13 & About Schmidt & 2002 & 30.0 & 7.3 \\\\\n",
       "\t14 & About a Boy & 2002 & 27.0 & 7.5 \\\\\n",
       "\t15 & Adaptation. & 2002 & 19.0 & 7.9 \\\\\n",
       "\t16 & Adventures of Pluto Nash, The & 2002 & 100.0 & 3.9 \\\\\n",
       "\t17 & After the Sunset & 2004 & 58.0 & 6.0 \\\\\n",
       "\t18 & Agent Cody Banks & 2003 & 26.0 & 5.5 \\\\\n",
       "\t19 & Agent Cody Banks 2: Destination London & 2004 & 26.0 & 3.8 \\\\\n",
       "\t20 & Alamo, The & 2004 & 95.0 & 5.9 \\\\\n",
       "\t21 & Alexander & 2004 & 150.0 & 5.5 \\\\\n",
       "\t22 & Alfie & 2004 & 60.0 & 6.0 \\\\\n",
       "\t23 & Ali & 2001 & 107.0 & 6.4 \\\\\n",
       "\t24 & All About the Benjamins & 2002 & 14.0 & 5.4 \\\\\n",
       "\t$\\dots$ & $\\dots$ & $\\dots$ & $\\dots$ & $\\dots$ \\\\\n",
       "\\end{tabular}\n"
      ],
      "text/plain": [
       "\u001b[1m100×4 DataFrame\u001b[0m\n",
       "\u001b[1m Row \u001b[0m│\u001b[1m Title                           \u001b[0m\u001b[1m Year  \u001b[0m\u001b[1m Budget   \u001b[0m\u001b[1m Rating  \u001b[0m\n",
       "     │\u001b[90m String                          \u001b[0m\u001b[90m Int32 \u001b[0m\u001b[90m Float64? \u001b[0m\u001b[90m Float64 \u001b[0m\n",
       "─────┼───────────────────────────────────────────────────────────\n",
       "   1 │ 13 Going On 30                    2004      37.0      6.4\n",
       "   2 │ 15 Minutes                        2001      42.0      6.1\n",
       "   3 │ 2 Fast 2 Furious                  2003      76.0      5.1\n",
       "   4 │ 21 Grams                          2003      20.0      8.0\n",
       "   5 │ 25th Hour                         2002      15.0      7.8\n",
       "   6 │ 3000 Miles to Graceland           2001      62.0      5.4\n",
       "   7 │ 40 Days and 40 Nights             2002      17.0      5.4\n",
       "   8 │ 50 First Dates                    2004      75.0      6.8\n",
       "  ⋮  │                ⋮                   ⋮       ⋮         ⋮\n",
       "  94 │ Cellular                          2004      25.0      6.4\n",
       "  95 │ Changing Lanes                    2002      45.0      6.6\n",
       "  96 │ Charlie's Angels: Full Throttle   2003     120.0      5.0\n",
       "  97 │ Chasing Liberty                   2004      23.0      5.7\n",
       "  98 │ Cheaper by the Dozen              2003      40.0      5.8\n",
       "  99 │ Chicago                           2002      45.0      7.5\n",
       " 100 │ Christmas with the Kranks         2004      60.0      4.5\n",
       "\u001b[36m                                                  85 rows omitted\u001b[0m"
      ]
     },
     "metadata": {},
     "output_type": "display_data"
    }
   ],
   "source": [
    "high_budget = @chain movies begin\n",
    "\t@mutate(Budget= Budget / 1_000_000)\n",
    "\t@filter(Budget >= mean(skipmissing(Budget)), Year > 2000)\n",
    "\t@select(Title, Year, Budget, Rating)\n",
    "    @slice(1:100)\n",
    "end"
   ]
  },
  {
   "cell_type": "code",
   "execution_count": 4,
   "metadata": {},
   "outputs": [],
   "source": [
    "using DataFrames"
   ]
  },
  {
   "cell_type": "code",
   "execution_count": 5,
   "metadata": {},
   "outputs": [],
   "source": [
    "sorted_hb=sort(high_budget, :Rating, rev=true)\n",
    "using PlotlyJS, CSV, WebIO"
   ]
  },
  {
   "cell_type": "code",
   "execution_count": 6,
   "metadata": {},
   "outputs": [
    {
     "data": {
      "text/plain": [
       "make_hover_text (generic function with 1 method)"
      ]
     },
     "metadata": {},
     "output_type": "display_data"
    }
   ],
   "source": [
    "function make_hover_text(row)\n",
    "    join([\n",
    "        \"Title: $(row.Title)<br>\",\n",
    "        \"Year: $(row.Year)<br>\",\n",
    "        \"Budget: $(row.Budget)<br>\",\n",
    "        \"Rating: $(row.Rating)<br>\"\n",
    "    ], \" \")\n",
    "end"
   ]
  },
  {
   "cell_type": "code",
   "execution_count": 7,
   "metadata": {},
   "outputs": [
    {
     "data": {
      "application/vnd.plotly.v1+json": {
       "config": {
        "editable": false,
        "responsive": true,
        "scrollZoom": true,
        "showLink": false,
        "staticPlot": false
       },
       "data": [
        {
         "legendgroup": "2001",
         "marker": {
          "color": "#00cc96",
          "size": [
           60,
           90,
           30,
           26,
           15,
           90,
           80,
           107,
           90,
           30,
           16,
           42,
           28,
           28,
           40,
           30,
           57,
           48,
           38,
           35,
           62,
           60,
           25,
           22,
           16,
           50
          ],
          "sizemode": "area",
          "sizeref": 0.018
         },
         "mode": "markers",
         "name": "2001",
         "showlegend": true,
         "text": [
          "Title: Beautiful Mind, A<br> Year: 2001<br> Budget: 60.0<br> Rating: 7.8<br>",
          "Title: Black Hawk Down<br> Year: 2001<br> Budget: 90.0<br> Rating: 7.6<br>",
          "Title: Blow<br> Year: 2001<br> Budget: 30.0<br> Rating: 7.1<br>",
          "Title: Bridget Jones's Diary<br> Year: 2001<br> Budget: 26.0<br> Rating: 7.0<br>",
          "Title: Buffalo Soldiers<br> Year: 2001<br> Budget: 15.0<br> Rating: 7.0<br>",
          "Title: Artificial Intelligence: AI<br> Year: 2001<br> Budget: 90.0<br> Rating: 6.8<br>",
          "Title: Bandits<br> Year: 2001<br> Budget: 80.0<br> Rating: 6.7<br>",
          "Title: Ali<br> Year: 2001<br> Budget: 107.0<br> Rating: 6.4<br>",
          "Title: Atlantis: The Lost Empire<br> Year: 2001<br> Budget: 90.0<br> Rating: 6.4<br>",
          "Title: American Pie 2<br> Year: 2001<br> Budget: 30.0<br> Rating: 6.3<br>",
          "Title: Baby Boy<br> Year: 2001<br> Budget: 16.0<br> Rating: 6.2<br>",
          "Title: 15 Minutes<br> Year: 2001<br> Budget: 42.0<br> Rating: 6.1<br>",
          "Title: 51st State, The<br> Year: 2001<br> Budget: 28.0<br> Rating: 6.1<br>",
          "Title: Along Came a Spider<br> Year: 2001<br> Budget: 28.0<br> Rating: 6.1<br>",
          "Title: Behind Enemy Lines<br> Year: 2001<br> Budget: 40.0<br> Rating: 6.1<br>",
          "Title: Antitrust<br> Year: 2001<br> Budget: 30.0<br> Rating: 6.0<br>",
          "Title: Captain Corelli's Mandolin<br> Year: 2001<br> Budget: 57.0<br> Rating: 5.9<br>",
          "Title: America's Sweethearts<br> Year: 2001<br> Budget: 48.0<br> Rating: 5.8<br>",
          "Title: Angel Eyes<br> Year: 2001<br> Budget: 38.0<br> Rating: 5.6<br>",
          "Title: American Outlaws<br> Year: 2001<br> Budget: 35.0<br> Rating: 5.5<br>",
          "Title: 3000 Miles to Graceland<br> Year: 2001<br> Budget: 62.0<br> Rating: 5.4<br>",
          "Title: Cats & Dogs<br> Year: 2001<br> Budget: 60.0<br> Rating: 5.4<br>",
          "Title: All the Queen's Men<br> Year: 2001<br> Budget: 25.0<br> Rating: 5.0<br>",
          "Title: Animal, The<br> Year: 2001<br> Budget: 22.0<br> Rating: 4.8<br>",
          "Title: Bones<br> Year: 2001<br> Budget: 16.0<br> Rating: 4.2<br>",
          "Title: Black Knight<br> Year: 2001<br> Budget: 50.0<br> Rating: 4.1<br>"
         ],
         "type": "scatter",
         "x": [
          60,
          90,
          30,
          26,
          15,
          90,
          80,
          107,
          90,
          30,
          16,
          42,
          28,
          28,
          40,
          30,
          57,
          48,
          38,
          35,
          62,
          60,
          25,
          22,
          16,
          50
         ],
         "xaxis": "x",
         "y": [
          7.8,
          7.6,
          7.1,
          7,
          7,
          6.8,
          6.7,
          6.4,
          6.4,
          6.3,
          6.2,
          6.1,
          6.1,
          6.1,
          6.1,
          6,
          5.9,
          5.8,
          5.6,
          5.5,
          5.4,
          5.4,
          5,
          4.8,
          4.2,
          4.1
         ],
         "yaxis": "y"
        },
        {
         "legendgroup": "2002",
         "marker": {
          "color": "#EF553B",
          "size": [
           19,
           15,
           52,
           27,
           45,
           30,
           75,
           41,
           55,
           45,
           40,
           50,
           63,
           30,
           15,
           17,
           14,
           70,
           25,
           20,
           100,
           70
          ],
          "sizemode": "area",
          "sizeref": 0.018
         },
         "mode": "markers",
         "name": "2002",
         "showlegend": true,
         "text": [
          "Title: Adaptation.<br> Year: 2002<br> Budget: 19.0<br> Rating: 7.9<br>",
          "Title: 25th Hour<br> Year: 2002<br> Budget: 15.0<br> Rating: 7.8<br>",
          "Title: Catch Me If You Can<br> Year: 2002<br> Budget: 52.0<br> Rating: 7.6<br>",
          "Title: About a Boy<br> Year: 2002<br> Budget: 27.0<br> Rating: 7.5<br>",
          "Title: Chicago<br> Year: 2002<br> Budget: 45.0<br> Rating: 7.5<br>",
          "Title: About Schmidt<br> Year: 2002<br> Budget: 30.0<br> Rating: 7.3<br>",
          "Title: Bourne Identity, The<br> Year: 2002<br> Budget: 75.0<br> Rating: 7.3<br>",
          "Title: 8 Mile<br> Year: 2002<br> Budget: 41.0<br> Rating: 6.8<br>",
          "Title: Blade II<br> Year: 2002<br> Budget: 55.0<br> Rating: 6.6<br>",
          "Title: Changing Lanes<br> Year: 2002<br> Budget: 45.0<br> Rating: 6.6<br>",
          "Title: Big Trouble<br> Year: 2002<br> Budget: 40.0<br> Rating: 6.4<br>",
          "Title: Blood Work<br> Year: 2002<br> Budget: 50.0<br> Rating: 6.3<br>",
          "Title: Austin Powers in Goldmember<br> Year: 2002<br> Budget: 63.0<br> Rating: 6.2<br>",
          "Title: Blue Crush<br> Year: 2002<br> Budget: 30.0<br> Rating: 5.7<br>",
          "Title: Big Fat Liar<br> Year: 2002<br> Budget: 15.0<br> Rating: 5.5<br>",
          "Title: 40 Days and 40 Nights<br> Year: 2002<br> Budget: 17.0<br> Rating: 5.4<br>",
          "Title: All About the Benjamins<br> Year: 2002<br> Budget: 14.0<br> Rating: 5.4<br>",
          "Title: Bad Company<br> Year: 2002<br> Budget: 70.0<br> Rating: 5.4<br>",
          "Title: Abandon<br> Year: 2002<br> Budget: 25.0<br> Rating: 4.7<br>",
          "Title: Boat Trip<br> Year: 2002<br> Budget: 20.0<br> Rating: 4.5<br>",
          "Title: Adventures of Pluto Nash, The<br> Year: 2002<br> Budget: 100.0<br> Rating: 3.9<br>",
          "Title: Ballistic: Ecks vs. Sever<br> Year: 2002<br> Budget: 70.0<br> Rating: 3.4<br>"
         ],
         "type": "scatter",
         "x": [
          19,
          15,
          52,
          27,
          45,
          30,
          75,
          41,
          55,
          45,
          40,
          50,
          63,
          30,
          15,
          17,
          14,
          70,
          25,
          20,
          100,
          70
         ],
         "xaxis": "x",
         "y": [
          7.9,
          7.8,
          7.6,
          7.5,
          7.5,
          7.3,
          7.3,
          6.8,
          6.6,
          6.6,
          6.4,
          6.3,
          6.2,
          5.7,
          5.5,
          5.4,
          5.4,
          5.4,
          4.7,
          4.5,
          3.9,
          3.4
         ],
         "yaxis": "y"
        },
        {
         "legendgroup": "2003",
         "marker": {
          "color": "#636efa",
          "size": [
           70,
           20,
           18,
           20,
           18,
           81,
           55,
           50,
           130,
           75,
           40,
           35,
           26,
           35,
           52,
           76,
           120,
           18,
           109
          ],
          "sizemode": "area",
          "sizeref": 0.018
         },
         "mode": "markers",
         "name": "2003",
         "showlegend": true,
         "text": [
          "Title: Big Fish<br> Year: 2003<br> Budget: 70.0<br> Rating: 8.1<br>",
          "Title: 21 Grams<br> Year: 2003<br> Budget: 20.0<br> Rating: 8.0<br>",
          "Title: Bad Santa<br> Year: 2003<br> Budget: 18.0<br> Rating: 7.2<br>",
          "Title: Bon voyage<br> Year: 2003<br> Budget: 20.0<br> Rating: 7.2<br>",
          "Title: Anything Else<br> Year: 2003<br> Budget: 18.0<br> Rating: 6.5<br>",
          "Title: Bruce Almighty<br> Year: 2003<br> Budget: 81.0<br> Rating: 6.4<br>",
          "Title: American Wedding<br> Year: 2003<br> Budget: 55.0<br> Rating: 6.3<br>",
          "Title: Basic<br> Year: 2003<br> Budget: 50.0<br> Rating: 6.2<br>",
          "Title: Bad Boys II<br> Year: 2003<br> Budget: 130.0<br> Rating: 6.1<br>",
          "Title: Anger Management<br> Year: 2003<br> Budget: 75.0<br> Rating: 6.0<br>",
          "Title: Cheaper by the Dozen<br> Year: 2003<br> Budget: 40.0<br> Rating: 5.8<br>",
          "Title: Bringing Down the House<br> Year: 2003<br> Budget: 35.0<br> Rating: 5.6<br>",
          "Title: Agent Cody Banks<br> Year: 2003<br> Budget: 26.0<br> Rating: 5.5<br>",
          "Title: Beyond Borders<br> Year: 2003<br> Budget: 35.0<br> Rating: 5.4<br>",
          "Title: Bulletproof Monk<br> Year: 2003<br> Budget: 52.0<br> Rating: 5.2<br>",
          "Title: 2 Fast 2 Furious<br> Year: 2003<br> Budget: 76.0<br> Rating: 5.1<br>",
          "Title: Charlie's Angels: Full Throttle<br> Year: 2003<br> Budget: 120.0<br> Rating: 5.0<br>",
          "Title: Belly of the Beast<br> Year: 2003<br> Budget: 18.0<br> Rating: 4.2<br>",
          "Title: Cat in the Hat, The<br> Year: 2003<br> Budget: 109.0<br> Rating: 3.2<br>"
         ],
         "type": "scatter",
         "x": [
          70,
          20,
          18,
          20,
          18,
          81,
          55,
          50,
          130,
          75,
          40,
          35,
          26,
          35,
          52,
          76,
          120,
          18,
          109
         ],
         "xaxis": "x",
         "y": [
          8.1,
          8,
          7.2,
          7.2,
          6.5,
          6.4,
          6.3,
          6.2,
          6.1,
          6,
          5.8,
          5.6,
          5.5,
          5.4,
          5.2,
          5.1,
          5,
          4.2,
          3.2
         ],
         "yaxis": "y"
        },
        {
         "legendgroup": "2004",
         "marker": {
          "color": "#ab63fa",
          "size": [
           116,
           75,
           18,
           75,
           24,
           26,
           37,
           25,
           58,
           60,
           20,
           95,
           42,
           110,
           18,
           65,
           70,
           23,
           150,
           45,
           50,
           18,
           60,
           25,
           26,
           85
          ],
          "sizemode": "area",
          "sizeref": 0.018
         },
         "mode": "markers",
         "name": "2004",
         "showlegend": true,
         "text": [
          "Title: Aviator, The<br> Year: 2004<br> Budget: 116.0<br> Rating: 7.5<br>",
          "Title: Bourne Supremacy, The<br> Year: 2004<br> Budget: 75.0<br> Rating: 7.3<br>",
          "Title: Being Julia<br> Year: 2004<br> Budget: 18.0<br> Rating: 7.2<br>",
          "Title: 50 First Dates<br> Year: 2004<br> Budget: 75.0<br> Rating: 6.8<br>",
          "Title: Beyond the Sea<br> Year: 2004<br> Budget: 24.0<br> Rating: 6.7<br>",
          "Title: Anchorman: The Legend of Ron Burgundy<br> Year: 2004<br> Budget: 26.0<br> Rating: 6.5<br>",
          "Title: 13 Going On 30<br> Year: 2004<br> Budget: 37.0<br> Rating: 6.4<br>",
          "Title: Cellular<br> Year: 2004<br> Budget: 25.0<br> Rating: 6.4<br>",
          "Title: After the Sunset<br> Year: 2004<br> Budget: 58.0<br> Rating: 6.0<br>",
          "Title: Alfie<br> Year: 2004<br> Budget: 60.0<br> Rating: 6.0<br>",
          "Title: Birth<br> Year: 2004<br> Budget: 20.0<br> Rating: 6.0<br>",
          "Title: Alamo, The<br> Year: 2004<br> Budget: 95.0<br> Rating: 5.9<br>",
          "Title: Along Came Polly<br> Year: 2004<br> Budget: 42.0<br> Rating: 5.8<br>",
          "Title: Around the World in 80 Days<br> Year: 2004<br> Budget: 110.0<br> Rating: 5.7<br>",
          "Title: Barbershop 2: Back in Business<br> Year: 2004<br> Budget: 18.0<br> Rating: 5.7<br>",
          "Title: Blade: Trinity<br> Year: 2004<br> Budget: 65.0<br> Rating: 5.7<br>",
          "Title: Bridget Jones: The Edge of Reason<br> Year: 2004<br> Budget: 70.0<br> Rating: 5.7<br>",
          "Title: Chasing Liberty<br> Year: 2004<br> Budget: 23.0<br> Rating: 5.7<br>",
          "Title: Alexander<br> Year: 2004<br> Budget: 150.0<br> Rating: 5.5<br>",
          "Title: AVP: Alien Vs. Predator<br> Year: 2004<br> Budget: 45.0<br> Rating: 5.4<br>",
          "Title: Big Bounce, The<br> Year: 2004<br> Budget: 50.0<br> Rating: 4.7<br>",
          "Title: Catch That Kid<br> Year: 2004<br> Budget: 18.0<br> Rating: 4.5<br>",
          "Title: Christmas with the Kranks<br> Year: 2004<br> Budget: 60.0<br> Rating: 4.5<br>",
          "Title: Anacondas: The Hunt for the Blood Orchid<br> Year: 2004<br> Budget: 25.0<br> Rating: 4.2<br>",
          "Title: Agent Cody Banks 2: Destination London<br> Year: 2004<br> Budget: 26.0<br> Rating: 3.8<br>",
          "Title: Catwoman<br> Year: 2004<br> Budget: 85.0<br> Rating: 3.4<br>"
         ],
         "type": "scatter",
         "x": [
          116,
          75,
          18,
          75,
          24,
          26,
          37,
          25,
          58,
          60,
          20,
          95,
          42,
          110,
          18,
          65,
          70,
          23,
          150,
          45,
          50,
          18,
          60,
          25,
          26,
          85
         ],
         "xaxis": "x",
         "y": [
          7.5,
          7.3,
          7.2,
          6.8,
          6.7,
          6.5,
          6.4,
          6.4,
          6,
          6,
          6,
          5.9,
          5.8,
          5.7,
          5.7,
          5.7,
          5.7,
          5.7,
          5.5,
          5.4,
          4.7,
          4.5,
          4.5,
          4.2,
          3.8,
          3.4
         ],
         "yaxis": "y"
        },
        {
         "legendgroup": "2005",
         "marker": {
          "color": "#FFA15A",
          "size": [
           20,
           14,
           18,
           53,
           20,
           32,
           20
          ],
          "sizemode": "area",
          "sizeref": 0.018
         },
         "mode": "markers",
         "name": "2005",
         "showlegend": true,
         "text": [
          "Title: Assault on Precinct 13<br> Year: 2005<br> Budget: 20.0<br> Rating: 6.3<br>",
          "Title: Because of Winn-Dixie<br> Year: 2005<br> Budget: 14.0<br> Rating: 5.9<br>",
          "Title: Amityville Horror, The<br> Year: 2005<br> Budget: 18.0<br> Rating: 5.8<br>",
          "Title: Be Cool<br> Year: 2005<br> Budget: 53.0<br> Rating: 5.5<br>",
          "Title: Boogeyman<br> Year: 2005<br> Budget: 20.0<br> Rating: 4.1<br>",
          "Title: Are We There Yet?<br> Year: 2005<br> Budget: 32.0<br> Rating: 3.5<br>",
          "Title: Alone in the Dark<br> Year: 2005<br> Budget: 20.0<br> Rating: 2.1<br>"
         ],
         "type": "scatter",
         "x": [
          20,
          14,
          18,
          53,
          20,
          32,
          20
         ],
         "xaxis": "x",
         "y": [
          6.3,
          5.9,
          5.8,
          5.5,
          4.1,
          3.5,
          2.1
         ],
         "yaxis": "y"
        }
       ],
       "frames": [],
       "layout": {
        "legend": {
         "title": {
          "text": "Year"
         },
         "tracegroupgap": 0
        },
        "margin": {
         "b": 50,
         "l": 50,
         "r": 50,
         "t": 60
        },
        "paper_bgcolor": "rgb(243, 243, 243)",
        "plot_bgcolor": "rgb(243, 243, 243)",
        "template": {
         "data": {
          "bar": [
           {
            "error_x": {
             "color": "#2a3f5f"
            },
            "error_y": {
             "color": "#2a3f5f"
            },
            "marker": {
             "line": {
              "color": "#E5ECF6",
              "width": 0.5
             }
            },
            "type": "bar"
           }
          ],
          "barpolar": [
           {
            "marker": {
             "line": {
              "color": "#E5ECF6",
              "width": 0.5
             }
            },
            "type": "barpolar"
           }
          ],
          "carpet": [
           {
            "aaxis": {
             "endlinecolor": "#2a3f5f",
             "gridcolor": "white",
             "linecolor": "white",
             "minorgridcolor": "white",
             "startlinecolor": "#2a3f5f"
            },
            "baxis": {
             "endlinecolor": "#2a3f5f",
             "gridcolor": "white",
             "linecolor": "white",
             "minorgridcolor": "white",
             "startlinecolor": "#2a3f5f"
            },
            "type": "carpet"
           }
          ],
          "choropleth": [
           {
            "colorbar": {
             "outlinewidth": 0,
             "ticks": ""
            },
            "type": "choropleth"
           }
          ],
          "contour": [
           {
            "colorbar": {
             "outlinewidth": 0,
             "ticks": ""
            },
            "colorscale": [
             [
              0,
              "#0d0887"
             ],
             [
              0.1111111111111111,
              "#46039f"
             ],
             [
              0.2222222222222222,
              "#7201a8"
             ],
             [
              0.3333333333333333,
              "#9c179e"
             ],
             [
              0.4444444444444444,
              "#bd3786"
             ],
             [
              0.5555555555555556,
              "#d8576b"
             ],
             [
              0.6666666666666666,
              "#ed7953"
             ],
             [
              0.7777777777777778,
              "#fb9f3a"
             ],
             [
              0.8888888888888888,
              "#fdca26"
             ],
             [
              1,
              "#f0f921"
             ]
            ],
            "type": "contour"
           }
          ],
          "contourcarpet": [
           {
            "colorbar": {
             "outlinewidth": 0,
             "ticks": ""
            },
            "type": "contourcarpet"
           }
          ],
          "heatmap": [
           {
            "colorbar": {
             "outlinewidth": 0,
             "ticks": ""
            },
            "colorscale": [
             [
              0,
              "#0d0887"
             ],
             [
              0.1111111111111111,
              "#46039f"
             ],
             [
              0.2222222222222222,
              "#7201a8"
             ],
             [
              0.3333333333333333,
              "#9c179e"
             ],
             [
              0.4444444444444444,
              "#bd3786"
             ],
             [
              0.5555555555555556,
              "#d8576b"
             ],
             [
              0.6666666666666666,
              "#ed7953"
             ],
             [
              0.7777777777777778,
              "#fb9f3a"
             ],
             [
              0.8888888888888888,
              "#fdca26"
             ],
             [
              1,
              "#f0f921"
             ]
            ],
            "type": "heatmap"
           }
          ],
          "heatmapgl": [
           {
            "colorbar": {
             "outlinewidth": 0,
             "ticks": ""
            },
            "colorscale": [
             [
              0,
              "#0d0887"
             ],
             [
              0.1111111111111111,
              "#46039f"
             ],
             [
              0.2222222222222222,
              "#7201a8"
             ],
             [
              0.3333333333333333,
              "#9c179e"
             ],
             [
              0.4444444444444444,
              "#bd3786"
             ],
             [
              0.5555555555555556,
              "#d8576b"
             ],
             [
              0.6666666666666666,
              "#ed7953"
             ],
             [
              0.7777777777777778,
              "#fb9f3a"
             ],
             [
              0.8888888888888888,
              "#fdca26"
             ],
             [
              1,
              "#f0f921"
             ]
            ],
            "type": "heatmapgl"
           }
          ],
          "histogram": [
           {
            "marker": {
             "colorbar": {
              "outlinewidth": 0,
              "ticks": ""
             }
            },
            "type": "histogram"
           }
          ],
          "histogram2d": [
           {
            "colorbar": {
             "outlinewidth": 0,
             "ticks": ""
            },
            "colorscale": [
             [
              0,
              "#0d0887"
             ],
             [
              0.1111111111111111,
              "#46039f"
             ],
             [
              0.2222222222222222,
              "#7201a8"
             ],
             [
              0.3333333333333333,
              "#9c179e"
             ],
             [
              0.4444444444444444,
              "#bd3786"
             ],
             [
              0.5555555555555556,
              "#d8576b"
             ],
             [
              0.6666666666666666,
              "#ed7953"
             ],
             [
              0.7777777777777778,
              "#fb9f3a"
             ],
             [
              0.8888888888888888,
              "#fdca26"
             ],
             [
              1,
              "#f0f921"
             ]
            ],
            "type": "histogram2d"
           }
          ],
          "histogram2dcontour": [
           {
            "colorbar": {
             "outlinewidth": 0,
             "ticks": ""
            },
            "colorscale": [
             [
              0,
              "#0d0887"
             ],
             [
              0.1111111111111111,
              "#46039f"
             ],
             [
              0.2222222222222222,
              "#7201a8"
             ],
             [
              0.3333333333333333,
              "#9c179e"
             ],
             [
              0.4444444444444444,
              "#bd3786"
             ],
             [
              0.5555555555555556,
              "#d8576b"
             ],
             [
              0.6666666666666666,
              "#ed7953"
             ],
             [
              0.7777777777777778,
              "#fb9f3a"
             ],
             [
              0.8888888888888888,
              "#fdca26"
             ],
             [
              1,
              "#f0f921"
             ]
            ],
            "type": "histogram2dcontour"
           }
          ],
          "mesh3d": [
           {
            "colorbar": {
             "outlinewidth": 0,
             "ticks": ""
            },
            "type": "mesh3d"
           }
          ],
          "parcoords": [
           {
            "line": {
             "colorbar": {
              "outlinewidth": 0,
              "ticks": ""
             }
            },
            "type": "parcoords"
           }
          ],
          "pie": [
           {
            "automargin": true,
            "type": "pie"
           }
          ],
          "scatter": [
           {
            "marker": {
             "colorbar": {
              "outlinewidth": 0,
              "ticks": ""
             }
            },
            "type": "scatter"
           }
          ],
          "scatter3d": [
           {
            "line": {
             "colorbar": {
              "outlinewidth": 0,
              "ticks": ""
             }
            },
            "marker": {
             "colorbar": {
              "outlinewidth": 0,
              "ticks": ""
             }
            },
            "type": "scatter3d"
           }
          ],
          "scattercarpet": [
           {
            "marker": {
             "colorbar": {
              "outlinewidth": 0,
              "ticks": ""
             }
            },
            "type": "scattercarpet"
           }
          ],
          "scattergeo": [
           {
            "marker": {
             "colorbar": {
              "outlinewidth": 0,
              "ticks": ""
             }
            },
            "type": "scattergeo"
           }
          ],
          "scattergl": [
           {
            "marker": {
             "colorbar": {
              "outlinewidth": 0,
              "ticks": ""
             }
            },
            "type": "scattergl"
           }
          ],
          "scattermapbox": [
           {
            "marker": {
             "colorbar": {
              "outlinewidth": 0,
              "ticks": ""
             }
            },
            "type": "scattermapbox"
           }
          ],
          "scatterpolar": [
           {
            "marker": {
             "colorbar": {
              "outlinewidth": 0,
              "ticks": ""
             }
            },
            "type": "scatterpolar"
           }
          ],
          "scatterpolargl": [
           {
            "marker": {
             "colorbar": {
              "outlinewidth": 0,
              "ticks": ""
             }
            },
            "type": "scatterpolargl"
           }
          ],
          "scatterternary": [
           {
            "marker": {
             "colorbar": {
              "outlinewidth": 0,
              "ticks": ""
             }
            },
            "type": "scatterternary"
           }
          ],
          "surface": [
           {
            "colorbar": {
             "outlinewidth": 0,
             "ticks": ""
            },
            "colorscale": [
             [
              0,
              "#0d0887"
             ],
             [
              0.1111111111111111,
              "#46039f"
             ],
             [
              0.2222222222222222,
              "#7201a8"
             ],
             [
              0.3333333333333333,
              "#9c179e"
             ],
             [
              0.4444444444444444,
              "#bd3786"
             ],
             [
              0.5555555555555556,
              "#d8576b"
             ],
             [
              0.6666666666666666,
              "#ed7953"
             ],
             [
              0.7777777777777778,
              "#fb9f3a"
             ],
             [
              0.8888888888888888,
              "#fdca26"
             ],
             [
              1,
              "#f0f921"
             ]
            ],
            "type": "surface"
           }
          ],
          "table": [
           {
            "cells": {
             "fill": {
              "color": "#EBF0F8"
             },
             "line": {
              "color": "white"
             }
            },
            "header": {
             "fill": {
              "color": "#C8D4E3"
             },
             "line": {
              "color": "white"
             }
            },
            "type": "table"
           }
          ]
         },
         "layout": {
          "annotationdefaults": {
           "arrowcolor": "#2a3f5f",
           "arrowhead": 0,
           "arrowwidth": 1
          },
          "autotypenumbers": "strict",
          "coloraxis": {
           "colorbar": {
            "outlinewidth": 0,
            "ticks": ""
           }
          },
          "colorscale": {
           "diverging": [
            [
             0,
             "#8e0152"
            ],
            [
             0.1,
             "#c51b7d"
            ],
            [
             0.2,
             "#de77ae"
            ],
            [
             0.3,
             "#f1b6da"
            ],
            [
             0.4,
             "#fde0ef"
            ],
            [
             0.5,
             "#f7f7f7"
            ],
            [
             0.6,
             "#e6f5d0"
            ],
            [
             0.7,
             "#b8e186"
            ],
            [
             0.8,
             "#7fbc41"
            ],
            [
             0.9,
             "#4d9221"
            ],
            [
             1,
             "#276419"
            ]
           ],
           "sequential": [
            [
             0,
             "#0d0887"
            ],
            [
             0.1111111111111111,
             "#46039f"
            ],
            [
             0.2222222222222222,
             "#7201a8"
            ],
            [
             0.3333333333333333,
             "#9c179e"
            ],
            [
             0.4444444444444444,
             "#bd3786"
            ],
            [
             0.5555555555555556,
             "#d8576b"
            ],
            [
             0.6666666666666666,
             "#ed7953"
            ],
            [
             0.7777777777777778,
             "#fb9f3a"
            ],
            [
             0.8888888888888888,
             "#fdca26"
            ],
            [
             1,
             "#f0f921"
            ]
           ],
           "sequentialminus": [
            [
             0,
             "#0d0887"
            ],
            [
             0.1111111111111111,
             "#46039f"
            ],
            [
             0.2222222222222222,
             "#7201a8"
            ],
            [
             0.3333333333333333,
             "#9c179e"
            ],
            [
             0.4444444444444444,
             "#bd3786"
            ],
            [
             0.5555555555555556,
             "#d8576b"
            ],
            [
             0.6666666666666666,
             "#ed7953"
            ],
            [
             0.7777777777777778,
             "#fb9f3a"
            ],
            [
             0.8888888888888888,
             "#fdca26"
            ],
            [
             1,
             "#f0f921"
            ]
           ]
          },
          "colorway": [
           "#636efa",
           "#EF553B",
           "#00cc96",
           "#ab63fa",
           "#FFA15A",
           "#19d3f3",
           "#FF6692",
           "#B6E880",
           "#FF97FF",
           "#FECB52"
          ],
          "font": {
           "color": "#2a3f5f"
          },
          "geo": {
           "bgcolor": "white",
           "lakecolor": "white",
           "landcolor": "#E5ECF6",
           "showlakes": true,
           "showland": true,
           "subunitcolor": "white"
          },
          "hoverlabel": {
           "align": "left"
          },
          "hovermode": "closest",
          "mapbox": {
           "style": "light"
          },
          "paper_bgcolor": "white",
          "plot_bgcolor": "#E5ECF6",
          "polar": {
           "angularaxis": {
            "gridcolor": "white",
            "linecolor": "white",
            "ticks": ""
           },
           "bgcolor": "#E5ECF6",
           "radialaxis": {
            "gridcolor": "white",
            "linecolor": "white",
            "ticks": ""
           }
          },
          "scene": {
           "xaxis": {
            "backgroundcolor": "#E5ECF6",
            "gridcolor": "white",
            "gridwidth": 2,
            "linecolor": "white",
            "showbackground": true,
            "ticks": "",
            "zerolinecolor": "white"
           },
           "yaxis": {
            "backgroundcolor": "#E5ECF6",
            "gridcolor": "white",
            "gridwidth": 2,
            "linecolor": "white",
            "showbackground": true,
            "ticks": "",
            "zerolinecolor": "white"
           },
           "zaxis": {
            "backgroundcolor": "#E5ECF6",
            "gridcolor": "white",
            "gridwidth": 2,
            "linecolor": "white",
            "showbackground": true,
            "ticks": "",
            "zerolinecolor": "white"
           }
          },
          "shapedefaults": {
           "line": {
            "color": "#2a3f5f"
           }
          },
          "ternary": {
           "aaxis": {
            "gridcolor": "white",
            "linecolor": "white",
            "ticks": ""
           },
           "baxis": {
            "gridcolor": "white",
            "linecolor": "white",
            "ticks": ""
           },
           "bgcolor": "#E5ECF6",
           "caxis": {
            "gridcolor": "white",
            "linecolor": "white",
            "ticks": ""
           }
          },
          "title": {
           "x": 0.05
          },
          "xaxis": {
           "automargin": true,
           "gridcolor": "white",
           "linecolor": "white",
           "ticks": "",
           "title": {
            "standoff": 15
           },
           "zerolinecolor": "white",
           "zerolinewidth": 2
          },
          "yaxis": {
           "automargin": true,
           "gridcolor": "white",
           "linecolor": "white",
           "ticks": "",
           "title": {
            "standoff": 15
           },
           "zerolinecolor": "white",
           "zerolinewidth": 2
          }
         }
        },
        "title": "Movies Budget vs Rating",
        "xaxis": {
         "gridcolor": "white",
         "title": {
          "text": "Movie Budget (in Million Dollars)"
         }
        },
        "yaxis": {
         "gridcolor": "white",
         "title": {
          "text": "Rating"
         }
        }
       }
      },
      "image/png": "[encoded data removed]",
      "image/svg+xml": "<svg class=\"main-svg\" xmlns=\"http://www.w3.org/2000/svg\" xmlns:xlink=\"http://www.w3.org/1999/xlink\" width=\"700\" height=\"500\" style=\"\" viewBox=\"0 0 700 500\"><rect x=\"0\" y=\"0\" width=\"700\" height=\"500\" style=\"fill: rgb(243, 243, 243); fill-opacity: 1;\"/><defs id=\"defs-75c2f1\"><g class=\"clips\"><clipPath id=\"clip75c2f1xyplot\" class=\"plotclip\"><rect width=\"551\" height=\"388\"/></clipPath><clipPath class=\"axesclip\" id=\"clip75c2f1x\"><rect x=\"50\" y=\"0\" width=\"551\" height=\"500\"/></clipPath><clipPath class=\"axesclip\" id=\"clip75c2f1y\"><rect x=\"0\" y=\"60\" width=\"700\" height=\"388\"/></clipPath><clipPath class=\"axesclip\" id=\"clip75c2f1xy\"><rect x=\"50\" y=\"60\" width=\"551\" height=\"388\"/></clipPath></g><g class=\"gradients\"/></defs><g class=\"bglayer\"/><g class=\"layer-below\"><g class=\"imagelayer\"/><g class=\"shapelayer\"/></g><g class=\"cartesianlayer\"><g class=\"subplot xy\"><g class=\"layer-subplot\"><g class=\"shapelayer\"/><g class=\"imagelayer\"/></g><g class=\"gridlayer\"><g class=\"x\"><path class=\"xgrid crisp\" transform=\"translate(205.93,0)\" d=\"M0,60v388\" style=\"stroke: rgb(255, 255, 255); stroke-opacity: 1; stroke-width: 1px;\"/><path class=\"xgrid crisp\" transform=\"translate(353.6,0)\" d=\"M0,60v388\" style=\"stroke: rgb(255, 255, 255); stroke-opacity: 1; stroke-width: 1px;\"/><path class=\"xgrid crisp\" transform=\"translate(501.28,0)\" d=\"M0,60v388\" style=\"stroke: rgb(255, 255, 255); stroke-opacity: 1; stroke-width: 1px;\"/></g><g class=\"y\"><path class=\"ygrid crisp\" transform=\"translate(0,406.81)\" d=\"M50,0h551\" style=\"stroke: rgb(255, 255, 255); stroke-opacity: 1; stroke-width: 1px;\"/><path class=\"ygrid crisp\" transform=\"translate(0,361.22)\" d=\"M50,0h551\" style=\"stroke: rgb(255, 255, 255); stroke-opacity: 1; stroke-width: 1px;\"/><path class=\"ygrid crisp\" transform=\"translate(0,315.62)\" d=\"M50,0h551\" style=\"stroke: rgb(255, 255, 255); stroke-opacity: 1; stroke-width: 1px;\"/><path class=\"ygrid crisp\" transform=\"translate(0,270.03)\" d=\"M50,0h551\" style=\"stroke: rgb(255, 255, 255); stroke-opacity: 1; stroke-width: 1px;\"/><path class=\"ygrid crisp\" transform=\"translate(0,224.44)\" d=\"M50,0h551\" style=\"stroke: rgb(255, 255, 255); stroke-opacity: 1; stroke-width: 1px;\"/><path class=\"ygrid crisp\" transform=\"translate(0,178.85)\" d=\"M50,0h551\" style=\"stroke: rgb(255, 255, 255); stroke-opacity: 1; stroke-width: 1px;\"/><path class=\"ygrid crisp\" transform=\"translate(0,133.26)\" d=\"M50,0h551\" style=\"stroke: rgb(255, 255, 255); stroke-opacity: 1; stroke-width: 1px;\"/><path class=\"ygrid crisp\" transform=\"translate(0,87.67)\" d=\"M50,0h551\" style=\"stroke: rgb(255, 255, 255); stroke-opacity: 1; stroke-width: 1px;\"/></g></g><g class=\"zerolinelayer\"><path class=\"xzl zl crisp\" transform=\"translate(58.25,0)\" d=\"M0,60v388\" style=\"stroke: rgb(255, 255, 255); stroke-opacity: 1; stroke-width: 2px;\"/></g><path class=\"xlines-below\"/><path class=\"ylines-below\"/><g class=\"overlines-below\"/><g class=\"xaxislayer-below\"/><g class=\"yaxislayer-below\"/><g class=\"overaxes-below\"/><g class=\"plot\" transform=\"translate(50,60)\" clip-path=\"url('#clip75c2f1xyplot')\"><g class=\"scatterlayer mlayer\"><g class=\"trace scatter tracea7eaa2\" style=\"stroke-miterlimit: 2; opacity: 1;\"><g class=\"fills\"/><g class=\"errorbars\"/><g class=\"lines\"/><g class=\"points\"><path class=\"point\" transform=\"translate(185.46,82.38)\" d=\"M40.82,0A40.82,40.82 0 1,1 0,-40.82A40.82,40.82 0 0,1 40.82,0Z\" style=\"opacity: 0.7; stroke-width: 1px; fill: rgb(0, 204, 150); fill-opacity: 1; stroke: rgb(255, 255, 255); stroke-opacity: 1;\"/><path class=\"point\" transform=\"translate(274.07,91.5)\" d=\"M50,0A50,50 0 1,1 0,-50A50,50 0 0,1 50,0Z\" style=\"opacity: 0.7; stroke-width: 1px; fill: rgb(0, 204, 150); fill-opacity: 1; stroke: rgb(255, 255, 255); stroke-opacity: 1;\"/><path class=\"point\" transform=\"translate(96.85,114.29)\" d=\"M28.87,0A28.87,28.87 0 1,1 0,-28.87A28.87,28.87 0 0,1 28.87,0Z\" style=\"opacity: 0.7; stroke-width: 1px; fill: rgb(0, 204, 150); fill-opacity: 1; stroke: rgb(255, 255, 255); stroke-opacity: 1;\"/><path class=\"point\" transform=\"translate(85.04,118.85)\" d=\"M26.87,0A26.87,26.87 0 1,1 0,-26.87A26.87,26.87 0 0,1 26.87,0Z\" style=\"opacity: 0.7; stroke-width: 1px; fill: rgb(0, 204, 150); fill-opacity: 1; stroke: rgb(255, 255, 255); stroke-opacity: 1;\"/><path class=\"point\" transform=\"translate(52.55,118.85)\" d=\"M20.41,0A20.41,20.41 0 1,1 0,-20.41A20.41,20.41 0 0,1 20.41,0Z\" style=\"opacity: 0.7; stroke-width: 1px; fill: rgb(0, 204, 150); fill-opacity: 1; stroke: rgb(255, 255, 255); stroke-opacity: 1;\"/><path class=\"point\" transform=\"translate(274.07,127.97)\" d=\"M50,0A50,50 0 1,1 0,-50A50,50 0 0,1 50,0Z\" style=\"opacity: 0.7; stroke-width: 1px; fill: rgb(0, 204, 150); fill-opacity: 1; stroke: rgb(255, 255, 255); stroke-opacity: 1;\"/><path class=\"point\" transform=\"translate(244.53,132.53)\" d=\"M47.14,0A47.14,47.14 0 1,1 0,-47.14A47.14,47.14 0 0,1 47.14,0Z\" style=\"opacity: 0.7; stroke-width: 1px; fill: rgb(0, 204, 150); fill-opacity: 1; stroke: rgb(255, 255, 255); stroke-opacity: 1;\"/><path class=\"point\" transform=\"translate(324.28,146.21)\" d=\"M54.52,0A54.52,54.52 0 1,1 0,-54.52A54.52,54.52 0 0,1 54.52,0Z\" style=\"opacity: 0.7; stroke-width: 1px; fill: rgb(0, 204, 150); fill-opacity: 1; stroke: rgb(255, 255, 255); stroke-opacity: 1;\"/><path class=\"point\" transform=\"translate(274.07,146.21)\" d=\"M50,0A50,50 0 1,1 0,-50A50,50 0 0,1 50,0Z\" style=\"opacity: 0.7; stroke-width: 1px; fill: rgb(0, 204, 150); fill-opacity: 1; stroke: rgb(255, 255, 255); stroke-opacity: 1;\"/><path class=\"point\" transform=\"translate(96.85,150.76)\" d=\"M28.87,0A28.87,28.87 0 1,1 0,-28.87A28.87,28.87 0 0,1 28.87,0Z\" style=\"opacity: 0.7; stroke-width: 1px; fill: rgb(0, 204, 150); fill-opacity: 1; stroke: rgb(255, 255, 255); stroke-opacity: 1;\"/><path class=\"point\" transform=\"translate(55.51,155.32)\" d=\"M21.08,0A21.08,21.08 0 1,1 0,-21.08A21.08,21.08 0 0,1 21.08,0Z\" style=\"opacity: 0.7; stroke-width: 1px; fill: rgb(0, 204, 150); fill-opacity: 1; stroke: rgb(255, 255, 255); stroke-opacity: 1;\"/><path class=\"point\" transform=\"translate(132.3,159.88)\" d=\"M34.16,0A34.16,34.16 0 1,1 0,-34.16A34.16,34.16 0 0,1 34.16,0Z\" style=\"opacity: 0.7; stroke-width: 1px; fill: rgb(0, 204, 150); fill-opacity: 1; stroke: rgb(255, 255, 255); stroke-opacity: 1;\"/><path class=\"point\" transform=\"translate(90.95,159.88)\" d=\"M27.89,0A27.89,27.89 0 1,1 0,-27.89A27.89,27.89 0 0,1 27.89,0Z\" style=\"opacity: 0.7; stroke-width: 1px; fill: rgb(0, 204, 150); fill-opacity: 1; stroke: rgb(255, 255, 255); stroke-opacity: 1;\"/><path class=\"point\" transform=\"translate(90.95,159.88)\" d=\"M27.89,0A27.89,27.89 0 1,1 0,-27.89A27.89,27.89 0 0,1 27.89,0Z\" style=\"opacity: 0.7; stroke-width: 1px; fill: rgb(0, 204, 150); fill-opacity: 1; stroke: rgb(255, 255, 255); stroke-opacity: 1;\"/><path class=\"point\" transform=\"translate(126.39,159.88)\" d=\"M33.33,0A33.33,33.33 0 1,1 0,-33.33A33.33,33.33 0 0,1 33.33,0Z\" style=\"opacity: 0.7; stroke-width: 1px; fill: rgb(0, 204, 150); fill-opacity: 1; stroke: rgb(255, 255, 255); stroke-opacity: 1;\"/><path class=\"point\" transform=\"translate(96.85,164.44)\" d=\"M28.87,0A28.87,28.87 0 1,1 0,-28.87A28.87,28.87 0 0,1 28.87,0Z\" style=\"opacity: 0.7; stroke-width: 1px; fill: rgb(0, 204, 150); fill-opacity: 1; stroke: rgb(255, 255, 255); stroke-opacity: 1;\"/><path class=\"point\" transform=\"translate(176.6,169)\" d=\"M39.79,0A39.79,39.79 0 1,1 0,-39.79A39.79,39.79 0 0,1 39.79,0Z\" style=\"opacity: 0.7; stroke-width: 1px; fill: rgb(0, 204, 150); fill-opacity: 1; stroke: rgb(255, 255, 255); stroke-opacity: 1;\"/><path class=\"point\" transform=\"translate(150.02,173.56)\" d=\"M36.51,0A36.51,36.51 0 1,1 0,-36.51A36.51,36.51 0 0,1 36.51,0Z\" style=\"opacity: 0.7; stroke-width: 1px; fill: rgb(0, 204, 150); fill-opacity: 1; stroke: rgb(255, 255, 255); stroke-opacity: 1;\"/><path class=\"point\" transform=\"translate(120.48,182.68)\" d=\"M32.49,0A32.49,32.49 0 1,1 0,-32.49A32.49,32.49 0 0,1 32.49,0Z\" style=\"opacity: 0.7; stroke-width: 1px; fill: rgb(0, 204, 150); fill-opacity: 1; stroke: rgb(255, 255, 255); stroke-opacity: 1;\"/><path class=\"point\" transform=\"translate(111.62,187.24)\" d=\"M31.18,0A31.18,31.18 0 1,1 0,-31.18A31.18,31.18 0 0,1 31.18,0Z\" style=\"opacity: 0.7; stroke-width: 1px; fill: rgb(0, 204, 150); fill-opacity: 1; stroke: rgb(255, 255, 255); stroke-opacity: 1;\"/><path class=\"point\" transform=\"translate(191.37,191.8)\" d=\"M41.5,0A41.5,41.5 0 1,1 0,-41.5A41.5,41.5 0 0,1 41.5,0Z\" style=\"opacity: 0.7; stroke-width: 1px; fill: rgb(0, 204, 150); fill-opacity: 1; stroke: rgb(255, 255, 255); stroke-opacity: 1;\"/><path class=\"point\" transform=\"translate(185.46,191.8)\" d=\"M40.82,0A40.82,40.82 0 1,1 0,-40.82A40.82,40.82 0 0,1 40.82,0Z\" style=\"opacity: 0.7; stroke-width: 1px; fill: rgb(0, 204, 150); fill-opacity: 1; stroke: rgb(255, 255, 255); stroke-opacity: 1;\"/><path class=\"point\" transform=\"translate(82.09,210.03)\" d=\"M26.35,0A26.35,26.35 0 1,1 0,-26.35A26.35,26.35 0 0,1 26.35,0Z\" style=\"opacity: 0.7; stroke-width: 1px; fill: rgb(0, 204, 150); fill-opacity: 1; stroke: rgb(255, 255, 255); stroke-opacity: 1;\"/><path class=\"point\" transform=\"translate(73.23,219.15)\" d=\"M24.72,0A24.72,24.72 0 1,1 0,-24.72A24.72,24.72 0 0,1 24.72,0Z\" style=\"opacity: 0.7; stroke-width: 1px; fill: rgb(0, 204, 150); fill-opacity: 1; stroke: rgb(255, 255, 255); stroke-opacity: 1;\"/><path class=\"point\" transform=\"translate(55.51,246.51)\" d=\"M21.08,0A21.08,21.08 0 1,1 0,-21.08A21.08,21.08 0 0,1 21.08,0Z\" style=\"opacity: 0.7; stroke-width: 1px; fill: rgb(0, 204, 150); fill-opacity: 1; stroke: rgb(255, 255, 255); stroke-opacity: 1;\"/><path class=\"point\" transform=\"translate(155.93,251.07)\" d=\"M37.27,0A37.27,37.27 0 1,1 0,-37.27A37.27,37.27 0 0,1 37.27,0Z\" style=\"opacity: 0.7; stroke-width: 1px; fill: rgb(0, 204, 150); fill-opacity: 1; stroke: rgb(255, 255, 255); stroke-opacity: 1;\"/></g><g class=\"text\"/></g><g class=\"trace scatter traceda15f2\" style=\"stroke-miterlimit: 2; opacity: 1;\"><g class=\"fills\"/><g class=\"errorbars\"/><g class=\"lines\"/><g class=\"points\"><path class=\"point\" transform=\"translate(64.37,77.82)\" d=\"M22.97,0A22.97,22.97 0 1,1 0,-22.97A22.97,22.97 0 0,1 22.97,0Z\" style=\"opacity: 0.7; stroke-width: 1px; fill: rgb(239, 85, 59); fill-opacity: 1; stroke: rgb(255, 255, 255); stroke-opacity: 1;\"/><path class=\"point\" transform=\"translate(52.55,82.38)\" d=\"M20.41,0A20.41,20.41 0 1,1 0,-20.41A20.41,20.41 0 0,1 20.41,0Z\" style=\"opacity: 0.7; stroke-width: 1px; fill: rgb(239, 85, 59); fill-opacity: 1; stroke: rgb(255, 255, 255); stroke-opacity: 1;\"/><path class=\"point\" transform=\"translate(161.83,91.5)\" d=\"M38.01,0A38.01,38.01 0 1,1 0,-38.01A38.01,38.01 0 0,1 38.01,0Z\" style=\"opacity: 0.7; stroke-width: 1px; fill: rgb(239, 85, 59); fill-opacity: 1; stroke: rgb(255, 255, 255); stroke-opacity: 1;\"/><path class=\"point\" transform=\"translate(87.99,96.06)\" d=\"M27.39,0A27.39,27.39 0 1,1 0,-27.39A27.39,27.39 0 0,1 27.39,0Z\" style=\"opacity: 0.7; stroke-width: 1px; fill: rgb(239, 85, 59); fill-opacity: 1; stroke: rgb(255, 255, 255); stroke-opacity: 1;\"/><path class=\"point\" transform=\"translate(141.16,96.06)\" d=\"M35.36,0A35.36,35.36 0 1,1 0,-35.36A35.36,35.36 0 0,1 35.36,0Z\" style=\"opacity: 0.7; stroke-width: 1px; fill: rgb(239, 85, 59); fill-opacity: 1; stroke: rgb(255, 255, 255); stroke-opacity: 1;\"/><path class=\"point\" transform=\"translate(96.85,105.17)\" d=\"M28.87,0A28.87,28.87 0 1,1 0,-28.87A28.87,28.87 0 0,1 28.87,0Z\" style=\"opacity: 0.7; stroke-width: 1px; fill: rgb(239, 85, 59); fill-opacity: 1; stroke: rgb(255, 255, 255); stroke-opacity: 1;\"/><path class=\"point\" transform=\"translate(229.76,105.17)\" d=\"M45.64,0A45.64,45.64 0 1,1 0,-45.64A45.64,45.64 0 0,1 45.64,0Z\" style=\"opacity: 0.7; stroke-width: 1px; fill: rgb(239, 85, 59); fill-opacity: 1; stroke: rgb(255, 255, 255); stroke-opacity: 1;\"/><path class=\"point\" transform=\"translate(129.34,127.97)\" d=\"M33.75,0A33.75,33.75 0 1,1 0,-33.75A33.75,33.75 0 0,1 33.75,0Z\" style=\"opacity: 0.7; stroke-width: 1px; fill: rgb(239, 85, 59); fill-opacity: 1; stroke: rgb(255, 255, 255); stroke-opacity: 1;\"/><path class=\"point\" transform=\"translate(170.69,137.09)\" d=\"M39.09,0A39.09,39.09 0 1,1 0,-39.09A39.09,39.09 0 0,1 39.09,0Z\" style=\"opacity: 0.7; stroke-width: 1px; fill: rgb(239, 85, 59); fill-opacity: 1; stroke: rgb(255, 255, 255); stroke-opacity: 1;\"/><path class=\"point\" transform=\"translate(141.16,137.09)\" d=\"M35.36,0A35.36,35.36 0 1,1 0,-35.36A35.36,35.36 0 0,1 35.36,0Z\" style=\"opacity: 0.7; stroke-width: 1px; fill: rgb(239, 85, 59); fill-opacity: 1; stroke: rgb(255, 255, 255); stroke-opacity: 1;\"/><path class=\"point\" transform=\"translate(126.39,146.21)\" d=\"M33.33,0A33.33,33.33 0 1,1 0,-33.33A33.33,33.33 0 0,1 33.33,0Z\" style=\"opacity: 0.7; stroke-width: 1px; fill: rgb(239, 85, 59); fill-opacity: 1; stroke: rgb(255, 255, 255); stroke-opacity: 1;\"/><path class=\"point\" transform=\"translate(155.93,150.76)\" d=\"M37.27,0A37.27,37.27 0 1,1 0,-37.27A37.27,37.27 0 0,1 37.27,0Z\" style=\"opacity: 0.7; stroke-width: 1px; fill: rgb(239, 85, 59); fill-opacity: 1; stroke: rgb(255, 255, 255); stroke-opacity: 1;\"/><path class=\"point\" transform=\"translate(194.32,155.32)\" d=\"M41.83,0A41.83,41.83 0 1,1 0,-41.83A41.83,41.83 0 0,1 41.83,0Z\" style=\"opacity: 0.7; stroke-width: 1px; fill: rgb(239, 85, 59); fill-opacity: 1; stroke: rgb(255, 255, 255); stroke-opacity: 1;\"/><path class=\"point\" transform=\"translate(96.85,178.12)\" d=\"M28.87,0A28.87,28.87 0 1,1 0,-28.87A28.87,28.87 0 0,1 28.87,0Z\" style=\"opacity: 0.7; stroke-width: 1px; fill: rgb(239, 85, 59); fill-opacity: 1; stroke: rgb(255, 255, 255); stroke-opacity: 1;\"/><path class=\"point\" transform=\"translate(52.55,187.24)\" d=\"M20.41,0A20.41,20.41 0 1,1 0,-20.41A20.41,20.41 0 0,1 20.41,0Z\" style=\"opacity: 0.7; stroke-width: 1px; fill: rgb(239, 85, 59); fill-opacity: 1; stroke: rgb(255, 255, 255); stroke-opacity: 1;\"/><path class=\"point\" transform=\"translate(58.46,191.8)\" d=\"M21.73,0A21.73,21.73 0 1,1 0,-21.73A21.73,21.73 0 0,1 21.73,0Z\" style=\"opacity: 0.7; stroke-width: 1px; fill: rgb(239, 85, 59); fill-opacity: 1; stroke: rgb(255, 255, 255); stroke-opacity: 1;\"/><path class=\"point\" transform=\"translate(49.6,191.8)\" d=\"M19.72,0A19.72,19.72 0 1,1 0,-19.72A19.72,19.72 0 0,1 19.72,0Z\" style=\"opacity: 0.7; stroke-width: 1px; fill: rgb(239, 85, 59); fill-opacity: 1; stroke: rgb(255, 255, 255); stroke-opacity: 1;\"/><path class=\"point\" transform=\"translate(215,191.8)\" d=\"M44.1,0A44.1,44.1 0 1,1 0,-44.1A44.1,44.1 0 0,1 44.1,0Z\" style=\"opacity: 0.7; stroke-width: 1px; fill: rgb(239, 85, 59); fill-opacity: 1; stroke: rgb(255, 255, 255); stroke-opacity: 1;\"/><path class=\"point\" transform=\"translate(82.09,223.71)\" d=\"M26.35,0A26.35,26.35 0 1,1 0,-26.35A26.35,26.35 0 0,1 26.35,0Z\" style=\"opacity: 0.7; stroke-width: 1px; fill: rgb(239, 85, 59); fill-opacity: 1; stroke: rgb(255, 255, 255); stroke-opacity: 1;\"/><path class=\"point\" transform=\"translate(67.32,232.83)\" d=\"M23.57,0A23.57,23.57 0 1,1 0,-23.57A23.57,23.57 0 0,1 23.57,0Z\" style=\"opacity: 0.7; stroke-width: 1px; fill: rgb(239, 85, 59); fill-opacity: 1; stroke: rgb(255, 255, 255); stroke-opacity: 1;\"/><path class=\"point\" transform=\"translate(303.6,260.18)\" d=\"M52.7,0A52.7,52.7 0 1,1 0,-52.7A52.7,52.7 0 0,1 52.7,0Z\" style=\"opacity: 0.7; stroke-width: 1px; fill: rgb(239, 85, 59); fill-opacity: 1; stroke: rgb(255, 255, 255); stroke-opacity: 1;\"/><path class=\"point\" transform=\"translate(215,282.98)\" d=\"M44.1,0A44.1,44.1 0 1,1 0,-44.1A44.1,44.1 0 0,1 44.1,0Z\" style=\"opacity: 0.7; stroke-width: 1px; fill: rgb(239, 85, 59); fill-opacity: 1; stroke: rgb(255, 255, 255); stroke-opacity: 1;\"/></g><g class=\"text\"/></g><g class=\"trace scatter trace10a628\" style=\"stroke-miterlimit: 2; opacity: 1;\"><g class=\"fills\"/><g class=\"errorbars\"/><g class=\"lines\"/><g class=\"points\"><path class=\"point\" transform=\"translate(215,68.7)\" d=\"M44.1,0A44.1,44.1 0 1,1 0,-44.1A44.1,44.1 0 0,1 44.1,0Z\" style=\"opacity: 0.7; stroke-width: 1px; fill: rgb(99, 110, 250); fill-opacity: 1; stroke: rgb(255, 255, 255); stroke-opacity: 1;\"/><path class=\"point\" transform=\"translate(67.32,73.26)\" d=\"M23.57,0A23.57,23.57 0 1,1 0,-23.57A23.57,23.57 0 0,1 23.57,0Z\" style=\"opacity: 0.7; stroke-width: 1px; fill: rgb(99, 110, 250); fill-opacity: 1; stroke: rgb(255, 255, 255); stroke-opacity: 1;\"/><path class=\"point\" transform=\"translate(61.41,109.73)\" d=\"M22.36,0A22.36,22.36 0 1,1 0,-22.36A22.36,22.36 0 0,1 22.36,0Z\" style=\"opacity: 0.7; stroke-width: 1px; fill: rgb(99, 110, 250); fill-opacity: 1; stroke: rgb(255, 255, 255); stroke-opacity: 1;\"/><path class=\"point\" transform=\"translate(67.32,109.73)\" d=\"M23.57,0A23.57,23.57 0 1,1 0,-23.57A23.57,23.57 0 0,1 23.57,0Z\" style=\"opacity: 0.7; stroke-width: 1px; fill: rgb(99, 110, 250); fill-opacity: 1; stroke: rgb(255, 255, 255); stroke-opacity: 1;\"/><path class=\"point\" transform=\"translate(61.41,141.65)\" d=\"M22.36,0A22.36,22.36 0 1,1 0,-22.36A22.36,22.36 0 0,1 22.36,0Z\" style=\"opacity: 0.7; stroke-width: 1px; fill: rgb(99, 110, 250); fill-opacity: 1; stroke: rgb(255, 255, 255); stroke-opacity: 1;\"/><path class=\"point\" transform=\"translate(247.49,146.21)\" d=\"M47.43,0A47.43,47.43 0 1,1 0,-47.43A47.43,47.43 0 0,1 47.43,0Z\" style=\"opacity: 0.7; stroke-width: 1px; fill: rgb(99, 110, 250); fill-opacity: 1; stroke: rgb(255, 255, 255); stroke-opacity: 1;\"/><path class=\"point\" transform=\"translate(170.69,150.76)\" d=\"M39.09,0A39.09,39.09 0 1,1 0,-39.09A39.09,39.09 0 0,1 39.09,0Z\" style=\"opacity: 0.7; stroke-width: 1px; fill: rgb(99, 110, 250); fill-opacity: 1; stroke: rgb(255, 255, 255); stroke-opacity: 1;\"/><path class=\"point\" transform=\"translate(155.93,155.32)\" d=\"M37.27,0A37.27,37.27 0 1,1 0,-37.27A37.27,37.27 0 0,1 37.27,0Z\" style=\"opacity: 0.7; stroke-width: 1px; fill: rgb(99, 110, 250); fill-opacity: 1; stroke: rgb(255, 255, 255); stroke-opacity: 1;\"/><path class=\"point\" transform=\"translate(392.21,159.88)\" d=\"M60.09,0A60.09,60.09 0 1,1 0,-60.09A60.09,60.09 0 0,1 60.09,0Z\" style=\"opacity: 0.7; stroke-width: 1px; fill: rgb(99, 110, 250); fill-opacity: 1; stroke: rgb(255, 255, 255); stroke-opacity: 1;\"/><path class=\"point\" transform=\"translate(229.76,164.44)\" d=\"M45.64,0A45.64,45.64 0 1,1 0,-45.64A45.64,45.64 0 0,1 45.64,0Z\" style=\"opacity: 0.7; stroke-width: 1px; fill: rgb(99, 110, 250); fill-opacity: 1; stroke: rgb(255, 255, 255); stroke-opacity: 1;\"/><path class=\"point\" transform=\"translate(126.39,173.56)\" d=\"M33.33,0A33.33,33.33 0 1,1 0,-33.33A33.33,33.33 0 0,1 33.33,0Z\" style=\"opacity: 0.7; stroke-width: 1px; fill: rgb(99, 110, 250); fill-opacity: 1; stroke: rgb(255, 255, 255); stroke-opacity: 1;\"/><path class=\"point\" transform=\"translate(111.62,182.68)\" d=\"M31.18,0A31.18,31.18 0 1,1 0,-31.18A31.18,31.18 0 0,1 31.18,0Z\" style=\"opacity: 0.7; stroke-width: 1px; fill: rgb(99, 110, 250); fill-opacity: 1; stroke: rgb(255, 255, 255); stroke-opacity: 1;\"/><path class=\"point\" transform=\"translate(85.04,187.24)\" d=\"M26.87,0A26.87,26.87 0 1,1 0,-26.87A26.87,26.87 0 0,1 26.87,0Z\" style=\"opacity: 0.7; stroke-width: 1px; fill: rgb(99, 110, 250); fill-opacity: 1; stroke: rgb(255, 255, 255); stroke-opacity: 1;\"/><path class=\"point\" transform=\"translate(111.62,191.8)\" d=\"M31.18,0A31.18,31.18 0 1,1 0,-31.18A31.18,31.18 0 0,1 31.18,0Z\" style=\"opacity: 0.7; stroke-width: 1px; fill: rgb(99, 110, 250); fill-opacity: 1; stroke: rgb(255, 255, 255); stroke-opacity: 1;\"/><path class=\"point\" transform=\"translate(161.83,200.92)\" d=\"M38.01,0A38.01,38.01 0 1,1 0,-38.01A38.01,38.01 0 0,1 38.01,0Z\" style=\"opacity: 0.7; stroke-width: 1px; fill: rgb(99, 110, 250); fill-opacity: 1; stroke: rgb(255, 255, 255); stroke-opacity: 1;\"/><path class=\"point\" transform=\"translate(232.72,205.47)\" d=\"M45.95,0A45.95,45.95 0 1,1 0,-45.95A45.95,45.95 0 0,1 45.95,0Z\" style=\"opacity: 0.7; stroke-width: 1px; fill: rgb(99, 110, 250); fill-opacity: 1; stroke: rgb(255, 255, 255); stroke-opacity: 1;\"/><path class=\"point\" transform=\"translate(362.67,210.03)\" d=\"M57.74,0A57.74,57.74 0 1,1 0,-57.74A57.74,57.74 0 0,1 57.74,0Z\" style=\"opacity: 0.7; stroke-width: 1px; fill: rgb(99, 110, 250); fill-opacity: 1; stroke: rgb(255, 255, 255); stroke-opacity: 1;\"/><path class=\"point\" transform=\"translate(61.41,246.51)\" d=\"M22.36,0A22.36,22.36 0 1,1 0,-22.36A22.36,22.36 0 0,1 22.36,0Z\" style=\"opacity: 0.7; stroke-width: 1px; fill: rgb(99, 110, 250); fill-opacity: 1; stroke: rgb(255, 255, 255); stroke-opacity: 1;\"/><path class=\"point\" transform=\"translate(330.19,292.1)\" d=\"M55.03,0A55.03,55.03 0 1,1 0,-55.03A55.03,55.03 0 0,1 55.03,0Z\" style=\"opacity: 0.7; stroke-width: 1px; fill: rgb(99, 110, 250); fill-opacity: 1; stroke: rgb(255, 255, 255); stroke-opacity: 1;\"/></g><g class=\"text\"/></g><g class=\"trace scatter trace88258b\" style=\"stroke-miterlimit: 2; opacity: 1;\"><g class=\"fills\"/><g class=\"errorbars\"/><g class=\"lines\"/><g class=\"points\"><path class=\"point\" transform=\"translate(350.86,96.06)\" d=\"M56.76,0A56.76,56.76 0 1,1 0,-56.76A56.76,56.76 0 0,1 56.76,0Z\" style=\"opacity: 0.7; stroke-width: 1px; fill: rgb(171, 99, 250); fill-opacity: 1; stroke: rgb(255, 255, 255); stroke-opacity: 1;\"/><path class=\"point\" transform=\"translate(229.76,105.17)\" d=\"M45.64,0A45.64,45.64 0 1,1 0,-45.64A45.64,45.64 0 0,1 45.64,0Z\" style=\"opacity: 0.7; stroke-width: 1px; fill: rgb(171, 99, 250); fill-opacity: 1; stroke: rgb(255, 255, 255); stroke-opacity: 1;\"/><path class=\"point\" transform=\"translate(61.41,109.73)\" d=\"M22.36,0A22.36,22.36 0 1,1 0,-22.36A22.36,22.36 0 0,1 22.36,0Z\" style=\"opacity: 0.7; stroke-width: 1px; fill: rgb(171, 99, 250); fill-opacity: 1; stroke: rgb(255, 255, 255); stroke-opacity: 1;\"/><path class=\"point\" transform=\"translate(229.76,127.97)\" d=\"M45.64,0A45.64,45.64 0 1,1 0,-45.64A45.64,45.64 0 0,1 45.64,0Z\" style=\"opacity: 0.7; stroke-width: 1px; fill: rgb(171, 99, 250); fill-opacity: 1; stroke: rgb(255, 255, 255); stroke-opacity: 1;\"/><path class=\"point\" transform=\"translate(79.13,132.53)\" d=\"M25.82,0A25.82,25.82 0 1,1 0,-25.82A25.82,25.82 0 0,1 25.82,0Z\" style=\"opacity: 0.7; stroke-width: 1px; fill: rgb(171, 99, 250); fill-opacity: 1; stroke: rgb(255, 255, 255); stroke-opacity: 1;\"/><path class=\"point\" transform=\"translate(85.04,141.65)\" d=\"M26.87,0A26.87,26.87 0 1,1 0,-26.87A26.87,26.87 0 0,1 26.87,0Z\" style=\"opacity: 0.7; stroke-width: 1px; fill: rgb(171, 99, 250); fill-opacity: 1; stroke: rgb(255, 255, 255); stroke-opacity: 1;\"/><path class=\"point\" transform=\"translate(117.53,146.21)\" d=\"M32.06,0A32.06,32.06 0 1,1 0,-32.06A32.06,32.06 0 0,1 32.06,0Z\" style=\"opacity: 0.7; stroke-width: 1px; fill: rgb(171, 99, 250); fill-opacity: 1; stroke: rgb(255, 255, 255); stroke-opacity: 1;\"/><path class=\"point\" transform=\"translate(82.09,146.21)\" d=\"M26.35,0A26.35,26.35 0 1,1 0,-26.35A26.35,26.35 0 0,1 26.35,0Z\" style=\"opacity: 0.7; stroke-width: 1px; fill: rgb(171, 99, 250); fill-opacity: 1; stroke: rgb(255, 255, 255); stroke-opacity: 1;\"/><path class=\"point\" transform=\"translate(179.55,164.44)\" d=\"M40.14,0A40.14,40.14 0 1,1 0,-40.14A40.14,40.14 0 0,1 40.14,0Z\" style=\"opacity: 0.7; stroke-width: 1px; fill: rgb(171, 99, 250); fill-opacity: 1; stroke: rgb(255, 255, 255); stroke-opacity: 1;\"/><path class=\"point\" transform=\"translate(185.46,164.44)\" d=\"M40.82,0A40.82,40.82 0 1,1 0,-40.82A40.82,40.82 0 0,1 40.82,0Z\" style=\"opacity: 0.7; stroke-width: 1px; fill: rgb(171, 99, 250); fill-opacity: 1; stroke: rgb(255, 255, 255); stroke-opacity: 1;\"/><path class=\"point\" transform=\"translate(67.32,164.44)\" d=\"M23.57,0A23.57,23.57 0 1,1 0,-23.57A23.57,23.57 0 0,1 23.57,0Z\" style=\"opacity: 0.7; stroke-width: 1px; fill: rgb(171, 99, 250); fill-opacity: 1; stroke: rgb(255, 255, 255); stroke-opacity: 1;\"/><path class=\"point\" transform=\"translate(288.84,169)\" d=\"M51.37,0A51.37,51.37 0 1,1 0,-51.37A51.37,51.37 0 0,1 51.37,0Z\" style=\"opacity: 0.7; stroke-width: 1px; fill: rgb(171, 99, 250); fill-opacity: 1; stroke: rgb(255, 255, 255); stroke-opacity: 1;\"/><path class=\"point\" transform=\"translate(132.3,173.56)\" d=\"M34.16,0A34.16,34.16 0 1,1 0,-34.16A34.16,34.16 0 0,1 34.16,0Z\" style=\"opacity: 0.7; stroke-width: 1px; fill: rgb(171, 99, 250); fill-opacity: 1; stroke: rgb(255, 255, 255); stroke-opacity: 1;\"/><path class=\"point\" transform=\"translate(333.14,178.12)\" d=\"M55.28,0A55.28,55.28 0 1,1 0,-55.28A55.28,55.28 0 0,1 55.28,0Z\" style=\"opacity: 0.7; stroke-width: 1px; fill: rgb(171, 99, 250); fill-opacity: 1; stroke: rgb(255, 255, 255); stroke-opacity: 1;\"/><path class=\"point\" transform=\"translate(61.41,178.12)\" d=\"M22.36,0A22.36,22.36 0 1,1 0,-22.36A22.36,22.36 0 0,1 22.36,0Z\" style=\"opacity: 0.7; stroke-width: 1px; fill: rgb(171, 99, 250); fill-opacity: 1; stroke: rgb(255, 255, 255); stroke-opacity: 1;\"/><path class=\"point\" transform=\"translate(200.23,178.12)\" d=\"M42.49,0A42.49,42.49 0 1,1 0,-42.49A42.49,42.49 0 0,1 42.49,0Z\" style=\"opacity: 0.7; stroke-width: 1px; fill: rgb(171, 99, 250); fill-opacity: 1; stroke: rgb(255, 255, 255); stroke-opacity: 1;\"/><path class=\"point\" transform=\"translate(215,178.12)\" d=\"M44.1,0A44.1,44.1 0 1,1 0,-44.1A44.1,44.1 0 0,1 44.1,0Z\" style=\"opacity: 0.7; stroke-width: 1px; fill: rgb(171, 99, 250); fill-opacity: 1; stroke: rgb(255, 255, 255); stroke-opacity: 1;\"/><path class=\"point\" transform=\"translate(76.18,178.12)\" d=\"M25.28,0A25.28,25.28 0 1,1 0,-25.28A25.28,25.28 0 0,1 25.28,0Z\" style=\"opacity: 0.7; stroke-width: 1px; fill: rgb(171, 99, 250); fill-opacity: 1; stroke: rgb(255, 255, 255); stroke-opacity: 1;\"/><path class=\"point\" transform=\"translate(451.28,187.24)\" d=\"M64.55,0A64.55,64.55 0 1,1 0,-64.55A64.55,64.55 0 0,1 64.55,0Z\" style=\"opacity: 0.7; stroke-width: 1px; fill: rgb(171, 99, 250); fill-opacity: 1; stroke: rgb(255, 255, 255); stroke-opacity: 1;\"/><path class=\"point\" transform=\"translate(141.16,191.8)\" d=\"M35.36,0A35.36,35.36 0 1,1 0,-35.36A35.36,35.36 0 0,1 35.36,0Z\" style=\"opacity: 0.7; stroke-width: 1px; fill: rgb(171, 99, 250); fill-opacity: 1; stroke: rgb(255, 255, 255); stroke-opacity: 1;\"/><path class=\"point\" transform=\"translate(155.93,223.71)\" d=\"M37.27,0A37.27,37.27 0 1,1 0,-37.27A37.27,37.27 0 0,1 37.27,0Z\" style=\"opacity: 0.7; stroke-width: 1px; fill: rgb(171, 99, 250); fill-opacity: 1; stroke: rgb(255, 255, 255); stroke-opacity: 1;\"/><path class=\"point\" transform=\"translate(61.41,232.83)\" d=\"M22.36,0A22.36,22.36 0 1,1 0,-22.36A22.36,22.36 0 0,1 22.36,0Z\" style=\"opacity: 0.7; stroke-width: 1px; fill: rgb(171, 99, 250); fill-opacity: 1; stroke: rgb(255, 255, 255); stroke-opacity: 1;\"/><path class=\"point\" transform=\"translate(185.46,232.83)\" d=\"M40.82,0A40.82,40.82 0 1,1 0,-40.82A40.82,40.82 0 0,1 40.82,0Z\" style=\"opacity: 0.7; stroke-width: 1px; fill: rgb(171, 99, 250); fill-opacity: 1; stroke: rgb(255, 255, 255); stroke-opacity: 1;\"/><path class=\"point\" transform=\"translate(82.09,246.51)\" d=\"M26.35,0A26.35,26.35 0 1,1 0,-26.35A26.35,26.35 0 0,1 26.35,0Z\" style=\"opacity: 0.7; stroke-width: 1px; fill: rgb(171, 99, 250); fill-opacity: 1; stroke: rgb(255, 255, 255); stroke-opacity: 1;\"/><path class=\"point\" transform=\"translate(85.04,264.74)\" d=\"M26.87,0A26.87,26.87 0 1,1 0,-26.87A26.87,26.87 0 0,1 26.87,0Z\" style=\"opacity: 0.7; stroke-width: 1px; fill: rgb(171, 99, 250); fill-opacity: 1; stroke: rgb(255, 255, 255); stroke-opacity: 1;\"/><path class=\"point\" transform=\"translate(259.3,282.98)\" d=\"M48.59,0A48.59,48.59 0 1,1 0,-48.59A48.59,48.59 0 0,1 48.59,0Z\" style=\"opacity: 0.7; stroke-width: 1px; fill: rgb(171, 99, 250); fill-opacity: 1; stroke: rgb(255, 255, 255); stroke-opacity: 1;\"/></g><g class=\"text\"/></g><g class=\"trace scatter tracee8301c\" style=\"stroke-miterlimit: 2; opacity: 1;\"><g class=\"fills\"/><g class=\"errorbars\"/><g class=\"lines\"/><g class=\"points\"><path class=\"point\" transform=\"translate(67.32,150.76)\" d=\"M23.57,0A23.57,23.57 0 1,1 0,-23.57A23.57,23.57 0 0,1 23.57,0Z\" style=\"opacity: 0.7; stroke-width: 1px; fill: rgb(255, 161, 90); fill-opacity: 1; stroke: rgb(255, 255, 255); stroke-opacity: 1;\"/><path class=\"point\" transform=\"translate(49.6,169)\" d=\"M19.72,0A19.72,19.72 0 1,1 0,-19.72A19.72,19.72 0 0,1 19.72,0Z\" style=\"opacity: 0.7; stroke-width: 1px; fill: rgb(255, 161, 90); fill-opacity: 1; stroke: rgb(255, 255, 255); stroke-opacity: 1;\"/><path class=\"point\" transform=\"translate(61.41,173.56)\" d=\"M22.36,0A22.36,22.36 0 1,1 0,-22.36A22.36,22.36 0 0,1 22.36,0Z\" style=\"opacity: 0.7; stroke-width: 1px; fill: rgb(255, 161, 90); fill-opacity: 1; stroke: rgb(255, 255, 255); stroke-opacity: 1;\"/><path class=\"point\" transform=\"translate(164.79,187.24)\" d=\"M38.37,0A38.37,38.37 0 1,1 0,-38.37A38.37,38.37 0 0,1 38.37,0Z\" style=\"opacity: 0.7; stroke-width: 1px; fill: rgb(255, 161, 90); fill-opacity: 1; stroke: rgb(255, 255, 255); stroke-opacity: 1;\"/><path class=\"point\" transform=\"translate(67.32,251.07)\" d=\"M23.57,0A23.57,23.57 0 1,1 0,-23.57A23.57,23.57 0 0,1 23.57,0Z\" style=\"opacity: 0.7; stroke-width: 1px; fill: rgb(255, 161, 90); fill-opacity: 1; stroke: rgb(255, 255, 255); stroke-opacity: 1;\"/><path class=\"point\" transform=\"translate(102.76,278.42)\" d=\"M29.81,0A29.81,29.81 0 1,1 0,-29.81A29.81,29.81 0 0,1 29.81,0Z\" style=\"opacity: 0.7; stroke-width: 1px; fill: rgb(255, 161, 90); fill-opacity: 1; stroke: rgb(255, 255, 255); stroke-opacity: 1;\"/><path class=\"point\" transform=\"translate(67.32,342.25)\" d=\"M23.57,0A23.57,23.57 0 1,1 0,-23.57A23.57,23.57 0 0,1 23.57,0Z\" style=\"opacity: 0.7; stroke-width: 1px; fill: rgb(255, 161, 90); fill-opacity: 1; stroke: rgb(255, 255, 255); stroke-opacity: 1;\"/></g><g class=\"text\"/></g></g></g><g class=\"overplot\"/><path class=\"xlines-above crisp\" d=\"M0,0\" style=\"fill: none;\"/><path class=\"ylines-above crisp\" d=\"M0,0\" style=\"fill: none;\"/><g class=\"overlines-above\"/><g class=\"xaxislayer-above\"><g class=\"xtick\"><text text-anchor=\"middle\" x=\"0\" y=\"461\" transform=\"translate(58.25,0)\" style=\"font-family: 'Open Sans', verdana, arial, sans-serif; font-size: 12px; fill: rgb(42, 63, 95); fill-opacity: 1; white-space: pre;\">0</text></g><g class=\"xtick\"><text text-anchor=\"middle\" x=\"0\" y=\"461\" transform=\"translate(205.93,0)\" style=\"font-family: 'Open Sans', verdana, arial, sans-serif; font-size: 12px; fill: rgb(42, 63, 95); fill-opacity: 1; white-space: pre;\">50</text></g><g class=\"xtick\"><text text-anchor=\"middle\" x=\"0\" y=\"461\" transform=\"translate(353.6,0)\" style=\"font-family: 'Open Sans', verdana, arial, sans-serif; font-size: 12px; fill: rgb(42, 63, 95); fill-opacity: 1; white-space: pre;\">100</text></g><g class=\"xtick\"><text text-anchor=\"middle\" x=\"0\" y=\"461\" transform=\"translate(501.28,0)\" style=\"font-family: 'Open Sans', verdana, arial, sans-serif; font-size: 12px; fill: rgb(42, 63, 95); fill-opacity: 1; white-space: pre;\">150</text></g></g><g class=\"yaxislayer-above\"><g class=\"ytick\"><text text-anchor=\"end\" x=\"49\" y=\"4.199999999999999\" transform=\"translate(0,406.81)\" style=\"font-family: 'Open Sans', verdana, arial, sans-serif; font-size: 12px; fill: rgb(42, 63, 95); fill-opacity: 1; white-space: pre;\">2</text></g><g class=\"ytick\"><text text-anchor=\"end\" x=\"49\" y=\"4.199999999999999\" transform=\"translate(0,361.22)\" style=\"font-family: 'Open Sans', verdana, arial, sans-serif; font-size: 12px; fill: rgb(42, 63, 95); fill-opacity: 1; white-space: pre;\">3</text></g><g class=\"ytick\"><text text-anchor=\"end\" x=\"49\" y=\"4.199999999999999\" transform=\"translate(0,315.62)\" style=\"font-family: 'Open Sans', verdana, arial, sans-serif; font-size: 12px; fill: rgb(42, 63, 95); fill-opacity: 1; white-space: pre;\">4</text></g><g class=\"ytick\"><text text-anchor=\"end\" x=\"49\" y=\"4.199999999999999\" transform=\"translate(0,270.03)\" style=\"font-family: 'Open Sans', verdana, arial, sans-serif; font-size: 12px; fill: rgb(42, 63, 95); fill-opacity: 1; white-space: pre;\">5</text></g><g class=\"ytick\"><text text-anchor=\"end\" x=\"49\" y=\"4.199999999999999\" transform=\"translate(0,224.44)\" style=\"font-family: 'Open Sans', verdana, arial, sans-serif; font-size: 12px; fill: rgb(42, 63, 95); fill-opacity: 1; white-space: pre;\">6</text></g><g class=\"ytick\"><text text-anchor=\"end\" x=\"49\" y=\"4.199999999999999\" transform=\"translate(0,178.85)\" style=\"font-family: 'Open Sans', verdana, arial, sans-serif; font-size: 12px; fill: rgb(42, 63, 95); fill-opacity: 1; white-space: pre;\">7</text></g><g class=\"ytick\"><text text-anchor=\"end\" x=\"49\" y=\"4.199999999999999\" transform=\"translate(0,133.26)\" style=\"font-family: 'Open Sans', verdana, arial, sans-serif; font-size: 12px; fill: rgb(42, 63, 95); fill-opacity: 1; white-space: pre;\">8</text></g><g class=\"ytick\"><text text-anchor=\"end\" x=\"49\" y=\"4.199999999999999\" transform=\"translate(0,87.67)\" style=\"font-family: 'Open Sans', verdana, arial, sans-serif; font-size: 12px; fill: rgb(42, 63, 95); fill-opacity: 1; white-space: pre;\">9</text></g></g><g class=\"overaxes-above\"/></g></g><g class=\"polarlayer\"/><g class=\"ternarylayer\"/><g class=\"geolayer\"/><g class=\"funnelarealayer\"/><g class=\"pielayer\"/><g class=\"treemaplayer\"/><g class=\"sunburstlayer\"/><g class=\"glimages\"/><defs id=\"topdefs-75c2f1\"><g class=\"clips\"/><clipPath id=\"legend75c2f1\"><rect width=\"76\" height=\"121\" x=\"0\" y=\"0\"/></clipPath></defs><g class=\"layer-above\"><g class=\"imagelayer\"/><g class=\"shapelayer\"/></g><g class=\"infolayer\"><g class=\"legend\" pointer-events=\"all\" transform=\"translate(612.02,60)\"><rect class=\"bg\" shape-rendering=\"crispEdges\" style=\"stroke: rgb(68, 68, 68); stroke-opacity: 1; fill: rgb(243, 243, 243); fill-opacity: 1; stroke-width: 0px;\" width=\"76\" height=\"121\" x=\"0\" y=\"0\"/><g class=\"scrollbox\" transform=\"\" clip-path=\"url('#legend75c2f1')\"><text class=\"legendtitletext\" text-anchor=\"start\" x=\"2\" y=\"15.600000000000001\" style=\"font-family: 'Open Sans', verdana, arial, sans-serif; font-size: 12px; fill: rgb(42, 63, 95); fill-opacity: 1; white-space: pre;\">Year</text><g class=\"groups\" transform=\"\"><g class=\"traces\" transform=\"translate(0,30.1)\" style=\"opacity: 1;\"><text class=\"legendtext\" text-anchor=\"start\" x=\"40\" y=\"4.680000000000001\" style=\"font-family: 'Open Sans', verdana, arial, sans-serif; font-size: 12px; fill: rgb(42, 63, 95); fill-opacity: 1; white-space: pre;\">2001</text><g class=\"layers\" style=\"opacity: 1;\"><g class=\"legendfill\"/><g class=\"legendlines\"/><g class=\"legendsymbols\"><g class=\"legendpoints\"><path class=\"scatterpts\" transform=\"translate(20,0)\" d=\"M8,0A8,8 0 1,1 0,-8A8,8 0 0,1 8,0Z\" style=\"opacity: 0.7; stroke-width: 1px; fill: rgb(0, 204, 150); fill-opacity: 1; stroke: rgb(255, 255, 255); stroke-opacity: 1;\"/></g></g></g><rect class=\"legendtoggle\" x=\"0\" y=\"-9.5\" width=\"70.515625\" height=\"19\" style=\"fill: rgb(0, 0, 0); fill-opacity: 0;\"/></g></g><g class=\"groups\" transform=\"\"><g class=\"traces\" transform=\"translate(0,49.1)\" style=\"opacity: 1;\"><text class=\"legendtext\" text-anchor=\"start\" x=\"40\" y=\"4.680000000000001\" style=\"font-family: 'Open Sans', verdana, arial, sans-serif; font-size: 12px; fill: rgb(42, 63, 95); fill-opacity: 1; white-space: pre;\">2002</text><g class=\"layers\" style=\"opacity: 1;\"><g class=\"legendfill\"/><g class=\"legendlines\"/><g class=\"legendsymbols\"><g class=\"legendpoints\"><path class=\"scatterpts\" transform=\"translate(20,0)\" d=\"M8,0A8,8 0 1,1 0,-8A8,8 0 0,1 8,0Z\" style=\"opacity: 0.7; stroke-width: 1px; fill: rgb(239, 85, 59); fill-opacity: 1; stroke: rgb(255, 255, 255); stroke-opacity: 1;\"/></g></g></g><rect class=\"legendtoggle\" x=\"0\" y=\"-9.5\" width=\"70.515625\" height=\"19\" style=\"fill: rgb(0, 0, 0); fill-opacity: 0;\"/></g></g><g class=\"groups\" transform=\"\"><g class=\"traces\" transform=\"translate(0,68.1)\" style=\"opacity: 1;\"><text class=\"legendtext\" text-anchor=\"start\" x=\"40\" y=\"4.680000000000001\" style=\"font-family: 'Open Sans', verdana, arial, sans-serif; font-size: 12px; fill: rgb(42, 63, 95); fill-opacity: 1; white-space: pre;\">2003</text><g class=\"layers\" style=\"opacity: 1;\"><g class=\"legendfill\"/><g class=\"legendlines\"/><g class=\"legendsymbols\"><g class=\"legendpoints\"><path class=\"scatterpts\" transform=\"translate(20,0)\" d=\"M8,0A8,8 0 1,1 0,-8A8,8 0 0,1 8,0Z\" style=\"opacity: 0.7; stroke-width: 1px; fill: rgb(99, 110, 250); fill-opacity: 1; stroke: rgb(255, 255, 255); stroke-opacity: 1;\"/></g></g></g><rect class=\"legendtoggle\" x=\"0\" y=\"-9.5\" width=\"70.515625\" height=\"19\" style=\"fill: rgb(0, 0, 0); fill-opacity: 0;\"/></g></g><g class=\"groups\" transform=\"\"><g class=\"traces\" transform=\"translate(0,87.1)\" style=\"opacity: 1;\"><text class=\"legendtext\" text-anchor=\"start\" x=\"40\" y=\"4.680000000000001\" style=\"font-family: 'Open Sans', verdana, arial, sans-serif; font-size: 12px; fill: rgb(42, 63, 95); fill-opacity: 1; white-space: pre;\">2004</text><g class=\"layers\" style=\"opacity: 1;\"><g class=\"legendfill\"/><g class=\"legendlines\"/><g class=\"legendsymbols\"><g class=\"legendpoints\"><path class=\"scatterpts\" transform=\"translate(20,0)\" d=\"M8,0A8,8 0 1,1 0,-8A8,8 0 0,1 8,0Z\" style=\"opacity: 0.7; stroke-width: 1px; fill: rgb(171, 99, 250); fill-opacity: 1; stroke: rgb(255, 255, 255); stroke-opacity: 1;\"/></g></g></g><rect class=\"legendtoggle\" x=\"0\" y=\"-9.5\" width=\"70.515625\" height=\"19\" style=\"fill: rgb(0, 0, 0); fill-opacity: 0;\"/></g></g><g class=\"groups\" transform=\"\"><g class=\"traces\" transform=\"translate(0,106.1)\" style=\"opacity: 1;\"><text class=\"legendtext\" text-anchor=\"start\" x=\"40\" y=\"4.680000000000001\" style=\"font-family: 'Open Sans', verdana, arial, sans-serif; font-size: 12px; fill: rgb(42, 63, 95); fill-opacity: 1; white-space: pre;\">2005</text><g class=\"layers\" style=\"opacity: 1;\"><g class=\"legendfill\"/><g class=\"legendlines\"/><g class=\"legendsymbols\"><g class=\"legendpoints\"><path class=\"scatterpts\" transform=\"translate(20,0)\" d=\"M8,0A8,8 0 1,1 0,-8A8,8 0 0,1 8,0Z\" style=\"opacity: 0.7; stroke-width: 1px; fill: rgb(255, 161, 90); fill-opacity: 1; stroke: rgb(255, 255, 255); stroke-opacity: 1;\"/></g></g></g><rect class=\"legendtoggle\" x=\"0\" y=\"-9.5\" width=\"70.515625\" height=\"19\" style=\"fill: rgb(0, 0, 0); fill-opacity: 0;\"/></g></g></g><rect class=\"scrollbar\" rx=\"20\" ry=\"3\" width=\"0\" height=\"0\" style=\"fill: rgb(128, 139, 164); fill-opacity: 1;\" x=\"0\" y=\"0\"/></g><g class=\"g-gtitle\"><text class=\"gtitle\" x=\"35\" y=\"30\" text-anchor=\"start\" dy=\"0em\" style=\"font-family: 'Open Sans', verdana, arial, sans-serif; font-size: 17px; fill: rgb(42, 63, 95); opacity: 1; font-weight: normal; white-space: pre;\">Movies Budget vs Rating</text></g><g class=\"g-xtitle\"><text class=\"xtitle\" x=\"325.5\" y=\"488.3\" text-anchor=\"middle\" style=\"font-family: 'Open Sans', verdana, arial, sans-serif; font-size: 14px; fill: rgb(42, 63, 95); opacity: 1; font-weight: normal; white-space: pre;\">Movie Budget (in Million Dollars)</text></g><g class=\"g-ytitle\"><text class=\"ytitle\" transform=\"rotate(-90,16.559375000000003,254)\" x=\"16.559375000000003\" y=\"254\" text-anchor=\"middle\" style=\"font-family: 'Open Sans', verdana, arial, sans-serif; font-size: 14px; fill: rgb(42, 63, 95); opacity: 1; font-weight: normal; white-space: pre;\">Rating</text></g></g></svg>",
      "text/html": [
       "<div\n",
       "    class=\"webio-mountpoint\"\n",
       "    data-webio-mountpoint=\"17926439581515645829\"\n",
       ">\n",
       "    <script>\n",
       "    (function(){\n",
       "    // Some integrations (namely, IJulia/Jupyter) use an alternate render pathway than\n",
       "    // just putting the html on the page. If WebIO isn't defined, then it's pretty likely\n",
       "    // that we're in one of those situations and the integration just isn't installed\n",
       "    // correctly.\n",
       "    if (typeof window.WebIO === \"undefined\") {\n",
       "        document\n",
       "            .querySelector('[data-webio-mountpoint=\"17926439581515645829\"]')\n",
       "            .innerHTML = (\n",
       "                '<div style=\"padding: 1em; background-color: #f8d6da; border: 1px solid #f5c6cb; font-weight: bold;\">' +\n",
       "                '<p><strong>WebIO not detected.</strong></p>' +\n",
       "                '<p>Please read ' +\n",
       "                '<a href=\"https://juliagizmos.github.io/WebIO.jl/latest/troubleshooting/not-detected/\" target=\"_blank\">the troubleshooting guide</a> ' +\n",
       "                'for more information on how to resolve this issue.</p>' +\n",
       "                '<p><a href=\"https://juliagizmos.github.io/WebIO.jl/latest/troubleshooting/not-detected/\" target=\"_blank\">https://juliagizmos.github.io/WebIO.jl/latest/troubleshooting/not-detected/</a></p>' +\n",
       "                '</div>'\n",
       "            );\n",
       "        return;\n",
       "    }\n",
       "    WebIO.mount(\n",
       "        document.querySelector('[data-webio-mountpoint=\"17926439581515645829\"]'),\n",
       "        {\"props\":{},\"nodeType\":\"Scope\",\"type\":\"node\",\"instanceArgs\":{\"imports\":{\"data\":[{\"name\":\"Plotly\",\"type\":\"js\",\"url\":\"\\/assetserver\\/409e9b326e803947d9820a15181c464d371bd1b4-plotly.min.js\"},{\"name\":null,\"type\":\"js\",\"url\":\"\\/assetserver\\/7df8768277b513869b526ee8426daf800fd976e7-plotly_webio.bundle.js\"}],\"type\":\"async_block\"},\"id\":\"18182794503988077918\",\"handlers\":{\"_toImage\":[\"(function (options){return this.Plotly.toImage(this.plotElem,options).then((function (data){return WebIO.setval({\\\"name\\\":\\\"image\\\",\\\"scope\\\":\\\"18182794503988077918\\\",\\\"id\\\":\\\"4053302756648122841\\\",\\\"type\\\":\\\"observable\\\"},data)}))})\"],\"__get_gd_contents\":[\"(function (prop){prop==\\\"data\\\" ? (WebIO.setval({\\\"name\\\":\\\"__gd_contents\\\",\\\"scope\\\":\\\"18182794503988077918\\\",\\\"id\\\":\\\"18417422722013244544\\\",\\\"type\\\":\\\"observable\\\"},this.plotElem.data)) : undefined; return prop==\\\"layout\\\" ? (WebIO.setval({\\\"name\\\":\\\"__gd_contents\\\",\\\"scope\\\":\\\"18182794503988077918\\\",\\\"id\\\":\\\"18417422722013244544\\\",\\\"type\\\":\\\"observable\\\"},this.plotElem.layout)) : undefined})\"],\"_downloadImage\":[\"(function (options){return this.Plotly.downloadImage(this.plotElem,options)})\"],\"_commands\":[\"(function (args){var fn=args.shift(); var elem=this.plotElem; var Plotly=this.Plotly; args.unshift(elem); return Plotly[fn].apply(this,args)})\"]},\"systemjs_options\":null,\"mount_callbacks\":[\"function () {\\n    var handler = ((function (Plotly,PlotlyWebIO){PlotlyWebIO.init(WebIO); var gd=this.dom.querySelector(\\\"#plot-79efb5c3-1585-4c55-a4ab-c4fad29a589a\\\"); this.plotElem=gd; this.Plotly=Plotly; (window.Blink!==undefined) ? (gd.style.width=\\\"100%\\\", gd.style.height=\\\"100vh\\\", gd.style.marginLeft=\\\"0%\\\", gd.style.marginTop=\\\"0vh\\\") : undefined; window.onresize=(function (){return Plotly.Plots.resize(gd)}); Plotly.newPlot(gd,[{\\\"showlegend\\\":true,\\\"mode\\\":\\\"markers\\\",\\\"xaxis\\\":\\\"x\\\",\\\"name\\\":\\\"2001\\\",\\\"text\\\":[\\\"Title: Beautiful Mind, A<br> Year: 2001<br> Budget: 60.0<br> Rating: 7.8<br>\\\",\\\"Title: Black Hawk Down<br> Year: 2001<br> Budget: 90.0<br> Rating: 7.6<br>\\\",\\\"Title: Blow<br> Year: 2001<br> Budget: 30.0<br> Rating: 7.1<br>\\\",\\\"Title: Bridget Jones's Diary<br> Year: 2001<br> Budget: 26.0<br> Rating: 7.0<br>\\\",\\\"Title: Buffalo Soldiers<br> Year: 2001<br> Budget: 15.0<br> Rating: 7.0<br>\\\",\\\"Title: Artificial Intelligence: AI<br> Year: 2001<br> Budget: 90.0<br> Rating: 6.8<br>\\\",\\\"Title: Bandits<br> Year: 2001<br> Budget: 80.0<br> Rating: 6.7<br>\\\",\\\"Title: Ali<br> Year: 2001<br> Budget: 107.0<br> Rating: 6.4<br>\\\",\\\"Title: Atlantis: The Lost Empire<br> Year: 2001<br> Budget: 90.0<br> Rating: 6.4<br>\\\",\\\"Title: American Pie 2<br> Year: 2001<br> Budget: 30.0<br> Rating: 6.3<br>\\\",\\\"Title: Baby Boy<br> Year: 2001<br> Budget: 16.0<br> Rating: 6.2<br>\\\",\\\"Title: 15 Minutes<br> Year: 2001<br> Budget: 42.0<br> Rating: 6.1<br>\\\",\\\"Title: 51st State, The<br> Year: 2001<br> Budget: 28.0<br> Rating: 6.1<br>\\\",\\\"Title: Along Came a Spider<br> Year: 2001<br> Budget: 28.0<br> Rating: 6.1<br>\\\",\\\"Title: Behind Enemy Lines<br> Year: 2001<br> Budget: 40.0<br> Rating: 6.1<br>\\\",\\\"Title: Antitrust<br> Year: 2001<br> Budget: 30.0<br> Rating: 6.0<br>\\\",\\\"Title: Captain Corelli's Mandolin<br> Year: 2001<br> Budget: 57.0<br> Rating: 5.9<br>\\\",\\\"Title: America's Sweethearts<br> Year: 2001<br> Budget: 48.0<br> Rating: 5.8<br>\\\",\\\"Title: Angel Eyes<br> Year: 2001<br> Budget: 38.0<br> Rating: 5.6<br>\\\",\\\"Title: American Outlaws<br> Year: 2001<br> Budget: 35.0<br> Rating: 5.5<br>\\\",\\\"Title: 3000 Miles to Graceland<br> Year: 2001<br> Budget: 62.0<br> Rating: 5.4<br>\\\",\\\"Title: Cats & Dogs<br> Year: 2001<br> Budget: 60.0<br> Rating: 5.4<br>\\\",\\\"Title: All the Queen's Men<br> Year: 2001<br> Budget: 25.0<br> Rating: 5.0<br>\\\",\\\"Title: Animal, The<br> Year: 2001<br> Budget: 22.0<br> Rating: 4.8<br>\\\",\\\"Title: Bones<br> Year: 2001<br> Budget: 16.0<br> Rating: 4.2<br>\\\",\\\"Title: Black Knight<br> Year: 2001<br> Budget: 50.0<br> Rating: 4.1<br>\\\"],\\\"yaxis\\\":\\\"y\\\",\\\"legendgroup\\\":\\\"2001\\\",\\\"marker\\\":{\\\"color\\\":\\\"#00cc96\\\",\\\"sizeref\\\":0.018,\\\"size\\\":[60.0,90.0,30.0,26.0,15.0,90.0,80.0,107.0,90.0,30.0,16.0,42.0,28.0,28.0,40.0,30.0,57.0,48.0,38.0,35.0,62.0,60.0,25.0,22.0,16.0,50.0],\\\"sizemode\\\":\\\"area\\\"},\\\"y\\\":[7.8,7.6,7.1,7.0,7.0,6.8,6.7,6.4,6.4,6.3,6.2,6.1,6.1,6.1,6.1,6.0,5.9,5.8,5.6,5.5,5.4,5.4,5.0,4.8,4.2,4.1],\\\"type\\\":\\\"scatter\\\",\\\"x\\\":[60.0,90.0,30.0,26.0,15.0,90.0,80.0,107.0,90.0,30.0,16.0,42.0,28.0,28.0,40.0,30.0,57.0,48.0,38.0,35.0,62.0,60.0,25.0,22.0,16.0,50.0]},{\\\"showlegend\\\":true,\\\"mode\\\":\\\"markers\\\",\\\"xaxis\\\":\\\"x\\\",\\\"name\\\":\\\"2002\\\",\\\"text\\\":[\\\"Title: Adaptation.<br> Year: 2002<br> Budget: 19.0<br> Rating: 7.9<br>\\\",\\\"Title: 25th Hour<br> Year: 2002<br> Budget: 15.0<br> Rating: 7.8<br>\\\",\\\"Title: Catch Me If You Can<br> Year: 2002<br> Budget: 52.0<br> Rating: 7.6<br>\\\",\\\"Title: About a Boy<br> Year: 2002<br> Budget: 27.0<br> Rating: 7.5<br>\\\",\\\"Title: Chicago<br> Year: 2002<br> Budget: 45.0<br> Rating: 7.5<br>\\\",\\\"Title: About Schmidt<br> Year: 2002<br> Budget: 30.0<br> Rating: 7.3<br>\\\",\\\"Title: Bourne Identity, The<br> Year: 2002<br> Budget: 75.0<br> Rating: 7.3<br>\\\",\\\"Title: 8 Mile<br> Year: 2002<br> Budget: 41.0<br> Rating: 6.8<br>\\\",\\\"Title: Blade II<br> Year: 2002<br> Budget: 55.0<br> Rating: 6.6<br>\\\",\\\"Title: Changing Lanes<br> Year: 2002<br> Budget: 45.0<br> Rating: 6.6<br>\\\",\\\"Title: Big Trouble<br> Year: 2002<br> Budget: 40.0<br> Rating: 6.4<br>\\\",\\\"Title: Blood Work<br> Year: 2002<br> Budget: 50.0<br> Rating: 6.3<br>\\\",\\\"Title: Austin Powers in Goldmember<br> Year: 2002<br> Budget: 63.0<br> Rating: 6.2<br>\\\",\\\"Title: Blue Crush<br> Year: 2002<br> Budget: 30.0<br> Rating: 5.7<br>\\\",\\\"Title: Big Fat Liar<br> Year: 2002<br> Budget: 15.0<br> Rating: 5.5<br>\\\",\\\"Title: 40 Days and 40 Nights<br> Year: 2002<br> Budget: 17.0<br> Rating: 5.4<br>\\\",\\\"Title: All About the Benjamins<br> Year: 2002<br> Budget: 14.0<br> Rating: 5.4<br>\\\",\\\"Title: Bad Company<br> Year: 2002<br> Budget: 70.0<br> Rating: 5.4<br>\\\",\\\"Title: Abandon<br> Year: 2002<br> Budget: 25.0<br> Rating: 4.7<br>\\\",\\\"Title: Boat Trip<br> Year: 2002<br> Budget: 20.0<br> Rating: 4.5<br>\\\",\\\"Title: Adventures of Pluto Nash, The<br> Year: 2002<br> Budget: 100.0<br> Rating: 3.9<br>\\\",\\\"Title: Ballistic: Ecks vs. Sever<br> Year: 2002<br> Budget: 70.0<br> Rating: 3.4<br>\\\"],\\\"yaxis\\\":\\\"y\\\",\\\"legendgroup\\\":\\\"2002\\\",\\\"marker\\\":{\\\"color\\\":\\\"#EF553B\\\",\\\"sizeref\\\":0.018,\\\"size\\\":[19.0,15.0,52.0,27.0,45.0,30.0,75.0,41.0,55.0,45.0,40.0,50.0,63.0,30.0,15.0,17.0,14.0,70.0,25.0,20.0,100.0,70.0],\\\"sizemode\\\":\\\"area\\\"},\\\"y\\\":[7.9,7.8,7.6,7.5,7.5,7.3,7.3,6.8,6.6,6.6,6.4,6.3,6.2,5.7,5.5,5.4,5.4,5.4,4.7,4.5,3.9,3.4],\\\"type\\\":\\\"scatter\\\",\\\"x\\\":[19.0,15.0,52.0,27.0,45.0,30.0,75.0,41.0,55.0,45.0,40.0,50.0,63.0,30.0,15.0,17.0,14.0,70.0,25.0,20.0,100.0,70.0]},{\\\"showlegend\\\":true,\\\"mode\\\":\\\"markers\\\",\\\"xaxis\\\":\\\"x\\\",\\\"name\\\":\\\"2003\\\",\\\"text\\\":[\\\"Title: Big Fish<br> Year: 2003<br> Budget: 70.0<br> Rating: 8.1<br>\\\",\\\"Title: 21 Grams<br> Year: 2003<br> Budget: 20.0<br> Rating: 8.0<br>\\\",\\\"Title: Bad Santa<br> Year: 2003<br> Budget: 18.0<br> Rating: 7.2<br>\\\",\\\"Title: Bon voyage<br> Year: 2003<br> Budget: 20.0<br> Rating: 7.2<br>\\\",\\\"Title: Anything Else<br> Year: 2003<br> Budget: 18.0<br> Rating: 6.5<br>\\\",\\\"Title: Bruce Almighty<br> Year: 2003<br> Budget: 81.0<br> Rating: 6.4<br>\\\",\\\"Title: American Wedding<br> Year: 2003<br> Budget: 55.0<br> Rating: 6.3<br>\\\",\\\"Title: Basic<br> Year: 2003<br> Budget: 50.0<br> Rating: 6.2<br>\\\",\\\"Title: Bad Boys II<br> Year: 2003<br> Budget: 130.0<br> Rating: 6.1<br>\\\",\\\"Title: Anger Management<br> Year: 2003<br> Budget: 75.0<br> Rating: 6.0<br>\\\",\\\"Title: Cheaper by the Dozen<br> Year: 2003<br> Budget: 40.0<br> Rating: 5.8<br>\\\",\\\"Title: Bringing Down the House<br> Year: 2003<br> Budget: 35.0<br> Rating: 5.6<br>\\\",\\\"Title: Agent Cody Banks<br> Year: 2003<br> Budget: 26.0<br> Rating: 5.5<br>\\\",\\\"Title: Beyond Borders<br> Year: 2003<br> Budget: 35.0<br> Rating: 5.4<br>\\\",\\\"Title: Bulletproof Monk<br> Year: 2003<br> Budget: 52.0<br> Rating: 5.2<br>\\\",\\\"Title: 2 Fast 2 Furious<br> Year: 2003<br> Budget: 76.0<br> Rating: 5.1<br>\\\",\\\"Title: Charlie's Angels: Full Throttle<br> Year: 2003<br> Budget: 120.0<br> Rating: 5.0<br>\\\",\\\"Title: Belly of the Beast<br> Year: 2003<br> Budget: 18.0<br> Rating: 4.2<br>\\\",\\\"Title: Cat in the Hat, The<br> Year: 2003<br> Budget: 109.0<br> Rating: 3.2<br>\\\"],\\\"yaxis\\\":\\\"y\\\",\\\"legendgroup\\\":\\\"2003\\\",\\\"marker\\\":{\\\"color\\\":\\\"#636efa\\\",\\\"sizeref\\\":0.018,\\\"size\\\":[70.0,20.0,18.0,20.0,18.0,81.0,55.0,50.0,130.0,75.0,40.0,35.0,26.0,35.0,52.0,76.0,120.0,18.0,109.0],\\\"sizemode\\\":\\\"area\\\"},\\\"y\\\":[8.1,8.0,7.2,7.2,6.5,6.4,6.3,6.2,6.1,6.0,5.8,5.6,5.5,5.4,5.2,5.1,5.0,4.2,3.2],\\\"type\\\":\\\"scatter\\\",\\\"x\\\":[70.0,20.0,18.0,20.0,18.0,81.0,55.0,50.0,130.0,75.0,40.0,35.0,26.0,35.0,52.0,76.0,120.0,18.0,109.0]},{\\\"showlegend\\\":true,\\\"mode\\\":\\\"markers\\\",\\\"xaxis\\\":\\\"x\\\",\\\"name\\\":\\\"2004\\\",\\\"text\\\":[\\\"Title: Aviator, The<br> Year: 2004<br> Budget: 116.0<br> Rating: 7.5<br>\\\",\\\"Title: Bourne Supremacy, The<br> Year: 2004<br> Budget: 75.0<br> Rating: 7.3<br>\\\",\\\"Title: Being Julia<br> Year: 2004<br> Budget: 18.0<br> Rating: 7.2<br>\\\",\\\"Title: 50 First Dates<br> Year: 2004<br> Budget: 75.0<br> Rating: 6.8<br>\\\",\\\"Title: Beyond the Sea<br> Year: 2004<br> Budget: 24.0<br> Rating: 6.7<br>\\\",\\\"Title: Anchorman: The Legend of Ron Burgundy<br> Year: 2004<br> Budget: 26.0<br> Rating: 6.5<br>\\\",\\\"Title: 13 Going On 30<br> Year: 2004<br> Budget: 37.0<br> Rating: 6.4<br>\\\",\\\"Title: Cellular<br> Year: 2004<br> Budget: 25.0<br> Rating: 6.4<br>\\\",\\\"Title: After the Sunset<br> Year: 2004<br> Budget: 58.0<br> Rating: 6.0<br>\\\",\\\"Title: Alfie<br> Year: 2004<br> Budget: 60.0<br> Rating: 6.0<br>\\\",\\\"Title: Birth<br> Year: 2004<br> Budget: 20.0<br> Rating: 6.0<br>\\\",\\\"Title: Alamo, The<br> Year: 2004<br> Budget: 95.0<br> Rating: 5.9<br>\\\",\\\"Title: Along Came Polly<br> Year: 2004<br> Budget: 42.0<br> Rating: 5.8<br>\\\",\\\"Title: Around the World in 80 Days<br> Year: 2004<br> Budget: 110.0<br> Rating: 5.7<br>\\\",\\\"Title: Barbershop 2: Back in Business<br> Year: 2004<br> Budget: 18.0<br> Rating: 5.7<br>\\\",\\\"Title: Blade: Trinity<br> Year: 2004<br> Budget: 65.0<br> Rating: 5.7<br>\\\",\\\"Title: Bridget Jones: The Edge of Reason<br> Year: 2004<br> Budget: 70.0<br> Rating: 5.7<br>\\\",\\\"Title: Chasing Liberty<br> Year: 2004<br> Budget: 23.0<br> Rating: 5.7<br>\\\",\\\"Title: Alexander<br> Year: 2004<br> Budget: 150.0<br> Rating: 5.5<br>\\\",\\\"Title: AVP: Alien Vs. Predator<br> Year: 2004<br> Budget: 45.0<br> Rating: 5.4<br>\\\",\\\"Title: Big Bounce, The<br> Year: 2004<br> Budget: 50.0<br> Rating: 4.7<br>\\\",\\\"Title: Catch That Kid<br> Year: 2004<br> Budget: 18.0<br> Rating: 4.5<br>\\\",\\\"Title: Christmas with the Kranks<br> Year: 2004<br> Budget: 60.0<br> Rating: 4.5<br>\\\",\\\"Title: Anacondas: The Hunt for the Blood Orchid<br> Year: 2004<br> Budget: 25.0<br> Rating: 4.2<br>\\\",\\\"Title: Agent Cody Banks 2: Destination London<br> Year: 2004<br> Budget: 26.0<br> Rating: 3.8<br>\\\",\\\"Title: Catwoman<br> Year: 2004<br> Budget: 85.0<br> Rating: 3.4<br>\\\"],\\\"yaxis\\\":\\\"y\\\",\\\"legendgroup\\\":\\\"2004\\\",\\\"marker\\\":{\\\"color\\\":\\\"#ab63fa\\\",\\\"sizeref\\\":0.018,\\\"size\\\":[116.0,75.0,18.0,75.0,24.0,26.0,37.0,25.0,58.0,60.0,20.0,95.0,42.0,110.0,18.0,65.0,70.0,23.0,150.0,45.0,50.0,18.0,60.0,25.0,26.0,85.0],\\\"sizemode\\\":\\\"area\\\"},\\\"y\\\":[7.5,7.3,7.2,6.8,6.7,6.5,6.4,6.4,6.0,6.0,6.0,5.9,5.8,5.7,5.7,5.7,5.7,5.7,5.5,5.4,4.7,4.5,4.5,4.2,3.8,3.4],\\\"type\\\":\\\"scatter\\\",\\\"x\\\":[116.0,75.0,18.0,75.0,24.0,26.0,37.0,25.0,58.0,60.0,20.0,95.0,42.0,110.0,18.0,65.0,70.0,23.0,150.0,45.0,50.0,18.0,60.0,25.0,26.0,85.0]},{\\\"showlegend\\\":true,\\\"mode\\\":\\\"markers\\\",\\\"xaxis\\\":\\\"x\\\",\\\"name\\\":\\\"2005\\\",\\\"text\\\":[\\\"Title: Assault on Precinct 13<br> Year: 2005<br> Budget: 20.0<br> Rating: 6.3<br>\\\",\\\"Title: Because of Winn-Dixie<br> Year: 2005<br> Budget: 14.0<br> Rating: 5.9<br>\\\",\\\"Title: Amityville Horror, The<br> Year: 2005<br> Budget: 18.0<br> Rating: 5.8<br>\\\",\\\"Title: Be Cool<br> Year: 2005<br> Budget: 53.0<br> Rating: 5.5<br>\\\",\\\"Title: Boogeyman<br> Year: 2005<br> Budget: 20.0<br> Rating: 4.1<br>\\\",\\\"Title: Are We There Yet?<br> Year: 2005<br> Budget: 32.0<br> Rating: 3.5<br>\\\",\\\"Title: Alone in the Dark<br> Year: 2005<br> Budget: 20.0<br> Rating: 2.1<br>\\\"],\\\"yaxis\\\":\\\"y\\\",\\\"legendgroup\\\":\\\"2005\\\",\\\"marker\\\":{\\\"color\\\":\\\"#FFA15A\\\",\\\"sizeref\\\":0.018,\\\"size\\\":[20.0,14.0,18.0,53.0,20.0,32.0,20.0],\\\"sizemode\\\":\\\"area\\\"},\\\"y\\\":[6.3,5.9,5.8,5.5,4.1,3.5,2.1],\\\"type\\\":\\\"scatter\\\",\\\"x\\\":[20.0,14.0,18.0,53.0,20.0,32.0,20.0]}],{\\\"xaxis\\\":{\\\"gridcolor\\\":\\\"white\\\",\\\"title\\\":{\\\"text\\\":\\\"Movie Budget (in Million Dollars)\\\"}},\\\"paper_bgcolor\\\":\\\"rgb(243, 243, 243)\\\",\\\"template\\\":{\\\"layout\\\":{\\\"coloraxis\\\":{\\\"colorbar\\\":{\\\"ticks\\\":\\\"\\\",\\\"outlinewidth\\\":0}},\\\"xaxis\\\":{\\\"gridcolor\\\":\\\"white\\\",\\\"zerolinewidth\\\":2,\\\"title\\\":{\\\"standoff\\\":15},\\\"ticks\\\":\\\"\\\",\\\"zerolinecolor\\\":\\\"white\\\",\\\"automargin\\\":true,\\\"linecolor\\\":\\\"white\\\"},\\\"hovermode\\\":\\\"closest\\\",\\\"paper_bgcolor\\\":\\\"white\\\",\\\"geo\\\":{\\\"showlakes\\\":true,\\\"showland\\\":true,\\\"landcolor\\\":\\\"#E5ECF6\\\",\\\"bgcolor\\\":\\\"white\\\",\\\"subunitcolor\\\":\\\"white\\\",\\\"lakecolor\\\":\\\"white\\\"},\\\"colorscale\\\":{\\\"sequential\\\":[[0.0,\\\"#0d0887\\\"],[0.1111111111111111,\\\"#46039f\\\"],[0.2222222222222222,\\\"#7201a8\\\"],[0.3333333333333333,\\\"#9c179e\\\"],[0.4444444444444444,\\\"#bd3786\\\"],[0.5555555555555556,\\\"#d8576b\\\"],[0.6666666666666666,\\\"#ed7953\\\"],[0.7777777777777778,\\\"#fb9f3a\\\"],[0.8888888888888888,\\\"#fdca26\\\"],[1.0,\\\"#f0f921\\\"]],\\\"diverging\\\":[[0,\\\"#8e0152\\\"],[0.1,\\\"#c51b7d\\\"],[0.2,\\\"#de77ae\\\"],[0.3,\\\"#f1b6da\\\"],[0.4,\\\"#fde0ef\\\"],[0.5,\\\"#f7f7f7\\\"],[0.6,\\\"#e6f5d0\\\"],[0.7,\\\"#b8e186\\\"],[0.8,\\\"#7fbc41\\\"],[0.9,\\\"#4d9221\\\"],[1,\\\"#276419\\\"]],\\\"sequentialminus\\\":[[0.0,\\\"#0d0887\\\"],[0.1111111111111111,\\\"#46039f\\\"],[0.2222222222222222,\\\"#7201a8\\\"],[0.3333333333333333,\\\"#9c179e\\\"],[0.4444444444444444,\\\"#bd3786\\\"],[0.5555555555555556,\\\"#d8576b\\\"],[0.6666666666666666,\\\"#ed7953\\\"],[0.7777777777777778,\\\"#fb9f3a\\\"],[0.8888888888888888,\\\"#fdca26\\\"],[1.0,\\\"#f0f921\\\"]]},\\\"yaxis\\\":{\\\"gridcolor\\\":\\\"white\\\",\\\"zerolinewidth\\\":2,\\\"title\\\":{\\\"standoff\\\":15},\\\"ticks\\\":\\\"\\\",\\\"zerolinecolor\\\":\\\"white\\\",\\\"automargin\\\":true,\\\"linecolor\\\":\\\"white\\\"},\\\"shapedefaults\\\":{\\\"line\\\":{\\\"color\\\":\\\"#2a3f5f\\\"}},\\\"hoverlabel\\\":{\\\"align\\\":\\\"left\\\"},\\\"mapbox\\\":{\\\"style\\\":\\\"light\\\"},\\\"polar\\\":{\\\"angularaxis\\\":{\\\"gridcolor\\\":\\\"white\\\",\\\"ticks\\\":\\\"\\\",\\\"linecolor\\\":\\\"white\\\"},\\\"bgcolor\\\":\\\"#E5ECF6\\\",\\\"radialaxis\\\":{\\\"gridcolor\\\":\\\"white\\\",\\\"ticks\\\":\\\"\\\",\\\"linecolor\\\":\\\"white\\\"}},\\\"autotypenumbers\\\":\\\"strict\\\",\\\"font\\\":{\\\"color\\\":\\\"#2a3f5f\\\"},\\\"ternary\\\":{\\\"baxis\\\":{\\\"gridcolor\\\":\\\"white\\\",\\\"ticks\\\":\\\"\\\",\\\"linecolor\\\":\\\"white\\\"},\\\"bgcolor\\\":\\\"#E5ECF6\\\",\\\"caxis\\\":{\\\"gridcolor\\\":\\\"white\\\",\\\"ticks\\\":\\\"\\\",\\\"linecolor\\\":\\\"white\\\"},\\\"aaxis\\\":{\\\"gridcolor\\\":\\\"white\\\",\\\"ticks\\\":\\\"\\\",\\\"linecolor\\\":\\\"white\\\"}},\\\"annotationdefaults\\\":{\\\"arrowhead\\\":0,\\\"arrowwidth\\\":1,\\\"arrowcolor\\\":\\\"#2a3f5f\\\"},\\\"plot_bgcolor\\\":\\\"#E5ECF6\\\",\\\"title\\\":{\\\"x\\\":0.05},\\\"scene\\\":{\\\"xaxis\\\":{\\\"gridcolor\\\":\\\"white\\\",\\\"gridwidth\\\":2,\\\"backgroundcolor\\\":\\\"#E5ECF6\\\",\\\"ticks\\\":\\\"\\\",\\\"showbackground\\\":true,\\\"zerolinecolor\\\":\\\"white\\\",\\\"linecolor\\\":\\\"white\\\"},\\\"zaxis\\\":{\\\"gridcolor\\\":\\\"white\\\",\\\"gridwidth\\\":2,\\\"backgroundcolor\\\":\\\"#E5ECF6\\\",\\\"ticks\\\":\\\"\\\",\\\"showbackground\\\":true,\\\"zerolinecolor\\\":\\\"white\\\",\\\"linecolor\\\":\\\"white\\\"},\\\"yaxis\\\":{\\\"gridcolor\\\":\\\"white\\\",\\\"gridwidth\\\":2,\\\"backgroundcolor\\\":\\\"#E5ECF6\\\",\\\"ticks\\\":\\\"\\\",\\\"showbackground\\\":true,\\\"zerolinecolor\\\":\\\"white\\\",\\\"linecolor\\\":\\\"white\\\"}},\\\"colorway\\\":[\\\"#636efa\\\",\\\"#EF553B\\\",\\\"#00cc96\\\",\\\"#ab63fa\\\",\\\"#FFA15A\\\",\\\"#19d3f3\\\",\\\"#FF6692\\\",\\\"#B6E880\\\",\\\"#FF97FF\\\",\\\"#FECB52\\\"]},\\\"data\\\":{\\\"barpolar\\\":[{\\\"type\\\":\\\"barpolar\\\",\\\"marker\\\":{\\\"line\\\":{\\\"color\\\":\\\"#E5ECF6\\\",\\\"width\\\":0.5}}}],\\\"carpet\\\":[{\\\"aaxis\\\":{\\\"gridcolor\\\":\\\"white\\\",\\\"endlinecolor\\\":\\\"#2a3f5f\\\",\\\"minorgridcolor\\\":\\\"white\\\",\\\"startlinecolor\\\":\\\"#2a3f5f\\\",\\\"linecolor\\\":\\\"white\\\"},\\\"type\\\":\\\"carpet\\\",\\\"baxis\\\":{\\\"gridcolor\\\":\\\"white\\\",\\\"endlinecolor\\\":\\\"#2a3f5f\\\",\\\"minorgridcolor\\\":\\\"white\\\",\\\"startlinecolor\\\":\\\"#2a3f5f\\\",\\\"linecolor\\\":\\\"white\\\"}}],\\\"scatterpolar\\\":[{\\\"type\\\":\\\"scatterpolar\\\",\\\"marker\\\":{\\\"colorbar\\\":{\\\"ticks\\\":\\\"\\\",\\\"outlinewidth\\\":0}}}],\\\"parcoords\\\":[{\\\"line\\\":{\\\"colorbar\\\":{\\\"ticks\\\":\\\"\\\",\\\"outlinewidth\\\":0}},\\\"type\\\":\\\"parcoords\\\"}],\\\"scatter\\\":[{\\\"type\\\":\\\"scatter\\\",\\\"marker\\\":{\\\"colorbar\\\":{\\\"ticks\\\":\\\"\\\",\\\"outlinewidth\\\":0}}}],\\\"histogram2dcontour\\\":[{\\\"colorbar\\\":{\\\"ticks\\\":\\\"\\\",\\\"outlinewidth\\\":0},\\\"type\\\":\\\"histogram2dcontour\\\",\\\"colorscale\\\":[[0.0,\\\"#0d0887\\\"],[0.1111111111111111,\\\"#46039f\\\"],[0.2222222222222222,\\\"#7201a8\\\"],[0.3333333333333333,\\\"#9c179e\\\"],[0.4444444444444444,\\\"#bd3786\\\"],[0.5555555555555556,\\\"#d8576b\\\"],[0.6666666666666666,\\\"#ed7953\\\"],[0.7777777777777778,\\\"#fb9f3a\\\"],[0.8888888888888888,\\\"#fdca26\\\"],[1.0,\\\"#f0f921\\\"]]}],\\\"contour\\\":[{\\\"colorbar\\\":{\\\"ticks\\\":\\\"\\\",\\\"outlinewidth\\\":0},\\\"type\\\":\\\"contour\\\",\\\"colorscale\\\":[[0.0,\\\"#0d0887\\\"],[0.1111111111111111,\\\"#46039f\\\"],[0.2222222222222222,\\\"#7201a8\\\"],[0.3333333333333333,\\\"#9c179e\\\"],[0.4444444444444444,\\\"#bd3786\\\"],[0.5555555555555556,\\\"#d8576b\\\"],[0.6666666666666666,\\\"#ed7953\\\"],[0.7777777777777778,\\\"#fb9f3a\\\"],[0.8888888888888888,\\\"#fdca26\\\"],[1.0,\\\"#f0f921\\\"]]}],\\\"scattercarpet\\\":[{\\\"type\\\":\\\"scattercarpet\\\",\\\"marker\\\":{\\\"colorbar\\\":{\\\"ticks\\\":\\\"\\\",\\\"outlinewidth\\\":0}}}],\\\"mesh3d\\\":[{\\\"colorbar\\\":{\\\"ticks\\\":\\\"\\\",\\\"outlinewidth\\\":0},\\\"type\\\":\\\"mesh3d\\\"}],\\\"surface\\\":[{\\\"colorbar\\\":{\\\"ticks\\\":\\\"\\\",\\\"outlinewidth\\\":0},\\\"type\\\":\\\"surface\\\",\\\"colorscale\\\":[[0.0,\\\"#0d0887\\\"],[0.1111111111111111,\\\"#46039f\\\"],[0.2222222222222222,\\\"#7201a8\\\"],[0.3333333333333333,\\\"#9c179e\\\"],[0.4444444444444444,\\\"#bd3786\\\"],[0.5555555555555556,\\\"#d8576b\\\"],[0.6666666666666666,\\\"#ed7953\\\"],[0.7777777777777778,\\\"#fb9f3a\\\"],[0.8888888888888888,\\\"#fdca26\\\"],[1.0,\\\"#f0f921\\\"]]}],\\\"scattermapbox\\\":[{\\\"type\\\":\\\"scattermapbox\\\",\\\"marker\\\":{\\\"colorbar\\\":{\\\"ticks\\\":\\\"\\\",\\\"outlinewidth\\\":0}}}],\\\"scattergeo\\\":[{\\\"type\\\":\\\"scattergeo\\\",\\\"marker\\\":{\\\"colorbar\\\":{\\\"ticks\\\":\\\"\\\",\\\"outlinewidth\\\":0}}}],\\\"histogram\\\":[{\\\"type\\\":\\\"histogram\\\",\\\"marker\\\":{\\\"colorbar\\\":{\\\"ticks\\\":\\\"\\\",\\\"outlinewidth\\\":0}}}],\\\"pie\\\":[{\\\"type\\\":\\\"pie\\\",\\\"automargin\\\":true}],\\\"choropleth\\\":[{\\\"colorbar\\\":{\\\"ticks\\\":\\\"\\\",\\\"outlinewidth\\\":0},\\\"type\\\":\\\"choropleth\\\"}],\\\"heatmapgl\\\":[{\\\"colorbar\\\":{\\\"ticks\\\":\\\"\\\",\\\"outlinewidth\\\":0},\\\"type\\\":\\\"heatmapgl\\\",\\\"colorscale\\\":[[0.0,\\\"#0d0887\\\"],[0.1111111111111111,\\\"#46039f\\\"],[0.2222222222222222,\\\"#7201a8\\\"],[0.3333333333333333,\\\"#9c179e\\\"],[0.4444444444444444,\\\"#bd3786\\\"],[0.5555555555555556,\\\"#d8576b\\\"],[0.6666666666666666,\\\"#ed7953\\\"],[0.7777777777777778,\\\"#fb9f3a\\\"],[0.8888888888888888,\\\"#fdca26\\\"],[1.0,\\\"#f0f921\\\"]]}],\\\"bar\\\":[{\\\"type\\\":\\\"bar\\\",\\\"error_y\\\":{\\\"color\\\":\\\"#2a3f5f\\\"},\\\"error_x\\\":{\\\"color\\\":\\\"#2a3f5f\\\"},\\\"marker\\\":{\\\"line\\\":{\\\"color\\\":\\\"#E5ECF6\\\",\\\"width\\\":0.5}}}],\\\"heatmap\\\":[{\\\"colorbar\\\":{\\\"ticks\\\":\\\"\\\",\\\"outlinewidth\\\":0},\\\"type\\\":\\\"heatmap\\\",\\\"colorscale\\\":[[0.0,\\\"#0d0887\\\"],[0.1111111111111111,\\\"#46039f\\\"],[0.2222222222222222,\\\"#7201a8\\\"],[0.3333333333333333,\\\"#9c179e\\\"],[0.4444444444444444,\\\"#bd3786\\\"],[0.5555555555555556,\\\"#d8576b\\\"],[0.6666666666666666,\\\"#ed7953\\\"],[0.7777777777777778,\\\"#fb9f3a\\\"],[0.8888888888888888,\\\"#fdca26\\\"],[1.0,\\\"#f0f921\\\"]]}],\\\"contourcarpet\\\":[{\\\"colorbar\\\":{\\\"ticks\\\":\\\"\\\",\\\"outlinewidth\\\":0},\\\"type\\\":\\\"contourcarpet\\\"}],\\\"table\\\":[{\\\"type\\\":\\\"table\\\",\\\"header\\\":{\\\"line\\\":{\\\"color\\\":\\\"white\\\"},\\\"fill\\\":{\\\"color\\\":\\\"#C8D4E3\\\"}},\\\"cells\\\":{\\\"line\\\":{\\\"color\\\":\\\"white\\\"},\\\"fill\\\":{\\\"color\\\":\\\"#EBF0F8\\\"}}}],\\\"scatter3d\\\":[{\\\"line\\\":{\\\"colorbar\\\":{\\\"ticks\\\":\\\"\\\",\\\"outlinewidth\\\":0}},\\\"type\\\":\\\"scatter3d\\\",\\\"marker\\\":{\\\"colorbar\\\":{\\\"ticks\\\":\\\"\\\",\\\"outlinewidth\\\":0}}}],\\\"scattergl\\\":[{\\\"type\\\":\\\"scattergl\\\",\\\"marker\\\":{\\\"colorbar\\\":{\\\"ticks\\\":\\\"\\\",\\\"outlinewidth\\\":0}}}],\\\"histogram2d\\\":[{\\\"colorbar\\\":{\\\"ticks\\\":\\\"\\\",\\\"outlinewidth\\\":0},\\\"type\\\":\\\"histogram2d\\\",\\\"colorscale\\\":[[0.0,\\\"#0d0887\\\"],[0.1111111111111111,\\\"#46039f\\\"],[0.2222222222222222,\\\"#7201a8\\\"],[0.3333333333333333,\\\"#9c179e\\\"],[0.4444444444444444,\\\"#bd3786\\\"],[0.5555555555555556,\\\"#d8576b\\\"],[0.6666666666666666,\\\"#ed7953\\\"],[0.7777777777777778,\\\"#fb9f3a\\\"],[0.8888888888888888,\\\"#fdca26\\\"],[1.0,\\\"#f0f921\\\"]]}],\\\"scatterternary\\\":[{\\\"type\\\":\\\"scatterternary\\\",\\\"marker\\\":{\\\"colorbar\\\":{\\\"ticks\\\":\\\"\\\",\\\"outlinewidth\\\":0}}}],\\\"scatterpolargl\\\":[{\\\"type\\\":\\\"scatterpolargl\\\",\\\"marker\\\":{\\\"colorbar\\\":{\\\"ticks\\\":\\\"\\\",\\\"outlinewidth\\\":0}}}]}},\\\"legend\\\":{\\\"tracegroupgap\\\":0,\\\"title\\\":{\\\"text\\\":\\\"Year\\\"}},\\\"margin\\\":{\\\"l\\\":50,\\\"b\\\":50,\\\"r\\\":50,\\\"t\\\":60},\\\"title\\\":\\\"Movies Budget vs Rating\\\",\\\"yaxis\\\":{\\\"gridcolor\\\":\\\"white\\\",\\\"title\\\":{\\\"text\\\":\\\"Rating\\\"}},\\\"plot_bgcolor\\\":\\\"rgb(243, 243, 243)\\\"},{\\\"showLink\\\":false,\\\"editable\\\":false,\\\"responsive\\\":true,\\\"staticPlot\\\":false,\\\"scrollZoom\\\":true}); gd.on(\\\"plotly_hover\\\",(function (data){var filtered_data=WebIO.PlotlyCommands.filterEventData(gd,data,\\\"hover\\\"); return !(filtered_data.isnil) ? (WebIO.setval({\\\"name\\\":\\\"hover\\\",\\\"scope\\\":\\\"18182794503988077918\\\",\\\"id\\\":\\\"9046245134411600491\\\",\\\"type\\\":\\\"observable\\\"},filtered_data.out)) : undefined})); gd.on(\\\"plotly_unhover\\\",(function (){return WebIO.setval({\\\"name\\\":\\\"hover\\\",\\\"scope\\\":\\\"18182794503988077918\\\",\\\"id\\\":\\\"9046245134411600491\\\",\\\"type\\\":\\\"observable\\\"},{})})); gd.on(\\\"plotly_selected\\\",(function (data){var filtered_data=WebIO.PlotlyCommands.filterEventData(gd,data,\\\"selected\\\"); return !(filtered_data.isnil) ? (WebIO.setval({\\\"name\\\":\\\"selected\\\",\\\"scope\\\":\\\"18182794503988077918\\\",\\\"id\\\":\\\"6725792472884882710\\\",\\\"type\\\":\\\"observable\\\"},filtered_data.out)) : undefined})); gd.on(\\\"plotly_deselect\\\",(function (){return WebIO.setval({\\\"name\\\":\\\"selected\\\",\\\"scope\\\":\\\"18182794503988077918\\\",\\\"id\\\":\\\"6725792472884882710\\\",\\\"type\\\":\\\"observable\\\"},{})})); gd.on(\\\"plotly_relayout\\\",(function (data){var filtered_data=WebIO.PlotlyCommands.filterEventData(gd,data,\\\"relayout\\\"); return !(filtered_data.isnil) ? (WebIO.setval({\\\"name\\\":\\\"relayout\\\",\\\"scope\\\":\\\"18182794503988077918\\\",\\\"id\\\":\\\"3380304206655228282\\\",\\\"type\\\":\\\"observable\\\"},filtered_data.out)) : undefined})); return gd.on(\\\"plotly_click\\\",(function (data){var filtered_data=WebIO.PlotlyCommands.filterEventData(gd,data,\\\"click\\\"); return !(filtered_data.isnil) ? (WebIO.setval({\\\"name\\\":\\\"click\\\",\\\"scope\\\":\\\"18182794503988077918\\\",\\\"id\\\":\\\"7625161897851163566\\\",\\\"type\\\":\\\"observable\\\"},filtered_data.out)) : undefined}))}));\\n    (WebIO.importBlock({\\\"data\\\":[{\\\"name\\\":\\\"Plotly\\\",\\\"type\\\":\\\"js\\\",\\\"url\\\":\\\"\\/assetserver\\/409e9b326e803947d9820a15181c464d371bd1b4-plotly.min.js\\\"},{\\\"name\\\":null,\\\"type\\\":\\\"js\\\",\\\"url\\\":\\\"\\/assetserver\\/7df8768277b513869b526ee8426daf800fd976e7-plotly_webio.bundle.js\\\"}],\\\"type\\\":\\\"async_block\\\"})).then((imports) => handler.apply(this, imports));\\n}\\n\"],\"observables\":{\"_toImage\":{\"sync\":false,\"id\":\"2008681315279156553\",\"value\":{}},\"hover\":{\"sync\":false,\"id\":\"9046245134411600491\",\"value\":{}},\"selected\":{\"sync\":false,\"id\":\"6725792472884882710\",\"value\":{}},\"__gd_contents\":{\"sync\":false,\"id\":\"18417422722013244544\",\"value\":{}},\"click\":{\"sync\":false,\"id\":\"7625161897851163566\",\"value\":{}},\"image\":{\"sync\":true,\"id\":\"4053302756648122841\",\"value\":\"\"},\"__get_gd_contents\":{\"sync\":false,\"id\":\"5988719317961248476\",\"value\":\"\"},\"_downloadImage\":{\"sync\":false,\"id\":\"4003960544532825575\",\"value\":{}},\"relayout\":{\"sync\":false,\"id\":\"3380304206655228282\",\"value\":{}},\"_commands\":{\"sync\":false,\"id\":\"6955603824966555940\",\"value\":[]}}},\"children\":[{\"props\":{\"id\":\"plot-79efb5c3-1585-4c55-a4ab-c4fad29a589a\"},\"nodeType\":\"DOM\",\"type\":\"node\",\"instanceArgs\":{\"namespace\":\"html\",\"tag\":\"div\"},\"children\":[]}]},\n",
       "        window,\n",
       "    );\n",
       "    })()\n",
       "    </script>\n",
       "</div>\n"
      ],
      "text/plain": [
       "data: [\n",
       "  \"scatter with fields legendgroup, marker, mode, name, showlegend, text, type, x, xaxis, y, and yaxis\",\n",
       "  \"scatter with fields legendgroup, marker, mode, name, showlegend, text, type, x, xaxis, y, and yaxis\",\n",
       "  \"scatter with fields legendgroup, marker, mode, name, showlegend, text, type, x, xaxis, y, and yaxis\",\n",
       "  \"scatter with fields legendgroup, marker, mode, name, showlegend, text, type, x, xaxis, y, and yaxis\",\n",
       "  \"scatter with fields legendgroup, marker, mode, name, showlegend, text, type, x, xaxis, y, and yaxis\"\n",
       "]\n",
       "\n",
       "layout: \"layout with fields legend, margin, paper_bgcolor, plot_bgcolor, template, title, xaxis, and yaxis\"\n",
       "\n"
      ]
     },
     "metadata": {},
     "output_type": "display_data"
    }
   ],
   "source": [
    "p = plot(sorted_hb, x=:Budget, y=:Rating, color=:Year , mode=\"markers\",\n",
    "    text=sub_df -> make_hover_text.(DataFrames.eachrow(sub_df)),\n",
    "    marker=attr(size=:Budget, sizeref=2*maximum(sorted_hb.Rating) / (30^2), sizemode=\"area\"),\n",
    "    Layout(\n",
    "        title=\"Movies Budget vs Rating\",\n",
    "        xaxis=attr(\n",
    "            title_text=\"Movie Budget (in Million Dollars)\",\n",
    "            gridcolor=\"white\"\n",
    "        ),\n",
    "        yaxis=attr(title_text=\"Rating\", gridcolor=\"white\"),\n",
    "        paper_bgcolor=\"rgb(243, 243, 243)\",\n",
    "        plot_bgcolor=\"rgb(243, 243, 243)\",\n",
    "    ))"
   ]
  },
  {
   "cell_type": "code",
   "execution_count": 8,
   "metadata": {},
   "outputs": [],
   "source": [
    "open(\"./example.html\", \"w\") do io\n",
    "    PlotlyBase.to_html(io, p.plot)\n",
    "end"
   ]
  },
  {
   "cell_type": "code",
   "execution_count": 9,
   "metadata": {},
   "outputs": [
    {
     "data": {
      "text/plain": [
       "\"bubble.png\""
      ]
     },
     "metadata": {},
     "output_type": "display_data"
    }
   ],
   "source": [
    "savefig(p.plot, \"bubble.png\", width=1800, height=900)"
   ]
  }
 ],
 "metadata": {
  "kernelspec": {
   "display_name": "Julia 1.8.4",
   "language": "julia",
   "name": "julia-1.8"
  },
  "language_info": {
   "file_extension": ".jl",
   "mimetype": "application/julia",
   "name": "julia",
   "version": "1.8.4"
  },
  "orig_nbformat": 4
 },
 "nbformat": 4,
 "nbformat_minor": 2
}
